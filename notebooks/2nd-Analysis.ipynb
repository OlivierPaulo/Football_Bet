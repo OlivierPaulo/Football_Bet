{
 "cells": [
  {
   "cell_type": "markdown",
   "metadata": {},
   "source": [
    "# Analysis on Score with Players and on More/Less 1.5 and 2.5 Goals"
   ]
  },
  {
   "cell_type": "markdown",
   "metadata": {},
   "source": [
    "## Importing Libraries"
   ]
  },
  {
   "cell_type": "code",
   "execution_count": 1,
   "metadata": {},
   "outputs": [],
   "source": [
    "import numpy as np\n",
    "import pandas as pd\n",
    "import sqlite3\n",
    "import matplotlib.pyplot as plt\n",
    "%matplotlib inline\n",
    "import seaborn as sns"
   ]
  },
  {
   "cell_type": "markdown",
   "metadata": {},
   "source": [
    "## DB Connection"
   ]
  },
  {
   "cell_type": "code",
   "execution_count": 2,
   "metadata": {},
   "outputs": [],
   "source": [
    "cnx = sqlite3.connect('../data/database.sqlite')"
   ]
  },
  {
   "cell_type": "markdown",
   "metadata": {},
   "source": [
    "## Retrieve Match and Player DF"
   ]
  },
  {
   "cell_type": "code",
   "execution_count": 3,
   "metadata": {},
   "outputs": [],
   "source": [
    "match_df = pd.read_sql_query(\"SELECT * from Match\", cnx)"
   ]
  },
  {
   "cell_type": "code",
   "execution_count": 4,
   "metadata": {},
   "outputs": [],
   "source": [
    "player_df = pd.read_sql_query(\"SELECT * from Player_Attributes\", cnx)"
   ]
  },
  {
   "cell_type": "markdown",
   "metadata": {},
   "source": [
    "## Clean Match and Player DF"
   ]
  },
  {
   "cell_type": "code",
   "execution_count": 5,
   "metadata": {},
   "outputs": [
    {
     "name": "stdout",
     "output_type": "stream",
     "text": [
      "<class 'pandas.core.frame.DataFrame'>\n",
      "RangeIndex: 25979 entries, 0 to 25978\n",
      "Columns: 115 entries, id to BSA\n",
      "dtypes: float64(96), int64(9), object(10)\n",
      "memory usage: 22.8+ MB\n"
     ]
    }
   ],
   "source": [
    "match_df.info()"
   ]
  },
  {
   "cell_type": "code",
   "execution_count": 6,
   "metadata": {},
   "outputs": [
    {
     "data": {
      "text/plain": [
       "Index(['id', 'country_id', 'league_id', 'season', 'stage', 'date',\n",
       "       'match_api_id', 'home_team_api_id', 'away_team_api_id',\n",
       "       'home_team_goal', 'away_team_goal', 'home_player_X1', 'home_player_X2',\n",
       "       'home_player_X3', 'home_player_X4', 'home_player_X5', 'home_player_X6',\n",
       "       'home_player_X7', 'home_player_X8', 'home_player_X9', 'home_player_X10',\n",
       "       'home_player_X11', 'away_player_X1', 'away_player_X2', 'away_player_X3',\n",
       "       'away_player_X4', 'away_player_X5', 'away_player_X6', 'away_player_X7',\n",
       "       'away_player_X8', 'away_player_X9', 'away_player_X10',\n",
       "       'away_player_X11', 'home_player_Y1', 'home_player_Y2', 'home_player_Y3',\n",
       "       'home_player_Y4', 'home_player_Y5', 'home_player_Y6', 'home_player_Y7',\n",
       "       'home_player_Y8', 'home_player_Y9', 'home_player_Y10',\n",
       "       'home_player_Y11', 'away_player_Y1', 'away_player_Y2', 'away_player_Y3',\n",
       "       'away_player_Y4', 'away_player_Y5', 'away_player_Y6'],\n",
       "      dtype='object')"
      ]
     },
     "execution_count": 6,
     "metadata": {},
     "output_type": "execute_result"
    }
   ],
   "source": [
    "match_df.iloc[:, :50].columns"
   ]
  },
  {
   "cell_type": "code",
   "execution_count": 7,
   "metadata": {},
   "outputs": [
    {
     "data": {
      "text/plain": [
       "Index(['away_player_Y8', 'away_player_Y9', 'away_player_Y10',\n",
       "       'away_player_Y11', 'home_player_1', 'home_player_2', 'home_player_3',\n",
       "       'home_player_4', 'home_player_5', 'home_player_6', 'home_player_7',\n",
       "       'home_player_8', 'home_player_9', 'home_player_10', 'home_player_11',\n",
       "       'away_player_1', 'away_player_2', 'away_player_3', 'away_player_4',\n",
       "       'away_player_5', 'away_player_6', 'away_player_7', 'away_player_8',\n",
       "       'away_player_9', 'away_player_10', 'away_player_11', 'goal', 'shoton',\n",
       "       'shotoff', 'foulcommit', 'card', 'cross', 'corner', 'possession',\n",
       "       'B365H', 'B365D', 'B365A', 'BWH', 'BWD', 'BWA', 'IWH', 'IWD', 'IWA',\n",
       "       'LBH', 'LBD', 'LBA', 'PSH', 'PSD', 'PSA', 'WHH', 'WHD', 'WHA', 'SJH',\n",
       "       'SJD', 'SJA', 'VCH', 'VCD', 'VCA', 'GBH', 'GBD', 'GBA', 'BSH', 'BSD',\n",
       "       'BSA'],\n",
       "      dtype='object')"
      ]
     },
     "execution_count": 7,
     "metadata": {},
     "output_type": "execute_result"
    }
   ],
   "source": [
    "match_df.iloc[:, 51:].columns"
   ]
  },
  {
   "cell_type": "code",
   "execution_count": 8,
   "metadata": {},
   "outputs": [],
   "source": [
    "match_df = match_df[['id', 'country_id', 'league_id', 'season', 'stage', 'date',\n",
    "       'match_api_id', 'home_team_api_id', 'away_team_api_id',\n",
    "       'home_team_goal', 'away_team_goal', 'home_player_1', 'home_player_2', 'home_player_3',\n",
    "       'home_player_4', 'home_player_5', 'home_player_6', 'home_player_7',\n",
    "       'home_player_8', 'home_player_9', 'home_player_10', 'home_player_11',\n",
    "       'away_player_1', 'away_player_2', 'away_player_3', 'away_player_4',\n",
    "       'away_player_5', 'away_player_6', 'away_player_7', 'away_player_8',\n",
    "       'away_player_9', 'away_player_10', 'away_player_11']]"
   ]
  },
  {
   "cell_type": "code",
   "execution_count": 9,
   "metadata": {},
   "outputs": [
    {
     "data": {
      "text/html": [
       "<div>\n",
       "<style scoped>\n",
       "    .dataframe tbody tr th:only-of-type {\n",
       "        vertical-align: middle;\n",
       "    }\n",
       "\n",
       "    .dataframe tbody tr th {\n",
       "        vertical-align: top;\n",
       "    }\n",
       "\n",
       "    .dataframe thead th {\n",
       "        text-align: right;\n",
       "    }\n",
       "</style>\n",
       "<table border=\"1\" class=\"dataframe\">\n",
       "  <thead>\n",
       "    <tr style=\"text-align: right;\">\n",
       "      <th></th>\n",
       "      <th>id</th>\n",
       "      <th>country_id</th>\n",
       "      <th>league_id</th>\n",
       "      <th>season</th>\n",
       "      <th>stage</th>\n",
       "      <th>date</th>\n",
       "      <th>match_api_id</th>\n",
       "      <th>home_team_api_id</th>\n",
       "      <th>away_team_api_id</th>\n",
       "      <th>home_team_goal</th>\n",
       "      <th>...</th>\n",
       "      <th>away_player_2</th>\n",
       "      <th>away_player_3</th>\n",
       "      <th>away_player_4</th>\n",
       "      <th>away_player_5</th>\n",
       "      <th>away_player_6</th>\n",
       "      <th>away_player_7</th>\n",
       "      <th>away_player_8</th>\n",
       "      <th>away_player_9</th>\n",
       "      <th>away_player_10</th>\n",
       "      <th>away_player_11</th>\n",
       "    </tr>\n",
       "  </thead>\n",
       "  <tbody>\n",
       "    <tr>\n",
       "      <th>0</th>\n",
       "      <td>1</td>\n",
       "      <td>1</td>\n",
       "      <td>1</td>\n",
       "      <td>2008/2009</td>\n",
       "      <td>1</td>\n",
       "      <td>2008-08-17 00:00:00</td>\n",
       "      <td>492473</td>\n",
       "      <td>9987</td>\n",
       "      <td>9993</td>\n",
       "      <td>1</td>\n",
       "      <td>...</td>\n",
       "      <td>NaN</td>\n",
       "      <td>NaN</td>\n",
       "      <td>NaN</td>\n",
       "      <td>NaN</td>\n",
       "      <td>NaN</td>\n",
       "      <td>NaN</td>\n",
       "      <td>NaN</td>\n",
       "      <td>NaN</td>\n",
       "      <td>NaN</td>\n",
       "      <td>NaN</td>\n",
       "    </tr>\n",
       "    <tr>\n",
       "      <th>1</th>\n",
       "      <td>2</td>\n",
       "      <td>1</td>\n",
       "      <td>1</td>\n",
       "      <td>2008/2009</td>\n",
       "      <td>1</td>\n",
       "      <td>2008-08-16 00:00:00</td>\n",
       "      <td>492474</td>\n",
       "      <td>10000</td>\n",
       "      <td>9994</td>\n",
       "      <td>0</td>\n",
       "      <td>...</td>\n",
       "      <td>NaN</td>\n",
       "      <td>NaN</td>\n",
       "      <td>NaN</td>\n",
       "      <td>NaN</td>\n",
       "      <td>NaN</td>\n",
       "      <td>NaN</td>\n",
       "      <td>NaN</td>\n",
       "      <td>NaN</td>\n",
       "      <td>NaN</td>\n",
       "      <td>NaN</td>\n",
       "    </tr>\n",
       "    <tr>\n",
       "      <th>2</th>\n",
       "      <td>3</td>\n",
       "      <td>1</td>\n",
       "      <td>1</td>\n",
       "      <td>2008/2009</td>\n",
       "      <td>1</td>\n",
       "      <td>2008-08-16 00:00:00</td>\n",
       "      <td>492475</td>\n",
       "      <td>9984</td>\n",
       "      <td>8635</td>\n",
       "      <td>0</td>\n",
       "      <td>...</td>\n",
       "      <td>NaN</td>\n",
       "      <td>NaN</td>\n",
       "      <td>NaN</td>\n",
       "      <td>NaN</td>\n",
       "      <td>NaN</td>\n",
       "      <td>NaN</td>\n",
       "      <td>NaN</td>\n",
       "      <td>NaN</td>\n",
       "      <td>NaN</td>\n",
       "      <td>NaN</td>\n",
       "    </tr>\n",
       "    <tr>\n",
       "      <th>3</th>\n",
       "      <td>4</td>\n",
       "      <td>1</td>\n",
       "      <td>1</td>\n",
       "      <td>2008/2009</td>\n",
       "      <td>1</td>\n",
       "      <td>2008-08-17 00:00:00</td>\n",
       "      <td>492476</td>\n",
       "      <td>9991</td>\n",
       "      <td>9998</td>\n",
       "      <td>5</td>\n",
       "      <td>...</td>\n",
       "      <td>NaN</td>\n",
       "      <td>NaN</td>\n",
       "      <td>NaN</td>\n",
       "      <td>NaN</td>\n",
       "      <td>NaN</td>\n",
       "      <td>NaN</td>\n",
       "      <td>NaN</td>\n",
       "      <td>NaN</td>\n",
       "      <td>NaN</td>\n",
       "      <td>NaN</td>\n",
       "    </tr>\n",
       "    <tr>\n",
       "      <th>4</th>\n",
       "      <td>5</td>\n",
       "      <td>1</td>\n",
       "      <td>1</td>\n",
       "      <td>2008/2009</td>\n",
       "      <td>1</td>\n",
       "      <td>2008-08-16 00:00:00</td>\n",
       "      <td>492477</td>\n",
       "      <td>7947</td>\n",
       "      <td>9985</td>\n",
       "      <td>1</td>\n",
       "      <td>...</td>\n",
       "      <td>NaN</td>\n",
       "      <td>NaN</td>\n",
       "      <td>NaN</td>\n",
       "      <td>NaN</td>\n",
       "      <td>NaN</td>\n",
       "      <td>NaN</td>\n",
       "      <td>NaN</td>\n",
       "      <td>NaN</td>\n",
       "      <td>NaN</td>\n",
       "      <td>NaN</td>\n",
       "    </tr>\n",
       "    <tr>\n",
       "      <th>...</th>\n",
       "      <td>...</td>\n",
       "      <td>...</td>\n",
       "      <td>...</td>\n",
       "      <td>...</td>\n",
       "      <td>...</td>\n",
       "      <td>...</td>\n",
       "      <td>...</td>\n",
       "      <td>...</td>\n",
       "      <td>...</td>\n",
       "      <td>...</td>\n",
       "      <td>...</td>\n",
       "      <td>...</td>\n",
       "      <td>...</td>\n",
       "      <td>...</td>\n",
       "      <td>...</td>\n",
       "      <td>...</td>\n",
       "      <td>...</td>\n",
       "      <td>...</td>\n",
       "      <td>...</td>\n",
       "      <td>...</td>\n",
       "      <td>...</td>\n",
       "    </tr>\n",
       "    <tr>\n",
       "      <th>25974</th>\n",
       "      <td>25975</td>\n",
       "      <td>24558</td>\n",
       "      <td>24558</td>\n",
       "      <td>2015/2016</td>\n",
       "      <td>9</td>\n",
       "      <td>2015-09-22 00:00:00</td>\n",
       "      <td>1992091</td>\n",
       "      <td>10190</td>\n",
       "      <td>10191</td>\n",
       "      <td>1</td>\n",
       "      <td>...</td>\n",
       "      <td>563066.0</td>\n",
       "      <td>8800.0</td>\n",
       "      <td>67304.0</td>\n",
       "      <td>158253.0</td>\n",
       "      <td>133126.0</td>\n",
       "      <td>186524.0</td>\n",
       "      <td>93223.0</td>\n",
       "      <td>121115.0</td>\n",
       "      <td>232110.0</td>\n",
       "      <td>289732.0</td>\n",
       "    </tr>\n",
       "    <tr>\n",
       "      <th>25975</th>\n",
       "      <td>25976</td>\n",
       "      <td>24558</td>\n",
       "      <td>24558</td>\n",
       "      <td>2015/2016</td>\n",
       "      <td>9</td>\n",
       "      <td>2015-09-23 00:00:00</td>\n",
       "      <td>1992092</td>\n",
       "      <td>9824</td>\n",
       "      <td>10199</td>\n",
       "      <td>1</td>\n",
       "      <td>...</td>\n",
       "      <td>114792.0</td>\n",
       "      <td>150007.0</td>\n",
       "      <td>178119.0</td>\n",
       "      <td>27232.0</td>\n",
       "      <td>570830.0</td>\n",
       "      <td>260708.0</td>\n",
       "      <td>201704.0</td>\n",
       "      <td>36382.0</td>\n",
       "      <td>34082.0</td>\n",
       "      <td>95257.0</td>\n",
       "    </tr>\n",
       "    <tr>\n",
       "      <th>25976</th>\n",
       "      <td>25977</td>\n",
       "      <td>24558</td>\n",
       "      <td>24558</td>\n",
       "      <td>2015/2016</td>\n",
       "      <td>9</td>\n",
       "      <td>2015-09-23 00:00:00</td>\n",
       "      <td>1992093</td>\n",
       "      <td>9956</td>\n",
       "      <td>10179</td>\n",
       "      <td>2</td>\n",
       "      <td>...</td>\n",
       "      <td>67349.0</td>\n",
       "      <td>202663.0</td>\n",
       "      <td>32597.0</td>\n",
       "      <td>114794.0</td>\n",
       "      <td>188114.0</td>\n",
       "      <td>25840.0</td>\n",
       "      <td>482200.0</td>\n",
       "      <td>95230.0</td>\n",
       "      <td>451335.0</td>\n",
       "      <td>275122.0</td>\n",
       "    </tr>\n",
       "    <tr>\n",
       "      <th>25977</th>\n",
       "      <td>25978</td>\n",
       "      <td>24558</td>\n",
       "      <td>24558</td>\n",
       "      <td>2015/2016</td>\n",
       "      <td>9</td>\n",
       "      <td>2015-09-22 00:00:00</td>\n",
       "      <td>1992094</td>\n",
       "      <td>7896</td>\n",
       "      <td>10243</td>\n",
       "      <td>0</td>\n",
       "      <td>...</td>\n",
       "      <td>121080.0</td>\n",
       "      <td>197757.0</td>\n",
       "      <td>260964.0</td>\n",
       "      <td>231614.0</td>\n",
       "      <td>113235.0</td>\n",
       "      <td>41116.0</td>\n",
       "      <td>462608.0</td>\n",
       "      <td>42262.0</td>\n",
       "      <td>92252.0</td>\n",
       "      <td>194532.0</td>\n",
       "    </tr>\n",
       "    <tr>\n",
       "      <th>25978</th>\n",
       "      <td>25979</td>\n",
       "      <td>24558</td>\n",
       "      <td>24558</td>\n",
       "      <td>2015/2016</td>\n",
       "      <td>9</td>\n",
       "      <td>2015-09-23 00:00:00</td>\n",
       "      <td>1992095</td>\n",
       "      <td>10192</td>\n",
       "      <td>9931</td>\n",
       "      <td>4</td>\n",
       "      <td>...</td>\n",
       "      <td>95216.0</td>\n",
       "      <td>172768.0</td>\n",
       "      <td>22834.0</td>\n",
       "      <td>458806.0</td>\n",
       "      <td>207234.0</td>\n",
       "      <td>25772.0</td>\n",
       "      <td>40274.0</td>\n",
       "      <td>34035.0</td>\n",
       "      <td>41726.0</td>\n",
       "      <td>527103.0</td>\n",
       "    </tr>\n",
       "  </tbody>\n",
       "</table>\n",
       "<p>25979 rows × 33 columns</p>\n",
       "</div>"
      ],
      "text/plain": [
       "          id  country_id  league_id     season  stage                 date  \\\n",
       "0          1           1          1  2008/2009      1  2008-08-17 00:00:00   \n",
       "1          2           1          1  2008/2009      1  2008-08-16 00:00:00   \n",
       "2          3           1          1  2008/2009      1  2008-08-16 00:00:00   \n",
       "3          4           1          1  2008/2009      1  2008-08-17 00:00:00   \n",
       "4          5           1          1  2008/2009      1  2008-08-16 00:00:00   \n",
       "...      ...         ...        ...        ...    ...                  ...   \n",
       "25974  25975       24558      24558  2015/2016      9  2015-09-22 00:00:00   \n",
       "25975  25976       24558      24558  2015/2016      9  2015-09-23 00:00:00   \n",
       "25976  25977       24558      24558  2015/2016      9  2015-09-23 00:00:00   \n",
       "25977  25978       24558      24558  2015/2016      9  2015-09-22 00:00:00   \n",
       "25978  25979       24558      24558  2015/2016      9  2015-09-23 00:00:00   \n",
       "\n",
       "       match_api_id  home_team_api_id  away_team_api_id  home_team_goal  ...  \\\n",
       "0            492473              9987              9993               1  ...   \n",
       "1            492474             10000              9994               0  ...   \n",
       "2            492475              9984              8635               0  ...   \n",
       "3            492476              9991              9998               5  ...   \n",
       "4            492477              7947              9985               1  ...   \n",
       "...             ...               ...               ...             ...  ...   \n",
       "25974       1992091             10190             10191               1  ...   \n",
       "25975       1992092              9824             10199               1  ...   \n",
       "25976       1992093              9956             10179               2  ...   \n",
       "25977       1992094              7896             10243               0  ...   \n",
       "25978       1992095             10192              9931               4  ...   \n",
       "\n",
       "       away_player_2  away_player_3  away_player_4  away_player_5  \\\n",
       "0                NaN            NaN            NaN            NaN   \n",
       "1                NaN            NaN            NaN            NaN   \n",
       "2                NaN            NaN            NaN            NaN   \n",
       "3                NaN            NaN            NaN            NaN   \n",
       "4                NaN            NaN            NaN            NaN   \n",
       "...              ...            ...            ...            ...   \n",
       "25974       563066.0         8800.0        67304.0       158253.0   \n",
       "25975       114792.0       150007.0       178119.0        27232.0   \n",
       "25976        67349.0       202663.0        32597.0       114794.0   \n",
       "25977       121080.0       197757.0       260964.0       231614.0   \n",
       "25978        95216.0       172768.0        22834.0       458806.0   \n",
       "\n",
       "       away_player_6  away_player_7  away_player_8  away_player_9  \\\n",
       "0                NaN            NaN            NaN            NaN   \n",
       "1                NaN            NaN            NaN            NaN   \n",
       "2                NaN            NaN            NaN            NaN   \n",
       "3                NaN            NaN            NaN            NaN   \n",
       "4                NaN            NaN            NaN            NaN   \n",
       "...              ...            ...            ...            ...   \n",
       "25974       133126.0       186524.0        93223.0       121115.0   \n",
       "25975       570830.0       260708.0       201704.0        36382.0   \n",
       "25976       188114.0        25840.0       482200.0        95230.0   \n",
       "25977       113235.0        41116.0       462608.0        42262.0   \n",
       "25978       207234.0        25772.0        40274.0        34035.0   \n",
       "\n",
       "       away_player_10  away_player_11  \n",
       "0                 NaN             NaN  \n",
       "1                 NaN             NaN  \n",
       "2                 NaN             NaN  \n",
       "3                 NaN             NaN  \n",
       "4                 NaN             NaN  \n",
       "...               ...             ...  \n",
       "25974        232110.0        289732.0  \n",
       "25975         34082.0         95257.0  \n",
       "25976        451335.0        275122.0  \n",
       "25977         92252.0        194532.0  \n",
       "25978         41726.0        527103.0  \n",
       "\n",
       "[25979 rows x 33 columns]"
      ]
     },
     "execution_count": 9,
     "metadata": {},
     "output_type": "execute_result"
    }
   ],
   "source": [
    "match_df"
   ]
  },
  {
   "cell_type": "code",
   "execution_count": 10,
   "metadata": {},
   "outputs": [],
   "source": [
    "#Define function to add the number of goals column\n",
    "def number_goals(s1, s2):\n",
    "    return s1+s2"
   ]
  },
  {
   "cell_type": "code",
   "execution_count": 11,
   "metadata": {},
   "outputs": [],
   "source": [
    "match_df[\"nb_goals\"] = pd.Series(dtype=\"int64\")\n",
    "match_df[\"nb_goals\"] = match_df[[\"home_team_goal\", \"away_team_goal\"]].apply(lambda x: number_goals(match_df[\"home_team_goal\"], match_df[\"away_team_goal\"]))"
   ]
  },
  {
   "cell_type": "code",
   "execution_count": 12,
   "metadata": {},
   "outputs": [],
   "source": [
    "## Add the score column base on the home_team_goal and away_team_goal\n",
    "match_df[\"score\"] = pd.Series(dtype=\"int64\")\n",
    "\n",
    "for ix, row in match_df.iterrows():\n",
    "    if row[\"home_team_goal\"] > row[\"away_team_goal\"]:\n",
    "        match_df.loc[ix, \"score\"] = 0 ## O is home victory\n",
    "    elif row[\"home_team_goal\"] < row[\"away_team_goal\"]:\n",
    "        match_df.loc[ix, \"score\"] = 2 ## 2 is away victory\n",
    "    else:\n",
    "        match_df.loc[ix, \"score\"] = 1 ## 1 is a draw"
   ]
  },
  {
   "cell_type": "code",
   "execution_count": 13,
   "metadata": {},
   "outputs": [
    {
     "data": {
      "text/html": [
       "<div>\n",
       "<style scoped>\n",
       "    .dataframe tbody tr th:only-of-type {\n",
       "        vertical-align: middle;\n",
       "    }\n",
       "\n",
       "    .dataframe tbody tr th {\n",
       "        vertical-align: top;\n",
       "    }\n",
       "\n",
       "    .dataframe thead th {\n",
       "        text-align: right;\n",
       "    }\n",
       "</style>\n",
       "<table border=\"1\" class=\"dataframe\">\n",
       "  <thead>\n",
       "    <tr style=\"text-align: right;\">\n",
       "      <th></th>\n",
       "      <th>home_team_goal</th>\n",
       "      <th>away_team_goal</th>\n",
       "      <th>nb_goals</th>\n",
       "      <th>score</th>\n",
       "    </tr>\n",
       "  </thead>\n",
       "  <tbody>\n",
       "    <tr>\n",
       "      <th>0</th>\n",
       "      <td>1</td>\n",
       "      <td>1</td>\n",
       "      <td>2</td>\n",
       "      <td>1.0</td>\n",
       "    </tr>\n",
       "    <tr>\n",
       "      <th>1</th>\n",
       "      <td>0</td>\n",
       "      <td>0</td>\n",
       "      <td>0</td>\n",
       "      <td>1.0</td>\n",
       "    </tr>\n",
       "    <tr>\n",
       "      <th>2</th>\n",
       "      <td>0</td>\n",
       "      <td>3</td>\n",
       "      <td>3</td>\n",
       "      <td>2.0</td>\n",
       "    </tr>\n",
       "    <tr>\n",
       "      <th>3</th>\n",
       "      <td>5</td>\n",
       "      <td>0</td>\n",
       "      <td>5</td>\n",
       "      <td>0.0</td>\n",
       "    </tr>\n",
       "    <tr>\n",
       "      <th>4</th>\n",
       "      <td>1</td>\n",
       "      <td>3</td>\n",
       "      <td>4</td>\n",
       "      <td>2.0</td>\n",
       "    </tr>\n",
       "  </tbody>\n",
       "</table>\n",
       "</div>"
      ],
      "text/plain": [
       "   home_team_goal  away_team_goal  nb_goals  score\n",
       "0               1               1         2    1.0\n",
       "1               0               0         0    1.0\n",
       "2               0               3         3    2.0\n",
       "3               5               0         5    0.0\n",
       "4               1               3         4    2.0"
      ]
     },
     "execution_count": 13,
     "metadata": {},
     "output_type": "execute_result"
    }
   ],
   "source": [
    "match_df[[\"home_team_goal\", \"away_team_goal\", \"nb_goals\", \"score\"]].head()"
   ]
  },
  {
   "cell_type": "code",
   "execution_count": 14,
   "metadata": {},
   "outputs": [
    {
     "name": "stdout",
     "output_type": "stream",
     "text": [
      "<class 'pandas.core.frame.DataFrame'>\n",
      "RangeIndex: 25979 entries, 0 to 25978\n",
      "Data columns (total 35 columns):\n",
      " #   Column            Non-Null Count  Dtype  \n",
      "---  ------            --------------  -----  \n",
      " 0   id                25979 non-null  int64  \n",
      " 1   country_id        25979 non-null  int64  \n",
      " 2   league_id         25979 non-null  int64  \n",
      " 3   season            25979 non-null  object \n",
      " 4   stage             25979 non-null  int64  \n",
      " 5   date              25979 non-null  object \n",
      " 6   match_api_id      25979 non-null  int64  \n",
      " 7   home_team_api_id  25979 non-null  int64  \n",
      " 8   away_team_api_id  25979 non-null  int64  \n",
      " 9   home_team_goal    25979 non-null  int64  \n",
      " 10  away_team_goal    25979 non-null  int64  \n",
      " 11  home_player_1     24755 non-null  float64\n",
      " 12  home_player_2     24664 non-null  float64\n",
      " 13  home_player_3     24698 non-null  float64\n",
      " 14  home_player_4     24656 non-null  float64\n",
      " 15  home_player_5     24663 non-null  float64\n",
      " 16  home_player_6     24654 non-null  float64\n",
      " 17  home_player_7     24752 non-null  float64\n",
      " 18  home_player_8     24670 non-null  float64\n",
      " 19  home_player_9     24706 non-null  float64\n",
      " 20  home_player_10    24543 non-null  float64\n",
      " 21  home_player_11    24424 non-null  float64\n",
      " 22  away_player_1     24745 non-null  float64\n",
      " 23  away_player_2     24701 non-null  float64\n",
      " 24  away_player_3     24686 non-null  float64\n",
      " 25  away_player_4     24658 non-null  float64\n",
      " 26  away_player_5     24644 non-null  float64\n",
      " 27  away_player_6     24666 non-null  float64\n",
      " 28  away_player_7     24744 non-null  float64\n",
      " 29  away_player_8     24638 non-null  float64\n",
      " 30  away_player_9     24651 non-null  float64\n",
      " 31  away_player_10    24538 non-null  float64\n",
      " 32  away_player_11    24425 non-null  float64\n",
      " 33  nb_goals          25979 non-null  int64  \n",
      " 34  score             25979 non-null  float64\n",
      "dtypes: float64(23), int64(10), object(2)\n",
      "memory usage: 6.9+ MB\n"
     ]
    }
   ],
   "source": [
    "match_df.info()"
   ]
  },
  {
   "cell_type": "code",
   "execution_count": 15,
   "metadata": {},
   "outputs": [],
   "source": [
    "for i in range (1,12):\n",
    "    match_df = match_df[match_df[\"home_player_\"+str(i)].notna()]\n",
    "    match_df = match_df[match_df[\"away_player_\"+str(i)].notna()]"
   ]
  },
  {
   "cell_type": "code",
   "execution_count": 16,
   "metadata": {},
   "outputs": [
    {
     "name": "stdout",
     "output_type": "stream",
     "text": [
      "<class 'pandas.core.frame.DataFrame'>\n",
      "Int64Index: 21374 entries, 145 to 25978\n",
      "Data columns (total 35 columns):\n",
      " #   Column            Non-Null Count  Dtype  \n",
      "---  ------            --------------  -----  \n",
      " 0   id                21374 non-null  int64  \n",
      " 1   country_id        21374 non-null  int64  \n",
      " 2   league_id         21374 non-null  int64  \n",
      " 3   season            21374 non-null  object \n",
      " 4   stage             21374 non-null  int64  \n",
      " 5   date              21374 non-null  object \n",
      " 6   match_api_id      21374 non-null  int64  \n",
      " 7   home_team_api_id  21374 non-null  int64  \n",
      " 8   away_team_api_id  21374 non-null  int64  \n",
      " 9   home_team_goal    21374 non-null  int64  \n",
      " 10  away_team_goal    21374 non-null  int64  \n",
      " 11  home_player_1     21374 non-null  float64\n",
      " 12  home_player_2     21374 non-null  float64\n",
      " 13  home_player_3     21374 non-null  float64\n",
      " 14  home_player_4     21374 non-null  float64\n",
      " 15  home_player_5     21374 non-null  float64\n",
      " 16  home_player_6     21374 non-null  float64\n",
      " 17  home_player_7     21374 non-null  float64\n",
      " 18  home_player_8     21374 non-null  float64\n",
      " 19  home_player_9     21374 non-null  float64\n",
      " 20  home_player_10    21374 non-null  float64\n",
      " 21  home_player_11    21374 non-null  float64\n",
      " 22  away_player_1     21374 non-null  float64\n",
      " 23  away_player_2     21374 non-null  float64\n",
      " 24  away_player_3     21374 non-null  float64\n",
      " 25  away_player_4     21374 non-null  float64\n",
      " 26  away_player_5     21374 non-null  float64\n",
      " 27  away_player_6     21374 non-null  float64\n",
      " 28  away_player_7     21374 non-null  float64\n",
      " 29  away_player_8     21374 non-null  float64\n",
      " 30  away_player_9     21374 non-null  float64\n",
      " 31  away_player_10    21374 non-null  float64\n",
      " 32  away_player_11    21374 non-null  float64\n",
      " 33  nb_goals          21374 non-null  int64  \n",
      " 34  score             21374 non-null  float64\n",
      "dtypes: float64(23), int64(10), object(2)\n",
      "memory usage: 5.9+ MB\n"
     ]
    }
   ],
   "source": [
    "match_df.info()"
   ]
  },
  {
   "cell_type": "code",
   "execution_count": 17,
   "metadata": {},
   "outputs": [
    {
     "name": "stdout",
     "output_type": "stream",
     "text": [
      "<class 'pandas.core.frame.DataFrame'>\n",
      "RangeIndex: 183978 entries, 0 to 183977\n",
      "Data columns (total 42 columns):\n",
      " #   Column               Non-Null Count   Dtype  \n",
      "---  ------               --------------   -----  \n",
      " 0   id                   183978 non-null  int64  \n",
      " 1   player_fifa_api_id   183978 non-null  int64  \n",
      " 2   player_api_id        183978 non-null  int64  \n",
      " 3   date                 183978 non-null  object \n",
      " 4   overall_rating       183142 non-null  float64\n",
      " 5   potential            183142 non-null  float64\n",
      " 6   preferred_foot       183142 non-null  object \n",
      " 7   attacking_work_rate  180748 non-null  object \n",
      " 8   defensive_work_rate  183142 non-null  object \n",
      " 9   crossing             183142 non-null  float64\n",
      " 10  finishing            183142 non-null  float64\n",
      " 11  heading_accuracy     183142 non-null  float64\n",
      " 12  short_passing        183142 non-null  float64\n",
      " 13  volleys              181265 non-null  float64\n",
      " 14  dribbling            183142 non-null  float64\n",
      " 15  curve                181265 non-null  float64\n",
      " 16  free_kick_accuracy   183142 non-null  float64\n",
      " 17  long_passing         183142 non-null  float64\n",
      " 18  ball_control         183142 non-null  float64\n",
      " 19  acceleration         183142 non-null  float64\n",
      " 20  sprint_speed         183142 non-null  float64\n",
      " 21  agility              181265 non-null  float64\n",
      " 22  reactions            183142 non-null  float64\n",
      " 23  balance              181265 non-null  float64\n",
      " 24  shot_power           183142 non-null  float64\n",
      " 25  jumping              181265 non-null  float64\n",
      " 26  stamina              183142 non-null  float64\n",
      " 27  strength             183142 non-null  float64\n",
      " 28  long_shots           183142 non-null  float64\n",
      " 29  aggression           183142 non-null  float64\n",
      " 30  interceptions        183142 non-null  float64\n",
      " 31  positioning          183142 non-null  float64\n",
      " 32  vision               181265 non-null  float64\n",
      " 33  penalties            183142 non-null  float64\n",
      " 34  marking              183142 non-null  float64\n",
      " 35  standing_tackle      183142 non-null  float64\n",
      " 36  sliding_tackle       181265 non-null  float64\n",
      " 37  gk_diving            183142 non-null  float64\n",
      " 38  gk_handling          183142 non-null  float64\n",
      " 39  gk_kicking           183142 non-null  float64\n",
      " 40  gk_positioning       183142 non-null  float64\n",
      " 41  gk_reflexes          183142 non-null  float64\n",
      "dtypes: float64(35), int64(3), object(4)\n",
      "memory usage: 59.0+ MB\n"
     ]
    }
   ],
   "source": [
    "player_df.info()"
   ]
  },
  {
   "cell_type": "code",
   "execution_count": 18,
   "metadata": {},
   "outputs": [],
   "source": [
    "## Define function to return the overall rating of each player on the peach\n",
    "\n",
    "def players_rating(s):\n",
    "    if player_df[player_df[\"player_api_id\"] == s].empty:\n",
    "        return 0\n",
    "    return int(player_df[player_df[\"player_api_id\"] == s][\"overall_rating\"])"
   ]
  },
  {
   "cell_type": "code",
   "execution_count": 19,
   "metadata": {},
   "outputs": [],
   "source": [
    "player_df = player_df.sort_values(by=[\"date\", \"overall_rating\"], ascending=False).drop_duplicates(\"player_api_id\")"
   ]
  },
  {
   "cell_type": "code",
   "execution_count": 20,
   "metadata": {},
   "outputs": [],
   "source": [
    "player_df = player_df.sort_values(by=\"overall_rating\", ascending=False)"
   ]
  },
  {
   "cell_type": "code",
   "execution_count": 21,
   "metadata": {},
   "outputs": [],
   "source": [
    "for i in range(1,12):\n",
    "    match_df[\"home_player_\"+str(i)] = match_df[\"home_player_\"+str(i)].apply(lambda s: int(s))\n",
    "    match_df[\"away_player_\"+str(i)] = match_df[\"away_player_\"+str(i)].apply(lambda s: int(s))"
   ]
  },
  {
   "cell_type": "markdown",
   "metadata": {},
   "source": [
    "### Adding Column home/away_player_rate_n"
   ]
  },
  {
   "cell_type": "code",
   "execution_count": 22,
   "metadata": {},
   "outputs": [],
   "source": [
    "for i in range(1,12):\n",
    "    match_df[\"home_player_rate\"+str(i)] = match_df[\"home_player_\"+str(i)].apply(players_rating) \n",
    "for i in range(1,12):\n",
    "    match_df[\"away_player_rate\"+str(i)] = match_df[\"away_player_\"+str(i)].apply(players_rating)"
   ]
  },
  {
   "cell_type": "markdown",
   "metadata": {},
   "source": [
    "### Change dtype of score's column"
   ]
  },
  {
   "cell_type": "code",
   "execution_count": 23,
   "metadata": {},
   "outputs": [],
   "source": [
    "match_df[\"score\"] = match_df[\"score\"].astype('int64')"
   ]
  },
  {
   "cell_type": "markdown",
   "metadata": {},
   "source": [
    "### Change dtype of Data in `match_df`"
   ]
  },
  {
   "cell_type": "code",
   "execution_count": 24,
   "metadata": {},
   "outputs": [],
   "source": [
    "match_df[\"date\"] = pd.to_datetime(match_df[\"date\"])"
   ]
  },
  {
   "cell_type": "markdown",
   "metadata": {},
   "source": [
    "### Create More/Less 1.5 Goals and More/Less 2.5 Goals columns"
   ]
  },
  {
   "cell_type": "code",
   "execution_count": 25,
   "metadata": {},
   "outputs": [],
   "source": [
    "match_df[\"more_less_1.5_goals\"] = match_df[\"nb_goals\"].apply(lambda x: 0 if x<2 else 1)"
   ]
  },
  {
   "cell_type": "code",
   "execution_count": 26,
   "metadata": {},
   "outputs": [],
   "source": [
    "match_df[\"more_less_2.5_goals\"] = match_df[\"nb_goals\"].apply(lambda x: 0 if x<3 else 1)"
   ]
  },
  {
   "cell_type": "markdown",
   "metadata": {},
   "source": [
    "---"
   ]
  },
  {
   "cell_type": "markdown",
   "metadata": {},
   "source": [
    "## Analyse Match DF"
   ]
  },
  {
   "cell_type": "code",
   "execution_count": 27,
   "metadata": {},
   "outputs": [
    {
     "data": {
      "text/plain": [
       "Index(['id', 'country_id', 'league_id', 'season', 'stage', 'date',\n",
       "       'match_api_id', 'home_team_api_id', 'away_team_api_id',\n",
       "       'home_team_goal', 'away_team_goal', 'home_player_1', 'home_player_2',\n",
       "       'home_player_3', 'home_player_4', 'home_player_5', 'home_player_6',\n",
       "       'home_player_7', 'home_player_8', 'home_player_9', 'home_player_10',\n",
       "       'home_player_11', 'away_player_1', 'away_player_2', 'away_player_3',\n",
       "       'away_player_4', 'away_player_5', 'away_player_6', 'away_player_7',\n",
       "       'away_player_8', 'away_player_9', 'away_player_10', 'away_player_11',\n",
       "       'nb_goals', 'score', 'home_player_rate1', 'home_player_rate2',\n",
       "       'home_player_rate3', 'home_player_rate4', 'home_player_rate5',\n",
       "       'home_player_rate6', 'home_player_rate7', 'home_player_rate8',\n",
       "       'home_player_rate9', 'home_player_rate10', 'home_player_rate11',\n",
       "       'away_player_rate1', 'away_player_rate2', 'away_player_rate3',\n",
       "       'away_player_rate4', 'away_player_rate5', 'away_player_rate6',\n",
       "       'away_player_rate7', 'away_player_rate8', 'away_player_rate9',\n",
       "       'away_player_rate10', 'away_player_rate11', 'more_less_1.5_goals',\n",
       "       'more_less_2.5_goals'],\n",
       "      dtype='object')"
      ]
     },
     "execution_count": 27,
     "metadata": {},
     "output_type": "execute_result"
    }
   ],
   "source": [
    "match_df.columns"
   ]
  },
  {
   "cell_type": "code",
   "execution_count": 29,
   "metadata": {},
   "outputs": [
    {
     "data": {
      "text/html": [
       "<div>\n",
       "<style scoped>\n",
       "    .dataframe tbody tr th:only-of-type {\n",
       "        vertical-align: middle;\n",
       "    }\n",
       "\n",
       "    .dataframe tbody tr th {\n",
       "        vertical-align: top;\n",
       "    }\n",
       "\n",
       "    .dataframe thead th {\n",
       "        text-align: right;\n",
       "    }\n",
       "</style>\n",
       "<table border=\"1\" class=\"dataframe\">\n",
       "  <thead>\n",
       "    <tr style=\"text-align: right;\">\n",
       "      <th></th>\n",
       "      <th>score</th>\n",
       "      <th>nb_goals</th>\n",
       "      <th>more_less_1.5_goals</th>\n",
       "      <th>more_less_2.5_goals</th>\n",
       "      <th>home_player_rate1</th>\n",
       "      <th>home_player_rate2</th>\n",
       "      <th>home_player_rate3</th>\n",
       "      <th>home_player_rate4</th>\n",
       "      <th>home_player_rate5</th>\n",
       "      <th>home_player_rate6</th>\n",
       "      <th>...</th>\n",
       "      <th>away_player_rate2</th>\n",
       "      <th>away_player_rate3</th>\n",
       "      <th>away_player_rate4</th>\n",
       "      <th>away_player_rate5</th>\n",
       "      <th>away_player_rate6</th>\n",
       "      <th>away_player_rate7</th>\n",
       "      <th>away_player_rate8</th>\n",
       "      <th>away_player_rate9</th>\n",
       "      <th>away_player_rate10</th>\n",
       "      <th>away_player_rate11</th>\n",
       "    </tr>\n",
       "  </thead>\n",
       "  <tbody>\n",
       "    <tr>\n",
       "      <th>score</th>\n",
       "      <td>1.000000</td>\n",
       "      <td>-0.051135</td>\n",
       "      <td>-0.033537</td>\n",
       "      <td>-0.046012</td>\n",
       "      <td>-0.159051</td>\n",
       "      <td>-0.161360</td>\n",
       "      <td>-0.164457</td>\n",
       "      <td>-0.174332</td>\n",
       "      <td>-0.159563</td>\n",
       "      <td>-0.168452</td>\n",
       "      <td>...</td>\n",
       "      <td>0.135228</td>\n",
       "      <td>0.147215</td>\n",
       "      <td>0.149390</td>\n",
       "      <td>0.147108</td>\n",
       "      <td>0.153638</td>\n",
       "      <td>0.152971</td>\n",
       "      <td>0.152245</td>\n",
       "      <td>0.148708</td>\n",
       "      <td>0.154601</td>\n",
       "      <td>0.146564</td>\n",
       "    </tr>\n",
       "    <tr>\n",
       "      <th>nb_goals</th>\n",
       "      <td>-0.051135</td>\n",
       "      <td>1.000000</td>\n",
       "      <td>0.689244</td>\n",
       "      <td>0.804330</td>\n",
       "      <td>0.009692</td>\n",
       "      <td>0.034476</td>\n",
       "      <td>0.038320</td>\n",
       "      <td>0.033798</td>\n",
       "      <td>0.036227</td>\n",
       "      <td>0.045860</td>\n",
       "      <td>...</td>\n",
       "      <td>-0.001137</td>\n",
       "      <td>-0.014831</td>\n",
       "      <td>-0.010422</td>\n",
       "      <td>-0.014480</td>\n",
       "      <td>-0.000213</td>\n",
       "      <td>0.001784</td>\n",
       "      <td>0.001027</td>\n",
       "      <td>0.016274</td>\n",
       "      <td>0.021356</td>\n",
       "      <td>0.009356</td>\n",
       "    </tr>\n",
       "    <tr>\n",
       "      <th>more_less_1.5_goals</th>\n",
       "      <td>-0.033537</td>\n",
       "      <td>0.689244</td>\n",
       "      <td>1.000000</td>\n",
       "      <td>0.583300</td>\n",
       "      <td>-0.000456</td>\n",
       "      <td>0.012935</td>\n",
       "      <td>0.018095</td>\n",
       "      <td>0.017915</td>\n",
       "      <td>0.014699</td>\n",
       "      <td>0.021736</td>\n",
       "      <td>...</td>\n",
       "      <td>-0.008273</td>\n",
       "      <td>-0.017767</td>\n",
       "      <td>-0.017654</td>\n",
       "      <td>-0.021292</td>\n",
       "      <td>-0.007367</td>\n",
       "      <td>-0.006247</td>\n",
       "      <td>-0.005947</td>\n",
       "      <td>0.005218</td>\n",
       "      <td>0.008579</td>\n",
       "      <td>0.005002</td>\n",
       "    </tr>\n",
       "    <tr>\n",
       "      <th>more_less_2.5_goals</th>\n",
       "      <td>-0.046012</td>\n",
       "      <td>0.804330</td>\n",
       "      <td>0.583300</td>\n",
       "      <td>1.000000</td>\n",
       "      <td>0.010741</td>\n",
       "      <td>0.026866</td>\n",
       "      <td>0.030380</td>\n",
       "      <td>0.030940</td>\n",
       "      <td>0.024046</td>\n",
       "      <td>0.039380</td>\n",
       "      <td>...</td>\n",
       "      <td>0.001390</td>\n",
       "      <td>-0.013365</td>\n",
       "      <td>-0.006464</td>\n",
       "      <td>-0.012036</td>\n",
       "      <td>-0.001691</td>\n",
       "      <td>0.000222</td>\n",
       "      <td>0.001700</td>\n",
       "      <td>0.014236</td>\n",
       "      <td>0.016639</td>\n",
       "      <td>0.006715</td>\n",
       "    </tr>\n",
       "    <tr>\n",
       "      <th>home_player_rate1</th>\n",
       "      <td>-0.159051</td>\n",
       "      <td>0.009692</td>\n",
       "      <td>-0.000456</td>\n",
       "      <td>0.010741</td>\n",
       "      <td>1.000000</td>\n",
       "      <td>0.612088</td>\n",
       "      <td>0.634850</td>\n",
       "      <td>0.622579</td>\n",
       "      <td>0.587848</td>\n",
       "      <td>0.609310</td>\n",
       "      <td>...</td>\n",
       "      <td>0.371087</td>\n",
       "      <td>0.377031</td>\n",
       "      <td>0.384346</td>\n",
       "      <td>0.347004</td>\n",
       "      <td>0.351997</td>\n",
       "      <td>0.351916</td>\n",
       "      <td>0.353365</td>\n",
       "      <td>0.346226</td>\n",
       "      <td>0.344875</td>\n",
       "      <td>0.358299</td>\n",
       "    </tr>\n",
       "    <tr>\n",
       "      <th>home_player_rate2</th>\n",
       "      <td>-0.161360</td>\n",
       "      <td>0.034476</td>\n",
       "      <td>0.012935</td>\n",
       "      <td>0.026866</td>\n",
       "      <td>0.612088</td>\n",
       "      <td>1.000000</td>\n",
       "      <td>0.639476</td>\n",
       "      <td>0.634010</td>\n",
       "      <td>0.607686</td>\n",
       "      <td>0.640327</td>\n",
       "      <td>...</td>\n",
       "      <td>0.380088</td>\n",
       "      <td>0.390681</td>\n",
       "      <td>0.394959</td>\n",
       "      <td>0.356579</td>\n",
       "      <td>0.362777</td>\n",
       "      <td>0.363802</td>\n",
       "      <td>0.361288</td>\n",
       "      <td>0.350897</td>\n",
       "      <td>0.360084</td>\n",
       "      <td>0.368340</td>\n",
       "    </tr>\n",
       "    <tr>\n",
       "      <th>home_player_rate3</th>\n",
       "      <td>-0.164457</td>\n",
       "      <td>0.038320</td>\n",
       "      <td>0.018095</td>\n",
       "      <td>0.030380</td>\n",
       "      <td>0.634850</td>\n",
       "      <td>0.639476</td>\n",
       "      <td>1.000000</td>\n",
       "      <td>0.643797</td>\n",
       "      <td>0.615043</td>\n",
       "      <td>0.643297</td>\n",
       "      <td>...</td>\n",
       "      <td>0.388916</td>\n",
       "      <td>0.402155</td>\n",
       "      <td>0.396624</td>\n",
       "      <td>0.359705</td>\n",
       "      <td>0.371117</td>\n",
       "      <td>0.364786</td>\n",
       "      <td>0.370064</td>\n",
       "      <td>0.358275</td>\n",
       "      <td>0.354451</td>\n",
       "      <td>0.373292</td>\n",
       "    </tr>\n",
       "    <tr>\n",
       "      <th>home_player_rate4</th>\n",
       "      <td>-0.174332</td>\n",
       "      <td>0.033798</td>\n",
       "      <td>0.017915</td>\n",
       "      <td>0.030940</td>\n",
       "      <td>0.622579</td>\n",
       "      <td>0.634010</td>\n",
       "      <td>0.643797</td>\n",
       "      <td>1.000000</td>\n",
       "      <td>0.595479</td>\n",
       "      <td>0.641987</td>\n",
       "      <td>...</td>\n",
       "      <td>0.392429</td>\n",
       "      <td>0.395675</td>\n",
       "      <td>0.392859</td>\n",
       "      <td>0.359037</td>\n",
       "      <td>0.369824</td>\n",
       "      <td>0.369047</td>\n",
       "      <td>0.364035</td>\n",
       "      <td>0.352468</td>\n",
       "      <td>0.359828</td>\n",
       "      <td>0.370940</td>\n",
       "    </tr>\n",
       "    <tr>\n",
       "      <th>home_player_rate5</th>\n",
       "      <td>-0.159563</td>\n",
       "      <td>0.036227</td>\n",
       "      <td>0.014699</td>\n",
       "      <td>0.024046</td>\n",
       "      <td>0.587848</td>\n",
       "      <td>0.607686</td>\n",
       "      <td>0.615043</td>\n",
       "      <td>0.595479</td>\n",
       "      <td>1.000000</td>\n",
       "      <td>0.608265</td>\n",
       "      <td>...</td>\n",
       "      <td>0.356230</td>\n",
       "      <td>0.363936</td>\n",
       "      <td>0.364235</td>\n",
       "      <td>0.326492</td>\n",
       "      <td>0.344594</td>\n",
       "      <td>0.337640</td>\n",
       "      <td>0.344657</td>\n",
       "      <td>0.333086</td>\n",
       "      <td>0.331915</td>\n",
       "      <td>0.344902</td>\n",
       "    </tr>\n",
       "    <tr>\n",
       "      <th>home_player_rate6</th>\n",
       "      <td>-0.168452</td>\n",
       "      <td>0.045860</td>\n",
       "      <td>0.021736</td>\n",
       "      <td>0.039380</td>\n",
       "      <td>0.609310</td>\n",
       "      <td>0.640327</td>\n",
       "      <td>0.643297</td>\n",
       "      <td>0.641987</td>\n",
       "      <td>0.608265</td>\n",
       "      <td>1.000000</td>\n",
       "      <td>...</td>\n",
       "      <td>0.365222</td>\n",
       "      <td>0.378871</td>\n",
       "      <td>0.374980</td>\n",
       "      <td>0.340886</td>\n",
       "      <td>0.350507</td>\n",
       "      <td>0.350380</td>\n",
       "      <td>0.347930</td>\n",
       "      <td>0.333761</td>\n",
       "      <td>0.336412</td>\n",
       "      <td>0.349495</td>\n",
       "    </tr>\n",
       "    <tr>\n",
       "      <th>home_player_rate7</th>\n",
       "      <td>-0.167785</td>\n",
       "      <td>0.055139</td>\n",
       "      <td>0.034796</td>\n",
       "      <td>0.047128</td>\n",
       "      <td>0.602944</td>\n",
       "      <td>0.619497</td>\n",
       "      <td>0.633057</td>\n",
       "      <td>0.625084</td>\n",
       "      <td>0.595074</td>\n",
       "      <td>0.620808</td>\n",
       "      <td>...</td>\n",
       "      <td>0.361033</td>\n",
       "      <td>0.369519</td>\n",
       "      <td>0.367797</td>\n",
       "      <td>0.338377</td>\n",
       "      <td>0.342698</td>\n",
       "      <td>0.350981</td>\n",
       "      <td>0.343263</td>\n",
       "      <td>0.334576</td>\n",
       "      <td>0.336903</td>\n",
       "      <td>0.345647</td>\n",
       "    </tr>\n",
       "    <tr>\n",
       "      <th>home_player_rate8</th>\n",
       "      <td>-0.162937</td>\n",
       "      <td>0.053480</td>\n",
       "      <td>0.029909</td>\n",
       "      <td>0.044663</td>\n",
       "      <td>0.589490</td>\n",
       "      <td>0.618720</td>\n",
       "      <td>0.625726</td>\n",
       "      <td>0.623655</td>\n",
       "      <td>0.594213</td>\n",
       "      <td>0.610428</td>\n",
       "      <td>...</td>\n",
       "      <td>0.362356</td>\n",
       "      <td>0.369408</td>\n",
       "      <td>0.368454</td>\n",
       "      <td>0.342178</td>\n",
       "      <td>0.347779</td>\n",
       "      <td>0.350168</td>\n",
       "      <td>0.349018</td>\n",
       "      <td>0.338195</td>\n",
       "      <td>0.339200</td>\n",
       "      <td>0.350935</td>\n",
       "    </tr>\n",
       "    <tr>\n",
       "      <th>home_player_rate9</th>\n",
       "      <td>-0.172094</td>\n",
       "      <td>0.063577</td>\n",
       "      <td>0.036129</td>\n",
       "      <td>0.052063</td>\n",
       "      <td>0.591335</td>\n",
       "      <td>0.614485</td>\n",
       "      <td>0.613319</td>\n",
       "      <td>0.614086</td>\n",
       "      <td>0.593275</td>\n",
       "      <td>0.611994</td>\n",
       "      <td>...</td>\n",
       "      <td>0.357471</td>\n",
       "      <td>0.364396</td>\n",
       "      <td>0.358455</td>\n",
       "      <td>0.326623</td>\n",
       "      <td>0.333875</td>\n",
       "      <td>0.333205</td>\n",
       "      <td>0.336981</td>\n",
       "      <td>0.327455</td>\n",
       "      <td>0.331043</td>\n",
       "      <td>0.342727</td>\n",
       "    </tr>\n",
       "    <tr>\n",
       "      <th>home_player_rate10</th>\n",
       "      <td>-0.174609</td>\n",
       "      <td>0.066964</td>\n",
       "      <td>0.037063</td>\n",
       "      <td>0.053216</td>\n",
       "      <td>0.589397</td>\n",
       "      <td>0.612745</td>\n",
       "      <td>0.615730</td>\n",
       "      <td>0.625657</td>\n",
       "      <td>0.587817</td>\n",
       "      <td>0.621083</td>\n",
       "      <td>...</td>\n",
       "      <td>0.350566</td>\n",
       "      <td>0.361830</td>\n",
       "      <td>0.355139</td>\n",
       "      <td>0.324431</td>\n",
       "      <td>0.329879</td>\n",
       "      <td>0.329980</td>\n",
       "      <td>0.333611</td>\n",
       "      <td>0.325344</td>\n",
       "      <td>0.327044</td>\n",
       "      <td>0.340952</td>\n",
       "    </tr>\n",
       "    <tr>\n",
       "      <th>home_player_rate11</th>\n",
       "      <td>-0.165327</td>\n",
       "      <td>0.059495</td>\n",
       "      <td>0.031967</td>\n",
       "      <td>0.052311</td>\n",
       "      <td>0.587145</td>\n",
       "      <td>0.616560</td>\n",
       "      <td>0.620878</td>\n",
       "      <td>0.622475</td>\n",
       "      <td>0.591661</td>\n",
       "      <td>0.617244</td>\n",
       "      <td>...</td>\n",
       "      <td>0.364283</td>\n",
       "      <td>0.373639</td>\n",
       "      <td>0.371884</td>\n",
       "      <td>0.342366</td>\n",
       "      <td>0.338572</td>\n",
       "      <td>0.349877</td>\n",
       "      <td>0.344239</td>\n",
       "      <td>0.335131</td>\n",
       "      <td>0.342020</td>\n",
       "      <td>0.355044</td>\n",
       "    </tr>\n",
       "    <tr>\n",
       "      <th>away_player_rate1</th>\n",
       "      <td>0.136776</td>\n",
       "      <td>-0.029204</td>\n",
       "      <td>-0.021629</td>\n",
       "      <td>-0.028476</td>\n",
       "      <td>0.364380</td>\n",
       "      <td>0.379174</td>\n",
       "      <td>0.371281</td>\n",
       "      <td>0.381819</td>\n",
       "      <td>0.353502</td>\n",
       "      <td>0.360531</td>\n",
       "      <td>...</td>\n",
       "      <td>0.615811</td>\n",
       "      <td>0.630164</td>\n",
       "      <td>0.620861</td>\n",
       "      <td>0.580098</td>\n",
       "      <td>0.603044</td>\n",
       "      <td>0.606363</td>\n",
       "      <td>0.591268</td>\n",
       "      <td>0.591790</td>\n",
       "      <td>0.587600</td>\n",
       "      <td>0.584136</td>\n",
       "    </tr>\n",
       "    <tr>\n",
       "      <th>away_player_rate2</th>\n",
       "      <td>0.135228</td>\n",
       "      <td>-0.001137</td>\n",
       "      <td>-0.008273</td>\n",
       "      <td>0.001390</td>\n",
       "      <td>0.371087</td>\n",
       "      <td>0.380088</td>\n",
       "      <td>0.388916</td>\n",
       "      <td>0.392429</td>\n",
       "      <td>0.356230</td>\n",
       "      <td>0.365222</td>\n",
       "      <td>...</td>\n",
       "      <td>1.000000</td>\n",
       "      <td>0.632627</td>\n",
       "      <td>0.629196</td>\n",
       "      <td>0.598677</td>\n",
       "      <td>0.633768</td>\n",
       "      <td>0.618643</td>\n",
       "      <td>0.613812</td>\n",
       "      <td>0.613145</td>\n",
       "      <td>0.611071</td>\n",
       "      <td>0.608355</td>\n",
       "    </tr>\n",
       "    <tr>\n",
       "      <th>away_player_rate3</th>\n",
       "      <td>0.147215</td>\n",
       "      <td>-0.014831</td>\n",
       "      <td>-0.017767</td>\n",
       "      <td>-0.013365</td>\n",
       "      <td>0.377031</td>\n",
       "      <td>0.390681</td>\n",
       "      <td>0.402155</td>\n",
       "      <td>0.395675</td>\n",
       "      <td>0.363936</td>\n",
       "      <td>0.378871</td>\n",
       "      <td>...</td>\n",
       "      <td>0.632627</td>\n",
       "      <td>1.000000</td>\n",
       "      <td>0.645607</td>\n",
       "      <td>0.613715</td>\n",
       "      <td>0.639672</td>\n",
       "      <td>0.630518</td>\n",
       "      <td>0.622087</td>\n",
       "      <td>0.614450</td>\n",
       "      <td>0.618563</td>\n",
       "      <td>0.615597</td>\n",
       "    </tr>\n",
       "    <tr>\n",
       "      <th>away_player_rate4</th>\n",
       "      <td>0.149390</td>\n",
       "      <td>-0.010422</td>\n",
       "      <td>-0.017654</td>\n",
       "      <td>-0.006464</td>\n",
       "      <td>0.384346</td>\n",
       "      <td>0.394959</td>\n",
       "      <td>0.396624</td>\n",
       "      <td>0.392859</td>\n",
       "      <td>0.364235</td>\n",
       "      <td>0.374980</td>\n",
       "      <td>...</td>\n",
       "      <td>0.629196</td>\n",
       "      <td>0.645607</td>\n",
       "      <td>1.000000</td>\n",
       "      <td>0.592452</td>\n",
       "      <td>0.632086</td>\n",
       "      <td>0.626621</td>\n",
       "      <td>0.615945</td>\n",
       "      <td>0.628751</td>\n",
       "      <td>0.625153</td>\n",
       "      <td>0.617372</td>\n",
       "    </tr>\n",
       "    <tr>\n",
       "      <th>away_player_rate5</th>\n",
       "      <td>0.147108</td>\n",
       "      <td>-0.014480</td>\n",
       "      <td>-0.021292</td>\n",
       "      <td>-0.012036</td>\n",
       "      <td>0.347004</td>\n",
       "      <td>0.356579</td>\n",
       "      <td>0.359705</td>\n",
       "      <td>0.359037</td>\n",
       "      <td>0.326492</td>\n",
       "      <td>0.340886</td>\n",
       "      <td>...</td>\n",
       "      <td>0.598677</td>\n",
       "      <td>0.613715</td>\n",
       "      <td>0.592452</td>\n",
       "      <td>1.000000</td>\n",
       "      <td>0.607774</td>\n",
       "      <td>0.590178</td>\n",
       "      <td>0.595214</td>\n",
       "      <td>0.590867</td>\n",
       "      <td>0.590070</td>\n",
       "      <td>0.583180</td>\n",
       "    </tr>\n",
       "    <tr>\n",
       "      <th>away_player_rate6</th>\n",
       "      <td>0.153638</td>\n",
       "      <td>-0.000213</td>\n",
       "      <td>-0.007367</td>\n",
       "      <td>-0.001691</td>\n",
       "      <td>0.351997</td>\n",
       "      <td>0.362777</td>\n",
       "      <td>0.371117</td>\n",
       "      <td>0.369824</td>\n",
       "      <td>0.344594</td>\n",
       "      <td>0.350507</td>\n",
       "      <td>...</td>\n",
       "      <td>0.633768</td>\n",
       "      <td>0.639672</td>\n",
       "      <td>0.632086</td>\n",
       "      <td>0.607774</td>\n",
       "      <td>1.000000</td>\n",
       "      <td>0.610097</td>\n",
       "      <td>0.605609</td>\n",
       "      <td>0.610551</td>\n",
       "      <td>0.619139</td>\n",
       "      <td>0.604462</td>\n",
       "    </tr>\n",
       "    <tr>\n",
       "      <th>away_player_rate7</th>\n",
       "      <td>0.152971</td>\n",
       "      <td>0.001784</td>\n",
       "      <td>-0.006247</td>\n",
       "      <td>0.000222</td>\n",
       "      <td>0.351916</td>\n",
       "      <td>0.363802</td>\n",
       "      <td>0.364786</td>\n",
       "      <td>0.369047</td>\n",
       "      <td>0.337640</td>\n",
       "      <td>0.350380</td>\n",
       "      <td>...</td>\n",
       "      <td>0.618643</td>\n",
       "      <td>0.630518</td>\n",
       "      <td>0.626621</td>\n",
       "      <td>0.590178</td>\n",
       "      <td>0.610097</td>\n",
       "      <td>1.000000</td>\n",
       "      <td>0.607331</td>\n",
       "      <td>0.611480</td>\n",
       "      <td>0.598134</td>\n",
       "      <td>0.601618</td>\n",
       "    </tr>\n",
       "    <tr>\n",
       "      <th>away_player_rate8</th>\n",
       "      <td>0.152245</td>\n",
       "      <td>0.001027</td>\n",
       "      <td>-0.005947</td>\n",
       "      <td>0.001700</td>\n",
       "      <td>0.353365</td>\n",
       "      <td>0.361288</td>\n",
       "      <td>0.370064</td>\n",
       "      <td>0.364035</td>\n",
       "      <td>0.344657</td>\n",
       "      <td>0.347930</td>\n",
       "      <td>...</td>\n",
       "      <td>0.613812</td>\n",
       "      <td>0.622087</td>\n",
       "      <td>0.615945</td>\n",
       "      <td>0.595214</td>\n",
       "      <td>0.605609</td>\n",
       "      <td>0.607331</td>\n",
       "      <td>1.000000</td>\n",
       "      <td>0.597418</td>\n",
       "      <td>0.604984</td>\n",
       "      <td>0.593379</td>\n",
       "    </tr>\n",
       "    <tr>\n",
       "      <th>away_player_rate9</th>\n",
       "      <td>0.148708</td>\n",
       "      <td>0.016274</td>\n",
       "      <td>0.005218</td>\n",
       "      <td>0.014236</td>\n",
       "      <td>0.346226</td>\n",
       "      <td>0.350897</td>\n",
       "      <td>0.358275</td>\n",
       "      <td>0.352468</td>\n",
       "      <td>0.333086</td>\n",
       "      <td>0.333761</td>\n",
       "      <td>...</td>\n",
       "      <td>0.613145</td>\n",
       "      <td>0.614450</td>\n",
       "      <td>0.628751</td>\n",
       "      <td>0.590867</td>\n",
       "      <td>0.610551</td>\n",
       "      <td>0.611480</td>\n",
       "      <td>0.597418</td>\n",
       "      <td>1.000000</td>\n",
       "      <td>0.608121</td>\n",
       "      <td>0.608417</td>\n",
       "    </tr>\n",
       "    <tr>\n",
       "      <th>away_player_rate10</th>\n",
       "      <td>0.154601</td>\n",
       "      <td>0.021356</td>\n",
       "      <td>0.008579</td>\n",
       "      <td>0.016639</td>\n",
       "      <td>0.344875</td>\n",
       "      <td>0.360084</td>\n",
       "      <td>0.354451</td>\n",
       "      <td>0.359828</td>\n",
       "      <td>0.331915</td>\n",
       "      <td>0.336412</td>\n",
       "      <td>...</td>\n",
       "      <td>0.611071</td>\n",
       "      <td>0.618563</td>\n",
       "      <td>0.625153</td>\n",
       "      <td>0.590070</td>\n",
       "      <td>0.619139</td>\n",
       "      <td>0.598134</td>\n",
       "      <td>0.604984</td>\n",
       "      <td>0.608121</td>\n",
       "      <td>1.000000</td>\n",
       "      <td>0.614535</td>\n",
       "    </tr>\n",
       "    <tr>\n",
       "      <th>away_player_rate11</th>\n",
       "      <td>0.146564</td>\n",
       "      <td>0.009356</td>\n",
       "      <td>0.005002</td>\n",
       "      <td>0.006715</td>\n",
       "      <td>0.358299</td>\n",
       "      <td>0.368340</td>\n",
       "      <td>0.373292</td>\n",
       "      <td>0.370940</td>\n",
       "      <td>0.344902</td>\n",
       "      <td>0.349495</td>\n",
       "      <td>...</td>\n",
       "      <td>0.608355</td>\n",
       "      <td>0.615597</td>\n",
       "      <td>0.617372</td>\n",
       "      <td>0.583180</td>\n",
       "      <td>0.604462</td>\n",
       "      <td>0.601618</td>\n",
       "      <td>0.593379</td>\n",
       "      <td>0.608417</td>\n",
       "      <td>0.614535</td>\n",
       "      <td>1.000000</td>\n",
       "    </tr>\n",
       "  </tbody>\n",
       "</table>\n",
       "<p>26 rows × 26 columns</p>\n",
       "</div>"
      ],
      "text/plain": [
       "                        score  nb_goals  more_less_1.5_goals  \\\n",
       "score                1.000000 -0.051135            -0.033537   \n",
       "nb_goals            -0.051135  1.000000             0.689244   \n",
       "more_less_1.5_goals -0.033537  0.689244             1.000000   \n",
       "more_less_2.5_goals -0.046012  0.804330             0.583300   \n",
       "home_player_rate1   -0.159051  0.009692            -0.000456   \n",
       "home_player_rate2   -0.161360  0.034476             0.012935   \n",
       "home_player_rate3   -0.164457  0.038320             0.018095   \n",
       "home_player_rate4   -0.174332  0.033798             0.017915   \n",
       "home_player_rate5   -0.159563  0.036227             0.014699   \n",
       "home_player_rate6   -0.168452  0.045860             0.021736   \n",
       "home_player_rate7   -0.167785  0.055139             0.034796   \n",
       "home_player_rate8   -0.162937  0.053480             0.029909   \n",
       "home_player_rate9   -0.172094  0.063577             0.036129   \n",
       "home_player_rate10  -0.174609  0.066964             0.037063   \n",
       "home_player_rate11  -0.165327  0.059495             0.031967   \n",
       "away_player_rate1    0.136776 -0.029204            -0.021629   \n",
       "away_player_rate2    0.135228 -0.001137            -0.008273   \n",
       "away_player_rate3    0.147215 -0.014831            -0.017767   \n",
       "away_player_rate4    0.149390 -0.010422            -0.017654   \n",
       "away_player_rate5    0.147108 -0.014480            -0.021292   \n",
       "away_player_rate6    0.153638 -0.000213            -0.007367   \n",
       "away_player_rate7    0.152971  0.001784            -0.006247   \n",
       "away_player_rate8    0.152245  0.001027            -0.005947   \n",
       "away_player_rate9    0.148708  0.016274             0.005218   \n",
       "away_player_rate10   0.154601  0.021356             0.008579   \n",
       "away_player_rate11   0.146564  0.009356             0.005002   \n",
       "\n",
       "                     more_less_2.5_goals  home_player_rate1  \\\n",
       "score                          -0.046012          -0.159051   \n",
       "nb_goals                        0.804330           0.009692   \n",
       "more_less_1.5_goals             0.583300          -0.000456   \n",
       "more_less_2.5_goals             1.000000           0.010741   \n",
       "home_player_rate1               0.010741           1.000000   \n",
       "home_player_rate2               0.026866           0.612088   \n",
       "home_player_rate3               0.030380           0.634850   \n",
       "home_player_rate4               0.030940           0.622579   \n",
       "home_player_rate5               0.024046           0.587848   \n",
       "home_player_rate6               0.039380           0.609310   \n",
       "home_player_rate7               0.047128           0.602944   \n",
       "home_player_rate8               0.044663           0.589490   \n",
       "home_player_rate9               0.052063           0.591335   \n",
       "home_player_rate10              0.053216           0.589397   \n",
       "home_player_rate11              0.052311           0.587145   \n",
       "away_player_rate1              -0.028476           0.364380   \n",
       "away_player_rate2               0.001390           0.371087   \n",
       "away_player_rate3              -0.013365           0.377031   \n",
       "away_player_rate4              -0.006464           0.384346   \n",
       "away_player_rate5              -0.012036           0.347004   \n",
       "away_player_rate6              -0.001691           0.351997   \n",
       "away_player_rate7               0.000222           0.351916   \n",
       "away_player_rate8               0.001700           0.353365   \n",
       "away_player_rate9               0.014236           0.346226   \n",
       "away_player_rate10              0.016639           0.344875   \n",
       "away_player_rate11              0.006715           0.358299   \n",
       "\n",
       "                     home_player_rate2  home_player_rate3  home_player_rate4  \\\n",
       "score                        -0.161360          -0.164457          -0.174332   \n",
       "nb_goals                      0.034476           0.038320           0.033798   \n",
       "more_less_1.5_goals           0.012935           0.018095           0.017915   \n",
       "more_less_2.5_goals           0.026866           0.030380           0.030940   \n",
       "home_player_rate1             0.612088           0.634850           0.622579   \n",
       "home_player_rate2             1.000000           0.639476           0.634010   \n",
       "home_player_rate3             0.639476           1.000000           0.643797   \n",
       "home_player_rate4             0.634010           0.643797           1.000000   \n",
       "home_player_rate5             0.607686           0.615043           0.595479   \n",
       "home_player_rate6             0.640327           0.643297           0.641987   \n",
       "home_player_rate7             0.619497           0.633057           0.625084   \n",
       "home_player_rate8             0.618720           0.625726           0.623655   \n",
       "home_player_rate9             0.614485           0.613319           0.614086   \n",
       "home_player_rate10            0.612745           0.615730           0.625657   \n",
       "home_player_rate11            0.616560           0.620878           0.622475   \n",
       "away_player_rate1             0.379174           0.371281           0.381819   \n",
       "away_player_rate2             0.380088           0.388916           0.392429   \n",
       "away_player_rate3             0.390681           0.402155           0.395675   \n",
       "away_player_rate4             0.394959           0.396624           0.392859   \n",
       "away_player_rate5             0.356579           0.359705           0.359037   \n",
       "away_player_rate6             0.362777           0.371117           0.369824   \n",
       "away_player_rate7             0.363802           0.364786           0.369047   \n",
       "away_player_rate8             0.361288           0.370064           0.364035   \n",
       "away_player_rate9             0.350897           0.358275           0.352468   \n",
       "away_player_rate10            0.360084           0.354451           0.359828   \n",
       "away_player_rate11            0.368340           0.373292           0.370940   \n",
       "\n",
       "                     home_player_rate5  home_player_rate6  ...  \\\n",
       "score                        -0.159563          -0.168452  ...   \n",
       "nb_goals                      0.036227           0.045860  ...   \n",
       "more_less_1.5_goals           0.014699           0.021736  ...   \n",
       "more_less_2.5_goals           0.024046           0.039380  ...   \n",
       "home_player_rate1             0.587848           0.609310  ...   \n",
       "home_player_rate2             0.607686           0.640327  ...   \n",
       "home_player_rate3             0.615043           0.643297  ...   \n",
       "home_player_rate4             0.595479           0.641987  ...   \n",
       "home_player_rate5             1.000000           0.608265  ...   \n",
       "home_player_rate6             0.608265           1.000000  ...   \n",
       "home_player_rate7             0.595074           0.620808  ...   \n",
       "home_player_rate8             0.594213           0.610428  ...   \n",
       "home_player_rate9             0.593275           0.611994  ...   \n",
       "home_player_rate10            0.587817           0.621083  ...   \n",
       "home_player_rate11            0.591661           0.617244  ...   \n",
       "away_player_rate1             0.353502           0.360531  ...   \n",
       "away_player_rate2             0.356230           0.365222  ...   \n",
       "away_player_rate3             0.363936           0.378871  ...   \n",
       "away_player_rate4             0.364235           0.374980  ...   \n",
       "away_player_rate5             0.326492           0.340886  ...   \n",
       "away_player_rate6             0.344594           0.350507  ...   \n",
       "away_player_rate7             0.337640           0.350380  ...   \n",
       "away_player_rate8             0.344657           0.347930  ...   \n",
       "away_player_rate9             0.333086           0.333761  ...   \n",
       "away_player_rate10            0.331915           0.336412  ...   \n",
       "away_player_rate11            0.344902           0.349495  ...   \n",
       "\n",
       "                     away_player_rate2  away_player_rate3  away_player_rate4  \\\n",
       "score                         0.135228           0.147215           0.149390   \n",
       "nb_goals                     -0.001137          -0.014831          -0.010422   \n",
       "more_less_1.5_goals          -0.008273          -0.017767          -0.017654   \n",
       "more_less_2.5_goals           0.001390          -0.013365          -0.006464   \n",
       "home_player_rate1             0.371087           0.377031           0.384346   \n",
       "home_player_rate2             0.380088           0.390681           0.394959   \n",
       "home_player_rate3             0.388916           0.402155           0.396624   \n",
       "home_player_rate4             0.392429           0.395675           0.392859   \n",
       "home_player_rate5             0.356230           0.363936           0.364235   \n",
       "home_player_rate6             0.365222           0.378871           0.374980   \n",
       "home_player_rate7             0.361033           0.369519           0.367797   \n",
       "home_player_rate8             0.362356           0.369408           0.368454   \n",
       "home_player_rate9             0.357471           0.364396           0.358455   \n",
       "home_player_rate10            0.350566           0.361830           0.355139   \n",
       "home_player_rate11            0.364283           0.373639           0.371884   \n",
       "away_player_rate1             0.615811           0.630164           0.620861   \n",
       "away_player_rate2             1.000000           0.632627           0.629196   \n",
       "away_player_rate3             0.632627           1.000000           0.645607   \n",
       "away_player_rate4             0.629196           0.645607           1.000000   \n",
       "away_player_rate5             0.598677           0.613715           0.592452   \n",
       "away_player_rate6             0.633768           0.639672           0.632086   \n",
       "away_player_rate7             0.618643           0.630518           0.626621   \n",
       "away_player_rate8             0.613812           0.622087           0.615945   \n",
       "away_player_rate9             0.613145           0.614450           0.628751   \n",
       "away_player_rate10            0.611071           0.618563           0.625153   \n",
       "away_player_rate11            0.608355           0.615597           0.617372   \n",
       "\n",
       "                     away_player_rate5  away_player_rate6  away_player_rate7  \\\n",
       "score                         0.147108           0.153638           0.152971   \n",
       "nb_goals                     -0.014480          -0.000213           0.001784   \n",
       "more_less_1.5_goals          -0.021292          -0.007367          -0.006247   \n",
       "more_less_2.5_goals          -0.012036          -0.001691           0.000222   \n",
       "home_player_rate1             0.347004           0.351997           0.351916   \n",
       "home_player_rate2             0.356579           0.362777           0.363802   \n",
       "home_player_rate3             0.359705           0.371117           0.364786   \n",
       "home_player_rate4             0.359037           0.369824           0.369047   \n",
       "home_player_rate5             0.326492           0.344594           0.337640   \n",
       "home_player_rate6             0.340886           0.350507           0.350380   \n",
       "home_player_rate7             0.338377           0.342698           0.350981   \n",
       "home_player_rate8             0.342178           0.347779           0.350168   \n",
       "home_player_rate9             0.326623           0.333875           0.333205   \n",
       "home_player_rate10            0.324431           0.329879           0.329980   \n",
       "home_player_rate11            0.342366           0.338572           0.349877   \n",
       "away_player_rate1             0.580098           0.603044           0.606363   \n",
       "away_player_rate2             0.598677           0.633768           0.618643   \n",
       "away_player_rate3             0.613715           0.639672           0.630518   \n",
       "away_player_rate4             0.592452           0.632086           0.626621   \n",
       "away_player_rate5             1.000000           0.607774           0.590178   \n",
       "away_player_rate6             0.607774           1.000000           0.610097   \n",
       "away_player_rate7             0.590178           0.610097           1.000000   \n",
       "away_player_rate8             0.595214           0.605609           0.607331   \n",
       "away_player_rate9             0.590867           0.610551           0.611480   \n",
       "away_player_rate10            0.590070           0.619139           0.598134   \n",
       "away_player_rate11            0.583180           0.604462           0.601618   \n",
       "\n",
       "                     away_player_rate8  away_player_rate9  away_player_rate10  \\\n",
       "score                         0.152245           0.148708            0.154601   \n",
       "nb_goals                      0.001027           0.016274            0.021356   \n",
       "more_less_1.5_goals          -0.005947           0.005218            0.008579   \n",
       "more_less_2.5_goals           0.001700           0.014236            0.016639   \n",
       "home_player_rate1             0.353365           0.346226            0.344875   \n",
       "home_player_rate2             0.361288           0.350897            0.360084   \n",
       "home_player_rate3             0.370064           0.358275            0.354451   \n",
       "home_player_rate4             0.364035           0.352468            0.359828   \n",
       "home_player_rate5             0.344657           0.333086            0.331915   \n",
       "home_player_rate6             0.347930           0.333761            0.336412   \n",
       "home_player_rate7             0.343263           0.334576            0.336903   \n",
       "home_player_rate8             0.349018           0.338195            0.339200   \n",
       "home_player_rate9             0.336981           0.327455            0.331043   \n",
       "home_player_rate10            0.333611           0.325344            0.327044   \n",
       "home_player_rate11            0.344239           0.335131            0.342020   \n",
       "away_player_rate1             0.591268           0.591790            0.587600   \n",
       "away_player_rate2             0.613812           0.613145            0.611071   \n",
       "away_player_rate3             0.622087           0.614450            0.618563   \n",
       "away_player_rate4             0.615945           0.628751            0.625153   \n",
       "away_player_rate5             0.595214           0.590867            0.590070   \n",
       "away_player_rate6             0.605609           0.610551            0.619139   \n",
       "away_player_rate7             0.607331           0.611480            0.598134   \n",
       "away_player_rate8             1.000000           0.597418            0.604984   \n",
       "away_player_rate9             0.597418           1.000000            0.608121   \n",
       "away_player_rate10            0.604984           0.608121            1.000000   \n",
       "away_player_rate11            0.593379           0.608417            0.614535   \n",
       "\n",
       "                     away_player_rate11  \n",
       "score                          0.146564  \n",
       "nb_goals                       0.009356  \n",
       "more_less_1.5_goals            0.005002  \n",
       "more_less_2.5_goals            0.006715  \n",
       "home_player_rate1              0.358299  \n",
       "home_player_rate2              0.368340  \n",
       "home_player_rate3              0.373292  \n",
       "home_player_rate4              0.370940  \n",
       "home_player_rate5              0.344902  \n",
       "home_player_rate6              0.349495  \n",
       "home_player_rate7              0.345647  \n",
       "home_player_rate8              0.350935  \n",
       "home_player_rate9              0.342727  \n",
       "home_player_rate10             0.340952  \n",
       "home_player_rate11             0.355044  \n",
       "away_player_rate1              0.584136  \n",
       "away_player_rate2              0.608355  \n",
       "away_player_rate3              0.615597  \n",
       "away_player_rate4              0.617372  \n",
       "away_player_rate5              0.583180  \n",
       "away_player_rate6              0.604462  \n",
       "away_player_rate7              0.601618  \n",
       "away_player_rate8              0.593379  \n",
       "away_player_rate9              0.608417  \n",
       "away_player_rate10             0.614535  \n",
       "away_player_rate11             1.000000  \n",
       "\n",
       "[26 rows x 26 columns]"
      ]
     },
     "execution_count": 29,
     "metadata": {},
     "output_type": "execute_result"
    }
   ],
   "source": [
    "match_df[['score', 'nb_goals', 'more_less_1.5_goals',\n",
    "       'more_less_2.5_goals','home_player_rate1', 'home_player_rate2',\n",
    "       'home_player_rate3', 'home_player_rate4', 'home_player_rate5',\n",
    "       'home_player_rate6', 'home_player_rate7', 'home_player_rate8',\n",
    "       'home_player_rate9', 'home_player_rate10', 'home_player_rate11',\n",
    "       'away_player_rate1', 'away_player_rate2', 'away_player_rate3',\n",
    "       'away_player_rate4', 'away_player_rate5', 'away_player_rate6',\n",
    "       'away_player_rate7', 'away_player_rate8', 'away_player_rate9',\n",
    "       'away_player_rate10', 'away_player_rate11']].corr()"
   ]
  },
  {
   "cell_type": "markdown",
   "metadata": {},
   "source": [
    "---"
   ]
  },
  {
   "cell_type": "markdown",
   "metadata": {},
   "source": [
    "## Modelling without PreProcessing (Scaling)"
   ]
  },
  {
   "cell_type": "markdown",
   "metadata": {},
   "source": [
    "### Importing Modelling libraries"
   ]
  },
  {
   "cell_type": "code",
   "execution_count": 30,
   "metadata": {},
   "outputs": [],
   "source": [
    "from sklearn.model_selection import train_test_split\n",
    "from tensorflow.keras.utils import to_categorical\n",
    "import tensorflow as tf\n",
    "from tensorflow import keras\n",
    "from tensorflow.keras import layers, Sequential\n",
    "from sklearn.preprocessing import RobustScaler\n",
    "from sklearn.preprocessing import MinMaxScaler\n",
    "from tensorflow.keras.callbacks import EarlyStopping\n"
   ]
  },
  {
   "cell_type": "code",
   "execution_count": 32,
   "metadata": {},
   "outputs": [],
   "source": [
    "X_init = match_df[['home_player_rate1', 'home_player_rate2',\n",
    "       'home_player_rate3', 'home_player_rate4', 'home_player_rate5',\n",
    "       'home_player_rate6', 'home_player_rate7', 'home_player_rate8',\n",
    "       'home_player_rate9', 'home_player_rate10', 'home_player_rate11',\n",
    "       'away_player_rate1', 'away_player_rate2', 'away_player_rate3',\n",
    "       'away_player_rate4', 'away_player_rate5', 'away_player_rate6',\n",
    "       'away_player_rate7', 'away_player_rate8', 'away_player_rate9',\n",
    "       'away_player_rate10', 'away_player_rate11']]"
   ]
  },
  {
   "cell_type": "markdown",
   "metadata": {},
   "source": [
    "### Predict Score (1 | N | 2)"
   ]
  },
  {
   "cell_type": "code",
   "execution_count": 43,
   "metadata": {},
   "outputs": [],
   "source": [
    "y = match_df['score']"
   ]
  },
  {
   "cell_type": "code",
   "execution_count": 62,
   "metadata": {},
   "outputs": [
    {
     "data": {
      "text/plain": [
       "0    9810\n",
       "2    6166\n",
       "1    5398\n",
       "Name: score, dtype: int64"
      ]
     },
     "execution_count": 62,
     "metadata": {},
     "output_type": "execute_result"
    }
   ],
   "source": [
    "y.value_counts()"
   ]
  },
  {
   "cell_type": "code",
   "execution_count": 70,
   "metadata": {},
   "outputs": [],
   "source": [
    "X_score = X_init"
   ]
  },
  {
   "cell_type": "code",
   "execution_count": 71,
   "metadata": {},
   "outputs": [],
   "source": [
    "y_score_cat = y_cat = to_categorical(y, dtype='int64')"
   ]
  },
  {
   "cell_type": "code",
   "execution_count": 72,
   "metadata": {},
   "outputs": [],
   "source": [
    "X_score_train, X_score_test, y_score_train, y_score_test = train_test_split(X_score, y_score_cat, test_size=0.3, random_state=42)"
   ]
  },
  {
   "cell_type": "code",
   "execution_count": 73,
   "metadata": {},
   "outputs": [
    {
     "data": {
      "text/plain": [
       "((14961, 22), (6413, 22), (14961, 3), (6413, 3))"
      ]
     },
     "execution_count": 73,
     "metadata": {},
     "output_type": "execute_result"
    }
   ],
   "source": [
    "X_score_train.shape, X_score_test.shape, y_score_train.shape, y_score_test.shape"
   ]
  },
  {
   "cell_type": "code",
   "execution_count": 74,
   "metadata": {},
   "outputs": [],
   "source": [
    "#Init model\n",
    "\n",
    "model_score = Sequential()\n",
    "model_score.add(layers.Dense(5, activation='relu', input_dim=22)) # put the dimensions of X.shape for x1,x2,x3 \n",
    "model_score.add(layers.Dense(2, activation='relu')) # ReLU activation is the prefered default activation fonction\n",
    "model_score.add(layers.Dense(3, activation='softmax')) # Number of neurones correspond to the number of categorical values to classify"
   ]
  },
  {
   "cell_type": "code",
   "execution_count": 75,
   "metadata": {},
   "outputs": [],
   "source": [
    "#Compile model\n",
    "model_score.compile(loss='categorical_crossentropy',   # The loss is calculated with the categorical_crossentropy parameter\n",
    "              optimizer='adam',\n",
    "              metrics=['accuracy'])"
   ]
  },
  {
   "cell_type": "code",
   "execution_count": 76,
   "metadata": {},
   "outputs": [
    {
     "name": "stdout",
     "output_type": "stream",
     "text": [
      "Epoch 1/100\n",
      "655/655 [==============================] - 2s 2ms/step - loss: 3.4812 - accuracy: 0.4333 - val_loss: 1.0289 - val_accuracy: 0.4674\n",
      "Epoch 2/100\n",
      "655/655 [==============================] - 1s 2ms/step - loss: 1.0318 - accuracy: 0.4728 - val_loss: 1.0271 - val_accuracy: 0.4912\n",
      "Epoch 3/100\n",
      "655/655 [==============================] - 1s 2ms/step - loss: 1.0236 - accuracy: 0.4997 - val_loss: 1.0132 - val_accuracy: 0.5043\n",
      "Epoch 4/100\n",
      "655/655 [==============================] - 1s 2ms/step - loss: 1.0092 - accuracy: 0.5166 - val_loss: 1.0179 - val_accuracy: 0.4925\n",
      "Epoch 5/100\n",
      "655/655 [==============================] - 1s 2ms/step - loss: 1.0087 - accuracy: 0.5184 - val_loss: 1.0040 - val_accuracy: 0.5088\n",
      "Epoch 6/100\n",
      "655/655 [==============================] - 1s 2ms/step - loss: 1.0052 - accuracy: 0.5162 - val_loss: 1.0002 - val_accuracy: 0.5119\n",
      "Epoch 7/100\n",
      "655/655 [==============================] - 1s 2ms/step - loss: 1.0005 - accuracy: 0.5168 - val_loss: 0.9971 - val_accuracy: 0.5190\n",
      "Epoch 8/100\n",
      "655/655 [==============================] - 2s 3ms/step - loss: 0.9924 - accuracy: 0.5258 - val_loss: 1.0074 - val_accuracy: 0.5026\n",
      "Epoch 9/100\n",
      "655/655 [==============================] - 2s 2ms/step - loss: 0.9875 - accuracy: 0.5355 - val_loss: 0.9973 - val_accuracy: 0.5184\n",
      "Epoch 10/100\n",
      "655/655 [==============================] - 1s 1ms/step - loss: 0.9851 - accuracy: 0.5379 - val_loss: 0.9930 - val_accuracy: 0.5235\n",
      "Epoch 11/100\n",
      "655/655 [==============================] - 1s 2ms/step - loss: 0.9798 - accuracy: 0.5367 - val_loss: 0.9981 - val_accuracy: 0.5164\n",
      "Epoch 12/100\n",
      "655/655 [==============================] - 2s 2ms/step - loss: 0.9816 - accuracy: 0.5344 - val_loss: 0.9930 - val_accuracy: 0.5199\n",
      "Epoch 13/100\n",
      "655/655 [==============================] - 1s 2ms/step - loss: 0.9875 - accuracy: 0.5313 - val_loss: 0.9905 - val_accuracy: 0.5266\n",
      "Epoch 14/100\n",
      "655/655 [==============================] - 1s 2ms/step - loss: 0.9905 - accuracy: 0.5245 - val_loss: 1.0109 - val_accuracy: 0.4986\n",
      "Epoch 15/100\n",
      "655/655 [==============================] - 1s 2ms/step - loss: 0.9834 - accuracy: 0.5242 - val_loss: 0.9874 - val_accuracy: 0.5246\n",
      "Epoch 16/100\n",
      "655/655 [==============================] - 1s 2ms/step - loss: 0.9709 - accuracy: 0.5468 - val_loss: 0.9907 - val_accuracy: 0.5204\n",
      "Epoch 17/100\n",
      "655/655 [==============================] - 1s 2ms/step - loss: 0.9890 - accuracy: 0.5268 - val_loss: 0.9883 - val_accuracy: 0.5237\n",
      "Epoch 18/100\n",
      "655/655 [==============================] - 1s 2ms/step - loss: 0.9828 - accuracy: 0.5314 - val_loss: 0.9894 - val_accuracy: 0.5226\n",
      "Epoch 19/100\n",
      "655/655 [==============================] - 1s 2ms/step - loss: 0.9775 - accuracy: 0.5391 - val_loss: 0.9972 - val_accuracy: 0.5141\n",
      "Epoch 20/100\n",
      "655/655 [==============================] - 1s 2ms/step - loss: 0.9819 - accuracy: 0.5304 - val_loss: 0.9873 - val_accuracy: 0.5277\n",
      "Epoch 21/100\n",
      "655/655 [==============================] - 1s 2ms/step - loss: 0.9817 - accuracy: 0.5304 - val_loss: 0.9873 - val_accuracy: 0.5266\n",
      "Epoch 22/100\n",
      "655/655 [==============================] - 1s 2ms/step - loss: 0.9905 - accuracy: 0.5265 - val_loss: 0.9846 - val_accuracy: 0.5260\n",
      "Epoch 23/100\n",
      "655/655 [==============================] - 1s 2ms/step - loss: 0.9760 - accuracy: 0.5334 - val_loss: 0.9849 - val_accuracy: 0.5257\n",
      "Epoch 24/100\n",
      "655/655 [==============================] - 1s 2ms/step - loss: 0.9764 - accuracy: 0.5363 - val_loss: 0.9886 - val_accuracy: 0.5268\n",
      "Epoch 25/100\n",
      "655/655 [==============================] - 1s 2ms/step - loss: 0.9659 - accuracy: 0.5473 - val_loss: 0.9832 - val_accuracy: 0.5282\n",
      "Epoch 26/100\n",
      "655/655 [==============================] - 2s 2ms/step - loss: 0.9687 - accuracy: 0.5448 - val_loss: 0.9869 - val_accuracy: 0.5271\n",
      "Epoch 27/100\n",
      "655/655 [==============================] - 1s 2ms/step - loss: 0.9749 - accuracy: 0.5350 - val_loss: 0.9826 - val_accuracy: 0.5288\n",
      "Epoch 28/100\n",
      "655/655 [==============================] - 1s 2ms/step - loss: 0.9795 - accuracy: 0.5362 - val_loss: 0.9866 - val_accuracy: 0.5288\n",
      "Epoch 29/100\n",
      "655/655 [==============================] - 1s 2ms/step - loss: 0.9828 - accuracy: 0.5293 - val_loss: 0.9990 - val_accuracy: 0.5104\n",
      "Epoch 30/100\n",
      "655/655 [==============================] - 1s 2ms/step - loss: 0.9820 - accuracy: 0.5253 - val_loss: 0.9838 - val_accuracy: 0.5291\n",
      "Epoch 31/100\n",
      "655/655 [==============================] - 2s 3ms/step - loss: 0.9750 - accuracy: 0.5424 - val_loss: 0.9856 - val_accuracy: 0.5295\n",
      "Epoch 32/100\n",
      "655/655 [==============================] - 1s 2ms/step - loss: 0.9752 - accuracy: 0.5364 - val_loss: 0.9925 - val_accuracy: 0.5288\n",
      "Epoch 33/100\n",
      "655/655 [==============================] - 1s 2ms/step - loss: 0.9799 - accuracy: 0.5392 - val_loss: 0.9850 - val_accuracy: 0.5297\n",
      "Epoch 34/100\n",
      "655/655 [==============================] - 1s 2ms/step - loss: 0.9796 - accuracy: 0.5349 - val_loss: 0.9847 - val_accuracy: 0.5242\n",
      "Epoch 35/100\n",
      "655/655 [==============================] - 2s 2ms/step - loss: 0.9785 - accuracy: 0.5354 - val_loss: 1.0048 - val_accuracy: 0.5081\n",
      "Epoch 36/100\n",
      "655/655 [==============================] - 1s 2ms/step - loss: 0.9806 - accuracy: 0.5332 - val_loss: 0.9846 - val_accuracy: 0.5280\n",
      "Epoch 37/100\n",
      "655/655 [==============================] - 1s 2ms/step - loss: 0.9766 - accuracy: 0.5392 - val_loss: 0.9855 - val_accuracy: 0.5280\n",
      "Restoring model weights from the end of the best epoch.\n",
      "Epoch 00037: early stopping\n"
     ]
    },
    {
     "data": {
      "text/plain": [
       "<tensorflow.python.keras.callbacks.History at 0x7f62b60dee90>"
      ]
     },
     "execution_count": 76,
     "metadata": {},
     "output_type": "execute_result"
    }
   ],
   "source": [
    "#Fit model\n",
    "es = EarlyStopping(patience=10, restore_best_weights=True, verbose=1)  ## define the number of patience (retries before stopping the iteration epohcs) \n",
    "\n",
    "\n",
    "model_score.fit(X_score_train,                ## doing the fit on the train data\n",
    "          y_score_train,                ## doing the fit on the train data\n",
    "          validation_split=0.3,   ## Validation set (here split the 30% of the train data)\n",
    "          epochs=100,             ## Number of epochs to iterate (the EarlyStopping should stop before arriving at the end if find optimum acu)\n",
    "          batch_size=16,          ## Number of batch size. Slice the data to adjust weights\n",
    "          callbacks = [es])       ## Calling EarlyStopping"
   ]
  },
  {
   "cell_type": "code",
   "execution_count": 77,
   "metadata": {},
   "outputs": [
    {
     "name": "stdout",
     "output_type": "stream",
     "text": [
      "201/201 [==============================] - 0s 2ms/step - loss: 0.9797 - accuracy: 0.5241\n"
     ]
    },
    {
     "data": {
      "text/plain": [
       "[0.9797433614730835, 0.5240916609764099]"
      ]
     },
     "execution_count": 77,
     "metadata": {},
     "output_type": "execute_result"
    }
   ],
   "source": [
    "#Evaluate the model\n",
    "model_score.evaluate(X_score_test, y_score_test, verbose=1)  ## Evaluate the model with the test set"
   ]
  },
  {
   "cell_type": "markdown",
   "metadata": {},
   "source": [
    "### Predict More/Less 1.5 Goals"
   ]
  },
  {
   "cell_type": "code",
   "execution_count": 104,
   "metadata": {},
   "outputs": [],
   "source": [
    "X_ml_1_5 = X_init"
   ]
  },
  {
   "cell_type": "code",
   "execution_count": 105,
   "metadata": {},
   "outputs": [],
   "source": [
    "y_ml_1_5 = match_df[\"more_less_1.5_goals\"] "
   ]
  },
  {
   "cell_type": "code",
   "execution_count": 106,
   "metadata": {},
   "outputs": [
    {
     "data": {
      "text/plain": [
       "1    16147\n",
       "0     5227\n",
       "Name: more_less_1.5_goals, dtype: int64"
      ]
     },
     "execution_count": 106,
     "metadata": {},
     "output_type": "execute_result"
    }
   ],
   "source": [
    "y_ml_1_5.value_counts()"
   ]
  },
  {
   "cell_type": "code",
   "execution_count": 107,
   "metadata": {},
   "outputs": [],
   "source": [
    "X_ml_1_5_train, X_ml_1_5_test, y_ml_1_5_train, y_ml_1_5_test = train_test_split(X_ml_1_5, y_ml_1_5, test_size=0.3, random_state=42)"
   ]
  },
  {
   "cell_type": "code",
   "execution_count": 108,
   "metadata": {},
   "outputs": [
    {
     "data": {
      "text/plain": [
       "((14961, 22), (6413, 22), (14961,), (6413,))"
      ]
     },
     "execution_count": 108,
     "metadata": {},
     "output_type": "execute_result"
    }
   ],
   "source": [
    "X_ml_1_5_train.shape, X_ml_1_5_test.shape, y_ml_1_5_train.shape, y_ml_1_5_test.shape"
   ]
  },
  {
   "cell_type": "code",
   "execution_count": 109,
   "metadata": {},
   "outputs": [],
   "source": [
    "#Init model\n",
    "\n",
    "model_ml_1_5 = Sequential()\n",
    "model_ml_1_5.add(layers.Dense(5, activation='relu', input_dim=22)) # put the dimensions of X.shape for x1,x2,x3 \n",
    "model_ml_1_5.add(layers.Dense(2, activation='relu')) # ReLU activation is the prefered default activation fonction\n",
    "model_ml_1_5.add(layers.Dense(1, activation='sigmoid')) # Number of neurones correspond to the number of categorical values to classify"
   ]
  },
  {
   "cell_type": "code",
   "execution_count": 110,
   "metadata": {},
   "outputs": [],
   "source": [
    "#Compile model\n",
    "model_ml_1_5.compile(loss='binary_crossentropy',   # The loss is calculated with the categorical_crossentropy parameter\n",
    "              optimizer='adam',\n",
    "              metrics=['accuracy'])"
   ]
  },
  {
   "cell_type": "code",
   "execution_count": 111,
   "metadata": {},
   "outputs": [
    {
     "name": "stdout",
     "output_type": "stream",
     "text": [
      "Epoch 1/100\n",
      "655/655 [==============================] - 2s 2ms/step - loss: 0.6580 - accuracy: 0.7512 - val_loss: 0.5996 - val_accuracy: 0.7463\n",
      "Epoch 2/100\n",
      "655/655 [==============================] - 1s 2ms/step - loss: 0.5836 - accuracy: 0.7572 - val_loss: 0.5724 - val_accuracy: 0.7463\n",
      "Epoch 3/100\n",
      "655/655 [==============================] - 1s 2ms/step - loss: 0.5605 - accuracy: 0.7574 - val_loss: 0.5668 - val_accuracy: 0.7463\n",
      "Epoch 4/100\n",
      "655/655 [==============================] - 1s 2ms/step - loss: 0.5564 - accuracy: 0.7572 - val_loss: 0.5664 - val_accuracy: 0.7463\n",
      "Epoch 5/100\n",
      "655/655 [==============================] - 1s 2ms/step - loss: 0.5527 - accuracy: 0.7588 - val_loss: 0.5665 - val_accuracy: 0.7463\n",
      "Epoch 6/100\n",
      "655/655 [==============================] - 1s 2ms/step - loss: 0.5464 - accuracy: 0.7643 - val_loss: 0.5666 - val_accuracy: 0.7463\n",
      "Epoch 7/100\n",
      "655/655 [==============================] - 1s 2ms/step - loss: 0.5513 - accuracy: 0.7599 - val_loss: 0.5667 - val_accuracy: 0.7463\n",
      "Epoch 8/100\n",
      "655/655 [==============================] - 1s 2ms/step - loss: 0.5485 - accuracy: 0.7623 - val_loss: 0.5667 - val_accuracy: 0.7463\n",
      "Epoch 9/100\n",
      "655/655 [==============================] - 1s 2ms/step - loss: 0.5554 - accuracy: 0.7562 - val_loss: 0.5667 - val_accuracy: 0.7463\n",
      "Epoch 10/100\n",
      "655/655 [==============================] - 2s 2ms/step - loss: 0.5541 - accuracy: 0.7574 - val_loss: 0.5668 - val_accuracy: 0.7463\n",
      "Epoch 11/100\n",
      "655/655 [==============================] - 2s 2ms/step - loss: 0.5514 - accuracy: 0.7597 - val_loss: 0.5667 - val_accuracy: 0.7463\n",
      "Epoch 12/100\n",
      "655/655 [==============================] - 1s 2ms/step - loss: 0.5517 - accuracy: 0.7595 - val_loss: 0.5667 - val_accuracy: 0.7463\n",
      "Epoch 13/100\n",
      "655/655 [==============================] - 1s 2ms/step - loss: 0.5412 - accuracy: 0.7687 - val_loss: 0.5666 - val_accuracy: 0.7463\n",
      "Epoch 14/100\n",
      "655/655 [==============================] - 1s 2ms/step - loss: 0.5461 - accuracy: 0.7645 - val_loss: 0.5666 - val_accuracy: 0.7463\n",
      "Restoring model weights from the end of the best epoch.\n",
      "Epoch 00014: early stopping\n"
     ]
    },
    {
     "data": {
      "text/plain": [
       "<tensorflow.python.keras.callbacks.History at 0x7f62b8538950>"
      ]
     },
     "execution_count": 111,
     "metadata": {},
     "output_type": "execute_result"
    }
   ],
   "source": [
    "#Fit model\n",
    "es = EarlyStopping(patience=10, restore_best_weights=True, verbose=1)  ## define the number of patience (retries before stopping the iteration epohcs) \n",
    "\n",
    "\n",
    "model_ml_1_5.fit(X_ml_1_5_train,                ## doing the fit on the train data\n",
    "          y_ml_1_5_train,                ## doing the fit on the train data\n",
    "          validation_split=0.3,   ## Validation set (here split the 30% of the train data)\n",
    "          epochs=100,             ## Number of epochs to iterate (the EarlyStopping should stop before arriving at the end if find optimum acu)\n",
    "          batch_size=16,          ## Number of batch size. Slice the data to adjust weights\n",
    "          callbacks = [es])       ## Calling EarlyStopping"
   ]
  },
  {
   "cell_type": "code",
   "execution_count": 112,
   "metadata": {},
   "outputs": [
    {
     "name": "stdout",
     "output_type": "stream",
     "text": [
      "201/201 [==============================] - 0s 2ms/step - loss: 0.5532 - accuracy: 0.7585\n"
     ]
    },
    {
     "data": {
      "text/plain": [
       "[0.5531734824180603, 0.7584593892097473]"
      ]
     },
     "execution_count": 112,
     "metadata": {},
     "output_type": "execute_result"
    }
   ],
   "source": [
    "#Evaluate the model\n",
    "model_ml_1_5.evaluate(X_ml_1_5_test, y_ml_1_5_test, verbose=1)  ## Evaluate the model with the test set"
   ]
  },
  {
   "cell_type": "markdown",
   "metadata": {},
   "source": [
    "### Predict More/Less 2.5 Goals"
   ]
  },
  {
   "cell_type": "code",
   "execution_count": 87,
   "metadata": {},
   "outputs": [],
   "source": [
    "X_ml_2_5 = X_init"
   ]
  },
  {
   "cell_type": "code",
   "execution_count": 88,
   "metadata": {},
   "outputs": [],
   "source": [
    "y_ml_2_5 = match_df[\"more_less_2.5_goals\"] "
   ]
  },
  {
   "cell_type": "code",
   "execution_count": 89,
   "metadata": {},
   "outputs": [
    {
     "data": {
      "text/plain": [
       "1    10953\n",
       "0    10421\n",
       "Name: more_less_2.5_goals, dtype: int64"
      ]
     },
     "execution_count": 89,
     "metadata": {},
     "output_type": "execute_result"
    }
   ],
   "source": [
    "y_ml_2_5.value_counts()"
   ]
  },
  {
   "cell_type": "code",
   "execution_count": 90,
   "metadata": {},
   "outputs": [],
   "source": [
    "X_ml_2_5_train, X_ml_2_5_test, y_ml_2_5_train, y_ml_2_5_test = train_test_split(X_ml_2_5, y_ml_2_5, test_size=0.3, random_state=42)"
   ]
  },
  {
   "cell_type": "code",
   "execution_count": 91,
   "metadata": {},
   "outputs": [
    {
     "data": {
      "text/plain": [
       "((14961, 22), (6413, 22), (14961,), (6413,))"
      ]
     },
     "execution_count": 91,
     "metadata": {},
     "output_type": "execute_result"
    }
   ],
   "source": [
    "X_ml_2_5_train.shape, X_ml_2_5_test.shape, y_ml_2_5_train.shape, y_ml_2_5_test.shape"
   ]
  },
  {
   "cell_type": "code",
   "execution_count": 100,
   "metadata": {},
   "outputs": [],
   "source": [
    "#Init model\n",
    "\n",
    "model_ml_2_5 = Sequential()\n",
    "model_ml_2_5.add(layers.Dense(5, activation='relu', input_dim=22)) # put the dimensions of X.shape for x1,x2,x3 \n",
    "model_ml_2_5.add(layers.Dense(3, activation='relu')) # ReLU activation is the prefered default activation fonction\n",
    "model_ml_2_5.add(layers.Dense(1, activation='sigmoid')) # Number of neurones correspond to the number of categorical values to classify"
   ]
  },
  {
   "cell_type": "code",
   "execution_count": 101,
   "metadata": {},
   "outputs": [],
   "source": [
    "#Compile model\n",
    "model_ml_2_5.compile(loss='binary_crossentropy',   # The loss is calculated with the categorical_crossentropy parameter\n",
    "              optimizer='adam',\n",
    "              metrics=['accuracy'])"
   ]
  },
  {
   "cell_type": "code",
   "execution_count": 102,
   "metadata": {},
   "outputs": [
    {
     "name": "stdout",
     "output_type": "stream",
     "text": [
      "Epoch 1/100\n",
      "328/328 [==============================] - 1s 3ms/step - loss: 18.2665 - accuracy: 0.5057 - val_loss: 0.6945 - val_accuracy: 0.5081\n",
      "Epoch 2/100\n",
      "328/328 [==============================] - 1s 2ms/step - loss: 0.6963 - accuracy: 0.5005 - val_loss: 0.6936 - val_accuracy: 0.5079\n",
      "Epoch 3/100\n",
      "328/328 [==============================] - 1s 2ms/step - loss: 0.6935 - accuracy: 0.5162 - val_loss: 0.6931 - val_accuracy: 0.5072\n",
      "Epoch 4/100\n",
      "328/328 [==============================] - 1s 2ms/step - loss: 0.6938 - accuracy: 0.5037 - val_loss: 0.6930 - val_accuracy: 0.5075\n",
      "Epoch 5/100\n",
      "328/328 [==============================] - 1s 2ms/step - loss: 0.6927 - accuracy: 0.5175 - val_loss: 0.6930 - val_accuracy: 0.5077\n",
      "Epoch 6/100\n",
      "328/328 [==============================] - 1s 2ms/step - loss: 0.6930 - accuracy: 0.5124 - val_loss: 0.6930 - val_accuracy: 0.5075\n",
      "Epoch 7/100\n",
      "328/328 [==============================] - 1s 2ms/step - loss: 0.6927 - accuracy: 0.5154 - val_loss: 0.6931 - val_accuracy: 0.5070\n",
      "Epoch 8/100\n",
      "328/328 [==============================] - 1s 2ms/step - loss: 0.6930 - accuracy: 0.5102 - val_loss: 0.6931 - val_accuracy: 0.5070\n",
      "Epoch 9/100\n",
      "328/328 [==============================] - 1s 2ms/step - loss: 0.6932 - accuracy: 0.5052 - val_loss: 0.6931 - val_accuracy: 0.5072\n",
      "Epoch 10/100\n",
      "328/328 [==============================] - 1s 2ms/step - loss: 0.6932 - accuracy: 0.5051 - val_loss: 0.6931 - val_accuracy: 0.5070\n",
      "Epoch 11/100\n",
      "328/328 [==============================] - 1s 2ms/step - loss: 0.6928 - accuracy: 0.5137 - val_loss: 0.6930 - val_accuracy: 0.5075\n",
      "Epoch 12/100\n",
      "328/328 [==============================] - 1s 2ms/step - loss: 0.6929 - accuracy: 0.5123 - val_loss: 0.6931 - val_accuracy: 0.5072\n",
      "Epoch 13/100\n",
      "328/328 [==============================] - 1s 4ms/step - loss: 0.6931 - accuracy: 0.5083 - val_loss: 0.6931 - val_accuracy: 0.5070\n",
      "Epoch 14/100\n",
      "328/328 [==============================] - 1s 3ms/step - loss: 0.6932 - accuracy: 0.5056 - val_loss: 0.6931 - val_accuracy: 0.5070\n",
      "Epoch 15/100\n",
      "328/328 [==============================] - 1s 3ms/step - loss: 0.6929 - accuracy: 0.5131 - val_loss: 0.6931 - val_accuracy: 0.5070\n",
      "Restoring model weights from the end of the best epoch.\n",
      "Epoch 00015: early stopping\n"
     ]
    },
    {
     "data": {
      "text/plain": [
       "<tensorflow.python.keras.callbacks.History at 0x7f62b83df890>"
      ]
     },
     "execution_count": 102,
     "metadata": {},
     "output_type": "execute_result"
    }
   ],
   "source": [
    "#Fit model\n",
    "es = EarlyStopping(patience=10, restore_best_weights=True, verbose=1)  ## define the number of patience (retries before stopping the iteration epohcs) \n",
    "\n",
    "\n",
    "model_ml_2_5.fit(X_ml_2_5_train,                ## doing the fit on the train data\n",
    "          y_ml_2_5_train,                ## doing the fit on the train data\n",
    "          validation_split=0.3,   ## Validation set (here split the 30% of the train data)\n",
    "          epochs=100,             ## Number of epochs to iterate (the EarlyStopping should stop before arriving at the end if find optimum acu)\n",
    "          batch_size=32,          ## Number of batch size. Slice the data to adjust weights\n",
    "          callbacks = [es])       ## Calling EarlyStopping"
   ]
  },
  {
   "cell_type": "code",
   "execution_count": 103,
   "metadata": {},
   "outputs": [
    {
     "name": "stdout",
     "output_type": "stream",
     "text": [
      "201/201 [==============================] - 0s 2ms/step - loss: 0.6926 - accuracy: 0.5166\n"
     ]
    },
    {
     "data": {
      "text/plain": [
       "[0.692613422870636, 0.516606867313385]"
      ]
     },
     "execution_count": 103,
     "metadata": {},
     "output_type": "execute_result"
    }
   ],
   "source": [
    "#Evaluate the model\n",
    "model_ml_2_5.evaluate(X_ml_2_5_test, y_ml_2_5_test, verbose=1)  ## Evaluate the model with the test set"
   ]
  },
  {
   "cell_type": "markdown",
   "metadata": {},
   "source": [
    "## Modelling with Preprocessing (Scaling)"
   ]
  },
  {
   "cell_type": "markdown",
   "metadata": {},
   "source": [
    "### Predict Score (1 | N | 2)"
   ]
  },
  {
   "cell_type": "code",
   "execution_count": 113,
   "metadata": {},
   "outputs": [],
   "source": [
    "Xs_score = X_init"
   ]
  },
  {
   "cell_type": "code",
   "execution_count": 114,
   "metadata": {},
   "outputs": [],
   "source": [
    "# Instanciate Robust Scaler\n",
    "r_scaler = RobustScaler()\n",
    "\n",
    "# Fit scaler to feature\n",
    "r_scaler.fit(X_init)\n",
    "\n",
    "# Scale\n",
    "Xs_score = r_scaler.transform(Xs_score)"
   ]
  },
  {
   "cell_type": "code",
   "execution_count": 120,
   "metadata": {},
   "outputs": [
    {
     "data": {
      "text/plain": [
       "0    9810\n",
       "2    6166\n",
       "1    5398\n",
       "Name: score, dtype: int64"
      ]
     },
     "execution_count": 120,
     "metadata": {},
     "output_type": "execute_result"
    }
   ],
   "source": [
    "y.value_counts()"
   ]
  },
  {
   "cell_type": "code",
   "execution_count": 121,
   "metadata": {},
   "outputs": [],
   "source": [
    "Xs_score_train, Xs_score_test, y_score_train, y_score_test = train_test_split(Xs_score, y_score_cat, test_size=0.3, random_state=42)"
   ]
  },
  {
   "cell_type": "code",
   "execution_count": 122,
   "metadata": {},
   "outputs": [
    {
     "data": {
      "text/plain": [
       "((14961, 22), (6413, 22), (14961, 3), (6413, 3))"
      ]
     },
     "execution_count": 122,
     "metadata": {},
     "output_type": "execute_result"
    }
   ],
   "source": [
    "Xs_score_train.shape, Xs_score_test.shape, y_score_train.shape, y_score_test.shape"
   ]
  },
  {
   "cell_type": "code",
   "execution_count": 123,
   "metadata": {},
   "outputs": [],
   "source": [
    "#Init model\n",
    "\n",
    "model_s_score = Sequential()\n",
    "model_s_score.add(layers.Dense(5, activation='relu', input_dim=22)) # put the dimensions of X.shape for x1,x2,x3 \n",
    "model_s_score.add(layers.Dense(2, activation='relu')) # ReLU activation is the prefered default activation fonction\n",
    "model_s_score.add(layers.Dense(3, activation='softmax')) # Number of neurones correspond to the number of categorical values to classify"
   ]
  },
  {
   "cell_type": "code",
   "execution_count": 124,
   "metadata": {},
   "outputs": [],
   "source": [
    "#Compile model\n",
    "model_s_score.compile(loss='categorical_crossentropy',   # The loss is calculated with the categorical_crossentropy parameter\n",
    "              optimizer='adam',\n",
    "              metrics=['accuracy'])"
   ]
  },
  {
   "cell_type": "code",
   "execution_count": 126,
   "metadata": {},
   "outputs": [
    {
     "name": "stdout",
     "output_type": "stream",
     "text": [
      "Epoch 1/100\n",
      "655/655 [==============================] - 2s 2ms/step - loss: 1.0855 - accuracy: 0.4186 - val_loss: 1.0069 - val_accuracy: 0.5115\n",
      "Epoch 2/100\n",
      "655/655 [==============================] - 1s 2ms/step - loss: 0.9965 - accuracy: 0.5166 - val_loss: 0.9939 - val_accuracy: 0.5222\n",
      "Epoch 3/100\n",
      "655/655 [==============================] - 2s 3ms/step - loss: 0.9673 - accuracy: 0.5420 - val_loss: 0.9896 - val_accuracy: 0.5211\n",
      "Epoch 4/100\n",
      "655/655 [==============================] - 2s 2ms/step - loss: 0.9760 - accuracy: 0.5288 - val_loss: 0.9877 - val_accuracy: 0.5228\n",
      "Epoch 5/100\n",
      "655/655 [==============================] - 2s 2ms/step - loss: 0.9686 - accuracy: 0.5417 - val_loss: 0.9884 - val_accuracy: 0.5208\n",
      "Epoch 6/100\n",
      "655/655 [==============================] - 1s 2ms/step - loss: 0.9687 - accuracy: 0.5425 - val_loss: 0.9870 - val_accuracy: 0.5242\n",
      "Epoch 7/100\n",
      "655/655 [==============================] - 1s 2ms/step - loss: 0.9709 - accuracy: 0.5410 - val_loss: 0.9854 - val_accuracy: 0.5262\n",
      "Epoch 8/100\n",
      "655/655 [==============================] - 2s 3ms/step - loss: 0.9653 - accuracy: 0.5441 - val_loss: 0.9855 - val_accuracy: 0.5257\n",
      "Epoch 9/100\n",
      "655/655 [==============================] - 1s 2ms/step - loss: 0.9618 - accuracy: 0.5464 - val_loss: 0.9828 - val_accuracy: 0.5286\n",
      "Epoch 10/100\n",
      "655/655 [==============================] - 2s 2ms/step - loss: 0.9683 - accuracy: 0.5396 - val_loss: 0.9830 - val_accuracy: 0.5255\n",
      "Epoch 11/100\n",
      "655/655 [==============================] - 1s 2ms/step - loss: 0.9660 - accuracy: 0.5479 - val_loss: 0.9828 - val_accuracy: 0.5266\n",
      "Epoch 12/100\n",
      "655/655 [==============================] - 1s 2ms/step - loss: 0.9601 - accuracy: 0.5435 - val_loss: 0.9834 - val_accuracy: 0.5260\n",
      "Epoch 13/100\n",
      "655/655 [==============================] - 1s 2ms/step - loss: 0.9668 - accuracy: 0.5465 - val_loss: 0.9832 - val_accuracy: 0.5280\n",
      "Epoch 14/100\n",
      "655/655 [==============================] - 1s 2ms/step - loss: 0.9599 - accuracy: 0.5438 - val_loss: 0.9826 - val_accuracy: 0.5280\n",
      "Epoch 15/100\n",
      "655/655 [==============================] - 2s 2ms/step - loss: 0.9646 - accuracy: 0.5392 - val_loss: 0.9839 - val_accuracy: 0.5262\n",
      "Epoch 16/100\n",
      "655/655 [==============================] - 2s 2ms/step - loss: 0.9611 - accuracy: 0.5478 - val_loss: 0.9826 - val_accuracy: 0.5282\n",
      "Epoch 17/100\n",
      "655/655 [==============================] - 2s 2ms/step - loss: 0.9701 - accuracy: 0.5382 - val_loss: 0.9834 - val_accuracy: 0.5271\n",
      "Epoch 18/100\n",
      "655/655 [==============================] - 2s 3ms/step - loss: 0.9575 - accuracy: 0.5505 - val_loss: 0.9822 - val_accuracy: 0.5300\n",
      "Epoch 19/100\n",
      "655/655 [==============================] - 2s 2ms/step - loss: 0.9554 - accuracy: 0.5482 - val_loss: 0.9827 - val_accuracy: 0.5284\n",
      "Epoch 20/100\n",
      "655/655 [==============================] - 2s 3ms/step - loss: 0.9619 - accuracy: 0.5476 - val_loss: 0.9830 - val_accuracy: 0.5293\n",
      "Epoch 21/100\n",
      "655/655 [==============================] - 2s 2ms/step - loss: 0.9602 - accuracy: 0.5465 - val_loss: 0.9833 - val_accuracy: 0.5264\n",
      "Epoch 22/100\n",
      "655/655 [==============================] - 2s 3ms/step - loss: 0.9583 - accuracy: 0.5526 - val_loss: 0.9821 - val_accuracy: 0.5284\n",
      "Epoch 23/100\n",
      "655/655 [==============================] - 1s 2ms/step - loss: 0.9640 - accuracy: 0.5434 - val_loss: 0.9835 - val_accuracy: 0.5280\n",
      "Epoch 24/100\n",
      "655/655 [==============================] - 1s 2ms/step - loss: 0.9511 - accuracy: 0.5573 - val_loss: 0.9826 - val_accuracy: 0.5275\n",
      "Epoch 25/100\n",
      "655/655 [==============================] - 1s 2ms/step - loss: 0.9608 - accuracy: 0.5461 - val_loss: 0.9838 - val_accuracy: 0.5280\n",
      "Epoch 26/100\n",
      "655/655 [==============================] - 1s 2ms/step - loss: 0.9631 - accuracy: 0.5463 - val_loss: 0.9827 - val_accuracy: 0.5282\n",
      "Epoch 27/100\n",
      "655/655 [==============================] - 1s 2ms/step - loss: 0.9649 - accuracy: 0.5417 - val_loss: 0.9831 - val_accuracy: 0.5275\n",
      "Epoch 28/100\n",
      "655/655 [==============================] - 1s 2ms/step - loss: 0.9557 - accuracy: 0.5483 - val_loss: 0.9843 - val_accuracy: 0.5293\n",
      "Epoch 29/100\n",
      "655/655 [==============================] - 1s 2ms/step - loss: 0.9519 - accuracy: 0.5554 - val_loss: 0.9823 - val_accuracy: 0.5293\n",
      "Epoch 30/100\n",
      "655/655 [==============================] - 1s 2ms/step - loss: 0.9590 - accuracy: 0.5518 - val_loss: 0.9818 - val_accuracy: 0.5300\n",
      "Epoch 31/100\n",
      "655/655 [==============================] - 1s 2ms/step - loss: 0.9586 - accuracy: 0.5499 - val_loss: 0.9826 - val_accuracy: 0.5311\n",
      "Epoch 32/100\n",
      "655/655 [==============================] - 1s 2ms/step - loss: 0.9565 - accuracy: 0.5490 - val_loss: 0.9834 - val_accuracy: 0.5277\n",
      "Epoch 33/100\n",
      "655/655 [==============================] - 1s 2ms/step - loss: 0.9604 - accuracy: 0.5462 - val_loss: 0.9822 - val_accuracy: 0.5295\n",
      "Epoch 34/100\n",
      "655/655 [==============================] - 1s 2ms/step - loss: 0.9590 - accuracy: 0.5494 - val_loss: 0.9824 - val_accuracy: 0.5284\n",
      "Epoch 35/100\n",
      "655/655 [==============================] - 1s 2ms/step - loss: 0.9605 - accuracy: 0.5479 - val_loss: 0.9831 - val_accuracy: 0.5306\n",
      "Epoch 36/100\n",
      "655/655 [==============================] - 2s 3ms/step - loss: 0.9643 - accuracy: 0.5421 - val_loss: 0.9832 - val_accuracy: 0.5284\n",
      "Epoch 37/100\n",
      "655/655 [==============================] - 2s 3ms/step - loss: 0.9582 - accuracy: 0.5430 - val_loss: 0.9838 - val_accuracy: 0.5271\n",
      "Epoch 38/100\n",
      "655/655 [==============================] - 1s 2ms/step - loss: 0.9567 - accuracy: 0.5513 - val_loss: 0.9830 - val_accuracy: 0.5280\n",
      "Epoch 39/100\n",
      "655/655 [==============================] - 1s 2ms/step - loss: 0.9630 - accuracy: 0.5448 - val_loss: 0.9828 - val_accuracy: 0.5282\n",
      "Epoch 40/100\n",
      "655/655 [==============================] - 2s 3ms/step - loss: 0.9560 - accuracy: 0.5470 - val_loss: 0.9821 - val_accuracy: 0.5293\n",
      "Restoring model weights from the end of the best epoch.\n",
      "Epoch 00040: early stopping\n"
     ]
    },
    {
     "data": {
      "text/plain": [
       "<tensorflow.python.keras.callbacks.History at 0x7f62b8720e90>"
      ]
     },
     "execution_count": 126,
     "metadata": {},
     "output_type": "execute_result"
    }
   ],
   "source": [
    "#Fit model\n",
    "es = EarlyStopping(patience=10, restore_best_weights=True, verbose=1)  ## define the number of patience (retries before stopping the iteration epohcs) \n",
    "\n",
    "model_s_score.fit(Xs_score_train,                ## doing the fit on the train data\n",
    "          y_score_train,                ## doing the fit on the train data\n",
    "          validation_split=0.3,   ## Validation set (here split the 30% of the train data)\n",
    "          epochs=100,             ## Number of epochs to iterate (the EarlyStopping should stop before arriving at the end if find optimum acu)\n",
    "          batch_size=16,          ## Number of batch size. Slice the data to adjust weights\n",
    "          callbacks = [es])       ## Calling EarlyStopping"
   ]
  },
  {
   "cell_type": "code",
   "execution_count": 127,
   "metadata": {},
   "outputs": [
    {
     "name": "stdout",
     "output_type": "stream",
     "text": [
      "201/201 [==============================] - 0s 2ms/step - loss: 0.9745 - accuracy: 0.5252\n"
     ]
    },
    {
     "data": {
      "text/plain": [
       "[0.9744535088539124, 0.5251832008361816]"
      ]
     },
     "execution_count": 127,
     "metadata": {},
     "output_type": "execute_result"
    }
   ],
   "source": [
    "#Evaluate the model\n",
    "model_s_score.evaluate(Xs_score_test, y_score_test, verbose=1)  ## Evaluate the model with the test set"
   ]
  },
  {
   "cell_type": "markdown",
   "metadata": {},
   "source": [
    "### Predict More/Less 1.5 Goals"
   ]
  },
  {
   "cell_type": "code",
   "execution_count": 128,
   "metadata": {},
   "outputs": [],
   "source": [
    "Xs_ml_1_5 = X_init"
   ]
  },
  {
   "cell_type": "code",
   "execution_count": 129,
   "metadata": {},
   "outputs": [],
   "source": [
    "y_ml_1_5 = match_df[\"more_less_1.5_goals\"] "
   ]
  },
  {
   "cell_type": "code",
   "execution_count": 130,
   "metadata": {},
   "outputs": [
    {
     "data": {
      "text/plain": [
       "1    16147\n",
       "0     5227\n",
       "Name: more_less_1.5_goals, dtype: int64"
      ]
     },
     "execution_count": 130,
     "metadata": {},
     "output_type": "execute_result"
    }
   ],
   "source": [
    "y_ml_1_5.value_counts()"
   ]
  },
  {
   "cell_type": "code",
   "execution_count": 131,
   "metadata": {},
   "outputs": [],
   "source": [
    "Xs_ml_1_5_train, Xs_ml_1_5_test, y_ml_1_5_train, y_ml_1_5_test = train_test_split(Xs_ml_1_5, y_ml_1_5, test_size=0.3, random_state=42)"
   ]
  },
  {
   "cell_type": "code",
   "execution_count": 132,
   "metadata": {},
   "outputs": [
    {
     "data": {
      "text/plain": [
       "((14961, 22), (6413, 22), (14961,), (6413,))"
      ]
     },
     "execution_count": 132,
     "metadata": {},
     "output_type": "execute_result"
    }
   ],
   "source": [
    "Xs_ml_1_5_train.shape, Xs_ml_1_5_test.shape, y_ml_1_5_train.shape, y_ml_1_5_test.shape"
   ]
  },
  {
   "cell_type": "code",
   "execution_count": 133,
   "metadata": {},
   "outputs": [],
   "source": [
    "#Init model\n",
    "\n",
    "model_s_ml_1_5 = Sequential()\n",
    "model_s_ml_1_5.add(layers.Dense(5, activation='relu', input_dim=22)) # put the dimensions of X.shape for x1,x2,x3 \n",
    "model_s_ml_1_5.add(layers.Dense(2, activation='relu')) # ReLU activation is the prefered default activation fonction\n",
    "model_s_ml_1_5.add(layers.Dense(1, activation='sigmoid')) # Number of neurones correspond to the number of categorical values to classify"
   ]
  },
  {
   "cell_type": "code",
   "execution_count": 134,
   "metadata": {},
   "outputs": [],
   "source": [
    "#Compile model\n",
    "model_s_ml_1_5.compile(loss='binary_crossentropy',   # The loss is calculated with the categorical_crossentropy parameter\n",
    "              optimizer='adam',\n",
    "              metrics=['accuracy'])"
   ]
  },
  {
   "cell_type": "code",
   "execution_count": 135,
   "metadata": {},
   "outputs": [
    {
     "name": "stdout",
     "output_type": "stream",
     "text": [
      "Epoch 1/100\n",
      "655/655 [==============================] - 2s 2ms/step - loss: 0.6621 - accuracy: 0.7475 - val_loss: 0.5994 - val_accuracy: 0.7463\n",
      "Epoch 2/100\n",
      "655/655 [==============================] - 2s 3ms/step - loss: 0.5813 - accuracy: 0.7609 - val_loss: 0.5725 - val_accuracy: 0.7463\n",
      "Epoch 3/100\n",
      "655/655 [==============================] - 2s 2ms/step - loss: 0.5580 - accuracy: 0.7602 - val_loss: 0.5670 - val_accuracy: 0.7463\n",
      "Epoch 4/100\n",
      "655/655 [==============================] - 2s 2ms/step - loss: 0.5478 - accuracy: 0.7646 - val_loss: 0.5664 - val_accuracy: 0.7463\n",
      "Epoch 5/100\n",
      "655/655 [==============================] - 1s 2ms/step - loss: 0.5557 - accuracy: 0.7561 - val_loss: 0.5665 - val_accuracy: 0.7463\n",
      "Epoch 6/100\n",
      "655/655 [==============================] - 2s 3ms/step - loss: 0.5562 - accuracy: 0.7555 - val_loss: 0.5666 - val_accuracy: 0.7463\n",
      "Epoch 7/100\n",
      "655/655 [==============================] - 2s 2ms/step - loss: 0.5516 - accuracy: 0.7596 - val_loss: 0.5667 - val_accuracy: 0.7463\n",
      "Epoch 8/100\n",
      "655/655 [==============================] - 2s 2ms/step - loss: 0.5570 - accuracy: 0.7549 - val_loss: 0.5667 - val_accuracy: 0.7463\n",
      "Epoch 9/100\n",
      "655/655 [==============================] - 2s 2ms/step - loss: 0.5486 - accuracy: 0.7622 - val_loss: 0.5667 - val_accuracy: 0.7463\n",
      "Epoch 10/100\n",
      "655/655 [==============================] - 2s 2ms/step - loss: 0.5493 - accuracy: 0.7616 - val_loss: 0.5668 - val_accuracy: 0.7463\n",
      "Epoch 11/100\n",
      "655/655 [==============================] - 1s 2ms/step - loss: 0.5566 - accuracy: 0.7552 - val_loss: 0.5667 - val_accuracy: 0.7463\n",
      "Epoch 12/100\n",
      "655/655 [==============================] - 1s 2ms/step - loss: 0.5470 - accuracy: 0.7636 - val_loss: 0.5667 - val_accuracy: 0.7463\n",
      "Epoch 13/100\n",
      "655/655 [==============================] - 2s 2ms/step - loss: 0.5572 - accuracy: 0.7547 - val_loss: 0.5667 - val_accuracy: 0.7463\n",
      "Epoch 14/100\n",
      "655/655 [==============================] - 2s 3ms/step - loss: 0.5530 - accuracy: 0.7583 - val_loss: 0.5667 - val_accuracy: 0.7463\n",
      "Restoring model weights from the end of the best epoch.\n",
      "Epoch 00014: early stopping\n"
     ]
    },
    {
     "data": {
      "text/plain": [
       "<tensorflow.python.keras.callbacks.History at 0x7f62b8843610>"
      ]
     },
     "execution_count": 135,
     "metadata": {},
     "output_type": "execute_result"
    }
   ],
   "source": [
    "#Fit model\n",
    "es = EarlyStopping(patience=10, restore_best_weights=True, verbose=1)  ## define the number of patience (retries before stopping the iteration epohcs) \n",
    "\n",
    "model_s_ml_1_5.fit(Xs_ml_1_5_train,                ## doing the fit on the train data\n",
    "          y_ml_1_5_train,                ## doing the fit on the train data\n",
    "          validation_split=0.3,   ## Validation set (here split the 30% of the train data)\n",
    "          epochs=100,             ## Number of epochs to iterate (the EarlyStopping should stop before arriving at the end if find optimum acu)\n",
    "          batch_size=16,          ## Number of batch size. Slice the data to adjust weights\n",
    "          callbacks = [es])       ## Calling EarlyStopping"
   ]
  },
  {
   "cell_type": "code",
   "execution_count": 136,
   "metadata": {},
   "outputs": [
    {
     "name": "stdout",
     "output_type": "stream",
     "text": [
      "201/201 [==============================] - 0s 2ms/step - loss: 0.5532 - accuracy: 0.7585\n"
     ]
    },
    {
     "data": {
      "text/plain": [
       "[0.5532316565513611, 0.7584593892097473]"
      ]
     },
     "execution_count": 136,
     "metadata": {},
     "output_type": "execute_result"
    }
   ],
   "source": [
    "#Evaluate the model\n",
    "model_s_ml_1_5.evaluate(Xs_ml_1_5_test, y_ml_1_5_test, verbose=1)  ## Evaluate the model with the test set"
   ]
  },
  {
   "cell_type": "markdown",
   "metadata": {},
   "source": [
    "### Predict More/Less 2.5 Goals"
   ]
  },
  {
   "cell_type": "code",
   "execution_count": 137,
   "metadata": {},
   "outputs": [],
   "source": [
    "Xs_ml_2_5 = X_init"
   ]
  },
  {
   "cell_type": "code",
   "execution_count": 138,
   "metadata": {},
   "outputs": [],
   "source": [
    "y_ml_2_5 = match_df[\"more_less_2.5_goals\"] "
   ]
  },
  {
   "cell_type": "code",
   "execution_count": 142,
   "metadata": {},
   "outputs": [
    {
     "data": {
      "text/plain": [
       "1    10953\n",
       "0    10421\n",
       "Name: more_less_2.5_goals, dtype: int64"
      ]
     },
     "execution_count": 142,
     "metadata": {},
     "output_type": "execute_result"
    }
   ],
   "source": [
    "y_ml_2_5.value_counts()"
   ]
  },
  {
   "cell_type": "code",
   "execution_count": 143,
   "metadata": {},
   "outputs": [],
   "source": [
    "Xs_ml_2_5_train, Xs_ml_2_5_test, y_ml_2_5_train, y_ml_1_5_test = train_test_split(Xs_ml_2_5, y_ml_2_5, test_size=0.3, random_state=42)"
   ]
  },
  {
   "cell_type": "code",
   "execution_count": 144,
   "metadata": {},
   "outputs": [
    {
     "data": {
      "text/plain": [
       "((14961, 22), (6413, 22), (14961,), (6413,))"
      ]
     },
     "execution_count": 144,
     "metadata": {},
     "output_type": "execute_result"
    }
   ],
   "source": [
    "Xs_ml_2_5_train.shape, Xs_ml_2_5_test.shape, y_ml_2_5_train.shape, y_ml_2_5_test.shape"
   ]
  },
  {
   "cell_type": "code",
   "execution_count": 145,
   "metadata": {},
   "outputs": [],
   "source": [
    "#Init model\n",
    "\n",
    "model_s_ml_2_5 = Sequential()\n",
    "model_s_ml_2_5.add(layers.Dense(5, activation='relu', input_dim=22)) # put the dimensions of X.shape for x1,x2,x3 \n",
    "model_s_ml_2_5.add(layers.Dense(2, activation='relu')) # ReLU activation is the prefered default activation fonction\n",
    "model_s_ml_2_5.add(layers.Dense(1, activation='sigmoid')) # Number of neurones correspond to the number of categorical values to classify"
   ]
  },
  {
   "cell_type": "code",
   "execution_count": 146,
   "metadata": {},
   "outputs": [],
   "source": [
    "#Compile model\n",
    "model_s_ml_2_5.compile(loss='binary_crossentropy',   # The loss is calculated with the categorical_crossentropy parameter\n",
    "              optimizer='adam',\n",
    "              metrics=['accuracy'])"
   ]
  },
  {
   "cell_type": "code",
   "execution_count": 147,
   "metadata": {},
   "outputs": [
    {
     "name": "stdout",
     "output_type": "stream",
     "text": [
      "Epoch 1/100\n",
      "655/655 [==============================] - 2s 2ms/step - loss: 2.5686 - accuracy: 0.5017 - val_loss: 0.6928 - val_accuracy: 0.5070\n",
      "Epoch 2/100\n",
      "655/655 [==============================] - 2s 3ms/step - loss: 0.6933 - accuracy: 0.5004 - val_loss: 0.6930 - val_accuracy: 0.5070\n",
      "Epoch 3/100\n",
      "655/655 [==============================] - 2s 2ms/step - loss: 0.6930 - accuracy: 0.5091 - val_loss: 0.6931 - val_accuracy: 0.5070\n",
      "Epoch 4/100\n",
      "655/655 [==============================] - 1s 2ms/step - loss: 0.6932 - accuracy: 0.5044 - val_loss: 0.6931 - val_accuracy: 0.5070\n",
      "Epoch 5/100\n",
      "655/655 [==============================] - 1s 2ms/step - loss: 0.6927 - accuracy: 0.5134 - val_loss: 0.6931 - val_accuracy: 0.5070\n",
      "Epoch 6/100\n",
      "655/655 [==============================] - 2s 3ms/step - loss: 0.6928 - accuracy: 0.5131 - val_loss: 0.6931 - val_accuracy: 0.5070\n",
      "Epoch 7/100\n",
      "655/655 [==============================] - 2s 2ms/step - loss: 0.6934 - accuracy: 0.4998 - val_loss: 0.6931 - val_accuracy: 0.5070\n",
      "Epoch 8/100\n",
      "655/655 [==============================] - 2s 3ms/step - loss: 0.6928 - accuracy: 0.5144 - val_loss: 0.6931 - val_accuracy: 0.5070\n",
      "Epoch 9/100\n",
      "655/655 [==============================] - 2s 2ms/step - loss: 0.6931 - accuracy: 0.5078 - val_loss: 0.6931 - val_accuracy: 0.5070\n",
      "Epoch 10/100\n",
      "655/655 [==============================] - 2s 3ms/step - loss: 0.6928 - accuracy: 0.5148 - val_loss: 0.6931 - val_accuracy: 0.5070\n",
      "Epoch 11/100\n",
      "655/655 [==============================] - 2s 3ms/step - loss: 0.6928 - accuracy: 0.5144 - val_loss: 0.6931 - val_accuracy: 0.5070\n",
      "Restoring model weights from the end of the best epoch.\n",
      "Epoch 00011: early stopping\n"
     ]
    },
    {
     "data": {
      "text/plain": [
       "<tensorflow.python.keras.callbacks.History at 0x7f62b89f5950>"
      ]
     },
     "execution_count": 147,
     "metadata": {},
     "output_type": "execute_result"
    }
   ],
   "source": [
    "#Fit model\n",
    "es = EarlyStopping(patience=10, restore_best_weights=True, verbose=1)  ## define the number of patience (retries before stopping the iteration epohcs) \n",
    "\n",
    "model_s_ml_2_5.fit(Xs_ml_2_5_train,                ## doing the fit on the train data\n",
    "          y_ml_2_5_train,                ## doing the fit on the train data\n",
    "          validation_split=0.3,   ## Validation set (here split the 30% of the train data)\n",
    "          epochs=100,             ## Number of epochs to iterate (the EarlyStopping should stop before arriving at the end if find optimum acu)\n",
    "          batch_size=16,          ## Number of batch size. Slice the data to adjust weights\n",
    "          callbacks = [es])       ## Calling EarlyStopping"
   ]
  },
  {
   "cell_type": "code",
   "execution_count": 148,
   "metadata": {},
   "outputs": [
    {
     "name": "stdout",
     "output_type": "stream",
     "text": [
      "201/201 [==============================] - 0s 1ms/step - loss: 0.6929 - accuracy: 0.5166\n"
     ]
    },
    {
     "data": {
      "text/plain": [
       "[0.6929056644439697, 0.516606867313385]"
      ]
     },
     "execution_count": 148,
     "metadata": {},
     "output_type": "execute_result"
    }
   ],
   "source": [
    "#Evaluate the model\n",
    "model_s_ml_2_5.evaluate(Xs_ml_2_5_test, y_ml_2_5_test, verbose=1)  ## Evaluate the model with the test set"
   ]
  },
  {
   "cell_type": "code",
   "execution_count": null,
   "metadata": {},
   "outputs": [],
   "source": []
  }
 ],
 "metadata": {
  "kernelspec": {
   "display_name": "Python 3",
   "language": "python",
   "name": "python3"
  },
  "language_info": {
   "codemirror_mode": {
    "name": "ipython",
    "version": 3
   },
   "file_extension": ".py",
   "mimetype": "text/x-python",
   "name": "python",
   "nbconvert_exporter": "python",
   "pygments_lexer": "ipython3",
   "version": "3.7.7"
  }
 },
 "nbformat": 4,
 "nbformat_minor": 4
}

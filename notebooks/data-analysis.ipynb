{
 "cells": [
  {
   "cell_type": "markdown",
   "metadata": {},
   "source": [
    "# Football Match Analysis"
   ]
  },
  {
   "cell_type": "markdown",
   "metadata": {},
   "source": [
    "## Importing Python Libraries"
   ]
  },
  {
   "cell_type": "code",
   "execution_count": 76,
   "metadata": {},
   "outputs": [],
   "source": [
    "import numpy as np\n",
    "import pandas as pd\n",
    "import sqlite3"
   ]
  },
  {
   "cell_type": "markdown",
   "metadata": {},
   "source": [
    "## Importing SQLite Data"
   ]
  },
  {
   "cell_type": "markdown",
   "metadata": {},
   "source": [
    "### Create DB connection"
   ]
  },
  {
   "cell_type": "code",
   "execution_count": 77,
   "metadata": {},
   "outputs": [],
   "source": [
    "cnx = sqlite3.connect('../data/database.sqlite')"
   ]
  },
  {
   "cell_type": "markdown",
   "metadata": {},
   "source": [
    "### Store *Match* Table into ```match_df``` variable"
   ]
  },
  {
   "cell_type": "code",
   "execution_count": 78,
   "metadata": {},
   "outputs": [],
   "source": [
    "match_df = pd.read_sql_query(\"SELECT * FROM Match\", cnx)"
   ]
  },
  {
   "cell_type": "code",
   "execution_count": 79,
   "metadata": {},
   "outputs": [
    {
     "output_type": "execute_result",
     "data": {
      "text/plain": [
       "   id  country_id  league_id     season  stage                 date  \\\n",
       "0   1           1          1  2008/2009      1  2008-08-17 00:00:00   \n",
       "1   2           1          1  2008/2009      1  2008-08-16 00:00:00   \n",
       "2   3           1          1  2008/2009      1  2008-08-16 00:00:00   \n",
       "3   4           1          1  2008/2009      1  2008-08-17 00:00:00   \n",
       "4   5           1          1  2008/2009      1  2008-08-16 00:00:00   \n",
       "\n",
       "   match_api_id  home_team_api_id  away_team_api_id  home_team_goal  ...  \\\n",
       "0        492473              9987              9993               1  ...   \n",
       "1        492474             10000              9994               0  ...   \n",
       "2        492475              9984              8635               0  ...   \n",
       "3        492476              9991              9998               5  ...   \n",
       "4        492477              7947              9985               1  ...   \n",
       "\n",
       "    SJA   VCH   VCD   VCA   GBH   GBD   GBA   BSH   BSD   BSA  \n",
       "0  4.00  1.65  3.40  4.50  1.78  3.25  4.00  1.73  3.40  4.20  \n",
       "1  3.80  2.00  3.25  3.25  1.85  3.25  3.75  1.91  3.25  3.60  \n",
       "2  2.50  2.35  3.25  2.65  2.50  3.20  2.50  2.30  3.20  2.75  \n",
       "3  7.50  1.45  3.75  6.50  1.50  3.75  5.50  1.44  3.75  6.50  \n",
       "4  1.73  4.50  3.40  1.65  4.50  3.50  1.65  4.75  3.30  1.67  \n",
       "\n",
       "[5 rows x 115 columns]"
      ],
      "text/html": "<div>\n<style scoped>\n    .dataframe tbody tr th:only-of-type {\n        vertical-align: middle;\n    }\n\n    .dataframe tbody tr th {\n        vertical-align: top;\n    }\n\n    .dataframe thead th {\n        text-align: right;\n    }\n</style>\n<table border=\"1\" class=\"dataframe\">\n  <thead>\n    <tr style=\"text-align: right;\">\n      <th></th>\n      <th>id</th>\n      <th>country_id</th>\n      <th>league_id</th>\n      <th>season</th>\n      <th>stage</th>\n      <th>date</th>\n      <th>match_api_id</th>\n      <th>home_team_api_id</th>\n      <th>away_team_api_id</th>\n      <th>home_team_goal</th>\n      <th>...</th>\n      <th>SJA</th>\n      <th>VCH</th>\n      <th>VCD</th>\n      <th>VCA</th>\n      <th>GBH</th>\n      <th>GBD</th>\n      <th>GBA</th>\n      <th>BSH</th>\n      <th>BSD</th>\n      <th>BSA</th>\n    </tr>\n  </thead>\n  <tbody>\n    <tr>\n      <th>0</th>\n      <td>1</td>\n      <td>1</td>\n      <td>1</td>\n      <td>2008/2009</td>\n      <td>1</td>\n      <td>2008-08-17 00:00:00</td>\n      <td>492473</td>\n      <td>9987</td>\n      <td>9993</td>\n      <td>1</td>\n      <td>...</td>\n      <td>4.00</td>\n      <td>1.65</td>\n      <td>3.40</td>\n      <td>4.50</td>\n      <td>1.78</td>\n      <td>3.25</td>\n      <td>4.00</td>\n      <td>1.73</td>\n      <td>3.40</td>\n      <td>4.20</td>\n    </tr>\n    <tr>\n      <th>1</th>\n      <td>2</td>\n      <td>1</td>\n      <td>1</td>\n      <td>2008/2009</td>\n      <td>1</td>\n      <td>2008-08-16 00:00:00</td>\n      <td>492474</td>\n      <td>10000</td>\n      <td>9994</td>\n      <td>0</td>\n      <td>...</td>\n      <td>3.80</td>\n      <td>2.00</td>\n      <td>3.25</td>\n      <td>3.25</td>\n      <td>1.85</td>\n      <td>3.25</td>\n      <td>3.75</td>\n      <td>1.91</td>\n      <td>3.25</td>\n      <td>3.60</td>\n    </tr>\n    <tr>\n      <th>2</th>\n      <td>3</td>\n      <td>1</td>\n      <td>1</td>\n      <td>2008/2009</td>\n      <td>1</td>\n      <td>2008-08-16 00:00:00</td>\n      <td>492475</td>\n      <td>9984</td>\n      <td>8635</td>\n      <td>0</td>\n      <td>...</td>\n      <td>2.50</td>\n      <td>2.35</td>\n      <td>3.25</td>\n      <td>2.65</td>\n      <td>2.50</td>\n      <td>3.20</td>\n      <td>2.50</td>\n      <td>2.30</td>\n      <td>3.20</td>\n      <td>2.75</td>\n    </tr>\n    <tr>\n      <th>3</th>\n      <td>4</td>\n      <td>1</td>\n      <td>1</td>\n      <td>2008/2009</td>\n      <td>1</td>\n      <td>2008-08-17 00:00:00</td>\n      <td>492476</td>\n      <td>9991</td>\n      <td>9998</td>\n      <td>5</td>\n      <td>...</td>\n      <td>7.50</td>\n      <td>1.45</td>\n      <td>3.75</td>\n      <td>6.50</td>\n      <td>1.50</td>\n      <td>3.75</td>\n      <td>5.50</td>\n      <td>1.44</td>\n      <td>3.75</td>\n      <td>6.50</td>\n    </tr>\n    <tr>\n      <th>4</th>\n      <td>5</td>\n      <td>1</td>\n      <td>1</td>\n      <td>2008/2009</td>\n      <td>1</td>\n      <td>2008-08-16 00:00:00</td>\n      <td>492477</td>\n      <td>7947</td>\n      <td>9985</td>\n      <td>1</td>\n      <td>...</td>\n      <td>1.73</td>\n      <td>4.50</td>\n      <td>3.40</td>\n      <td>1.65</td>\n      <td>4.50</td>\n      <td>3.50</td>\n      <td>1.65</td>\n      <td>4.75</td>\n      <td>3.30</td>\n      <td>1.67</td>\n    </tr>\n  </tbody>\n</table>\n<p>5 rows × 115 columns</p>\n</div>"
     },
     "metadata": {},
     "execution_count": 79
    }
   ],
   "source": [
    "match_df.head()"
   ]
  },
  {
   "cell_type": "code",
   "execution_count": 80,
   "metadata": {},
   "outputs": [
    {
     "output_type": "execute_result",
     "data": {
      "text/plain": [
       "(25979, 115)"
      ]
     },
     "metadata": {},
     "execution_count": 80
    }
   ],
   "source": [
    "match_df.shape"
   ]
  },
  {
   "cell_type": "code",
   "execution_count": 81,
   "metadata": {},
   "outputs": [
    {
     "output_type": "stream",
     "name": "stdout",
     "text": [
      "<class 'pandas.core.frame.DataFrame'>\nRangeIndex: 25979 entries, 0 to 25978\nColumns: 115 entries, id to BSA\ndtypes: float64(96), int64(9), object(10)\nmemory usage: 22.8+ MB\n"
     ]
    }
   ],
   "source": [
    "match_df.info()"
   ]
  },
  {
   "cell_type": "code",
   "execution_count": 82,
   "metadata": {},
   "outputs": [
    {
     "output_type": "execute_result",
     "data": {
      "text/plain": [
       "                 id    country_id     league_id         stage  match_api_id  \\\n",
       "count  25979.000000  25979.000000  25979.000000  25979.000000  2.597900e+04   \n",
       "mean   12990.000000  11738.630317  11738.630317     18.242773  1.195429e+06   \n",
       "std     7499.635658   7553.936759   7553.936759     10.407354  4.946279e+05   \n",
       "min        1.000000      1.000000      1.000000      1.000000  4.831290e+05   \n",
       "25%     6495.500000   4769.000000   4769.000000      9.000000  7.684365e+05   \n",
       "50%    12990.000000  10257.000000  10257.000000     18.000000  1.147511e+06   \n",
       "75%    19484.500000  17642.000000  17642.000000     27.000000  1.709852e+06   \n",
       "max    25979.000000  24558.000000  24558.000000     38.000000  2.216672e+06   \n",
       "\n",
       "       home_team_api_id  away_team_api_id  home_team_goal  away_team_goal  \\\n",
       "count      25979.000000      25979.000000    25979.000000    25979.000000   \n",
       "mean        9984.371993       9984.475115        1.544594        1.160938   \n",
       "std        14087.453758      14087.445135        1.297158        1.142110   \n",
       "min         1601.000000       1601.000000        0.000000        0.000000   \n",
       "25%         8475.000000       8475.000000        1.000000        0.000000   \n",
       "50%         8697.000000       8697.000000        1.000000        1.000000   \n",
       "75%         9925.000000       9925.000000        2.000000        2.000000   \n",
       "max       274581.000000     274581.000000       10.000000        9.000000   \n",
       "\n",
       "       home_player_X1  ...           SJA           VCH           VCD  \\\n",
       "count    24158.000000  ...  17097.000000  22568.000000  22568.000000   \n",
       "mean         0.999586  ...      4.622343      2.668107      3.899048   \n",
       "std          0.022284  ...      3.632164      1.928753      1.248221   \n",
       "min          0.000000  ...      1.100000      1.030000      1.620000   \n",
       "25%          1.000000  ...      2.500000      1.700000      3.300000   \n",
       "50%          1.000000  ...      3.500000      2.150000      3.500000   \n",
       "75%          1.000000  ...      5.250000      2.800000      4.000000   \n",
       "max          2.000000  ...     41.000000     36.000000     26.000000   \n",
       "\n",
       "                VCA           GBH           GBD           GBA           BSH  \\\n",
       "count  22568.000000  14162.000000  14162.000000  14162.000000  14161.000000   \n",
       "mean       4.840281      2.498764      3.648189      4.353097      2.497894   \n",
       "std        4.318338      1.489299      0.867440      3.010189      1.507793   \n",
       "min        1.080000      1.050000      1.450000      1.120000      1.040000   \n",
       "25%        2.550000      1.670000      3.200000      2.500000      1.670000   \n",
       "50%        3.500000      2.100000      3.300000      3.400000      2.100000   \n",
       "75%        5.400000      2.650000      3.750000      5.000000      2.620000   \n",
       "max       67.000000     21.000000     11.000000     34.000000     17.000000   \n",
       "\n",
       "                BSD           BSA  \n",
       "count  14161.000000  14161.000000  \n",
       "mean       3.660742      4.405663  \n",
       "std        0.868272      3.189814  \n",
       "min        1.330000      1.120000  \n",
       "25%        3.250000      2.500000  \n",
       "50%        3.400000      3.400000  \n",
       "75%        3.750000      5.000000  \n",
       "max       13.000000     34.000000  \n",
       "\n",
       "[8 rows x 105 columns]"
      ],
      "text/html": "<div>\n<style scoped>\n    .dataframe tbody tr th:only-of-type {\n        vertical-align: middle;\n    }\n\n    .dataframe tbody tr th {\n        vertical-align: top;\n    }\n\n    .dataframe thead th {\n        text-align: right;\n    }\n</style>\n<table border=\"1\" class=\"dataframe\">\n  <thead>\n    <tr style=\"text-align: right;\">\n      <th></th>\n      <th>id</th>\n      <th>country_id</th>\n      <th>league_id</th>\n      <th>stage</th>\n      <th>match_api_id</th>\n      <th>home_team_api_id</th>\n      <th>away_team_api_id</th>\n      <th>home_team_goal</th>\n      <th>away_team_goal</th>\n      <th>home_player_X1</th>\n      <th>...</th>\n      <th>SJA</th>\n      <th>VCH</th>\n      <th>VCD</th>\n      <th>VCA</th>\n      <th>GBH</th>\n      <th>GBD</th>\n      <th>GBA</th>\n      <th>BSH</th>\n      <th>BSD</th>\n      <th>BSA</th>\n    </tr>\n  </thead>\n  <tbody>\n    <tr>\n      <th>count</th>\n      <td>25979.000000</td>\n      <td>25979.000000</td>\n      <td>25979.000000</td>\n      <td>25979.000000</td>\n      <td>2.597900e+04</td>\n      <td>25979.000000</td>\n      <td>25979.000000</td>\n      <td>25979.000000</td>\n      <td>25979.000000</td>\n      <td>24158.000000</td>\n      <td>...</td>\n      <td>17097.000000</td>\n      <td>22568.000000</td>\n      <td>22568.000000</td>\n      <td>22568.000000</td>\n      <td>14162.000000</td>\n      <td>14162.000000</td>\n      <td>14162.000000</td>\n      <td>14161.000000</td>\n      <td>14161.000000</td>\n      <td>14161.000000</td>\n    </tr>\n    <tr>\n      <th>mean</th>\n      <td>12990.000000</td>\n      <td>11738.630317</td>\n      <td>11738.630317</td>\n      <td>18.242773</td>\n      <td>1.195429e+06</td>\n      <td>9984.371993</td>\n      <td>9984.475115</td>\n      <td>1.544594</td>\n      <td>1.160938</td>\n      <td>0.999586</td>\n      <td>...</td>\n      <td>4.622343</td>\n      <td>2.668107</td>\n      <td>3.899048</td>\n      <td>4.840281</td>\n      <td>2.498764</td>\n      <td>3.648189</td>\n      <td>4.353097</td>\n      <td>2.497894</td>\n      <td>3.660742</td>\n      <td>4.405663</td>\n    </tr>\n    <tr>\n      <th>std</th>\n      <td>7499.635658</td>\n      <td>7553.936759</td>\n      <td>7553.936759</td>\n      <td>10.407354</td>\n      <td>4.946279e+05</td>\n      <td>14087.453758</td>\n      <td>14087.445135</td>\n      <td>1.297158</td>\n      <td>1.142110</td>\n      <td>0.022284</td>\n      <td>...</td>\n      <td>3.632164</td>\n      <td>1.928753</td>\n      <td>1.248221</td>\n      <td>4.318338</td>\n      <td>1.489299</td>\n      <td>0.867440</td>\n      <td>3.010189</td>\n      <td>1.507793</td>\n      <td>0.868272</td>\n      <td>3.189814</td>\n    </tr>\n    <tr>\n      <th>min</th>\n      <td>1.000000</td>\n      <td>1.000000</td>\n      <td>1.000000</td>\n      <td>1.000000</td>\n      <td>4.831290e+05</td>\n      <td>1601.000000</td>\n      <td>1601.000000</td>\n      <td>0.000000</td>\n      <td>0.000000</td>\n      <td>0.000000</td>\n      <td>...</td>\n      <td>1.100000</td>\n      <td>1.030000</td>\n      <td>1.620000</td>\n      <td>1.080000</td>\n      <td>1.050000</td>\n      <td>1.450000</td>\n      <td>1.120000</td>\n      <td>1.040000</td>\n      <td>1.330000</td>\n      <td>1.120000</td>\n    </tr>\n    <tr>\n      <th>25%</th>\n      <td>6495.500000</td>\n      <td>4769.000000</td>\n      <td>4769.000000</td>\n      <td>9.000000</td>\n      <td>7.684365e+05</td>\n      <td>8475.000000</td>\n      <td>8475.000000</td>\n      <td>1.000000</td>\n      <td>0.000000</td>\n      <td>1.000000</td>\n      <td>...</td>\n      <td>2.500000</td>\n      <td>1.700000</td>\n      <td>3.300000</td>\n      <td>2.550000</td>\n      <td>1.670000</td>\n      <td>3.200000</td>\n      <td>2.500000</td>\n      <td>1.670000</td>\n      <td>3.250000</td>\n      <td>2.500000</td>\n    </tr>\n    <tr>\n      <th>50%</th>\n      <td>12990.000000</td>\n      <td>10257.000000</td>\n      <td>10257.000000</td>\n      <td>18.000000</td>\n      <td>1.147511e+06</td>\n      <td>8697.000000</td>\n      <td>8697.000000</td>\n      <td>1.000000</td>\n      <td>1.000000</td>\n      <td>1.000000</td>\n      <td>...</td>\n      <td>3.500000</td>\n      <td>2.150000</td>\n      <td>3.500000</td>\n      <td>3.500000</td>\n      <td>2.100000</td>\n      <td>3.300000</td>\n      <td>3.400000</td>\n      <td>2.100000</td>\n      <td>3.400000</td>\n      <td>3.400000</td>\n    </tr>\n    <tr>\n      <th>75%</th>\n      <td>19484.500000</td>\n      <td>17642.000000</td>\n      <td>17642.000000</td>\n      <td>27.000000</td>\n      <td>1.709852e+06</td>\n      <td>9925.000000</td>\n      <td>9925.000000</td>\n      <td>2.000000</td>\n      <td>2.000000</td>\n      <td>1.000000</td>\n      <td>...</td>\n      <td>5.250000</td>\n      <td>2.800000</td>\n      <td>4.000000</td>\n      <td>5.400000</td>\n      <td>2.650000</td>\n      <td>3.750000</td>\n      <td>5.000000</td>\n      <td>2.620000</td>\n      <td>3.750000</td>\n      <td>5.000000</td>\n    </tr>\n    <tr>\n      <th>max</th>\n      <td>25979.000000</td>\n      <td>24558.000000</td>\n      <td>24558.000000</td>\n      <td>38.000000</td>\n      <td>2.216672e+06</td>\n      <td>274581.000000</td>\n      <td>274581.000000</td>\n      <td>10.000000</td>\n      <td>9.000000</td>\n      <td>2.000000</td>\n      <td>...</td>\n      <td>41.000000</td>\n      <td>36.000000</td>\n      <td>26.000000</td>\n      <td>67.000000</td>\n      <td>21.000000</td>\n      <td>11.000000</td>\n      <td>34.000000</td>\n      <td>17.000000</td>\n      <td>13.000000</td>\n      <td>34.000000</td>\n    </tr>\n  </tbody>\n</table>\n<p>8 rows × 105 columns</p>\n</div>"
     },
     "metadata": {},
     "execution_count": 82
    }
   ],
   "source": [
    "match_df.describe()"
   ]
  },
  {
   "cell_type": "code",
   "execution_count": 83,
   "metadata": {},
   "outputs": [],
   "source": [
    "match_df_nona = match_df.dropna()"
   ]
  },
  {
   "cell_type": "code",
   "execution_count": 84,
   "metadata": {},
   "outputs": [
    {
     "output_type": "execute_result",
     "data": {
      "text/plain": [
       "(1762, 115)"
      ]
     },
     "metadata": {},
     "execution_count": 84
    }
   ],
   "source": [
    "match_df_nona.shape"
   ]
  },
  {
   "cell_type": "code",
   "execution_count": 85,
   "metadata": {},
   "outputs": [
    {
     "output_type": "execute_result",
     "data": {
      "text/plain": [
       "                    id  country_id  league_id     stage  match_api_id  \\\n",
       "id            1.000000    0.994503   0.994503  0.003970      0.134517   \n",
       "country_id    0.994503    1.000000   1.000000 -0.002206      0.038964   \n",
       "league_id     0.994503    1.000000   1.000000 -0.002206      0.038964   \n",
       "stage         0.003970   -0.002206  -0.002206  1.000000      0.013609   \n",
       "match_api_id  0.134517    0.038964   0.038964  0.013609      1.000000   \n",
       "...                ...         ...        ...       ...           ...   \n",
       "GBD           0.095452    0.088257   0.088257  0.032648      0.107740   \n",
       "GBA           0.025213    0.023217   0.023217  0.011585      0.016423   \n",
       "BSH           0.049139    0.047906   0.047906  0.009461      0.026972   \n",
       "BSD           0.096138    0.088798   0.088798  0.034471      0.114633   \n",
       "BSA           0.023736    0.022099   0.022099  0.012731      0.013214   \n",
       "\n",
       "              home_team_api_id  away_team_api_id  home_team_goal  \\\n",
       "id                   -0.016055         -0.016071        0.008577   \n",
       "country_id           -0.021024         -0.021027        0.008059   \n",
       "league_id            -0.021024         -0.021027        0.008059   \n",
       "stage                -0.006577         -0.003769        0.015150   \n",
       "match_api_id          0.090613          0.090607        0.004034   \n",
       "...                        ...               ...             ...   \n",
       "GBD                  -0.008688          0.008657        0.268241   \n",
       "GBA                  -0.011449          0.025801        0.349588   \n",
       "BSH                   0.018009         -0.011600       -0.254323   \n",
       "BSD                  -0.006711          0.010704        0.268662   \n",
       "BSA                  -0.010963          0.021175        0.346575   \n",
       "\n",
       "              away_team_goal  home_player_X1  ...       SJA       VCH  \\\n",
       "id                  0.010525       -0.003447  ...  0.033225  0.074725   \n",
       "country_id          0.008885       -0.007048  ...  0.032409  0.068578   \n",
       "league_id           0.008885       -0.007048  ...  0.032409  0.068578   \n",
       "stage               0.004961        0.029991  ...  0.012186  0.009736   \n",
       "match_api_id        0.025996        0.030268  ... -0.007629  0.067762   \n",
       "...                      ...             ...  ...       ...       ...   \n",
       "GBD                -0.069312        0.003837  ...  0.827845 -0.005970   \n",
       "GBA                -0.226642        0.008352  ...  0.976786 -0.507240   \n",
       "BSH                 0.296190       -0.006354  ... -0.504323  0.984914   \n",
       "BSD                -0.073455        0.004912  ...  0.829261 -0.013355   \n",
       "BSA                -0.221915        0.008808  ...  0.975342 -0.492112   \n",
       "\n",
       "                   VCD       VCA       GBH       GBD       GBA       BSH  \\\n",
       "id            0.123872  0.055955  0.050887  0.095452  0.025213  0.049139   \n",
       "country_id    0.108224  0.049525  0.049761  0.088257  0.023217  0.047906   \n",
       "league_id     0.108224  0.049525  0.049761  0.088257  0.023217  0.047906   \n",
       "stage         0.036198  0.016772  0.005853  0.032648  0.011585  0.009461   \n",
       "match_api_id  0.147529  0.045363  0.024919  0.107740  0.016423  0.026972   \n",
       "...                ...       ...       ...       ...       ...       ...   \n",
       "GBD           0.967723  0.838400 -0.041856  1.000000  0.816672 -0.037814   \n",
       "GBA           0.798012  0.968117 -0.539445  0.816672  1.000000 -0.533729   \n",
       "BSH          -0.032143 -0.486699  0.988317 -0.037814 -0.533729  1.000000   \n",
       "BSD           0.968236  0.842956 -0.049098  0.980017  0.818980 -0.043640   \n",
       "BSA           0.807773  0.971111 -0.523106  0.825114  0.980309 -0.519117   \n",
       "\n",
       "                   BSD       BSA  \n",
       "id            0.096138  0.023736  \n",
       "country_id    0.088798  0.022099  \n",
       "league_id     0.088798  0.022099  \n",
       "stage         0.034471  0.012731  \n",
       "match_api_id  0.114633  0.013214  \n",
       "...                ...       ...  \n",
       "GBD           0.980017  0.825114  \n",
       "GBA           0.818980  0.980309  \n",
       "BSH          -0.043640 -0.519117  \n",
       "BSD           1.000000  0.828611  \n",
       "BSA           0.828611  1.000000  \n",
       "\n",
       "[105 rows x 105 columns]"
      ],
      "text/html": "<div>\n<style scoped>\n    .dataframe tbody tr th:only-of-type {\n        vertical-align: middle;\n    }\n\n    .dataframe tbody tr th {\n        vertical-align: top;\n    }\n\n    .dataframe thead th {\n        text-align: right;\n    }\n</style>\n<table border=\"1\" class=\"dataframe\">\n  <thead>\n    <tr style=\"text-align: right;\">\n      <th></th>\n      <th>id</th>\n      <th>country_id</th>\n      <th>league_id</th>\n      <th>stage</th>\n      <th>match_api_id</th>\n      <th>home_team_api_id</th>\n      <th>away_team_api_id</th>\n      <th>home_team_goal</th>\n      <th>away_team_goal</th>\n      <th>home_player_X1</th>\n      <th>...</th>\n      <th>SJA</th>\n      <th>VCH</th>\n      <th>VCD</th>\n      <th>VCA</th>\n      <th>GBH</th>\n      <th>GBD</th>\n      <th>GBA</th>\n      <th>BSH</th>\n      <th>BSD</th>\n      <th>BSA</th>\n    </tr>\n  </thead>\n  <tbody>\n    <tr>\n      <th>id</th>\n      <td>1.000000</td>\n      <td>0.994503</td>\n      <td>0.994503</td>\n      <td>0.003970</td>\n      <td>0.134517</td>\n      <td>-0.016055</td>\n      <td>-0.016071</td>\n      <td>0.008577</td>\n      <td>0.010525</td>\n      <td>-0.003447</td>\n      <td>...</td>\n      <td>0.033225</td>\n      <td>0.074725</td>\n      <td>0.123872</td>\n      <td>0.055955</td>\n      <td>0.050887</td>\n      <td>0.095452</td>\n      <td>0.025213</td>\n      <td>0.049139</td>\n      <td>0.096138</td>\n      <td>0.023736</td>\n    </tr>\n    <tr>\n      <th>country_id</th>\n      <td>0.994503</td>\n      <td>1.000000</td>\n      <td>1.000000</td>\n      <td>-0.002206</td>\n      <td>0.038964</td>\n      <td>-0.021024</td>\n      <td>-0.021027</td>\n      <td>0.008059</td>\n      <td>0.008885</td>\n      <td>-0.007048</td>\n      <td>...</td>\n      <td>0.032409</td>\n      <td>0.068578</td>\n      <td>0.108224</td>\n      <td>0.049525</td>\n      <td>0.049761</td>\n      <td>0.088257</td>\n      <td>0.023217</td>\n      <td>0.047906</td>\n      <td>0.088798</td>\n      <td>0.022099</td>\n    </tr>\n    <tr>\n      <th>league_id</th>\n      <td>0.994503</td>\n      <td>1.000000</td>\n      <td>1.000000</td>\n      <td>-0.002206</td>\n      <td>0.038964</td>\n      <td>-0.021024</td>\n      <td>-0.021027</td>\n      <td>0.008059</td>\n      <td>0.008885</td>\n      <td>-0.007048</td>\n      <td>...</td>\n      <td>0.032409</td>\n      <td>0.068578</td>\n      <td>0.108224</td>\n      <td>0.049525</td>\n      <td>0.049761</td>\n      <td>0.088257</td>\n      <td>0.023217</td>\n      <td>0.047906</td>\n      <td>0.088798</td>\n      <td>0.022099</td>\n    </tr>\n    <tr>\n      <th>stage</th>\n      <td>0.003970</td>\n      <td>-0.002206</td>\n      <td>-0.002206</td>\n      <td>1.000000</td>\n      <td>0.013609</td>\n      <td>-0.006577</td>\n      <td>-0.003769</td>\n      <td>0.015150</td>\n      <td>0.004961</td>\n      <td>0.029991</td>\n      <td>...</td>\n      <td>0.012186</td>\n      <td>0.009736</td>\n      <td>0.036198</td>\n      <td>0.016772</td>\n      <td>0.005853</td>\n      <td>0.032648</td>\n      <td>0.011585</td>\n      <td>0.009461</td>\n      <td>0.034471</td>\n      <td>0.012731</td>\n    </tr>\n    <tr>\n      <th>match_api_id</th>\n      <td>0.134517</td>\n      <td>0.038964</td>\n      <td>0.038964</td>\n      <td>0.013609</td>\n      <td>1.000000</td>\n      <td>0.090613</td>\n      <td>0.090607</td>\n      <td>0.004034</td>\n      <td>0.025996</td>\n      <td>0.030268</td>\n      <td>...</td>\n      <td>-0.007629</td>\n      <td>0.067762</td>\n      <td>0.147529</td>\n      <td>0.045363</td>\n      <td>0.024919</td>\n      <td>0.107740</td>\n      <td>0.016423</td>\n      <td>0.026972</td>\n      <td>0.114633</td>\n      <td>0.013214</td>\n    </tr>\n    <tr>\n      <th>...</th>\n      <td>...</td>\n      <td>...</td>\n      <td>...</td>\n      <td>...</td>\n      <td>...</td>\n      <td>...</td>\n      <td>...</td>\n      <td>...</td>\n      <td>...</td>\n      <td>...</td>\n      <td>...</td>\n      <td>...</td>\n      <td>...</td>\n      <td>...</td>\n      <td>...</td>\n      <td>...</td>\n      <td>...</td>\n      <td>...</td>\n      <td>...</td>\n      <td>...</td>\n      <td>...</td>\n    </tr>\n    <tr>\n      <th>GBD</th>\n      <td>0.095452</td>\n      <td>0.088257</td>\n      <td>0.088257</td>\n      <td>0.032648</td>\n      <td>0.107740</td>\n      <td>-0.008688</td>\n      <td>0.008657</td>\n      <td>0.268241</td>\n      <td>-0.069312</td>\n      <td>0.003837</td>\n      <td>...</td>\n      <td>0.827845</td>\n      <td>-0.005970</td>\n      <td>0.967723</td>\n      <td>0.838400</td>\n      <td>-0.041856</td>\n      <td>1.000000</td>\n      <td>0.816672</td>\n      <td>-0.037814</td>\n      <td>0.980017</td>\n      <td>0.825114</td>\n    </tr>\n    <tr>\n      <th>GBA</th>\n      <td>0.025213</td>\n      <td>0.023217</td>\n      <td>0.023217</td>\n      <td>0.011585</td>\n      <td>0.016423</td>\n      <td>-0.011449</td>\n      <td>0.025801</td>\n      <td>0.349588</td>\n      <td>-0.226642</td>\n      <td>0.008352</td>\n      <td>...</td>\n      <td>0.976786</td>\n      <td>-0.507240</td>\n      <td>0.798012</td>\n      <td>0.968117</td>\n      <td>-0.539445</td>\n      <td>0.816672</td>\n      <td>1.000000</td>\n      <td>-0.533729</td>\n      <td>0.818980</td>\n      <td>0.980309</td>\n    </tr>\n    <tr>\n      <th>BSH</th>\n      <td>0.049139</td>\n      <td>0.047906</td>\n      <td>0.047906</td>\n      <td>0.009461</td>\n      <td>0.026972</td>\n      <td>0.018009</td>\n      <td>-0.011600</td>\n      <td>-0.254323</td>\n      <td>0.296190</td>\n      <td>-0.006354</td>\n      <td>...</td>\n      <td>-0.504323</td>\n      <td>0.984914</td>\n      <td>-0.032143</td>\n      <td>-0.486699</td>\n      <td>0.988317</td>\n      <td>-0.037814</td>\n      <td>-0.533729</td>\n      <td>1.000000</td>\n      <td>-0.043640</td>\n      <td>-0.519117</td>\n    </tr>\n    <tr>\n      <th>BSD</th>\n      <td>0.096138</td>\n      <td>0.088798</td>\n      <td>0.088798</td>\n      <td>0.034471</td>\n      <td>0.114633</td>\n      <td>-0.006711</td>\n      <td>0.010704</td>\n      <td>0.268662</td>\n      <td>-0.073455</td>\n      <td>0.004912</td>\n      <td>...</td>\n      <td>0.829261</td>\n      <td>-0.013355</td>\n      <td>0.968236</td>\n      <td>0.842956</td>\n      <td>-0.049098</td>\n      <td>0.980017</td>\n      <td>0.818980</td>\n      <td>-0.043640</td>\n      <td>1.000000</td>\n      <td>0.828611</td>\n    </tr>\n    <tr>\n      <th>BSA</th>\n      <td>0.023736</td>\n      <td>0.022099</td>\n      <td>0.022099</td>\n      <td>0.012731</td>\n      <td>0.013214</td>\n      <td>-0.010963</td>\n      <td>0.021175</td>\n      <td>0.346575</td>\n      <td>-0.221915</td>\n      <td>0.008808</td>\n      <td>...</td>\n      <td>0.975342</td>\n      <td>-0.492112</td>\n      <td>0.807773</td>\n      <td>0.971111</td>\n      <td>-0.523106</td>\n      <td>0.825114</td>\n      <td>0.980309</td>\n      <td>-0.519117</td>\n      <td>0.828611</td>\n      <td>1.000000</td>\n    </tr>\n  </tbody>\n</table>\n<p>105 rows × 105 columns</p>\n</div>"
     },
     "metadata": {},
     "execution_count": 85
    }
   ],
   "source": [
    "match_df.corr()"
   ]
  },
  {
   "cell_type": "code",
   "execution_count": 86,
   "metadata": {},
   "outputs": [
    {
     "output_type": "execute_result",
     "data": {
      "text/plain": [
       "home_player_1      NaN\n",
       "home_player_2      NaN\n",
       "home_player_3      NaN\n",
       "home_player_4      NaN\n",
       "home_player_5      NaN\n",
       "home_player_6      NaN\n",
       "home_player_7      NaN\n",
       "home_player_8      NaN\n",
       "home_player_9      NaN\n",
       "home_player_10     NaN\n",
       "home_player_11     NaN\n",
       "away_player_1      NaN\n",
       "away_player_2      NaN\n",
       "away_player_3      NaN\n",
       "away_player_4      NaN\n",
       "away_player_5      NaN\n",
       "away_player_6      NaN\n",
       "away_player_7      NaN\n",
       "away_player_8      NaN\n",
       "away_player_9      NaN\n",
       "away_player_10     NaN\n",
       "away_player_11     NaN\n",
       "goal              None\n",
       "shoton            None\n",
       "shotoff           None\n",
       "foulcommit        None\n",
       "card              None\n",
       "cross             None\n",
       "corner            None\n",
       "possession        None\n",
       "B365H             1.44\n",
       "B365D             3.75\n",
       "B365A              7.5\n",
       "BWH                1.4\n",
       "BWD                  4\n",
       "Name: 3, dtype: object"
      ]
     },
     "metadata": {},
     "execution_count": 86
    }
   ],
   "source": [
    "match_df.iloc[3, 55:90]"
   ]
  },
  {
   "cell_type": "code",
   "execution_count": 87,
   "metadata": {},
   "outputs": [
    {
     "output_type": "execute_result",
     "data": {
      "text/plain": [
       "home_player_X10                                                    4\n",
       "home_player_X11                                                    6\n",
       "away_player_X1                                                     1\n",
       "away_player_X2                                                     2\n",
       "away_player_X3                                                     4\n",
       "                                         ...                        \n",
       "foulcommit         <foulcommit><value><stats><foulscommitted>1</f...\n",
       "card               <card><value><comment>y</comment><stats><ycard...\n",
       "cross              <cross><value><stats><crosses>1</crosses></sta...\n",
       "corner             <corner><value><stats><corners>1</corners></st...\n",
       "possession         <possession><value><comment>58</comment><event...\n",
       "Name: 3251, Length: 65, dtype: object"
      ]
     },
     "metadata": {},
     "execution_count": 87
    }
   ],
   "source": [
    "match_df_nona.iloc[3, 20:85]"
   ]
  },
  {
   "cell_type": "code",
   "execution_count": 88,
   "metadata": {},
   "outputs": [
    {
     "output_type": "execute_result",
     "data": {
      "text/plain": [
       "'<possession><value><comment>32</comment><event_incident_typefk>352</event_incident_typefk><elapsed>20</elapsed><subtype>possession</subtype><sortorder>0</sortorder><awaypos>68</awaypos><homepos>32</homepos><n>44</n><type>special</type><id>2299061</id></value><value><comment>53</comment><elapsed_plus>1</elapsed_plus><event_incident_typefk>352</event_incident_typefk><elapsed>45</elapsed><subtype>possession</subtype><sortorder>2</sortorder><awaypos>47</awaypos><homepos>53</homepos><n>114</n><type>special</type><id>2299210</id></value><value><comment>50</comment><event_incident_typefk>352</event_incident_typefk><elapsed>67</elapsed><subtype>possession</subtype><sortorder>0</sortorder><awaypos>50</awaypos><homepos>50</homepos><n>166</n><type>special</type><id>2299303</id></value><value><comment>44</comment><elapsed_plus>1</elapsed_plus><event_incident_typefk>352</event_incident_typefk><elapsed>90</elapsed><subtype>possession</subtype><sortorder>6</sortorder><awaypos>56</awaypos><homepos>44</homepos><n>229</n><type>special</type><id>2299400</id></value></possession>'"
      ]
     },
     "metadata": {},
     "execution_count": 88
    }
   ],
   "source": [
    "match_df_nona.loc[3249, \"possession\"]"
   ]
  },
  {
   "cell_type": "code",
   "execution_count": 89,
   "metadata": {},
   "outputs": [
    {
     "output_type": "execute_result",
     "data": {
      "text/plain": [
       "['id',\n",
       " 'country_id',\n",
       " 'league_id',\n",
       " 'season',\n",
       " 'stage',\n",
       " 'date',\n",
       " 'match_api_id',\n",
       " 'home_team_api_id',\n",
       " 'away_team_api_id',\n",
       " 'home_team_goal',\n",
       " 'away_team_goal',\n",
       " 'home_player_X1',\n",
       " 'home_player_X2',\n",
       " 'home_player_X3',\n",
       " 'home_player_X4',\n",
       " 'home_player_X5',\n",
       " 'home_player_X6',\n",
       " 'home_player_X7',\n",
       " 'home_player_X8',\n",
       " 'home_player_X9',\n",
       " 'home_player_X10',\n",
       " 'home_player_X11',\n",
       " 'away_player_X1',\n",
       " 'away_player_X2',\n",
       " 'away_player_X3',\n",
       " 'away_player_X4',\n",
       " 'away_player_X5',\n",
       " 'away_player_X6',\n",
       " 'away_player_X7',\n",
       " 'away_player_X8',\n",
       " 'away_player_X9',\n",
       " 'away_player_X10',\n",
       " 'away_player_X11',\n",
       " 'home_player_Y1',\n",
       " 'home_player_Y2',\n",
       " 'home_player_Y3',\n",
       " 'home_player_Y4',\n",
       " 'home_player_Y5',\n",
       " 'home_player_Y6',\n",
       " 'home_player_Y7',\n",
       " 'home_player_Y8',\n",
       " 'home_player_Y9',\n",
       " 'home_player_Y10',\n",
       " 'home_player_Y11',\n",
       " 'away_player_Y1',\n",
       " 'away_player_Y2',\n",
       " 'away_player_Y3',\n",
       " 'away_player_Y4',\n",
       " 'away_player_Y5',\n",
       " 'away_player_Y6',\n",
       " 'away_player_Y7',\n",
       " 'away_player_Y8',\n",
       " 'away_player_Y9',\n",
       " 'away_player_Y10',\n",
       " 'away_player_Y11',\n",
       " 'home_player_1',\n",
       " 'home_player_2',\n",
       " 'home_player_3',\n",
       " 'home_player_4',\n",
       " 'home_player_5',\n",
       " 'home_player_6',\n",
       " 'home_player_7',\n",
       " 'home_player_8',\n",
       " 'home_player_9',\n",
       " 'home_player_10',\n",
       " 'home_player_11',\n",
       " 'away_player_1',\n",
       " 'away_player_2',\n",
       " 'away_player_3',\n",
       " 'away_player_4',\n",
       " 'away_player_5',\n",
       " 'away_player_6',\n",
       " 'away_player_7',\n",
       " 'away_player_8',\n",
       " 'away_player_9',\n",
       " 'away_player_10',\n",
       " 'away_player_11',\n",
       " 'goal',\n",
       " 'shoton',\n",
       " 'shotoff',\n",
       " 'foulcommit',\n",
       " 'card',\n",
       " 'cross',\n",
       " 'corner',\n",
       " 'possession',\n",
       " 'B365H',\n",
       " 'B365D',\n",
       " 'B365A',\n",
       " 'BWH',\n",
       " 'BWD',\n",
       " 'BWA',\n",
       " 'IWH',\n",
       " 'IWD',\n",
       " 'IWA',\n",
       " 'LBH',\n",
       " 'LBD',\n",
       " 'LBA',\n",
       " 'PSH',\n",
       " 'PSD',\n",
       " 'PSA',\n",
       " 'WHH',\n",
       " 'WHD',\n",
       " 'WHA',\n",
       " 'SJH',\n",
       " 'SJD',\n",
       " 'SJA',\n",
       " 'VCH',\n",
       " 'VCD',\n",
       " 'VCA',\n",
       " 'GBH',\n",
       " 'GBD',\n",
       " 'GBA',\n",
       " 'BSH',\n",
       " 'BSD',\n",
       " 'BSA']"
      ]
     },
     "metadata": {},
     "execution_count": 89
    }
   ],
   "source": [
    "match_df.columns.tolist()"
   ]
  },
  {
   "cell_type": "code",
   "execution_count": 90,
   "metadata": {},
   "outputs": [],
   "source": [
    "relevant_match = match_df[['id',\n",
    " 'country_id',\n",
    " 'league_id',\n",
    " 'season',\n",
    " 'stage',\n",
    " 'date',\n",
    " 'match_api_id',\n",
    " 'home_team_api_id',\n",
    " 'away_team_api_id',\n",
    " 'home_team_goal',\n",
    " 'away_team_goal',\n",
    " 'home_player_1',\n",
    " 'home_player_2',\n",
    " 'home_player_3',\n",
    " 'home_player_4',\n",
    " 'home_player_5',\n",
    " 'home_player_6',\n",
    " 'home_player_7',\n",
    " 'home_player_8',\n",
    " 'home_player_9',\n",
    " 'home_player_10',\n",
    " 'home_player_11',\n",
    " 'away_player_1',\n",
    " 'away_player_2',\n",
    " 'away_player_3',\n",
    " 'away_player_4',\n",
    " 'away_player_5',\n",
    " 'away_player_6',\n",
    " 'away_player_7',\n",
    " 'away_player_8',\n",
    " 'away_player_9',\n",
    " 'away_player_10',\n",
    " 'away_player_11',\n",
    " 'goal',\n",
    " 'shoton',\n",
    " 'shotoff',\n",
    " 'foulcommit',\n",
    " 'card',\n",
    " 'cross',\n",
    " 'corner',\n",
    " 'possession']]"
   ]
  },
  {
   "cell_type": "code",
   "execution_count": 91,
   "metadata": {},
   "outputs": [],
   "source": [
    "relevant_match = relevant_match[relevant_match['goal'].notna()]"
   ]
  },
  {
   "cell_type": "code",
   "execution_count": 92,
   "metadata": {},
   "outputs": [
    {
     "output_type": "execute_result",
     "data": {
      "text/plain": [
       "                        id  country_id  league_id     stage  match_api_id  \\\n",
       "id                1.000000    0.993011   0.993011  0.007779      0.134183   \n",
       "country_id        0.993011    1.000000   1.000000  0.004347      0.020758   \n",
       "league_id         0.993011    1.000000   1.000000  0.004347      0.020758   \n",
       "stage             0.007779    0.004347   0.004347  1.000000     -0.003987   \n",
       "match_api_id      0.134183    0.020758   0.020758 -0.003987      1.000000   \n",
       "home_team_api_id -0.005195   -0.010442  -0.010442  0.005629      0.045991   \n",
       "away_team_api_id -0.004553   -0.009845  -0.009845  0.010018      0.047028   \n",
       "home_team_goal    0.029959    0.032121   0.032121  0.013535     -0.011946   \n",
       "away_team_goal    0.003744    0.003218   0.003218  0.010124      0.015535   \n",
       "home_player_1     0.148380    0.108255   0.108255  0.016336      0.387198   \n",
       "home_player_2     0.145314    0.094355   0.094355  0.028660      0.476209   \n",
       "home_player_3     0.175273    0.135147   0.135147  0.034309      0.384877   \n",
       "home_player_4     0.198688    0.155559   0.155559  0.025983      0.413680   \n",
       "home_player_5     0.107530    0.057957   0.057957  0.021472      0.467147   \n",
       "home_player_6     0.132454    0.083518   0.083518  0.041664      0.463518   \n",
       "home_player_7     0.160970    0.116635   0.116635  0.008912      0.425568   \n",
       "home_player_8     0.163138    0.114504   0.114504  0.034571      0.465585   \n",
       "home_player_9     0.136380    0.084301   0.084301  0.020212      0.490534   \n",
       "home_player_10    0.159240    0.109020   0.109020  0.043836      0.473431   \n",
       "home_player_11    0.105390    0.056405   0.056405  0.027521      0.457398   \n",
       "away_player_1     0.146706    0.105891   0.105891  0.026313      0.391204   \n",
       "away_player_2     0.144401    0.092490   0.092490  0.030055      0.480890   \n",
       "away_player_3     0.169913    0.129493   0.129493  0.040513      0.393041   \n",
       "away_player_4     0.203321    0.159336   0.159336  0.030378      0.421049   \n",
       "away_player_5     0.099167    0.049854   0.049854  0.025819      0.464910   \n",
       "away_player_6     0.131304    0.082417   0.082417  0.033483      0.460577   \n",
       "away_player_7     0.150160    0.105299   0.105299  0.030289      0.430389   \n",
       "away_player_8     0.157078    0.107786   0.107786  0.035623      0.470859   \n",
       "away_player_9     0.147079    0.094552   0.094552  0.027551      0.491560   \n",
       "away_player_10    0.162854    0.112568   0.112568  0.043196      0.473117   \n",
       "away_player_11    0.123093    0.073580   0.073580  0.034649      0.466457   \n",
       "\n",
       "                  home_team_api_id  away_team_api_id  home_team_goal  \\\n",
       "id                       -0.005195         -0.004553        0.029959   \n",
       "country_id               -0.010442         -0.009845        0.032121   \n",
       "league_id                -0.010442         -0.009845        0.032121   \n",
       "stage                     0.005629          0.010018        0.013535   \n",
       "match_api_id              0.045991          0.047028       -0.011946   \n",
       "home_team_api_id          1.000000         -0.001886       -0.013850   \n",
       "away_team_api_id         -0.001886          1.000000        0.003921   \n",
       "home_team_goal           -0.013850          0.003921        1.000000   \n",
       "away_team_goal            0.004705         -0.018407       -0.057271   \n",
       "home_player_1             0.026352          0.019866       -0.015458   \n",
       "home_player_2             0.020017          0.015939       -0.037891   \n",
       "home_player_3             0.009963         -0.006752       -0.017824   \n",
       "home_player_4             0.077348          0.016645       -0.005964   \n",
       "home_player_5             0.067388          0.025195       -0.037635   \n",
       "home_player_6             0.024546          0.036641       -0.014878   \n",
       "home_player_7             0.020520          0.020614       -0.011740   \n",
       "home_player_8             0.022954          0.024076       -0.027009   \n",
       "home_player_9             0.041840          0.020270       -0.019038   \n",
       "home_player_10            0.031600          0.000680       -0.032277   \n",
       "home_player_11            0.037442          0.010436       -0.041643   \n",
       "away_player_1             0.011723          0.030491        0.025412   \n",
       "away_player_2             0.011946         -0.004664        0.023496   \n",
       "away_player_3            -0.000974          0.027391        0.027889   \n",
       "away_player_4             0.015426          0.081571        0.022181   \n",
       "away_player_5             0.033080          0.066423        0.013281   \n",
       "away_player_6             0.008928          0.023967        0.005321   \n",
       "away_player_7             0.011731          0.025695        0.018298   \n",
       "away_player_8             0.010095          0.015902        0.002707   \n",
       "away_player_9             0.016016          0.038274        0.002726   \n",
       "away_player_10            0.000927          0.038113        0.026435   \n",
       "away_player_11            0.009703          0.041527        0.019376   \n",
       "\n",
       "                  away_team_goal  home_player_1  ...  away_player_2  \\\n",
       "id                      0.003744       0.148380  ...       0.144401   \n",
       "country_id              0.003218       0.108255  ...       0.092490   \n",
       "league_id               0.003218       0.108255  ...       0.092490   \n",
       "stage                   0.010124       0.016336  ...       0.030055   \n",
       "match_api_id            0.015535       0.387198  ...       0.480890   \n",
       "home_team_api_id        0.004705       0.026352  ...       0.011946   \n",
       "away_team_api_id       -0.018407       0.019866  ...      -0.004664   \n",
       "home_team_goal         -0.057271      -0.015458  ...       0.023496   \n",
       "away_team_goal          1.000000       0.021773  ...      -0.013111   \n",
       "home_player_1           0.021773       1.000000  ...       0.226508   \n",
       "home_player_2           0.022214       0.257996  ...       0.306223   \n",
       "home_player_3           0.033931       0.269011  ...       0.240761   \n",
       "home_player_4           0.030486       0.306882  ...       0.233548   \n",
       "home_player_5           0.035976       0.269249  ...       0.254120   \n",
       "home_player_6           0.035398       0.238923  ...       0.277468   \n",
       "home_player_7           0.011020       0.267624  ...       0.287549   \n",
       "home_player_8           0.024279       0.249232  ...       0.281646   \n",
       "home_player_9           0.017622       0.249046  ...       0.295310   \n",
       "home_player_10          0.019592       0.273084  ...       0.292054   \n",
       "home_player_11          0.032504       0.248334  ...       0.292856   \n",
       "away_player_1          -0.002556       0.177004  ...       0.263515   \n",
       "away_player_2          -0.013111       0.226508  ...       1.000000   \n",
       "away_player_3          -0.011254       0.185267  ...       0.297241   \n",
       "away_player_4          -0.012090       0.200246  ...       0.292587   \n",
       "away_player_5          -0.010755       0.221095  ...       0.302437   \n",
       "away_player_6           0.003334       0.227765  ...       0.293340   \n",
       "away_player_7           0.008984       0.224581  ...       0.317708   \n",
       "away_player_8           0.007819       0.224063  ...       0.294699   \n",
       "away_player_9           0.001986       0.258750  ...       0.311982   \n",
       "away_player_10         -0.019181       0.225156  ...       0.324268   \n",
       "away_player_11         -0.009942       0.225869  ...       0.339766   \n",
       "\n",
       "                  away_player_3  away_player_4  away_player_5  away_player_6  \\\n",
       "id                     0.169913       0.203321       0.099167       0.131304   \n",
       "country_id             0.129493       0.159336       0.049854       0.082417   \n",
       "league_id              0.129493       0.159336       0.049854       0.082417   \n",
       "stage                  0.040513       0.030378       0.025819       0.033483   \n",
       "match_api_id           0.393041       0.421049       0.464910       0.460577   \n",
       "home_team_api_id      -0.000974       0.015426       0.033080       0.008928   \n",
       "away_team_api_id       0.027391       0.081571       0.066423       0.023967   \n",
       "home_team_goal         0.027889       0.022181       0.013281       0.005321   \n",
       "away_team_goal        -0.011254      -0.012090      -0.010755       0.003334   \n",
       "home_player_1          0.185267       0.200246       0.221095       0.227765   \n",
       "home_player_2          0.261770       0.257230       0.259915       0.276386   \n",
       "home_player_3          0.212258       0.220263       0.224941       0.245146   \n",
       "home_player_4          0.200772       0.212932       0.214172       0.240750   \n",
       "home_player_5          0.239073       0.241018       0.240509       0.256632   \n",
       "home_player_6          0.233742       0.262156       0.254863       0.263789   \n",
       "home_player_7          0.249089       0.230241       0.254893       0.260320   \n",
       "home_player_8          0.248776       0.245363       0.242689       0.277598   \n",
       "home_player_9          0.264352       0.248939       0.268223       0.282570   \n",
       "home_player_10         0.250338       0.251199       0.256804       0.275791   \n",
       "home_player_11         0.244107       0.243774       0.246499       0.279044   \n",
       "away_player_1          0.268251       0.317082       0.269012       0.244747   \n",
       "away_player_2          0.297241       0.292587       0.302437       0.293340   \n",
       "away_player_3          1.000000       0.255194       0.256560       0.293154   \n",
       "away_player_4          0.255194       1.000000       0.284330       0.270537   \n",
       "away_player_5          0.256560       0.284330       1.000000       0.274032   \n",
       "away_player_6          0.293154       0.270537       0.274032       1.000000   \n",
       "away_player_7          0.271316       0.284147       0.284016       0.290174   \n",
       "away_player_8          0.267717       0.299129       0.274719       0.290777   \n",
       "away_player_9          0.298998       0.313403       0.306604       0.309609   \n",
       "away_player_10         0.283648       0.310798       0.310687       0.301717   \n",
       "away_player_11         0.280717       0.292217       0.306186       0.290168   \n",
       "\n",
       "                  away_player_7  away_player_8  away_player_9  away_player_10  \\\n",
       "id                     0.150160       0.157078       0.147079        0.162854   \n",
       "country_id             0.105299       0.107786       0.094552        0.112568   \n",
       "league_id              0.105299       0.107786       0.094552        0.112568   \n",
       "stage                  0.030289       0.035623       0.027551        0.043196   \n",
       "match_api_id           0.430389       0.470859       0.491560        0.473117   \n",
       "home_team_api_id       0.011731       0.010095       0.016016        0.000927   \n",
       "away_team_api_id       0.025695       0.015902       0.038274        0.038113   \n",
       "home_team_goal         0.018298       0.002707       0.002726        0.026435   \n",
       "away_team_goal         0.008984       0.007819       0.001986       -0.019181   \n",
       "home_player_1          0.224581       0.224063       0.258750        0.225156   \n",
       "home_player_2          0.277307       0.287421       0.286442        0.303732   \n",
       "home_player_3          0.221680       0.270092       0.272496        0.235755   \n",
       "home_player_4          0.229839       0.255272       0.252236        0.243825   \n",
       "home_player_5          0.258529       0.262757       0.273880        0.268362   \n",
       "home_player_6          0.268077       0.275864       0.287730        0.258679   \n",
       "home_player_7          0.239347       0.253106       0.267674        0.269338   \n",
       "home_player_8          0.243632       0.270359       0.282472        0.283171   \n",
       "home_player_9          0.290671       0.294882       0.305922        0.280142   \n",
       "home_player_10         0.268187       0.277704       0.293902        0.272001   \n",
       "home_player_11         0.263717       0.275194       0.283790        0.270857   \n",
       "away_player_1          0.271188       0.259445       0.260146        0.272228   \n",
       "away_player_2          0.317708       0.294699       0.311982        0.324268   \n",
       "away_player_3          0.271316       0.267717       0.298998        0.283648   \n",
       "away_player_4          0.284147       0.299129       0.313403        0.310798   \n",
       "away_player_5          0.284016       0.274719       0.306604        0.310687   \n",
       "away_player_6          0.290174       0.290777       0.309609        0.301717   \n",
       "away_player_7          1.000000       0.295840       0.279070        0.317878   \n",
       "away_player_8          0.295840       1.000000       0.312039        0.330415   \n",
       "away_player_9          0.279070       0.312039       1.000000        0.348570   \n",
       "away_player_10         0.317878       0.330415       0.348570        1.000000   \n",
       "away_player_11         0.289268       0.315996       0.332803        0.309371   \n",
       "\n",
       "                  away_player_11  \n",
       "id                      0.123093  \n",
       "country_id              0.073580  \n",
       "league_id               0.073580  \n",
       "stage                   0.034649  \n",
       "match_api_id            0.466457  \n",
       "home_team_api_id        0.009703  \n",
       "away_team_api_id        0.041527  \n",
       "home_team_goal          0.019376  \n",
       "away_team_goal         -0.009942  \n",
       "home_player_1           0.225869  \n",
       "home_player_2           0.311193  \n",
       "home_player_3           0.234882  \n",
       "home_player_4           0.248370  \n",
       "home_player_5           0.263798  \n",
       "home_player_6           0.279895  \n",
       "home_player_7           0.274908  \n",
       "home_player_8           0.271699  \n",
       "home_player_9           0.288116  \n",
       "home_player_10          0.277829  \n",
       "home_player_11          0.278714  \n",
       "away_player_1           0.255475  \n",
       "away_player_2           0.339766  \n",
       "away_player_3           0.280717  \n",
       "away_player_4           0.292217  \n",
       "away_player_5           0.306186  \n",
       "away_player_6           0.290168  \n",
       "away_player_7           0.289268  \n",
       "away_player_8           0.315996  \n",
       "away_player_9           0.332803  \n",
       "away_player_10          0.309371  \n",
       "away_player_11          1.000000  \n",
       "\n",
       "[31 rows x 31 columns]"
      ],
      "text/html": "<div>\n<style scoped>\n    .dataframe tbody tr th:only-of-type {\n        vertical-align: middle;\n    }\n\n    .dataframe tbody tr th {\n        vertical-align: top;\n    }\n\n    .dataframe thead th {\n        text-align: right;\n    }\n</style>\n<table border=\"1\" class=\"dataframe\">\n  <thead>\n    <tr style=\"text-align: right;\">\n      <th></th>\n      <th>id</th>\n      <th>country_id</th>\n      <th>league_id</th>\n      <th>stage</th>\n      <th>match_api_id</th>\n      <th>home_team_api_id</th>\n      <th>away_team_api_id</th>\n      <th>home_team_goal</th>\n      <th>away_team_goal</th>\n      <th>home_player_1</th>\n      <th>...</th>\n      <th>away_player_2</th>\n      <th>away_player_3</th>\n      <th>away_player_4</th>\n      <th>away_player_5</th>\n      <th>away_player_6</th>\n      <th>away_player_7</th>\n      <th>away_player_8</th>\n      <th>away_player_9</th>\n      <th>away_player_10</th>\n      <th>away_player_11</th>\n    </tr>\n  </thead>\n  <tbody>\n    <tr>\n      <th>id</th>\n      <td>1.000000</td>\n      <td>0.993011</td>\n      <td>0.993011</td>\n      <td>0.007779</td>\n      <td>0.134183</td>\n      <td>-0.005195</td>\n      <td>-0.004553</td>\n      <td>0.029959</td>\n      <td>0.003744</td>\n      <td>0.148380</td>\n      <td>...</td>\n      <td>0.144401</td>\n      <td>0.169913</td>\n      <td>0.203321</td>\n      <td>0.099167</td>\n      <td>0.131304</td>\n      <td>0.150160</td>\n      <td>0.157078</td>\n      <td>0.147079</td>\n      <td>0.162854</td>\n      <td>0.123093</td>\n    </tr>\n    <tr>\n      <th>country_id</th>\n      <td>0.993011</td>\n      <td>1.000000</td>\n      <td>1.000000</td>\n      <td>0.004347</td>\n      <td>0.020758</td>\n      <td>-0.010442</td>\n      <td>-0.009845</td>\n      <td>0.032121</td>\n      <td>0.003218</td>\n      <td>0.108255</td>\n      <td>...</td>\n      <td>0.092490</td>\n      <td>0.129493</td>\n      <td>0.159336</td>\n      <td>0.049854</td>\n      <td>0.082417</td>\n      <td>0.105299</td>\n      <td>0.107786</td>\n      <td>0.094552</td>\n      <td>0.112568</td>\n      <td>0.073580</td>\n    </tr>\n    <tr>\n      <th>league_id</th>\n      <td>0.993011</td>\n      <td>1.000000</td>\n      <td>1.000000</td>\n      <td>0.004347</td>\n      <td>0.020758</td>\n      <td>-0.010442</td>\n      <td>-0.009845</td>\n      <td>0.032121</td>\n      <td>0.003218</td>\n      <td>0.108255</td>\n      <td>...</td>\n      <td>0.092490</td>\n      <td>0.129493</td>\n      <td>0.159336</td>\n      <td>0.049854</td>\n      <td>0.082417</td>\n      <td>0.105299</td>\n      <td>0.107786</td>\n      <td>0.094552</td>\n      <td>0.112568</td>\n      <td>0.073580</td>\n    </tr>\n    <tr>\n      <th>stage</th>\n      <td>0.007779</td>\n      <td>0.004347</td>\n      <td>0.004347</td>\n      <td>1.000000</td>\n      <td>-0.003987</td>\n      <td>0.005629</td>\n      <td>0.010018</td>\n      <td>0.013535</td>\n      <td>0.010124</td>\n      <td>0.016336</td>\n      <td>...</td>\n      <td>0.030055</td>\n      <td>0.040513</td>\n      <td>0.030378</td>\n      <td>0.025819</td>\n      <td>0.033483</td>\n      <td>0.030289</td>\n      <td>0.035623</td>\n      <td>0.027551</td>\n      <td>0.043196</td>\n      <td>0.034649</td>\n    </tr>\n    <tr>\n      <th>match_api_id</th>\n      <td>0.134183</td>\n      <td>0.020758</td>\n      <td>0.020758</td>\n      <td>-0.003987</td>\n      <td>1.000000</td>\n      <td>0.045991</td>\n      <td>0.047028</td>\n      <td>-0.011946</td>\n      <td>0.015535</td>\n      <td>0.387198</td>\n      <td>...</td>\n      <td>0.480890</td>\n      <td>0.393041</td>\n      <td>0.421049</td>\n      <td>0.464910</td>\n      <td>0.460577</td>\n      <td>0.430389</td>\n      <td>0.470859</td>\n      <td>0.491560</td>\n      <td>0.473117</td>\n      <td>0.466457</td>\n    </tr>\n    <tr>\n      <th>home_team_api_id</th>\n      <td>-0.005195</td>\n      <td>-0.010442</td>\n      <td>-0.010442</td>\n      <td>0.005629</td>\n      <td>0.045991</td>\n      <td>1.000000</td>\n      <td>-0.001886</td>\n      <td>-0.013850</td>\n      <td>0.004705</td>\n      <td>0.026352</td>\n      <td>...</td>\n      <td>0.011946</td>\n      <td>-0.000974</td>\n      <td>0.015426</td>\n      <td>0.033080</td>\n      <td>0.008928</td>\n      <td>0.011731</td>\n      <td>0.010095</td>\n      <td>0.016016</td>\n      <td>0.000927</td>\n      <td>0.009703</td>\n    </tr>\n    <tr>\n      <th>away_team_api_id</th>\n      <td>-0.004553</td>\n      <td>-0.009845</td>\n      <td>-0.009845</td>\n      <td>0.010018</td>\n      <td>0.047028</td>\n      <td>-0.001886</td>\n      <td>1.000000</td>\n      <td>0.003921</td>\n      <td>-0.018407</td>\n      <td>0.019866</td>\n      <td>...</td>\n      <td>-0.004664</td>\n      <td>0.027391</td>\n      <td>0.081571</td>\n      <td>0.066423</td>\n      <td>0.023967</td>\n      <td>0.025695</td>\n      <td>0.015902</td>\n      <td>0.038274</td>\n      <td>0.038113</td>\n      <td>0.041527</td>\n    </tr>\n    <tr>\n      <th>home_team_goal</th>\n      <td>0.029959</td>\n      <td>0.032121</td>\n      <td>0.032121</td>\n      <td>0.013535</td>\n      <td>-0.011946</td>\n      <td>-0.013850</td>\n      <td>0.003921</td>\n      <td>1.000000</td>\n      <td>-0.057271</td>\n      <td>-0.015458</td>\n      <td>...</td>\n      <td>0.023496</td>\n      <td>0.027889</td>\n      <td>0.022181</td>\n      <td>0.013281</td>\n      <td>0.005321</td>\n      <td>0.018298</td>\n      <td>0.002707</td>\n      <td>0.002726</td>\n      <td>0.026435</td>\n      <td>0.019376</td>\n    </tr>\n    <tr>\n      <th>away_team_goal</th>\n      <td>0.003744</td>\n      <td>0.003218</td>\n      <td>0.003218</td>\n      <td>0.010124</td>\n      <td>0.015535</td>\n      <td>0.004705</td>\n      <td>-0.018407</td>\n      <td>-0.057271</td>\n      <td>1.000000</td>\n      <td>0.021773</td>\n      <td>...</td>\n      <td>-0.013111</td>\n      <td>-0.011254</td>\n      <td>-0.012090</td>\n      <td>-0.010755</td>\n      <td>0.003334</td>\n      <td>0.008984</td>\n      <td>0.007819</td>\n      <td>0.001986</td>\n      <td>-0.019181</td>\n      <td>-0.009942</td>\n    </tr>\n    <tr>\n      <th>home_player_1</th>\n      <td>0.148380</td>\n      <td>0.108255</td>\n      <td>0.108255</td>\n      <td>0.016336</td>\n      <td>0.387198</td>\n      <td>0.026352</td>\n      <td>0.019866</td>\n      <td>-0.015458</td>\n      <td>0.021773</td>\n      <td>1.000000</td>\n      <td>...</td>\n      <td>0.226508</td>\n      <td>0.185267</td>\n      <td>0.200246</td>\n      <td>0.221095</td>\n      <td>0.227765</td>\n      <td>0.224581</td>\n      <td>0.224063</td>\n      <td>0.258750</td>\n      <td>0.225156</td>\n      <td>0.225869</td>\n    </tr>\n    <tr>\n      <th>home_player_2</th>\n      <td>0.145314</td>\n      <td>0.094355</td>\n      <td>0.094355</td>\n      <td>0.028660</td>\n      <td>0.476209</td>\n      <td>0.020017</td>\n      <td>0.015939</td>\n      <td>-0.037891</td>\n      <td>0.022214</td>\n      <td>0.257996</td>\n      <td>...</td>\n      <td>0.306223</td>\n      <td>0.261770</td>\n      <td>0.257230</td>\n      <td>0.259915</td>\n      <td>0.276386</td>\n      <td>0.277307</td>\n      <td>0.287421</td>\n      <td>0.286442</td>\n      <td>0.303732</td>\n      <td>0.311193</td>\n    </tr>\n    <tr>\n      <th>home_player_3</th>\n      <td>0.175273</td>\n      <td>0.135147</td>\n      <td>0.135147</td>\n      <td>0.034309</td>\n      <td>0.384877</td>\n      <td>0.009963</td>\n      <td>-0.006752</td>\n      <td>-0.017824</td>\n      <td>0.033931</td>\n      <td>0.269011</td>\n      <td>...</td>\n      <td>0.240761</td>\n      <td>0.212258</td>\n      <td>0.220263</td>\n      <td>0.224941</td>\n      <td>0.245146</td>\n      <td>0.221680</td>\n      <td>0.270092</td>\n      <td>0.272496</td>\n      <td>0.235755</td>\n      <td>0.234882</td>\n    </tr>\n    <tr>\n      <th>home_player_4</th>\n      <td>0.198688</td>\n      <td>0.155559</td>\n      <td>0.155559</td>\n      <td>0.025983</td>\n      <td>0.413680</td>\n      <td>0.077348</td>\n      <td>0.016645</td>\n      <td>-0.005964</td>\n      <td>0.030486</td>\n      <td>0.306882</td>\n      <td>...</td>\n      <td>0.233548</td>\n      <td>0.200772</td>\n      <td>0.212932</td>\n      <td>0.214172</td>\n      <td>0.240750</td>\n      <td>0.229839</td>\n      <td>0.255272</td>\n      <td>0.252236</td>\n      <td>0.243825</td>\n      <td>0.248370</td>\n    </tr>\n    <tr>\n      <th>home_player_5</th>\n      <td>0.107530</td>\n      <td>0.057957</td>\n      <td>0.057957</td>\n      <td>0.021472</td>\n      <td>0.467147</td>\n      <td>0.067388</td>\n      <td>0.025195</td>\n      <td>-0.037635</td>\n      <td>0.035976</td>\n      <td>0.269249</td>\n      <td>...</td>\n      <td>0.254120</td>\n      <td>0.239073</td>\n      <td>0.241018</td>\n      <td>0.240509</td>\n      <td>0.256632</td>\n      <td>0.258529</td>\n      <td>0.262757</td>\n      <td>0.273880</td>\n      <td>0.268362</td>\n      <td>0.263798</td>\n    </tr>\n    <tr>\n      <th>home_player_6</th>\n      <td>0.132454</td>\n      <td>0.083518</td>\n      <td>0.083518</td>\n      <td>0.041664</td>\n      <td>0.463518</td>\n      <td>0.024546</td>\n      <td>0.036641</td>\n      <td>-0.014878</td>\n      <td>0.035398</td>\n      <td>0.238923</td>\n      <td>...</td>\n      <td>0.277468</td>\n      <td>0.233742</td>\n      <td>0.262156</td>\n      <td>0.254863</td>\n      <td>0.263789</td>\n      <td>0.268077</td>\n      <td>0.275864</td>\n      <td>0.287730</td>\n      <td>0.258679</td>\n      <td>0.279895</td>\n    </tr>\n    <tr>\n      <th>home_player_7</th>\n      <td>0.160970</td>\n      <td>0.116635</td>\n      <td>0.116635</td>\n      <td>0.008912</td>\n      <td>0.425568</td>\n      <td>0.020520</td>\n      <td>0.020614</td>\n      <td>-0.011740</td>\n      <td>0.011020</td>\n      <td>0.267624</td>\n      <td>...</td>\n      <td>0.287549</td>\n      <td>0.249089</td>\n      <td>0.230241</td>\n      <td>0.254893</td>\n      <td>0.260320</td>\n      <td>0.239347</td>\n      <td>0.253106</td>\n      <td>0.267674</td>\n      <td>0.269338</td>\n      <td>0.274908</td>\n    </tr>\n    <tr>\n      <th>home_player_8</th>\n      <td>0.163138</td>\n      <td>0.114504</td>\n      <td>0.114504</td>\n      <td>0.034571</td>\n      <td>0.465585</td>\n      <td>0.022954</td>\n      <td>0.024076</td>\n      <td>-0.027009</td>\n      <td>0.024279</td>\n      <td>0.249232</td>\n      <td>...</td>\n      <td>0.281646</td>\n      <td>0.248776</td>\n      <td>0.245363</td>\n      <td>0.242689</td>\n      <td>0.277598</td>\n      <td>0.243632</td>\n      <td>0.270359</td>\n      <td>0.282472</td>\n      <td>0.283171</td>\n      <td>0.271699</td>\n    </tr>\n    <tr>\n      <th>home_player_9</th>\n      <td>0.136380</td>\n      <td>0.084301</td>\n      <td>0.084301</td>\n      <td>0.020212</td>\n      <td>0.490534</td>\n      <td>0.041840</td>\n      <td>0.020270</td>\n      <td>-0.019038</td>\n      <td>0.017622</td>\n      <td>0.249046</td>\n      <td>...</td>\n      <td>0.295310</td>\n      <td>0.264352</td>\n      <td>0.248939</td>\n      <td>0.268223</td>\n      <td>0.282570</td>\n      <td>0.290671</td>\n      <td>0.294882</td>\n      <td>0.305922</td>\n      <td>0.280142</td>\n      <td>0.288116</td>\n    </tr>\n    <tr>\n      <th>home_player_10</th>\n      <td>0.159240</td>\n      <td>0.109020</td>\n      <td>0.109020</td>\n      <td>0.043836</td>\n      <td>0.473431</td>\n      <td>0.031600</td>\n      <td>0.000680</td>\n      <td>-0.032277</td>\n      <td>0.019592</td>\n      <td>0.273084</td>\n      <td>...</td>\n      <td>0.292054</td>\n      <td>0.250338</td>\n      <td>0.251199</td>\n      <td>0.256804</td>\n      <td>0.275791</td>\n      <td>0.268187</td>\n      <td>0.277704</td>\n      <td>0.293902</td>\n      <td>0.272001</td>\n      <td>0.277829</td>\n    </tr>\n    <tr>\n      <th>home_player_11</th>\n      <td>0.105390</td>\n      <td>0.056405</td>\n      <td>0.056405</td>\n      <td>0.027521</td>\n      <td>0.457398</td>\n      <td>0.037442</td>\n      <td>0.010436</td>\n      <td>-0.041643</td>\n      <td>0.032504</td>\n      <td>0.248334</td>\n      <td>...</td>\n      <td>0.292856</td>\n      <td>0.244107</td>\n      <td>0.243774</td>\n      <td>0.246499</td>\n      <td>0.279044</td>\n      <td>0.263717</td>\n      <td>0.275194</td>\n      <td>0.283790</td>\n      <td>0.270857</td>\n      <td>0.278714</td>\n    </tr>\n    <tr>\n      <th>away_player_1</th>\n      <td>0.146706</td>\n      <td>0.105891</td>\n      <td>0.105891</td>\n      <td>0.026313</td>\n      <td>0.391204</td>\n      <td>0.011723</td>\n      <td>0.030491</td>\n      <td>0.025412</td>\n      <td>-0.002556</td>\n      <td>0.177004</td>\n      <td>...</td>\n      <td>0.263515</td>\n      <td>0.268251</td>\n      <td>0.317082</td>\n      <td>0.269012</td>\n      <td>0.244747</td>\n      <td>0.271188</td>\n      <td>0.259445</td>\n      <td>0.260146</td>\n      <td>0.272228</td>\n      <td>0.255475</td>\n    </tr>\n    <tr>\n      <th>away_player_2</th>\n      <td>0.144401</td>\n      <td>0.092490</td>\n      <td>0.092490</td>\n      <td>0.030055</td>\n      <td>0.480890</td>\n      <td>0.011946</td>\n      <td>-0.004664</td>\n      <td>0.023496</td>\n      <td>-0.013111</td>\n      <td>0.226508</td>\n      <td>...</td>\n      <td>1.000000</td>\n      <td>0.297241</td>\n      <td>0.292587</td>\n      <td>0.302437</td>\n      <td>0.293340</td>\n      <td>0.317708</td>\n      <td>0.294699</td>\n      <td>0.311982</td>\n      <td>0.324268</td>\n      <td>0.339766</td>\n    </tr>\n    <tr>\n      <th>away_player_3</th>\n      <td>0.169913</td>\n      <td>0.129493</td>\n      <td>0.129493</td>\n      <td>0.040513</td>\n      <td>0.393041</td>\n      <td>-0.000974</td>\n      <td>0.027391</td>\n      <td>0.027889</td>\n      <td>-0.011254</td>\n      <td>0.185267</td>\n      <td>...</td>\n      <td>0.297241</td>\n      <td>1.000000</td>\n      <td>0.255194</td>\n      <td>0.256560</td>\n      <td>0.293154</td>\n      <td>0.271316</td>\n      <td>0.267717</td>\n      <td>0.298998</td>\n      <td>0.283648</td>\n      <td>0.280717</td>\n    </tr>\n    <tr>\n      <th>away_player_4</th>\n      <td>0.203321</td>\n      <td>0.159336</td>\n      <td>0.159336</td>\n      <td>0.030378</td>\n      <td>0.421049</td>\n      <td>0.015426</td>\n      <td>0.081571</td>\n      <td>0.022181</td>\n      <td>-0.012090</td>\n      <td>0.200246</td>\n      <td>...</td>\n      <td>0.292587</td>\n      <td>0.255194</td>\n      <td>1.000000</td>\n      <td>0.284330</td>\n      <td>0.270537</td>\n      <td>0.284147</td>\n      <td>0.299129</td>\n      <td>0.313403</td>\n      <td>0.310798</td>\n      <td>0.292217</td>\n    </tr>\n    <tr>\n      <th>away_player_5</th>\n      <td>0.099167</td>\n      <td>0.049854</td>\n      <td>0.049854</td>\n      <td>0.025819</td>\n      <td>0.464910</td>\n      <td>0.033080</td>\n      <td>0.066423</td>\n      <td>0.013281</td>\n      <td>-0.010755</td>\n      <td>0.221095</td>\n      <td>...</td>\n      <td>0.302437</td>\n      <td>0.256560</td>\n      <td>0.284330</td>\n      <td>1.000000</td>\n      <td>0.274032</td>\n      <td>0.284016</td>\n      <td>0.274719</td>\n      <td>0.306604</td>\n      <td>0.310687</td>\n      <td>0.306186</td>\n    </tr>\n    <tr>\n      <th>away_player_6</th>\n      <td>0.131304</td>\n      <td>0.082417</td>\n      <td>0.082417</td>\n      <td>0.033483</td>\n      <td>0.460577</td>\n      <td>0.008928</td>\n      <td>0.023967</td>\n      <td>0.005321</td>\n      <td>0.003334</td>\n      <td>0.227765</td>\n      <td>...</td>\n      <td>0.293340</td>\n      <td>0.293154</td>\n      <td>0.270537</td>\n      <td>0.274032</td>\n      <td>1.000000</td>\n      <td>0.290174</td>\n      <td>0.290777</td>\n      <td>0.309609</td>\n      <td>0.301717</td>\n      <td>0.290168</td>\n    </tr>\n    <tr>\n      <th>away_player_7</th>\n      <td>0.150160</td>\n      <td>0.105299</td>\n      <td>0.105299</td>\n      <td>0.030289</td>\n      <td>0.430389</td>\n      <td>0.011731</td>\n      <td>0.025695</td>\n      <td>0.018298</td>\n      <td>0.008984</td>\n      <td>0.224581</td>\n      <td>...</td>\n      <td>0.317708</td>\n      <td>0.271316</td>\n      <td>0.284147</td>\n      <td>0.284016</td>\n      <td>0.290174</td>\n      <td>1.000000</td>\n      <td>0.295840</td>\n      <td>0.279070</td>\n      <td>0.317878</td>\n      <td>0.289268</td>\n    </tr>\n    <tr>\n      <th>away_player_8</th>\n      <td>0.157078</td>\n      <td>0.107786</td>\n      <td>0.107786</td>\n      <td>0.035623</td>\n      <td>0.470859</td>\n      <td>0.010095</td>\n      <td>0.015902</td>\n      <td>0.002707</td>\n      <td>0.007819</td>\n      <td>0.224063</td>\n      <td>...</td>\n      <td>0.294699</td>\n      <td>0.267717</td>\n      <td>0.299129</td>\n      <td>0.274719</td>\n      <td>0.290777</td>\n      <td>0.295840</td>\n      <td>1.000000</td>\n      <td>0.312039</td>\n      <td>0.330415</td>\n      <td>0.315996</td>\n    </tr>\n    <tr>\n      <th>away_player_9</th>\n      <td>0.147079</td>\n      <td>0.094552</td>\n      <td>0.094552</td>\n      <td>0.027551</td>\n      <td>0.491560</td>\n      <td>0.016016</td>\n      <td>0.038274</td>\n      <td>0.002726</td>\n      <td>0.001986</td>\n      <td>0.258750</td>\n      <td>...</td>\n      <td>0.311982</td>\n      <td>0.298998</td>\n      <td>0.313403</td>\n      <td>0.306604</td>\n      <td>0.309609</td>\n      <td>0.279070</td>\n      <td>0.312039</td>\n      <td>1.000000</td>\n      <td>0.348570</td>\n      <td>0.332803</td>\n    </tr>\n    <tr>\n      <th>away_player_10</th>\n      <td>0.162854</td>\n      <td>0.112568</td>\n      <td>0.112568</td>\n      <td>0.043196</td>\n      <td>0.473117</td>\n      <td>0.000927</td>\n      <td>0.038113</td>\n      <td>0.026435</td>\n      <td>-0.019181</td>\n      <td>0.225156</td>\n      <td>...</td>\n      <td>0.324268</td>\n      <td>0.283648</td>\n      <td>0.310798</td>\n      <td>0.310687</td>\n      <td>0.301717</td>\n      <td>0.317878</td>\n      <td>0.330415</td>\n      <td>0.348570</td>\n      <td>1.000000</td>\n      <td>0.309371</td>\n    </tr>\n    <tr>\n      <th>away_player_11</th>\n      <td>0.123093</td>\n      <td>0.073580</td>\n      <td>0.073580</td>\n      <td>0.034649</td>\n      <td>0.466457</td>\n      <td>0.009703</td>\n      <td>0.041527</td>\n      <td>0.019376</td>\n      <td>-0.009942</td>\n      <td>0.225869</td>\n      <td>...</td>\n      <td>0.339766</td>\n      <td>0.280717</td>\n      <td>0.292217</td>\n      <td>0.306186</td>\n      <td>0.290168</td>\n      <td>0.289268</td>\n      <td>0.315996</td>\n      <td>0.332803</td>\n      <td>0.309371</td>\n      <td>1.000000</td>\n    </tr>\n  </tbody>\n</table>\n<p>31 rows × 31 columns</p>\n</div>"
     },
     "metadata": {},
     "execution_count": 92
    }
   ],
   "source": [
    "relevant_match.corr()"
   ]
  },
  {
   "cell_type": "code",
   "execution_count": 93,
   "metadata": {},
   "outputs": [
    {
     "output_type": "stream",
     "name": "stdout",
     "text": [
      "<class 'pandas.core.frame.DataFrame'>\nInt64Index: 14217 entries, 1728 to 25948\nData columns (total 41 columns):\n #   Column            Non-Null Count  Dtype  \n---  ------            --------------  -----  \n 0   id                14217 non-null  int64  \n 1   country_id        14217 non-null  int64  \n 2   league_id         14217 non-null  int64  \n 3   season            14217 non-null  object \n 4   stage             14217 non-null  int64  \n 5   date              14217 non-null  object \n 6   match_api_id      14217 non-null  int64  \n 7   home_team_api_id  14217 non-null  int64  \n 8   away_team_api_id  14217 non-null  int64  \n 9   home_team_goal    14217 non-null  int64  \n 10  away_team_goal    14217 non-null  int64  \n 11  home_player_1     14185 non-null  float64\n 12  home_player_2     14168 non-null  float64\n 13  home_player_3     14179 non-null  float64\n 14  home_player_4     14175 non-null  float64\n 15  home_player_5     14174 non-null  float64\n 16  home_player_6     14190 non-null  float64\n 17  home_player_7     14167 non-null  float64\n 18  home_player_8     14175 non-null  float64\n 19  home_player_9     14180 non-null  float64\n 20  home_player_10    14140 non-null  float64\n 21  home_player_11    14156 non-null  float64\n 22  away_player_1     14192 non-null  float64\n 23  away_player_2     14169 non-null  float64\n 24  away_player_3     14170 non-null  float64\n 25  away_player_4     14176 non-null  float64\n 26  away_player_5     14170 non-null  float64\n 27  away_player_6     14177 non-null  float64\n 28  away_player_7     14176 non-null  float64\n 29  away_player_8     14167 non-null  float64\n 30  away_player_9     14174 non-null  float64\n 31  away_player_10    14146 non-null  float64\n 32  away_player_11    14146 non-null  float64\n 33  goal              14217 non-null  object \n 34  shoton            14217 non-null  object \n 35  shotoff           14217 non-null  object \n 36  foulcommit        14217 non-null  object \n 37  card              14217 non-null  object \n 38  cross             14217 non-null  object \n 39  corner            14217 non-null  object \n 40  possession        14217 non-null  object \ndtypes: float64(22), int64(9), object(10)\nmemory usage: 4.6+ MB\n"
     ]
    }
   ],
   "source": [
    "relevant_match.info()"
   ]
  },
  {
   "cell_type": "code",
   "execution_count": 94,
   "metadata": {},
   "outputs": [
    {
     "output_type": "stream",
     "name": "stdout",
     "text": [
      "<class 'pandas.core.frame.DataFrame'>\nInt64Index: 14140 entries, 1728 to 25948\nData columns (total 41 columns):\n #   Column            Non-Null Count  Dtype  \n---  ------            --------------  -----  \n 0   id                14140 non-null  int64  \n 1   country_id        14140 non-null  int64  \n 2   league_id         14140 non-null  int64  \n 3   season            14140 non-null  object \n 4   stage             14140 non-null  int64  \n 5   date              14140 non-null  object \n 6   match_api_id      14140 non-null  int64  \n 7   home_team_api_id  14140 non-null  int64  \n 8   away_team_api_id  14140 non-null  int64  \n 9   home_team_goal    14140 non-null  int64  \n 10  away_team_goal    14140 non-null  int64  \n 11  home_player_1     14109 non-null  float64\n 12  home_player_2     14095 non-null  float64\n 13  home_player_3     14103 non-null  float64\n 14  home_player_4     14098 non-null  float64\n 15  home_player_5     14098 non-null  float64\n 16  home_player_6     14114 non-null  float64\n 17  home_player_7     14090 non-null  float64\n 18  home_player_8     14099 non-null  float64\n 19  home_player_9     14104 non-null  float64\n 20  home_player_10    14140 non-null  float64\n 21  home_player_11    14079 non-null  float64\n 22  away_player_1     14116 non-null  float64\n 23  away_player_2     14092 non-null  float64\n 24  away_player_3     14095 non-null  float64\n 25  away_player_4     14102 non-null  float64\n 26  away_player_5     14094 non-null  float64\n 27  away_player_6     14100 non-null  float64\n 28  away_player_7     14099 non-null  float64\n 29  away_player_8     14092 non-null  float64\n 30  away_player_9     14098 non-null  float64\n 31  away_player_10    14071 non-null  float64\n 32  away_player_11    14070 non-null  float64\n 33  goal              14140 non-null  object \n 34  shoton            14140 non-null  object \n 35  shotoff           14140 non-null  object \n 36  foulcommit        14140 non-null  object \n 37  card              14140 non-null  object \n 38  cross             14140 non-null  object \n 39  corner            14140 non-null  object \n 40  possession        14140 non-null  object \ndtypes: float64(22), int64(9), object(10)\nmemory usage: 4.5+ MB\n"
     ]
    }
   ],
   "source": [
    "relevant_match[relevant_match['home_player_10'].notna()].info()"
   ]
  },
  {
   "cell_type": "code",
   "execution_count": 95,
   "metadata": {},
   "outputs": [
    {
     "output_type": "execute_result",
     "data": {
      "text/plain": [
       "        id  country_id  league_id     season  stage                 date  \\\n",
       "1728  1729        1729       1729  2008/2009      1  2008-08-17 00:00:00   \n",
       "1729  1730        1729       1729  2008/2009      1  2008-08-16 00:00:00   \n",
       "1730  1731        1729       1729  2008/2009      1  2008-08-16 00:00:00   \n",
       "1731  1732        1729       1729  2008/2009      1  2008-08-16 00:00:00   \n",
       "1732  1733        1729       1729  2008/2009      1  2008-08-17 00:00:00   \n",
       "\n",
       "      match_api_id  home_team_api_id  away_team_api_id  home_team_goal  ...  \\\n",
       "1728        489042             10260             10261               1  ...   \n",
       "1729        489043              9825              8659               1  ...   \n",
       "1730        489044              8472              8650               0  ...   \n",
       "1731        489045              8654              8528               2  ...   \n",
       "1732        489046             10252              8456               4  ...   \n",
       "\n",
       "      away_player_10  away_player_11  \\\n",
       "1728         34574.0         37799.0   \n",
       "1729         25922.0         27267.0   \n",
       "1730         24635.0         30853.0   \n",
       "1731        127857.0         34466.0   \n",
       "1732         33633.0        107216.0   \n",
       "\n",
       "                                                   goal  \\\n",
       "1728  <goal><value><comment>n</comment><stats><goals...   \n",
       "1729  <goal><value><comment>n</comment><stats><goals...   \n",
       "1730  <goal><value><comment>n</comment><stats><goals...   \n",
       "1731  <goal><value><comment>n</comment><stats><goals...   \n",
       "1732  <goal><value><comment>n</comment><stats><goals...   \n",
       "\n",
       "                                                 shoton  \\\n",
       "1728  <shoton><value><stats><blocked>1</blocked></st...   \n",
       "1729  <shoton><value><stats><blocked>1</blocked></st...   \n",
       "1730  <shoton><value><stats><blocked>1</blocked></st...   \n",
       "1731  <shoton><value><stats><shoton>1</shoton></stat...   \n",
       "1732  <shoton><value><stats><blocked>1</blocked></st...   \n",
       "\n",
       "                                                shotoff  \\\n",
       "1728  <shotoff><value><stats><shotoff>1</shotoff></s...   \n",
       "1729  <shotoff><value><stats><shotoff>1</shotoff></s...   \n",
       "1730  <shotoff><value><stats><shotoff>1</shotoff></s...   \n",
       "1731  <shotoff><value><stats><shotoff>1</shotoff></s...   \n",
       "1732  <shotoff><value><stats><shotoff>1</shotoff></s...   \n",
       "\n",
       "                                             foulcommit  \\\n",
       "1728  <foulcommit><value><stats><foulscommitted>1</f...   \n",
       "1729  <foulcommit><value><stats><foulscommitted>1</f...   \n",
       "1730  <foulcommit><value><stats><foulscommitted>1</f...   \n",
       "1731  <foulcommit><value><stats><foulscommitted>1</f...   \n",
       "1732  <foulcommit><value><stats><foulscommitted>1</f...   \n",
       "\n",
       "                                                   card  \\\n",
       "1728  <card><value><comment>y</comment><stats><ycard...   \n",
       "1729                                           <card />   \n",
       "1730  <card><value><comment>y</comment><stats><ycard...   \n",
       "1731  <card><value><comment>y</comment><stats><ycard...   \n",
       "1732  <card><value><comment>y</comment><stats><ycard...   \n",
       "\n",
       "                                                  cross  \\\n",
       "1728  <cross><value><stats><crosses>1</crosses></sta...   \n",
       "1729  <cross><value><stats><crosses>1</crosses></sta...   \n",
       "1730  <cross><value><stats><crosses>1</crosses></sta...   \n",
       "1731  <cross><value><stats><crosses>1</crosses></sta...   \n",
       "1732  <cross><value><stats><corners>1</corners></sta...   \n",
       "\n",
       "                                                 corner  \\\n",
       "1728  <corner><value><stats><corners>1</corners></st...   \n",
       "1729  <corner><value><stats><corners>1</corners></st...   \n",
       "1730  <corner><value><stats><corners>1</corners></st...   \n",
       "1731  <corner><value><stats><corners>1</corners></st...   \n",
       "1732  <corner><value><stats><corners>1</corners></st...   \n",
       "\n",
       "                                             possession  \n",
       "1728  <possession><value><comment>56</comment><event...  \n",
       "1729  <possession><value><comment>65</comment><event...  \n",
       "1730  <possession><value><comment>45</comment><event...  \n",
       "1731  <possession><value><comment>50</comment><event...  \n",
       "1732  <possession><value><comment>51</comment><event...  \n",
       "\n",
       "[5 rows x 41 columns]"
      ],
      "text/html": "<div>\n<style scoped>\n    .dataframe tbody tr th:only-of-type {\n        vertical-align: middle;\n    }\n\n    .dataframe tbody tr th {\n        vertical-align: top;\n    }\n\n    .dataframe thead th {\n        text-align: right;\n    }\n</style>\n<table border=\"1\" class=\"dataframe\">\n  <thead>\n    <tr style=\"text-align: right;\">\n      <th></th>\n      <th>id</th>\n      <th>country_id</th>\n      <th>league_id</th>\n      <th>season</th>\n      <th>stage</th>\n      <th>date</th>\n      <th>match_api_id</th>\n      <th>home_team_api_id</th>\n      <th>away_team_api_id</th>\n      <th>home_team_goal</th>\n      <th>...</th>\n      <th>away_player_10</th>\n      <th>away_player_11</th>\n      <th>goal</th>\n      <th>shoton</th>\n      <th>shotoff</th>\n      <th>foulcommit</th>\n      <th>card</th>\n      <th>cross</th>\n      <th>corner</th>\n      <th>possession</th>\n    </tr>\n  </thead>\n  <tbody>\n    <tr>\n      <th>1728</th>\n      <td>1729</td>\n      <td>1729</td>\n      <td>1729</td>\n      <td>2008/2009</td>\n      <td>1</td>\n      <td>2008-08-17 00:00:00</td>\n      <td>489042</td>\n      <td>10260</td>\n      <td>10261</td>\n      <td>1</td>\n      <td>...</td>\n      <td>34574.0</td>\n      <td>37799.0</td>\n      <td>&lt;goal&gt;&lt;value&gt;&lt;comment&gt;n&lt;/comment&gt;&lt;stats&gt;&lt;goals...</td>\n      <td>&lt;shoton&gt;&lt;value&gt;&lt;stats&gt;&lt;blocked&gt;1&lt;/blocked&gt;&lt;/st...</td>\n      <td>&lt;shotoff&gt;&lt;value&gt;&lt;stats&gt;&lt;shotoff&gt;1&lt;/shotoff&gt;&lt;/s...</td>\n      <td>&lt;foulcommit&gt;&lt;value&gt;&lt;stats&gt;&lt;foulscommitted&gt;1&lt;/f...</td>\n      <td>&lt;card&gt;&lt;value&gt;&lt;comment&gt;y&lt;/comment&gt;&lt;stats&gt;&lt;ycard...</td>\n      <td>&lt;cross&gt;&lt;value&gt;&lt;stats&gt;&lt;crosses&gt;1&lt;/crosses&gt;&lt;/sta...</td>\n      <td>&lt;corner&gt;&lt;value&gt;&lt;stats&gt;&lt;corners&gt;1&lt;/corners&gt;&lt;/st...</td>\n      <td>&lt;possession&gt;&lt;value&gt;&lt;comment&gt;56&lt;/comment&gt;&lt;event...</td>\n    </tr>\n    <tr>\n      <th>1729</th>\n      <td>1730</td>\n      <td>1729</td>\n      <td>1729</td>\n      <td>2008/2009</td>\n      <td>1</td>\n      <td>2008-08-16 00:00:00</td>\n      <td>489043</td>\n      <td>9825</td>\n      <td>8659</td>\n      <td>1</td>\n      <td>...</td>\n      <td>25922.0</td>\n      <td>27267.0</td>\n      <td>&lt;goal&gt;&lt;value&gt;&lt;comment&gt;n&lt;/comment&gt;&lt;stats&gt;&lt;goals...</td>\n      <td>&lt;shoton&gt;&lt;value&gt;&lt;stats&gt;&lt;blocked&gt;1&lt;/blocked&gt;&lt;/st...</td>\n      <td>&lt;shotoff&gt;&lt;value&gt;&lt;stats&gt;&lt;shotoff&gt;1&lt;/shotoff&gt;&lt;/s...</td>\n      <td>&lt;foulcommit&gt;&lt;value&gt;&lt;stats&gt;&lt;foulscommitted&gt;1&lt;/f...</td>\n      <td>&lt;card /&gt;</td>\n      <td>&lt;cross&gt;&lt;value&gt;&lt;stats&gt;&lt;crosses&gt;1&lt;/crosses&gt;&lt;/sta...</td>\n      <td>&lt;corner&gt;&lt;value&gt;&lt;stats&gt;&lt;corners&gt;1&lt;/corners&gt;&lt;/st...</td>\n      <td>&lt;possession&gt;&lt;value&gt;&lt;comment&gt;65&lt;/comment&gt;&lt;event...</td>\n    </tr>\n    <tr>\n      <th>1730</th>\n      <td>1731</td>\n      <td>1729</td>\n      <td>1729</td>\n      <td>2008/2009</td>\n      <td>1</td>\n      <td>2008-08-16 00:00:00</td>\n      <td>489044</td>\n      <td>8472</td>\n      <td>8650</td>\n      <td>0</td>\n      <td>...</td>\n      <td>24635.0</td>\n      <td>30853.0</td>\n      <td>&lt;goal&gt;&lt;value&gt;&lt;comment&gt;n&lt;/comment&gt;&lt;stats&gt;&lt;goals...</td>\n      <td>&lt;shoton&gt;&lt;value&gt;&lt;stats&gt;&lt;blocked&gt;1&lt;/blocked&gt;&lt;/st...</td>\n      <td>&lt;shotoff&gt;&lt;value&gt;&lt;stats&gt;&lt;shotoff&gt;1&lt;/shotoff&gt;&lt;/s...</td>\n      <td>&lt;foulcommit&gt;&lt;value&gt;&lt;stats&gt;&lt;foulscommitted&gt;1&lt;/f...</td>\n      <td>&lt;card&gt;&lt;value&gt;&lt;comment&gt;y&lt;/comment&gt;&lt;stats&gt;&lt;ycard...</td>\n      <td>&lt;cross&gt;&lt;value&gt;&lt;stats&gt;&lt;crosses&gt;1&lt;/crosses&gt;&lt;/sta...</td>\n      <td>&lt;corner&gt;&lt;value&gt;&lt;stats&gt;&lt;corners&gt;1&lt;/corners&gt;&lt;/st...</td>\n      <td>&lt;possession&gt;&lt;value&gt;&lt;comment&gt;45&lt;/comment&gt;&lt;event...</td>\n    </tr>\n    <tr>\n      <th>1731</th>\n      <td>1732</td>\n      <td>1729</td>\n      <td>1729</td>\n      <td>2008/2009</td>\n      <td>1</td>\n      <td>2008-08-16 00:00:00</td>\n      <td>489045</td>\n      <td>8654</td>\n      <td>8528</td>\n      <td>2</td>\n      <td>...</td>\n      <td>127857.0</td>\n      <td>34466.0</td>\n      <td>&lt;goal&gt;&lt;value&gt;&lt;comment&gt;n&lt;/comment&gt;&lt;stats&gt;&lt;goals...</td>\n      <td>&lt;shoton&gt;&lt;value&gt;&lt;stats&gt;&lt;shoton&gt;1&lt;/shoton&gt;&lt;/stat...</td>\n      <td>&lt;shotoff&gt;&lt;value&gt;&lt;stats&gt;&lt;shotoff&gt;1&lt;/shotoff&gt;&lt;/s...</td>\n      <td>&lt;foulcommit&gt;&lt;value&gt;&lt;stats&gt;&lt;foulscommitted&gt;1&lt;/f...</td>\n      <td>&lt;card&gt;&lt;value&gt;&lt;comment&gt;y&lt;/comment&gt;&lt;stats&gt;&lt;ycard...</td>\n      <td>&lt;cross&gt;&lt;value&gt;&lt;stats&gt;&lt;crosses&gt;1&lt;/crosses&gt;&lt;/sta...</td>\n      <td>&lt;corner&gt;&lt;value&gt;&lt;stats&gt;&lt;corners&gt;1&lt;/corners&gt;&lt;/st...</td>\n      <td>&lt;possession&gt;&lt;value&gt;&lt;comment&gt;50&lt;/comment&gt;&lt;event...</td>\n    </tr>\n    <tr>\n      <th>1732</th>\n      <td>1733</td>\n      <td>1729</td>\n      <td>1729</td>\n      <td>2008/2009</td>\n      <td>1</td>\n      <td>2008-08-17 00:00:00</td>\n      <td>489046</td>\n      <td>10252</td>\n      <td>8456</td>\n      <td>4</td>\n      <td>...</td>\n      <td>33633.0</td>\n      <td>107216.0</td>\n      <td>&lt;goal&gt;&lt;value&gt;&lt;comment&gt;n&lt;/comment&gt;&lt;stats&gt;&lt;goals...</td>\n      <td>&lt;shoton&gt;&lt;value&gt;&lt;stats&gt;&lt;blocked&gt;1&lt;/blocked&gt;&lt;/st...</td>\n      <td>&lt;shotoff&gt;&lt;value&gt;&lt;stats&gt;&lt;shotoff&gt;1&lt;/shotoff&gt;&lt;/s...</td>\n      <td>&lt;foulcommit&gt;&lt;value&gt;&lt;stats&gt;&lt;foulscommitted&gt;1&lt;/f...</td>\n      <td>&lt;card&gt;&lt;value&gt;&lt;comment&gt;y&lt;/comment&gt;&lt;stats&gt;&lt;ycard...</td>\n      <td>&lt;cross&gt;&lt;value&gt;&lt;stats&gt;&lt;corners&gt;1&lt;/corners&gt;&lt;/sta...</td>\n      <td>&lt;corner&gt;&lt;value&gt;&lt;stats&gt;&lt;corners&gt;1&lt;/corners&gt;&lt;/st...</td>\n      <td>&lt;possession&gt;&lt;value&gt;&lt;comment&gt;51&lt;/comment&gt;&lt;event...</td>\n    </tr>\n  </tbody>\n</table>\n<p>5 rows × 41 columns</p>\n</div>"
     },
     "metadata": {},
     "execution_count": 95
    }
   ],
   "source": [
    "relevant_match.head()"
   ]
  },
  {
   "cell_type": "code",
   "execution_count": 96,
   "metadata": {},
   "outputs": [
    {
     "output_type": "execute_result",
     "data": {
      "text/plain": [
       "'<possession><value><comment>56</comment><event_incident_typefk>352</event_incident_typefk><elapsed>25</elapsed><subtype>possession</subtype><sortorder>1</sortorder><awaypos>44</awaypos><homepos>56</homepos><n>68</n><type>special</type><id>379029</id></value><value><comment>54</comment><elapsed_plus>1</elapsed_plus><event_incident_typefk>352</event_incident_typefk><elapsed>45</elapsed><subtype>possession</subtype><sortorder>4</sortorder><awaypos>46</awaypos><homepos>54</homepos><n>117</n><type>special</type><id>379251</id></value><value><comment>54</comment><event_incident_typefk>352</event_incident_typefk><elapsed>70</elapsed><subtype>possession</subtype><sortorder>0</sortorder><awaypos>46</awaypos><homepos>54</homepos><n>190</n><type>special</type><id>379443</id></value><value><comment>55</comment><elapsed_plus>5</elapsed_plus><event_incident_typefk>352</event_incident_typefk><elapsed>90</elapsed><subtype>possession</subtype><sortorder>1</sortorder><awaypos>45</awaypos><homepos>55</homepos><n>252</n><type>special</type><id>379575</id></value></possession>'"
      ]
     },
     "metadata": {},
     "execution_count": 96
    }
   ],
   "source": [
    "relevant_match.loc[1728, \"possession\"]"
   ]
  },
  {
   "cell_type": "code",
   "execution_count": 97,
   "metadata": {},
   "outputs": [
    {
     "output_type": "execute_result",
     "data": {
      "text/plain": [
       "'<shoton><value><stats><blocked>1</blocked></stats><event_incident_typefk>61</event_incident_typefk><elapsed>3</elapsed><subtype>blocked_shot</subtype><player1>24154</player1><sortorder>0</sortorder><team>10260</team><n>253</n><type>shoton</type><id>378828</id></value><value><stats><shoton>1</shoton></stats><event_incident_typefk>154</event_incident_typefk><elapsed>7</elapsed><subtype>header</subtype><player1>24157</player1><sortorder>2</sortorder><team>10260</team><n>258</n><type>shoton</type><id>378866</id></value><value><stats><shoton>1</shoton></stats><event_incident_typefk>153</event_incident_typefk><elapsed>14</elapsed><subtype>shot</subtype><player1>30829</player1><sortorder>1</sortorder><team>10260</team><n>274</n><type>shoton</type><id>378922</id></value><value><stats><shoton>1</shoton></stats><event_incident_typefk>153</event_incident_typefk><elapsed>14</elapsed><subtype>shot</subtype><player1>30373</player1><sortorder>2</sortorder><team>10260</team><n>279</n><type>shoton</type><id>378923</id></value><value><stats><shoton>1</shoton></stats><event_incident_typefk>137</event_incident_typefk><elapsed>17</elapsed><subtype>distance</subtype><player1>30373</player1><sortorder>3</sortorder><team>10260</team><n>272</n><type>shoton</type><id>378951</id></value><value><stats><blocked>1</blocked></stats><event_incident_typefk>61</event_incident_typefk><elapsed>43</elapsed><subtype>blocked_shot</subtype><player1>24154</player1><sortorder>0</sortorder><team>10260</team><n>296</n><type>shoton</type><id>379204</id></value><value><stats><shoton>1</shoton></stats><event_incident_typefk>137</event_incident_typefk><elapsed>50</elapsed><subtype>distance</subtype><player1>37799</player1><sortorder>0</sortorder><team>10261</team><n>302</n><type>shoton</type><id>379363</id></value><value><stats><shoton>1</shoton></stats><event_incident_typefk>149</event_incident_typefk><elapsed>58</elapsed><subtype>distance</subtype><player1>24157</player1><sortorder>0</sortorder><team>10260</team><n>310</n><type>shoton</type><id>379401</id></value><value><stats><blocked>1</blocked></stats><event_incident_typefk>61</event_incident_typefk><elapsed>58</elapsed><subtype>blocked_shot</subtype><player1>24157</player1><sortorder>4</sortorder><team>10260</team><n>311</n><type>shoton</type><id>379406</id></value><value><stats><blocked>1</blocked></stats><event_incident_typefk>61</event_incident_typefk><elapsed>60</elapsed><subtype>blocked_shot</subtype><player1>30829</player1><sortorder>0</sortorder><team>10260</team><n>314</n><type>shoton</type><id>379414</id></value><value><stats><shoton>1</shoton></stats><event_incident_typefk>136</event_incident_typefk><elapsed>64</elapsed><subtype>header</subtype><player1>24157</player1><sortorder>0</sortorder><team>10260</team><n>319</n><type>shoton</type><id>379426</id></value><value><stats><blocked>1</blocked></stats><event_incident_typefk>61</event_incident_typefk><elapsed>75</elapsed><subtype>blocked_shot</subtype><player1>30829</player1><sortorder>5</sortorder><team>10260</team><n>338</n><type>shoton</type><id>379466</id></value></shoton>'"
      ]
     },
     "metadata": {},
     "execution_count": 97
    }
   ],
   "source": [
    "relevant_match.loc[1728, \"shoton\"]"
   ]
  },
  {
   "cell_type": "code",
   "execution_count": 98,
   "metadata": {},
   "outputs": [
    {
     "output_type": "execute_result",
     "data": {
      "text/plain": [
       "'<goal><value><comment>n</comment><stats><goals>1</goals><shoton>1</shoton></stats><event_incident_typefk>406</event_incident_typefk><elapsed>22</elapsed><player2>38807</player2><subtype>header</subtype><player1>37799</player1><sortorder>5</sortorder><team>10261</team><id>378998</id><n>295</n><type>goal</type><goal_type>n</goal_type></value><value><comment>n</comment><stats><goals>1</goals><shoton>1</shoton></stats><event_incident_typefk>393</event_incident_typefk><elapsed>24</elapsed><player2>24154</player2><subtype>shot</subtype><player1>24148</player1><sortorder>4</sortorder><team>10260</team><id>379019</id><n>298</n><type>goal</type><goal_type>n</goal_type></value></goal>'"
      ]
     },
     "metadata": {},
     "execution_count": 98
    }
   ],
   "source": [
    "relevant_match.loc[1728, \"goal\"]"
   ]
  },
  {
   "cell_type": "code",
   "execution_count": 99,
   "metadata": {},
   "outputs": [
    {
     "output_type": "execute_result",
     "data": {
      "text/plain": [
       "1"
      ]
     },
     "metadata": {},
     "execution_count": 99
    }
   ],
   "source": [
    "relevant_match.loc[1728, \"home_team_goal\"]"
   ]
  },
  {
   "cell_type": "code",
   "execution_count": 100,
   "metadata": {},
   "outputs": [
    {
     "output_type": "execute_result",
     "data": {
      "text/plain": [
       "1"
      ]
     },
     "metadata": {},
     "execution_count": 100
    }
   ],
   "source": [
    "relevant_match.loc[1728, \"away_team_goal\"]"
   ]
  },
  {
   "cell_type": "code",
   "execution_count": 101,
   "metadata": {},
   "outputs": [],
   "source": [
    "draw_0_0 = (relevant_match[\"home_team_goal\"] == 0) & (relevant_match[\"away_team_goal\"] == 0)"
   ]
  },
  {
   "cell_type": "code",
   "execution_count": 102,
   "metadata": {},
   "outputs": [
    {
     "output_type": "execute_result",
     "data": {
      "text/plain": [
       "(1089, 41)"
      ]
     },
     "metadata": {},
     "execution_count": 102
    }
   ],
   "source": [
    "relevant_match[draw_0_0].shape"
   ]
  },
  {
   "cell_type": "code",
   "execution_count": 103,
   "metadata": {},
   "outputs": [
    {
     "output_type": "execute_result",
     "data": {
      "text/plain": [
       "        id  country_id  league_id     season  stage                 date  \\\n",
       "1767  1768        1729       1729  2008/2009     12  2008-11-08 00:00:00   \n",
       "1770  1771        1729       1729  2008/2009     13  2008-11-15 00:00:00   \n",
       "1778  1779        1729       1729  2008/2009     14  2008-11-22 00:00:00   \n",
       "1781  1782        1729       1729  2008/2009     14  2008-11-22 00:00:00   \n",
       "1787  1788        1729       1729  2008/2009     14  2008-11-22 00:00:00   \n",
       "1788  1789        1729       1729  2008/2009     15  2008-12-01 00:00:00   \n",
       "1791  1792        1729       1729  2008/2009     15  2008-11-29 00:00:00   \n",
       "1792  1793        1729       1729  2008/2009     15  2008-11-29 00:00:00   \n",
       "1810  1811        1729       1729  2008/2009     17  2008-12-13 00:00:00   \n",
       "1815  1816        1729       1729  2008/2009     17  2008-12-13 00:00:00   \n",
       "\n",
       "      match_api_id  home_team_api_id  away_team_api_id  home_team_goal  ...  \\\n",
       "1767        489161              8528             10194               0  ...   \n",
       "1770        489164              8654              8462               0  ...   \n",
       "1778        489172              8650              9879               0  ...   \n",
       "1781        489175             10252             10260               0  ...   \n",
       "1787        489181              8455             10261               0  ...   \n",
       "1788        489182              8650              8654               0  ...   \n",
       "1791        489185             10252              9879               0  ...   \n",
       "1792        489186              8549             10261               0  ...   \n",
       "1810        489204              8586             10260               0  ...   \n",
       "1815        489209             10194              9879               0  ...   \n",
       "\n",
       "      away_player_10  away_player_11  \\\n",
       "1767         38755.0         23314.0   \n",
       "1770         30830.0         30348.0   \n",
       "1778         31907.0         24741.0   \n",
       "1781         38817.0         30829.0   \n",
       "1787         37799.0         30619.0   \n",
       "1788         33781.0         34543.0   \n",
       "1791         31907.0         24741.0   \n",
       "1792         37799.0         30619.0   \n",
       "1810         27430.0         38817.0   \n",
       "1815         30956.0         31907.0   \n",
       "\n",
       "                                                   goal  \\\n",
       "1767                                           <goal />   \n",
       "1770                                           <goal />   \n",
       "1778                                           <goal />   \n",
       "1781                                           <goal />   \n",
       "1787  <goal><value><comment>dg</comment><event_incid...   \n",
       "1788                                           <goal />   \n",
       "1791                                           <goal />   \n",
       "1792  <goal><value><comment>dg</comment><event_incid...   \n",
       "1810  <goal><value><comment>dg</comment><event_incid...   \n",
       "1815                                           <goal />   \n",
       "\n",
       "                                                 shoton  \\\n",
       "1767  <shoton><value><stats><shoton>1</shoton></stat...   \n",
       "1770  <shoton><value><stats><shoton>1</shoton></stat...   \n",
       "1778  <shoton><value><stats><blocked>1</blocked></st...   \n",
       "1781  <shoton><value><stats><shoton>1</shoton></stat...   \n",
       "1787  <shoton><value><stats><blocked>1</blocked></st...   \n",
       "1788  <shoton><value><stats><blocked>1</blocked></st...   \n",
       "1791  <shoton><value><stats><shoton>1</shoton></stat...   \n",
       "1792  <shoton><value><stats><blocked>1</blocked></st...   \n",
       "1810  <shoton><value><stats><shoton>1</shoton></stat...   \n",
       "1815  <shoton><value><stats><blocked>1</blocked></st...   \n",
       "\n",
       "                                                shotoff  \\\n",
       "1767  <shotoff><value><stats><shotoff>1</shotoff></s...   \n",
       "1770  <shotoff><value><stats><shotoff>1</shotoff></s...   \n",
       "1778  <shotoff><value><stats><shotoff>1</shotoff></s...   \n",
       "1781  <shotoff><value><stats><shotoff>1</shotoff></s...   \n",
       "1787  <shotoff><value><stats><shotoff>1</shotoff></s...   \n",
       "1788  <shotoff><value><stats><shotoff>1</shotoff></s...   \n",
       "1791  <shotoff><value><stats><shotoff>1</shotoff></s...   \n",
       "1792  <shotoff><value><stats><shotoff>1</shotoff></s...   \n",
       "1810  <shotoff><value><stats><shotoff>1</shotoff></s...   \n",
       "1815  <shotoff><value><stats><shotoff>1</shotoff></s...   \n",
       "\n",
       "                                             foulcommit  \\\n",
       "1767  <foulcommit><value><stats><foulscommitted>1</f...   \n",
       "1770  <foulcommit><value><stats><foulscommitted>1</f...   \n",
       "1778  <foulcommit><value><stats><foulscommitted>1</f...   \n",
       "1781  <foulcommit><value><stats><foulscommitted>1</f...   \n",
       "1787  <foulcommit><value><stats><foulscommitted>1</f...   \n",
       "1788  <foulcommit><value><stats><foulscommitted>1</f...   \n",
       "1791  <foulcommit><value><stats><foulscommitted>1</f...   \n",
       "1792  <foulcommit><value><stats><foulscommitted>1</f...   \n",
       "1810  <foulcommit><value><stats><foulscommitted>1</f...   \n",
       "1815  <foulcommit><value><stats><foulscommitted>1</f...   \n",
       "\n",
       "                                                   card  \\\n",
       "1767  <card><value><comment>y</comment><stats><ycard...   \n",
       "1770  <card><value><comment>y</comment><stats><ycard...   \n",
       "1778                                           <card />   \n",
       "1781  <card><value><comment>y</comment><stats><ycard...   \n",
       "1787  <card><value><comment>y</comment><stats><ycard...   \n",
       "1788  <card><value><comment>y</comment><stats><ycard...   \n",
       "1791  <card><value><comment>y</comment><stats><ycard...   \n",
       "1792  <card><value><comment>y</comment><stats><ycard...   \n",
       "1810  <card><value><comment>y</comment><stats><ycard...   \n",
       "1815  <card><value><comment>y</comment><stats><ycard...   \n",
       "\n",
       "                                                  cross  \\\n",
       "1767  <cross><value><stats><crosses>1</crosses></sta...   \n",
       "1770  <cross><value><stats><crosses>1</crosses></sta...   \n",
       "1778  <cross><value><stats><crosses>1</crosses></sta...   \n",
       "1781  <cross><value><stats><crosses>1</crosses></sta...   \n",
       "1787  <cross><value><stats><crosses>1</crosses></sta...   \n",
       "1788  <cross><value><stats><crosses>1</crosses></sta...   \n",
       "1791  <cross><value><stats><crosses>1</crosses></sta...   \n",
       "1792  <cross><value><stats><crosses>1</crosses></sta...   \n",
       "1810  <cross><value><stats><crosses>1</crosses></sta...   \n",
       "1815  <cross><value><stats><crosses>1</crosses></sta...   \n",
       "\n",
       "                                                 corner  \\\n",
       "1767  <corner><value><stats><corners>1</corners></st...   \n",
       "1770  <corner><value><stats><corners>1</corners></st...   \n",
       "1778  <corner><value><stats><corners>1</corners></st...   \n",
       "1781  <corner><value><stats><corners>1</corners></st...   \n",
       "1787  <corner><value><stats><corners>1</corners></st...   \n",
       "1788  <corner><value><stats><corners>1</corners></st...   \n",
       "1791  <corner><value><stats><corners>1</corners></st...   \n",
       "1792  <corner><value><stats><corners>1</corners></st...   \n",
       "1810  <corner><value><stats><corners>1</corners></st...   \n",
       "1815  <corner><value><stats><corners>1</corners></st...   \n",
       "\n",
       "                                             possession  \n",
       "1767  <possession><value><comment>47</comment><event...  \n",
       "1770  <possession><value><comment>47</comment><event...  \n",
       "1778  <possession><value><comment>41</comment><event...  \n",
       "1781  <possession><value><comment>39</comment><event...  \n",
       "1787  <possession><value><comment>66</comment><event...  \n",
       "1788  <possession><value><comment>48</comment><event...  \n",
       "1791  <possession><value><comment>50</comment><event...  \n",
       "1792  <possession><value><comment>44</comment><event...  \n",
       "1810  <possession><value><comment>34</comment><event...  \n",
       "1815  <possession><value><comment>27</comment><event...  \n",
       "\n",
       "[10 rows x 41 columns]"
      ],
      "text/html": "<div>\n<style scoped>\n    .dataframe tbody tr th:only-of-type {\n        vertical-align: middle;\n    }\n\n    .dataframe tbody tr th {\n        vertical-align: top;\n    }\n\n    .dataframe thead th {\n        text-align: right;\n    }\n</style>\n<table border=\"1\" class=\"dataframe\">\n  <thead>\n    <tr style=\"text-align: right;\">\n      <th></th>\n      <th>id</th>\n      <th>country_id</th>\n      <th>league_id</th>\n      <th>season</th>\n      <th>stage</th>\n      <th>date</th>\n      <th>match_api_id</th>\n      <th>home_team_api_id</th>\n      <th>away_team_api_id</th>\n      <th>home_team_goal</th>\n      <th>...</th>\n      <th>away_player_10</th>\n      <th>away_player_11</th>\n      <th>goal</th>\n      <th>shoton</th>\n      <th>shotoff</th>\n      <th>foulcommit</th>\n      <th>card</th>\n      <th>cross</th>\n      <th>corner</th>\n      <th>possession</th>\n    </tr>\n  </thead>\n  <tbody>\n    <tr>\n      <th>1767</th>\n      <td>1768</td>\n      <td>1729</td>\n      <td>1729</td>\n      <td>2008/2009</td>\n      <td>12</td>\n      <td>2008-11-08 00:00:00</td>\n      <td>489161</td>\n      <td>8528</td>\n      <td>10194</td>\n      <td>0</td>\n      <td>...</td>\n      <td>38755.0</td>\n      <td>23314.0</td>\n      <td>&lt;goal /&gt;</td>\n      <td>&lt;shoton&gt;&lt;value&gt;&lt;stats&gt;&lt;shoton&gt;1&lt;/shoton&gt;&lt;/stat...</td>\n      <td>&lt;shotoff&gt;&lt;value&gt;&lt;stats&gt;&lt;shotoff&gt;1&lt;/shotoff&gt;&lt;/s...</td>\n      <td>&lt;foulcommit&gt;&lt;value&gt;&lt;stats&gt;&lt;foulscommitted&gt;1&lt;/f...</td>\n      <td>&lt;card&gt;&lt;value&gt;&lt;comment&gt;y&lt;/comment&gt;&lt;stats&gt;&lt;ycard...</td>\n      <td>&lt;cross&gt;&lt;value&gt;&lt;stats&gt;&lt;crosses&gt;1&lt;/crosses&gt;&lt;/sta...</td>\n      <td>&lt;corner&gt;&lt;value&gt;&lt;stats&gt;&lt;corners&gt;1&lt;/corners&gt;&lt;/st...</td>\n      <td>&lt;possession&gt;&lt;value&gt;&lt;comment&gt;47&lt;/comment&gt;&lt;event...</td>\n    </tr>\n    <tr>\n      <th>1770</th>\n      <td>1771</td>\n      <td>1729</td>\n      <td>1729</td>\n      <td>2008/2009</td>\n      <td>13</td>\n      <td>2008-11-15 00:00:00</td>\n      <td>489164</td>\n      <td>8654</td>\n      <td>8462</td>\n      <td>0</td>\n      <td>...</td>\n      <td>30830.0</td>\n      <td>30348.0</td>\n      <td>&lt;goal /&gt;</td>\n      <td>&lt;shoton&gt;&lt;value&gt;&lt;stats&gt;&lt;shoton&gt;1&lt;/shoton&gt;&lt;/stat...</td>\n      <td>&lt;shotoff&gt;&lt;value&gt;&lt;stats&gt;&lt;shotoff&gt;1&lt;/shotoff&gt;&lt;/s...</td>\n      <td>&lt;foulcommit&gt;&lt;value&gt;&lt;stats&gt;&lt;foulscommitted&gt;1&lt;/f...</td>\n      <td>&lt;card&gt;&lt;value&gt;&lt;comment&gt;y&lt;/comment&gt;&lt;stats&gt;&lt;ycard...</td>\n      <td>&lt;cross&gt;&lt;value&gt;&lt;stats&gt;&lt;crosses&gt;1&lt;/crosses&gt;&lt;/sta...</td>\n      <td>&lt;corner&gt;&lt;value&gt;&lt;stats&gt;&lt;corners&gt;1&lt;/corners&gt;&lt;/st...</td>\n      <td>&lt;possession&gt;&lt;value&gt;&lt;comment&gt;47&lt;/comment&gt;&lt;event...</td>\n    </tr>\n    <tr>\n      <th>1778</th>\n      <td>1779</td>\n      <td>1729</td>\n      <td>1729</td>\n      <td>2008/2009</td>\n      <td>14</td>\n      <td>2008-11-22 00:00:00</td>\n      <td>489172</td>\n      <td>8650</td>\n      <td>9879</td>\n      <td>0</td>\n      <td>...</td>\n      <td>31907.0</td>\n      <td>24741.0</td>\n      <td>&lt;goal /&gt;</td>\n      <td>&lt;shoton&gt;&lt;value&gt;&lt;stats&gt;&lt;blocked&gt;1&lt;/blocked&gt;&lt;/st...</td>\n      <td>&lt;shotoff&gt;&lt;value&gt;&lt;stats&gt;&lt;shotoff&gt;1&lt;/shotoff&gt;&lt;/s...</td>\n      <td>&lt;foulcommit&gt;&lt;value&gt;&lt;stats&gt;&lt;foulscommitted&gt;1&lt;/f...</td>\n      <td>&lt;card /&gt;</td>\n      <td>&lt;cross&gt;&lt;value&gt;&lt;stats&gt;&lt;crosses&gt;1&lt;/crosses&gt;&lt;/sta...</td>\n      <td>&lt;corner&gt;&lt;value&gt;&lt;stats&gt;&lt;corners&gt;1&lt;/corners&gt;&lt;/st...</td>\n      <td>&lt;possession&gt;&lt;value&gt;&lt;comment&gt;41&lt;/comment&gt;&lt;event...</td>\n    </tr>\n    <tr>\n      <th>1781</th>\n      <td>1782</td>\n      <td>1729</td>\n      <td>1729</td>\n      <td>2008/2009</td>\n      <td>14</td>\n      <td>2008-11-22 00:00:00</td>\n      <td>489175</td>\n      <td>10252</td>\n      <td>10260</td>\n      <td>0</td>\n      <td>...</td>\n      <td>38817.0</td>\n      <td>30829.0</td>\n      <td>&lt;goal /&gt;</td>\n      <td>&lt;shoton&gt;&lt;value&gt;&lt;stats&gt;&lt;shoton&gt;1&lt;/shoton&gt;&lt;/stat...</td>\n      <td>&lt;shotoff&gt;&lt;value&gt;&lt;stats&gt;&lt;shotoff&gt;1&lt;/shotoff&gt;&lt;/s...</td>\n      <td>&lt;foulcommit&gt;&lt;value&gt;&lt;stats&gt;&lt;foulscommitted&gt;1&lt;/f...</td>\n      <td>&lt;card&gt;&lt;value&gt;&lt;comment&gt;y&lt;/comment&gt;&lt;stats&gt;&lt;ycard...</td>\n      <td>&lt;cross&gt;&lt;value&gt;&lt;stats&gt;&lt;crosses&gt;1&lt;/crosses&gt;&lt;/sta...</td>\n      <td>&lt;corner&gt;&lt;value&gt;&lt;stats&gt;&lt;corners&gt;1&lt;/corners&gt;&lt;/st...</td>\n      <td>&lt;possession&gt;&lt;value&gt;&lt;comment&gt;39&lt;/comment&gt;&lt;event...</td>\n    </tr>\n    <tr>\n      <th>1787</th>\n      <td>1788</td>\n      <td>1729</td>\n      <td>1729</td>\n      <td>2008/2009</td>\n      <td>14</td>\n      <td>2008-11-22 00:00:00</td>\n      <td>489181</td>\n      <td>8455</td>\n      <td>10261</td>\n      <td>0</td>\n      <td>...</td>\n      <td>37799.0</td>\n      <td>30619.0</td>\n      <td>&lt;goal&gt;&lt;value&gt;&lt;comment&gt;dg&lt;/comment&gt;&lt;event_incid...</td>\n      <td>&lt;shoton&gt;&lt;value&gt;&lt;stats&gt;&lt;blocked&gt;1&lt;/blocked&gt;&lt;/st...</td>\n      <td>&lt;shotoff&gt;&lt;value&gt;&lt;stats&gt;&lt;shotoff&gt;1&lt;/shotoff&gt;&lt;/s...</td>\n      <td>&lt;foulcommit&gt;&lt;value&gt;&lt;stats&gt;&lt;foulscommitted&gt;1&lt;/f...</td>\n      <td>&lt;card&gt;&lt;value&gt;&lt;comment&gt;y&lt;/comment&gt;&lt;stats&gt;&lt;ycard...</td>\n      <td>&lt;cross&gt;&lt;value&gt;&lt;stats&gt;&lt;crosses&gt;1&lt;/crosses&gt;&lt;/sta...</td>\n      <td>&lt;corner&gt;&lt;value&gt;&lt;stats&gt;&lt;corners&gt;1&lt;/corners&gt;&lt;/st...</td>\n      <td>&lt;possession&gt;&lt;value&gt;&lt;comment&gt;66&lt;/comment&gt;&lt;event...</td>\n    </tr>\n    <tr>\n      <th>1788</th>\n      <td>1789</td>\n      <td>1729</td>\n      <td>1729</td>\n      <td>2008/2009</td>\n      <td>15</td>\n      <td>2008-12-01 00:00:00</td>\n      <td>489182</td>\n      <td>8650</td>\n      <td>8654</td>\n      <td>0</td>\n      <td>...</td>\n      <td>33781.0</td>\n      <td>34543.0</td>\n      <td>&lt;goal /&gt;</td>\n      <td>&lt;shoton&gt;&lt;value&gt;&lt;stats&gt;&lt;blocked&gt;1&lt;/blocked&gt;&lt;/st...</td>\n      <td>&lt;shotoff&gt;&lt;value&gt;&lt;stats&gt;&lt;shotoff&gt;1&lt;/shotoff&gt;&lt;/s...</td>\n      <td>&lt;foulcommit&gt;&lt;value&gt;&lt;stats&gt;&lt;foulscommitted&gt;1&lt;/f...</td>\n      <td>&lt;card&gt;&lt;value&gt;&lt;comment&gt;y&lt;/comment&gt;&lt;stats&gt;&lt;ycard...</td>\n      <td>&lt;cross&gt;&lt;value&gt;&lt;stats&gt;&lt;crosses&gt;1&lt;/crosses&gt;&lt;/sta...</td>\n      <td>&lt;corner&gt;&lt;value&gt;&lt;stats&gt;&lt;corners&gt;1&lt;/corners&gt;&lt;/st...</td>\n      <td>&lt;possession&gt;&lt;value&gt;&lt;comment&gt;48&lt;/comment&gt;&lt;event...</td>\n    </tr>\n    <tr>\n      <th>1791</th>\n      <td>1792</td>\n      <td>1729</td>\n      <td>1729</td>\n      <td>2008/2009</td>\n      <td>15</td>\n      <td>2008-11-29 00:00:00</td>\n      <td>489185</td>\n      <td>10252</td>\n      <td>9879</td>\n      <td>0</td>\n      <td>...</td>\n      <td>31907.0</td>\n      <td>24741.0</td>\n      <td>&lt;goal /&gt;</td>\n      <td>&lt;shoton&gt;&lt;value&gt;&lt;stats&gt;&lt;shoton&gt;1&lt;/shoton&gt;&lt;/stat...</td>\n      <td>&lt;shotoff&gt;&lt;value&gt;&lt;stats&gt;&lt;shotoff&gt;1&lt;/shotoff&gt;&lt;/s...</td>\n      <td>&lt;foulcommit&gt;&lt;value&gt;&lt;stats&gt;&lt;foulscommitted&gt;1&lt;/f...</td>\n      <td>&lt;card&gt;&lt;value&gt;&lt;comment&gt;y&lt;/comment&gt;&lt;stats&gt;&lt;ycard...</td>\n      <td>&lt;cross&gt;&lt;value&gt;&lt;stats&gt;&lt;crosses&gt;1&lt;/crosses&gt;&lt;/sta...</td>\n      <td>&lt;corner&gt;&lt;value&gt;&lt;stats&gt;&lt;corners&gt;1&lt;/corners&gt;&lt;/st...</td>\n      <td>&lt;possession&gt;&lt;value&gt;&lt;comment&gt;50&lt;/comment&gt;&lt;event...</td>\n    </tr>\n    <tr>\n      <th>1792</th>\n      <td>1793</td>\n      <td>1729</td>\n      <td>1729</td>\n      <td>2008/2009</td>\n      <td>15</td>\n      <td>2008-11-29 00:00:00</td>\n      <td>489186</td>\n      <td>8549</td>\n      <td>10261</td>\n      <td>0</td>\n      <td>...</td>\n      <td>37799.0</td>\n      <td>30619.0</td>\n      <td>&lt;goal&gt;&lt;value&gt;&lt;comment&gt;dg&lt;/comment&gt;&lt;event_incid...</td>\n      <td>&lt;shoton&gt;&lt;value&gt;&lt;stats&gt;&lt;blocked&gt;1&lt;/blocked&gt;&lt;/st...</td>\n      <td>&lt;shotoff&gt;&lt;value&gt;&lt;stats&gt;&lt;shotoff&gt;1&lt;/shotoff&gt;&lt;/s...</td>\n      <td>&lt;foulcommit&gt;&lt;value&gt;&lt;stats&gt;&lt;foulscommitted&gt;1&lt;/f...</td>\n      <td>&lt;card&gt;&lt;value&gt;&lt;comment&gt;y&lt;/comment&gt;&lt;stats&gt;&lt;ycard...</td>\n      <td>&lt;cross&gt;&lt;value&gt;&lt;stats&gt;&lt;crosses&gt;1&lt;/crosses&gt;&lt;/sta...</td>\n      <td>&lt;corner&gt;&lt;value&gt;&lt;stats&gt;&lt;corners&gt;1&lt;/corners&gt;&lt;/st...</td>\n      <td>&lt;possession&gt;&lt;value&gt;&lt;comment&gt;44&lt;/comment&gt;&lt;event...</td>\n    </tr>\n    <tr>\n      <th>1810</th>\n      <td>1811</td>\n      <td>1729</td>\n      <td>1729</td>\n      <td>2008/2009</td>\n      <td>17</td>\n      <td>2008-12-13 00:00:00</td>\n      <td>489204</td>\n      <td>8586</td>\n      <td>10260</td>\n      <td>0</td>\n      <td>...</td>\n      <td>27430.0</td>\n      <td>38817.0</td>\n      <td>&lt;goal&gt;&lt;value&gt;&lt;comment&gt;dg&lt;/comment&gt;&lt;event_incid...</td>\n      <td>&lt;shoton&gt;&lt;value&gt;&lt;stats&gt;&lt;shoton&gt;1&lt;/shoton&gt;&lt;/stat...</td>\n      <td>&lt;shotoff&gt;&lt;value&gt;&lt;stats&gt;&lt;shotoff&gt;1&lt;/shotoff&gt;&lt;/s...</td>\n      <td>&lt;foulcommit&gt;&lt;value&gt;&lt;stats&gt;&lt;foulscommitted&gt;1&lt;/f...</td>\n      <td>&lt;card&gt;&lt;value&gt;&lt;comment&gt;y&lt;/comment&gt;&lt;stats&gt;&lt;ycard...</td>\n      <td>&lt;cross&gt;&lt;value&gt;&lt;stats&gt;&lt;crosses&gt;1&lt;/crosses&gt;&lt;/sta...</td>\n      <td>&lt;corner&gt;&lt;value&gt;&lt;stats&gt;&lt;corners&gt;1&lt;/corners&gt;&lt;/st...</td>\n      <td>&lt;possession&gt;&lt;value&gt;&lt;comment&gt;34&lt;/comment&gt;&lt;event...</td>\n    </tr>\n    <tr>\n      <th>1815</th>\n      <td>1816</td>\n      <td>1729</td>\n      <td>1729</td>\n      <td>2008/2009</td>\n      <td>17</td>\n      <td>2008-12-13 00:00:00</td>\n      <td>489209</td>\n      <td>10194</td>\n      <td>9879</td>\n      <td>0</td>\n      <td>...</td>\n      <td>30956.0</td>\n      <td>31907.0</td>\n      <td>&lt;goal /&gt;</td>\n      <td>&lt;shoton&gt;&lt;value&gt;&lt;stats&gt;&lt;blocked&gt;1&lt;/blocked&gt;&lt;/st...</td>\n      <td>&lt;shotoff&gt;&lt;value&gt;&lt;stats&gt;&lt;shotoff&gt;1&lt;/shotoff&gt;&lt;/s...</td>\n      <td>&lt;foulcommit&gt;&lt;value&gt;&lt;stats&gt;&lt;foulscommitted&gt;1&lt;/f...</td>\n      <td>&lt;card&gt;&lt;value&gt;&lt;comment&gt;y&lt;/comment&gt;&lt;stats&gt;&lt;ycard...</td>\n      <td>&lt;cross&gt;&lt;value&gt;&lt;stats&gt;&lt;crosses&gt;1&lt;/crosses&gt;&lt;/sta...</td>\n      <td>&lt;corner&gt;&lt;value&gt;&lt;stats&gt;&lt;corners&gt;1&lt;/corners&gt;&lt;/st...</td>\n      <td>&lt;possession&gt;&lt;value&gt;&lt;comment&gt;27&lt;/comment&gt;&lt;event...</td>\n    </tr>\n  </tbody>\n</table>\n<p>10 rows × 41 columns</p>\n</div>"
     },
     "metadata": {},
     "execution_count": 103
    }
   ],
   "source": [
    "relevant_match[draw_0_0].head(10)"
   ]
  },
  {
   "cell_type": "code",
   "execution_count": 104,
   "metadata": {},
   "outputs": [
    {
     "output_type": "execute_result",
     "data": {
      "text/plain": [
       "'<goal />'"
      ]
     },
     "metadata": {},
     "execution_count": 104
    }
   ],
   "source": [
    "relevant_match[draw_0_0].loc[1770, \"goal\"]"
   ]
  },
  {
   "cell_type": "code",
   "execution_count": 105,
   "metadata": {},
   "outputs": [
    {
     "output_type": "execute_result",
     "data": {
      "text/plain": [
       "'<possession><value><comment>47</comment><event_incident_typefk>352</event_incident_typefk><elapsed>25</elapsed><subtype>possession</subtype><sortorder>2</sortorder><awaypos>53</awaypos><homepos>47</homepos><n>68</n><type>special</type><id>487255</id></value><value><comment>50</comment><event_incident_typefk>352</event_incident_typefk><elapsed>45</elapsed><subtype>possession</subtype><sortorder>2</sortorder><awaypos>50</awaypos><homepos>50</homepos><n>94</n><type>special</type><id>487574</id></value><value><comment>47</comment><event_incident_typefk>352</event_incident_typefk><elapsed>71</elapsed><subtype>possession</subtype><sortorder>0</sortorder><awaypos>53</awaypos><homepos>47</homepos><n>161</n><type>special</type><id>488145</id></value><value><comment>50</comment><elapsed_plus>1</elapsed_plus><event_incident_typefk>352</event_incident_typefk><elapsed>90</elapsed><subtype>possession</subtype><sortorder>1</sortorder><awaypos>50</awaypos><homepos>50</homepos><n>205</n><type>special</type><id>488470</id></value></possession>'"
      ]
     },
     "metadata": {},
     "execution_count": 105
    }
   ],
   "source": [
    "relevant_match[draw_0_0].loc[1770, \"possession\"]"
   ]
  },
  {
   "cell_type": "code",
   "execution_count": 106,
   "metadata": {},
   "outputs": [
    {
     "output_type": "execute_result",
     "data": {
      "text/plain": [
       "        id  country_id  league_id     season  stage                 date  \\\n",
       "1729  1730        1729       1729  2008/2009      1  2008-08-16 00:00:00   \n",
       "1743  1744        1729       1729  2008/2009     10  2008-10-29 00:00:00   \n",
       "1744  1745        1729       1729  2008/2009     10  2008-10-29 00:00:00   \n",
       "1750  1751        1729       1729  2008/2009     11  2008-11-01 00:00:00   \n",
       "1780  1781        1729       1729  2008/2009     14  2008-11-23 00:00:00   \n",
       "\n",
       "      match_api_id  home_team_api_id  away_team_api_id  home_team_goal  ...  \\\n",
       "1729        489043              9825              8659               1  ...   \n",
       "1743        489137             10194              8472               1  ...   \n",
       "1744        489138              8650              8462               1  ...   \n",
       "1750        489144              8668              9879               1  ...   \n",
       "1780        489174              8586              8655               1  ...   \n",
       "\n",
       "      away_player_10  away_player_11  \\\n",
       "1729         25922.0         27267.0   \n",
       "1743         23927.0         33418.0   \n",
       "1744         63520.0         30830.0   \n",
       "1750         24741.0         31907.0   \n",
       "1780         34947.0         30646.0   \n",
       "\n",
       "                                                   goal  \\\n",
       "1729  <goal><value><comment>n</comment><stats><goals...   \n",
       "1743  <goal><value><comment>n</comment><stats><goals...   \n",
       "1744  <goal><value><comment>p</comment><stats><penal...   \n",
       "1750  <goal><value><comment>n</comment><stats><goals...   \n",
       "1780  <goal><value><comment>n</comment><stats><goals...   \n",
       "\n",
       "                                                 shoton  \\\n",
       "1729  <shoton><value><stats><blocked>1</blocked></st...   \n",
       "1743  <shoton><value><stats><shoton>1</shoton></stat...   \n",
       "1744  <shoton><value><stats><shoton>1</shoton></stat...   \n",
       "1750  <shoton><value><stats><shoton>1</shoton></stat...   \n",
       "1780  <shoton><value><stats><shoton>1</shoton></stat...   \n",
       "\n",
       "                                                shotoff  \\\n",
       "1729  <shotoff><value><stats><shotoff>1</shotoff></s...   \n",
       "1743  <shotoff><value><stats><shotoff>1</shotoff></s...   \n",
       "1744  <shotoff><value><stats><shotoff>1</shotoff></s...   \n",
       "1750  <shotoff><value><stats><shotoff>1</shotoff></s...   \n",
       "1780  <shotoff><value><stats><shotoff>1</shotoff></s...   \n",
       "\n",
       "                                             foulcommit  \\\n",
       "1729  <foulcommit><value><stats><foulscommitted>1</f...   \n",
       "1743  <foulcommit><value><stats><foulscommitted>1</f...   \n",
       "1744  <foulcommit><value><stats><foulscommitted>1</f...   \n",
       "1750  <foulcommit><value><stats><foulscommitted>1</f...   \n",
       "1780  <foulcommit><value><stats><foulscommitted>1</f...   \n",
       "\n",
       "                                                   card  \\\n",
       "1729                                           <card />   \n",
       "1743  <card><value><comment>y</comment><stats><ycard...   \n",
       "1744  <card><value><comment>y</comment><stats><ycard...   \n",
       "1750                                           <card />   \n",
       "1780  <card><value><comment>y</comment><stats><ycard...   \n",
       "\n",
       "                                                  cross  \\\n",
       "1729  <cross><value><stats><crosses>1</crosses></sta...   \n",
       "1743  <cross><value><stats><crosses>1</crosses></sta...   \n",
       "1744  <cross><value><stats><crosses>1</crosses></sta...   \n",
       "1750  <cross><value><stats><crosses>1</crosses></sta...   \n",
       "1780  <cross><value><stats><crosses>1</crosses></sta...   \n",
       "\n",
       "                                                 corner  \\\n",
       "1729  <corner><value><stats><corners>1</corners></st...   \n",
       "1743  <corner><value><stats><corners>1</corners></st...   \n",
       "1744  <corner><value><stats><corners>1</corners></st...   \n",
       "1750  <corner><value><stats><corners>1</corners></st...   \n",
       "1780  <corner><value><stats><corners>1</corners></st...   \n",
       "\n",
       "                                             possession  \n",
       "1729  <possession><value><comment>65</comment><event...  \n",
       "1743  <possession><value><comment>49</comment><event...  \n",
       "1744  <possession><value><comment>57</comment><event...  \n",
       "1750  <possession><value><comment>48</comment><event...  \n",
       "1780  <possession><value><comment>47</comment><event...  \n",
       "\n",
       "[5 rows x 41 columns]"
      ],
      "text/html": "<div>\n<style scoped>\n    .dataframe tbody tr th:only-of-type {\n        vertical-align: middle;\n    }\n\n    .dataframe tbody tr th {\n        vertical-align: top;\n    }\n\n    .dataframe thead th {\n        text-align: right;\n    }\n</style>\n<table border=\"1\" class=\"dataframe\">\n  <thead>\n    <tr style=\"text-align: right;\">\n      <th></th>\n      <th>id</th>\n      <th>country_id</th>\n      <th>league_id</th>\n      <th>season</th>\n      <th>stage</th>\n      <th>date</th>\n      <th>match_api_id</th>\n      <th>home_team_api_id</th>\n      <th>away_team_api_id</th>\n      <th>home_team_goal</th>\n      <th>...</th>\n      <th>away_player_10</th>\n      <th>away_player_11</th>\n      <th>goal</th>\n      <th>shoton</th>\n      <th>shotoff</th>\n      <th>foulcommit</th>\n      <th>card</th>\n      <th>cross</th>\n      <th>corner</th>\n      <th>possession</th>\n    </tr>\n  </thead>\n  <tbody>\n    <tr>\n      <th>1729</th>\n      <td>1730</td>\n      <td>1729</td>\n      <td>1729</td>\n      <td>2008/2009</td>\n      <td>1</td>\n      <td>2008-08-16 00:00:00</td>\n      <td>489043</td>\n      <td>9825</td>\n      <td>8659</td>\n      <td>1</td>\n      <td>...</td>\n      <td>25922.0</td>\n      <td>27267.0</td>\n      <td>&lt;goal&gt;&lt;value&gt;&lt;comment&gt;n&lt;/comment&gt;&lt;stats&gt;&lt;goals...</td>\n      <td>&lt;shoton&gt;&lt;value&gt;&lt;stats&gt;&lt;blocked&gt;1&lt;/blocked&gt;&lt;/st...</td>\n      <td>&lt;shotoff&gt;&lt;value&gt;&lt;stats&gt;&lt;shotoff&gt;1&lt;/shotoff&gt;&lt;/s...</td>\n      <td>&lt;foulcommit&gt;&lt;value&gt;&lt;stats&gt;&lt;foulscommitted&gt;1&lt;/f...</td>\n      <td>&lt;card /&gt;</td>\n      <td>&lt;cross&gt;&lt;value&gt;&lt;stats&gt;&lt;crosses&gt;1&lt;/crosses&gt;&lt;/sta...</td>\n      <td>&lt;corner&gt;&lt;value&gt;&lt;stats&gt;&lt;corners&gt;1&lt;/corners&gt;&lt;/st...</td>\n      <td>&lt;possession&gt;&lt;value&gt;&lt;comment&gt;65&lt;/comment&gt;&lt;event...</td>\n    </tr>\n    <tr>\n      <th>1743</th>\n      <td>1744</td>\n      <td>1729</td>\n      <td>1729</td>\n      <td>2008/2009</td>\n      <td>10</td>\n      <td>2008-10-29 00:00:00</td>\n      <td>489137</td>\n      <td>10194</td>\n      <td>8472</td>\n      <td>1</td>\n      <td>...</td>\n      <td>23927.0</td>\n      <td>33418.0</td>\n      <td>&lt;goal&gt;&lt;value&gt;&lt;comment&gt;n&lt;/comment&gt;&lt;stats&gt;&lt;goals...</td>\n      <td>&lt;shoton&gt;&lt;value&gt;&lt;stats&gt;&lt;shoton&gt;1&lt;/shoton&gt;&lt;/stat...</td>\n      <td>&lt;shotoff&gt;&lt;value&gt;&lt;stats&gt;&lt;shotoff&gt;1&lt;/shotoff&gt;&lt;/s...</td>\n      <td>&lt;foulcommit&gt;&lt;value&gt;&lt;stats&gt;&lt;foulscommitted&gt;1&lt;/f...</td>\n      <td>&lt;card&gt;&lt;value&gt;&lt;comment&gt;y&lt;/comment&gt;&lt;stats&gt;&lt;ycard...</td>\n      <td>&lt;cross&gt;&lt;value&gt;&lt;stats&gt;&lt;crosses&gt;1&lt;/crosses&gt;&lt;/sta...</td>\n      <td>&lt;corner&gt;&lt;value&gt;&lt;stats&gt;&lt;corners&gt;1&lt;/corners&gt;&lt;/st...</td>\n      <td>&lt;possession&gt;&lt;value&gt;&lt;comment&gt;49&lt;/comment&gt;&lt;event...</td>\n    </tr>\n    <tr>\n      <th>1744</th>\n      <td>1745</td>\n      <td>1729</td>\n      <td>1729</td>\n      <td>2008/2009</td>\n      <td>10</td>\n      <td>2008-10-29 00:00:00</td>\n      <td>489138</td>\n      <td>8650</td>\n      <td>8462</td>\n      <td>1</td>\n      <td>...</td>\n      <td>63520.0</td>\n      <td>30830.0</td>\n      <td>&lt;goal&gt;&lt;value&gt;&lt;comment&gt;p&lt;/comment&gt;&lt;stats&gt;&lt;penal...</td>\n      <td>&lt;shoton&gt;&lt;value&gt;&lt;stats&gt;&lt;shoton&gt;1&lt;/shoton&gt;&lt;/stat...</td>\n      <td>&lt;shotoff&gt;&lt;value&gt;&lt;stats&gt;&lt;shotoff&gt;1&lt;/shotoff&gt;&lt;/s...</td>\n      <td>&lt;foulcommit&gt;&lt;value&gt;&lt;stats&gt;&lt;foulscommitted&gt;1&lt;/f...</td>\n      <td>&lt;card&gt;&lt;value&gt;&lt;comment&gt;y&lt;/comment&gt;&lt;stats&gt;&lt;ycard...</td>\n      <td>&lt;cross&gt;&lt;value&gt;&lt;stats&gt;&lt;crosses&gt;1&lt;/crosses&gt;&lt;/sta...</td>\n      <td>&lt;corner&gt;&lt;value&gt;&lt;stats&gt;&lt;corners&gt;1&lt;/corners&gt;&lt;/st...</td>\n      <td>&lt;possession&gt;&lt;value&gt;&lt;comment&gt;57&lt;/comment&gt;&lt;event...</td>\n    </tr>\n    <tr>\n      <th>1750</th>\n      <td>1751</td>\n      <td>1729</td>\n      <td>1729</td>\n      <td>2008/2009</td>\n      <td>11</td>\n      <td>2008-11-01 00:00:00</td>\n      <td>489144</td>\n      <td>8668</td>\n      <td>9879</td>\n      <td>1</td>\n      <td>...</td>\n      <td>24741.0</td>\n      <td>31907.0</td>\n      <td>&lt;goal&gt;&lt;value&gt;&lt;comment&gt;n&lt;/comment&gt;&lt;stats&gt;&lt;goals...</td>\n      <td>&lt;shoton&gt;&lt;value&gt;&lt;stats&gt;&lt;shoton&gt;1&lt;/shoton&gt;&lt;/stat...</td>\n      <td>&lt;shotoff&gt;&lt;value&gt;&lt;stats&gt;&lt;shotoff&gt;1&lt;/shotoff&gt;&lt;/s...</td>\n      <td>&lt;foulcommit&gt;&lt;value&gt;&lt;stats&gt;&lt;foulscommitted&gt;1&lt;/f...</td>\n      <td>&lt;card /&gt;</td>\n      <td>&lt;cross&gt;&lt;value&gt;&lt;stats&gt;&lt;crosses&gt;1&lt;/crosses&gt;&lt;/sta...</td>\n      <td>&lt;corner&gt;&lt;value&gt;&lt;stats&gt;&lt;corners&gt;1&lt;/corners&gt;&lt;/st...</td>\n      <td>&lt;possession&gt;&lt;value&gt;&lt;comment&gt;48&lt;/comment&gt;&lt;event...</td>\n    </tr>\n    <tr>\n      <th>1780</th>\n      <td>1781</td>\n      <td>1729</td>\n      <td>1729</td>\n      <td>2008/2009</td>\n      <td>14</td>\n      <td>2008-11-23 00:00:00</td>\n      <td>489174</td>\n      <td>8586</td>\n      <td>8655</td>\n      <td>1</td>\n      <td>...</td>\n      <td>34947.0</td>\n      <td>30646.0</td>\n      <td>&lt;goal&gt;&lt;value&gt;&lt;comment&gt;n&lt;/comment&gt;&lt;stats&gt;&lt;goals...</td>\n      <td>&lt;shoton&gt;&lt;value&gt;&lt;stats&gt;&lt;shoton&gt;1&lt;/shoton&gt;&lt;/stat...</td>\n      <td>&lt;shotoff&gt;&lt;value&gt;&lt;stats&gt;&lt;shotoff&gt;1&lt;/shotoff&gt;&lt;/s...</td>\n      <td>&lt;foulcommit&gt;&lt;value&gt;&lt;stats&gt;&lt;foulscommitted&gt;1&lt;/f...</td>\n      <td>&lt;card&gt;&lt;value&gt;&lt;comment&gt;y&lt;/comment&gt;&lt;stats&gt;&lt;ycard...</td>\n      <td>&lt;cross&gt;&lt;value&gt;&lt;stats&gt;&lt;crosses&gt;1&lt;/crosses&gt;&lt;/sta...</td>\n      <td>&lt;corner&gt;&lt;value&gt;&lt;stats&gt;&lt;corners&gt;1&lt;/corners&gt;&lt;/st...</td>\n      <td>&lt;possession&gt;&lt;value&gt;&lt;comment&gt;47&lt;/comment&gt;&lt;event...</td>\n    </tr>\n  </tbody>\n</table>\n<p>5 rows × 41 columns</p>\n</div>"
     },
     "metadata": {},
     "execution_count": 106
    }
   ],
   "source": [
    "relevant_match[(relevant_match[\"home_team_goal\"] == 1) & (relevant_match[\"away_team_goal\"] == 0)].head()"
   ]
  },
  {
   "cell_type": "code",
   "execution_count": 107,
   "metadata": {},
   "outputs": [
    {
     "output_type": "execute_result",
     "data": {
      "text/plain": [
       "'<goal><value><comment>n</comment><stats><goals>1</goals><shoton>1</shoton></stats><event_incident_typefk>393</event_incident_typefk><elapsed>4</elapsed><player2>39297</player2><subtype>shot</subtype><player1>26181</player1><sortorder>2</sortorder><team>9825</team><id>375546</id><n>231</n><type>goal</type><goal_type>n</goal_type></value></goal>'"
      ]
     },
     "metadata": {},
     "execution_count": 107
    }
   ],
   "source": [
    "relevant_match[(relevant_match[\"home_team_goal\"] == 1) & (relevant_match[\"away_team_goal\"] == 0)].loc[1729, \"goal\"]"
   ]
  },
  {
   "cell_type": "code",
   "execution_count": 108,
   "metadata": {},
   "outputs": [
    {
     "output_type": "stream",
     "name": "stdout",
     "text": [
      "<class 'pandas.core.frame.DataFrame'>\nInt64Index: 14217 entries, 1728 to 25948\nData columns (total 41 columns):\n #   Column            Non-Null Count  Dtype  \n---  ------            --------------  -----  \n 0   id                14217 non-null  int64  \n 1   country_id        14217 non-null  int64  \n 2   league_id         14217 non-null  int64  \n 3   season            14217 non-null  object \n 4   stage             14217 non-null  int64  \n 5   date              14217 non-null  object \n 6   match_api_id      14217 non-null  int64  \n 7   home_team_api_id  14217 non-null  int64  \n 8   away_team_api_id  14217 non-null  int64  \n 9   home_team_goal    14217 non-null  int64  \n 10  away_team_goal    14217 non-null  int64  \n 11  home_player_1     14185 non-null  float64\n 12  home_player_2     14168 non-null  float64\n 13  home_player_3     14179 non-null  float64\n 14  home_player_4     14175 non-null  float64\n 15  home_player_5     14174 non-null  float64\n 16  home_player_6     14190 non-null  float64\n 17  home_player_7     14167 non-null  float64\n 18  home_player_8     14175 non-null  float64\n 19  home_player_9     14180 non-null  float64\n 20  home_player_10    14140 non-null  float64\n 21  home_player_11    14156 non-null  float64\n 22  away_player_1     14192 non-null  float64\n 23  away_player_2     14169 non-null  float64\n 24  away_player_3     14170 non-null  float64\n 25  away_player_4     14176 non-null  float64\n 26  away_player_5     14170 non-null  float64\n 27  away_player_6     14177 non-null  float64\n 28  away_player_7     14176 non-null  float64\n 29  away_player_8     14167 non-null  float64\n 30  away_player_9     14174 non-null  float64\n 31  away_player_10    14146 non-null  float64\n 32  away_player_11    14146 non-null  float64\n 33  goal              14217 non-null  object \n 34  shoton            14217 non-null  object \n 35  shotoff           14217 non-null  object \n 36  foulcommit        14217 non-null  object \n 37  card              14217 non-null  object \n 38  cross             14217 non-null  object \n 39  corner            14217 non-null  object \n 40  possession        14217 non-null  object \ndtypes: float64(22), int64(9), object(10)\nmemory usage: 5.2+ MB\n"
     ]
    }
   ],
   "source": [
    "relevant_match.info()"
   ]
  },
  {
   "cell_type": "code",
   "execution_count": 121,
   "metadata": {},
   "outputs": [],
   "source": [
    "relevant_match[\"score\"] = pd.Series()\n",
    "\n",
    "for ix, row in relevant_match.iterrows():\n",
    "    if row[\"home_team_goal\"] > row[\"away_team_goal\"]:\n",
    "        relevant_match.loc[ix, \"score\"] = 0 ## O is home victory\n",
    "    elif row[\"home_team_goal\"] < row[\"away_team_goal\"]:\n",
    "        relevant_match.loc[ix, \"score\"] = 1 ## 1 is away victory\n",
    "    else:\n",
    "        relevant_match.loc[ix, \"score\"] = 0.5 ## 0.5 is a draw"
   ]
  },
  {
   "cell_type": "code",
   "execution_count": 122,
   "metadata": {},
   "outputs": [
    {
     "output_type": "execute_result",
     "data": {
      "text/plain": [
       "1728     0.5\n",
       "1729     0.0\n",
       "1730     1.0\n",
       "1731     0.0\n",
       "1733     1.0\n",
       "        ... \n",
       "25944    1.0\n",
       "25945    0.0\n",
       "25946    0.5\n",
       "25947    1.0\n",
       "25948    0.0\n",
       "Name: score, Length: 13325, dtype: float64"
      ]
     },
     "metadata": {},
     "execution_count": 122
    }
   ],
   "source": [
    "relevant_match[\"score\"]"
   ]
  },
  {
   "cell_type": "code",
   "execution_count": 111,
   "metadata": {},
   "outputs": [
    {
     "output_type": "execute_result",
     "data": {
      "text/plain": [
       "        id  home_team_goal  away_team_goal score\n",
       "1728  1729               1               1  draw\n",
       "1729  1730               1               0  home"
      ],
      "text/html": "<div>\n<style scoped>\n    .dataframe tbody tr th:only-of-type {\n        vertical-align: middle;\n    }\n\n    .dataframe tbody tr th {\n        vertical-align: top;\n    }\n\n    .dataframe thead th {\n        text-align: right;\n    }\n</style>\n<table border=\"1\" class=\"dataframe\">\n  <thead>\n    <tr style=\"text-align: right;\">\n      <th></th>\n      <th>id</th>\n      <th>home_team_goal</th>\n      <th>away_team_goal</th>\n      <th>score</th>\n    </tr>\n  </thead>\n  <tbody>\n    <tr>\n      <th>1728</th>\n      <td>1729</td>\n      <td>1</td>\n      <td>1</td>\n      <td>draw</td>\n    </tr>\n    <tr>\n      <th>1729</th>\n      <td>1730</td>\n      <td>1</td>\n      <td>0</td>\n      <td>home</td>\n    </tr>\n  </tbody>\n</table>\n</div>"
     },
     "metadata": {},
     "execution_count": 111
    }
   ],
   "source": [
    "relevant_match.loc[[1728, 1729], [\"id\", \"home_team_goal\", \"away_team_goal\", \"score\"]].head()"
   ]
  },
  {
   "cell_type": "code",
   "execution_count": 112,
   "metadata": {},
   "outputs": [
    {
     "output_type": "execute_result",
     "data": {
      "text/plain": [
       "        id  country_id  league_id     season  stage                 date  \\\n",
       "1728  1729        1729       1729  2008/2009      1  2008-08-17 00:00:00   \n",
       "1729  1730        1729       1729  2008/2009      1  2008-08-16 00:00:00   \n",
       "1730  1731        1729       1729  2008/2009      1  2008-08-16 00:00:00   \n",
       "1731  1732        1729       1729  2008/2009      1  2008-08-16 00:00:00   \n",
       "1732  1733        1729       1729  2008/2009      1  2008-08-17 00:00:00   \n",
       "\n",
       "      match_api_id  home_team_api_id  away_team_api_id  home_team_goal  ...  \\\n",
       "1728        489042             10260             10261               1  ...   \n",
       "1729        489043              9825              8659               1  ...   \n",
       "1730        489044              8472              8650               0  ...   \n",
       "1731        489045              8654              8528               2  ...   \n",
       "1732        489046             10252              8456               4  ...   \n",
       "\n",
       "      away_player_11                                               goal  \\\n",
       "1728         37799.0  <goal><value><comment>n</comment><stats><goals...   \n",
       "1729         27267.0  <goal><value><comment>n</comment><stats><goals...   \n",
       "1730         30853.0  <goal><value><comment>n</comment><stats><goals...   \n",
       "1731         34466.0  <goal><value><comment>n</comment><stats><goals...   \n",
       "1732        107216.0  <goal><value><comment>n</comment><stats><goals...   \n",
       "\n",
       "                                                 shoton  \\\n",
       "1728  <shoton><value><stats><blocked>1</blocked></st...   \n",
       "1729  <shoton><value><stats><blocked>1</blocked></st...   \n",
       "1730  <shoton><value><stats><blocked>1</blocked></st...   \n",
       "1731  <shoton><value><stats><shoton>1</shoton></stat...   \n",
       "1732  <shoton><value><stats><blocked>1</blocked></st...   \n",
       "\n",
       "                                                shotoff  \\\n",
       "1728  <shotoff><value><stats><shotoff>1</shotoff></s...   \n",
       "1729  <shotoff><value><stats><shotoff>1</shotoff></s...   \n",
       "1730  <shotoff><value><stats><shotoff>1</shotoff></s...   \n",
       "1731  <shotoff><value><stats><shotoff>1</shotoff></s...   \n",
       "1732  <shotoff><value><stats><shotoff>1</shotoff></s...   \n",
       "\n",
       "                                             foulcommit  \\\n",
       "1728  <foulcommit><value><stats><foulscommitted>1</f...   \n",
       "1729  <foulcommit><value><stats><foulscommitted>1</f...   \n",
       "1730  <foulcommit><value><stats><foulscommitted>1</f...   \n",
       "1731  <foulcommit><value><stats><foulscommitted>1</f...   \n",
       "1732  <foulcommit><value><stats><foulscommitted>1</f...   \n",
       "\n",
       "                                                   card  \\\n",
       "1728  <card><value><comment>y</comment><stats><ycard...   \n",
       "1729                                           <card />   \n",
       "1730  <card><value><comment>y</comment><stats><ycard...   \n",
       "1731  <card><value><comment>y</comment><stats><ycard...   \n",
       "1732  <card><value><comment>y</comment><stats><ycard...   \n",
       "\n",
       "                                                  cross  \\\n",
       "1728  <cross><value><stats><crosses>1</crosses></sta...   \n",
       "1729  <cross><value><stats><crosses>1</crosses></sta...   \n",
       "1730  <cross><value><stats><crosses>1</crosses></sta...   \n",
       "1731  <cross><value><stats><crosses>1</crosses></sta...   \n",
       "1732  <cross><value><stats><corners>1</corners></sta...   \n",
       "\n",
       "                                                 corner  \\\n",
       "1728  <corner><value><stats><corners>1</corners></st...   \n",
       "1729  <corner><value><stats><corners>1</corners></st...   \n",
       "1730  <corner><value><stats><corners>1</corners></st...   \n",
       "1731  <corner><value><stats><corners>1</corners></st...   \n",
       "1732  <corner><value><stats><corners>1</corners></st...   \n",
       "\n",
       "                                             possession  score  \n",
       "1728  <possession><value><comment>56</comment><event...   draw  \n",
       "1729  <possession><value><comment>65</comment><event...   home  \n",
       "1730  <possession><value><comment>45</comment><event...   away  \n",
       "1731  <possession><value><comment>50</comment><event...   home  \n",
       "1732  <possession><value><comment>51</comment><event...   home  \n",
       "\n",
       "[5 rows x 42 columns]"
      ],
      "text/html": "<div>\n<style scoped>\n    .dataframe tbody tr th:only-of-type {\n        vertical-align: middle;\n    }\n\n    .dataframe tbody tr th {\n        vertical-align: top;\n    }\n\n    .dataframe thead th {\n        text-align: right;\n    }\n</style>\n<table border=\"1\" class=\"dataframe\">\n  <thead>\n    <tr style=\"text-align: right;\">\n      <th></th>\n      <th>id</th>\n      <th>country_id</th>\n      <th>league_id</th>\n      <th>season</th>\n      <th>stage</th>\n      <th>date</th>\n      <th>match_api_id</th>\n      <th>home_team_api_id</th>\n      <th>away_team_api_id</th>\n      <th>home_team_goal</th>\n      <th>...</th>\n      <th>away_player_11</th>\n      <th>goal</th>\n      <th>shoton</th>\n      <th>shotoff</th>\n      <th>foulcommit</th>\n      <th>card</th>\n      <th>cross</th>\n      <th>corner</th>\n      <th>possession</th>\n      <th>score</th>\n    </tr>\n  </thead>\n  <tbody>\n    <tr>\n      <th>1728</th>\n      <td>1729</td>\n      <td>1729</td>\n      <td>1729</td>\n      <td>2008/2009</td>\n      <td>1</td>\n      <td>2008-08-17 00:00:00</td>\n      <td>489042</td>\n      <td>10260</td>\n      <td>10261</td>\n      <td>1</td>\n      <td>...</td>\n      <td>37799.0</td>\n      <td>&lt;goal&gt;&lt;value&gt;&lt;comment&gt;n&lt;/comment&gt;&lt;stats&gt;&lt;goals...</td>\n      <td>&lt;shoton&gt;&lt;value&gt;&lt;stats&gt;&lt;blocked&gt;1&lt;/blocked&gt;&lt;/st...</td>\n      <td>&lt;shotoff&gt;&lt;value&gt;&lt;stats&gt;&lt;shotoff&gt;1&lt;/shotoff&gt;&lt;/s...</td>\n      <td>&lt;foulcommit&gt;&lt;value&gt;&lt;stats&gt;&lt;foulscommitted&gt;1&lt;/f...</td>\n      <td>&lt;card&gt;&lt;value&gt;&lt;comment&gt;y&lt;/comment&gt;&lt;stats&gt;&lt;ycard...</td>\n      <td>&lt;cross&gt;&lt;value&gt;&lt;stats&gt;&lt;crosses&gt;1&lt;/crosses&gt;&lt;/sta...</td>\n      <td>&lt;corner&gt;&lt;value&gt;&lt;stats&gt;&lt;corners&gt;1&lt;/corners&gt;&lt;/st...</td>\n      <td>&lt;possession&gt;&lt;value&gt;&lt;comment&gt;56&lt;/comment&gt;&lt;event...</td>\n      <td>draw</td>\n    </tr>\n    <tr>\n      <th>1729</th>\n      <td>1730</td>\n      <td>1729</td>\n      <td>1729</td>\n      <td>2008/2009</td>\n      <td>1</td>\n      <td>2008-08-16 00:00:00</td>\n      <td>489043</td>\n      <td>9825</td>\n      <td>8659</td>\n      <td>1</td>\n      <td>...</td>\n      <td>27267.0</td>\n      <td>&lt;goal&gt;&lt;value&gt;&lt;comment&gt;n&lt;/comment&gt;&lt;stats&gt;&lt;goals...</td>\n      <td>&lt;shoton&gt;&lt;value&gt;&lt;stats&gt;&lt;blocked&gt;1&lt;/blocked&gt;&lt;/st...</td>\n      <td>&lt;shotoff&gt;&lt;value&gt;&lt;stats&gt;&lt;shotoff&gt;1&lt;/shotoff&gt;&lt;/s...</td>\n      <td>&lt;foulcommit&gt;&lt;value&gt;&lt;stats&gt;&lt;foulscommitted&gt;1&lt;/f...</td>\n      <td>&lt;card /&gt;</td>\n      <td>&lt;cross&gt;&lt;value&gt;&lt;stats&gt;&lt;crosses&gt;1&lt;/crosses&gt;&lt;/sta...</td>\n      <td>&lt;corner&gt;&lt;value&gt;&lt;stats&gt;&lt;corners&gt;1&lt;/corners&gt;&lt;/st...</td>\n      <td>&lt;possession&gt;&lt;value&gt;&lt;comment&gt;65&lt;/comment&gt;&lt;event...</td>\n      <td>home</td>\n    </tr>\n    <tr>\n      <th>1730</th>\n      <td>1731</td>\n      <td>1729</td>\n      <td>1729</td>\n      <td>2008/2009</td>\n      <td>1</td>\n      <td>2008-08-16 00:00:00</td>\n      <td>489044</td>\n      <td>8472</td>\n      <td>8650</td>\n      <td>0</td>\n      <td>...</td>\n      <td>30853.0</td>\n      <td>&lt;goal&gt;&lt;value&gt;&lt;comment&gt;n&lt;/comment&gt;&lt;stats&gt;&lt;goals...</td>\n      <td>&lt;shoton&gt;&lt;value&gt;&lt;stats&gt;&lt;blocked&gt;1&lt;/blocked&gt;&lt;/st...</td>\n      <td>&lt;shotoff&gt;&lt;value&gt;&lt;stats&gt;&lt;shotoff&gt;1&lt;/shotoff&gt;&lt;/s...</td>\n      <td>&lt;foulcommit&gt;&lt;value&gt;&lt;stats&gt;&lt;foulscommitted&gt;1&lt;/f...</td>\n      <td>&lt;card&gt;&lt;value&gt;&lt;comment&gt;y&lt;/comment&gt;&lt;stats&gt;&lt;ycard...</td>\n      <td>&lt;cross&gt;&lt;value&gt;&lt;stats&gt;&lt;crosses&gt;1&lt;/crosses&gt;&lt;/sta...</td>\n      <td>&lt;corner&gt;&lt;value&gt;&lt;stats&gt;&lt;corners&gt;1&lt;/corners&gt;&lt;/st...</td>\n      <td>&lt;possession&gt;&lt;value&gt;&lt;comment&gt;45&lt;/comment&gt;&lt;event...</td>\n      <td>away</td>\n    </tr>\n    <tr>\n      <th>1731</th>\n      <td>1732</td>\n      <td>1729</td>\n      <td>1729</td>\n      <td>2008/2009</td>\n      <td>1</td>\n      <td>2008-08-16 00:00:00</td>\n      <td>489045</td>\n      <td>8654</td>\n      <td>8528</td>\n      <td>2</td>\n      <td>...</td>\n      <td>34466.0</td>\n      <td>&lt;goal&gt;&lt;value&gt;&lt;comment&gt;n&lt;/comment&gt;&lt;stats&gt;&lt;goals...</td>\n      <td>&lt;shoton&gt;&lt;value&gt;&lt;stats&gt;&lt;shoton&gt;1&lt;/shoton&gt;&lt;/stat...</td>\n      <td>&lt;shotoff&gt;&lt;value&gt;&lt;stats&gt;&lt;shotoff&gt;1&lt;/shotoff&gt;&lt;/s...</td>\n      <td>&lt;foulcommit&gt;&lt;value&gt;&lt;stats&gt;&lt;foulscommitted&gt;1&lt;/f...</td>\n      <td>&lt;card&gt;&lt;value&gt;&lt;comment&gt;y&lt;/comment&gt;&lt;stats&gt;&lt;ycard...</td>\n      <td>&lt;cross&gt;&lt;value&gt;&lt;stats&gt;&lt;crosses&gt;1&lt;/crosses&gt;&lt;/sta...</td>\n      <td>&lt;corner&gt;&lt;value&gt;&lt;stats&gt;&lt;corners&gt;1&lt;/corners&gt;&lt;/st...</td>\n      <td>&lt;possession&gt;&lt;value&gt;&lt;comment&gt;50&lt;/comment&gt;&lt;event...</td>\n      <td>home</td>\n    </tr>\n    <tr>\n      <th>1732</th>\n      <td>1733</td>\n      <td>1729</td>\n      <td>1729</td>\n      <td>2008/2009</td>\n      <td>1</td>\n      <td>2008-08-17 00:00:00</td>\n      <td>489046</td>\n      <td>10252</td>\n      <td>8456</td>\n      <td>4</td>\n      <td>...</td>\n      <td>107216.0</td>\n      <td>&lt;goal&gt;&lt;value&gt;&lt;comment&gt;n&lt;/comment&gt;&lt;stats&gt;&lt;goals...</td>\n      <td>&lt;shoton&gt;&lt;value&gt;&lt;stats&gt;&lt;blocked&gt;1&lt;/blocked&gt;&lt;/st...</td>\n      <td>&lt;shotoff&gt;&lt;value&gt;&lt;stats&gt;&lt;shotoff&gt;1&lt;/shotoff&gt;&lt;/s...</td>\n      <td>&lt;foulcommit&gt;&lt;value&gt;&lt;stats&gt;&lt;foulscommitted&gt;1&lt;/f...</td>\n      <td>&lt;card&gt;&lt;value&gt;&lt;comment&gt;y&lt;/comment&gt;&lt;stats&gt;&lt;ycard...</td>\n      <td>&lt;cross&gt;&lt;value&gt;&lt;stats&gt;&lt;corners&gt;1&lt;/corners&gt;&lt;/sta...</td>\n      <td>&lt;corner&gt;&lt;value&gt;&lt;stats&gt;&lt;corners&gt;1&lt;/corners&gt;&lt;/st...</td>\n      <td>&lt;possession&gt;&lt;value&gt;&lt;comment&gt;51&lt;/comment&gt;&lt;event...</td>\n      <td>home</td>\n    </tr>\n  </tbody>\n</table>\n<p>5 rows × 42 columns</p>\n</div>"
     },
     "metadata": {},
     "execution_count": 112
    }
   ],
   "source": [
    "relevant_match.head()"
   ]
  },
  {
   "cell_type": "code",
   "execution_count": 113,
   "metadata": {},
   "outputs": [
    {
     "output_type": "stream",
     "name": "stdout",
     "text": [
      "<class 'pandas.core.frame.DataFrame'>\nInt64Index: 14217 entries, 1728 to 25948\nData columns (total 42 columns):\n #   Column            Non-Null Count  Dtype  \n---  ------            --------------  -----  \n 0   id                14217 non-null  int64  \n 1   country_id        14217 non-null  int64  \n 2   league_id         14217 non-null  int64  \n 3   season            14217 non-null  object \n 4   stage             14217 non-null  int64  \n 5   date              14217 non-null  object \n 6   match_api_id      14217 non-null  int64  \n 7   home_team_api_id  14217 non-null  int64  \n 8   away_team_api_id  14217 non-null  int64  \n 9   home_team_goal    14217 non-null  int64  \n 10  away_team_goal    14217 non-null  int64  \n 11  home_player_1     14185 non-null  float64\n 12  home_player_2     14168 non-null  float64\n 13  home_player_3     14179 non-null  float64\n 14  home_player_4     14175 non-null  float64\n 15  home_player_5     14174 non-null  float64\n 16  home_player_6     14190 non-null  float64\n 17  home_player_7     14167 non-null  float64\n 18  home_player_8     14175 non-null  float64\n 19  home_player_9     14180 non-null  float64\n 20  home_player_10    14140 non-null  float64\n 21  home_player_11    14156 non-null  float64\n 22  away_player_1     14192 non-null  float64\n 23  away_player_2     14169 non-null  float64\n 24  away_player_3     14170 non-null  float64\n 25  away_player_4     14176 non-null  float64\n 26  away_player_5     14170 non-null  float64\n 27  away_player_6     14177 non-null  float64\n 28  away_player_7     14176 non-null  float64\n 29  away_player_8     14167 non-null  float64\n 30  away_player_9     14174 non-null  float64\n 31  away_player_10    14146 non-null  float64\n 32  away_player_11    14146 non-null  float64\n 33  goal              14217 non-null  object \n 34  shoton            14217 non-null  object \n 35  shotoff           14217 non-null  object \n 36  foulcommit        14217 non-null  object \n 37  card              14217 non-null  object \n 38  cross             14217 non-null  object \n 39  corner            14217 non-null  object \n 40  possession        14217 non-null  object \n 41  score             14217 non-null  object \ndtypes: float64(22), int64(9), object(11)\nmemory usage: 5.3+ MB\n"
     ]
    }
   ],
   "source": [
    "relevant_match.info()"
   ]
  },
  {
   "cell_type": "code",
   "execution_count": 114,
   "metadata": {},
   "outputs": [],
   "source": [
    "key_home = \"home_player_\"\n",
    "key_away = \"away_player_\"\n",
    "for i in range(1,12):\n",
    "    relevant_match = relevant_match[relevant_match[key_home+str(i)].notna()]\n",
    "    relevant_match = relevant_match[relevant_match[key_away+str(i)].notna()]\n",
    "\n"
   ]
  },
  {
   "cell_type": "code",
   "execution_count": 115,
   "metadata": {},
   "outputs": [
    {
     "output_type": "stream",
     "name": "stdout",
     "text": [
      "<class 'pandas.core.frame.DataFrame'>\nInt64Index: 13325 entries, 1728 to 25948\nData columns (total 42 columns):\n #   Column            Non-Null Count  Dtype  \n---  ------            --------------  -----  \n 0   id                13325 non-null  int64  \n 1   country_id        13325 non-null  int64  \n 2   league_id         13325 non-null  int64  \n 3   season            13325 non-null  object \n 4   stage             13325 non-null  int64  \n 5   date              13325 non-null  object \n 6   match_api_id      13325 non-null  int64  \n 7   home_team_api_id  13325 non-null  int64  \n 8   away_team_api_id  13325 non-null  int64  \n 9   home_team_goal    13325 non-null  int64  \n 10  away_team_goal    13325 non-null  int64  \n 11  home_player_1     13325 non-null  float64\n 12  home_player_2     13325 non-null  float64\n 13  home_player_3     13325 non-null  float64\n 14  home_player_4     13325 non-null  float64\n 15  home_player_5     13325 non-null  float64\n 16  home_player_6     13325 non-null  float64\n 17  home_player_7     13325 non-null  float64\n 18  home_player_8     13325 non-null  float64\n 19  home_player_9     13325 non-null  float64\n 20  home_player_10    13325 non-null  float64\n 21  home_player_11    13325 non-null  float64\n 22  away_player_1     13325 non-null  float64\n 23  away_player_2     13325 non-null  float64\n 24  away_player_3     13325 non-null  float64\n 25  away_player_4     13325 non-null  float64\n 26  away_player_5     13325 non-null  float64\n 27  away_player_6     13325 non-null  float64\n 28  away_player_7     13325 non-null  float64\n 29  away_player_8     13325 non-null  float64\n 30  away_player_9     13325 non-null  float64\n 31  away_player_10    13325 non-null  float64\n 32  away_player_11    13325 non-null  float64\n 33  goal              13325 non-null  object \n 34  shoton            13325 non-null  object \n 35  shotoff           13325 non-null  object \n 36  foulcommit        13325 non-null  object \n 37  card              13325 non-null  object \n 38  cross             13325 non-null  object \n 39  corner            13325 non-null  object \n 40  possession        13325 non-null  object \n 41  score             13325 non-null  object \ndtypes: float64(22), int64(9), object(11)\nmemory usage: 4.4+ MB\n"
     ]
    }
   ],
   "source": [
    "relevant_match.info()"
   ]
  },
  {
   "cell_type": "code",
   "execution_count": 116,
   "metadata": {},
   "outputs": [
    {
     "output_type": "execute_result",
     "data": {
      "text/plain": [
       "                        id  country_id  league_id     stage  match_api_id  \\\n",
       "id                1.000000    0.993221   0.993221  0.006101      0.162325   \n",
       "country_id        0.993221    1.000000   1.000000  0.002253      0.051229   \n",
       "league_id         0.993221    1.000000   1.000000  0.002253      0.051229   \n",
       "stage             0.006101    0.002253   0.002253  1.000000      0.000595   \n",
       "match_api_id      0.162325    0.051229   0.051229  0.000595      1.000000   \n",
       "home_team_api_id -0.006725   -0.010625  -0.010625 -0.010515      0.035369   \n",
       "away_team_api_id -0.005993   -0.010357  -0.010357  0.010148      0.038671   \n",
       "home_team_goal    0.028239    0.030745   0.030745  0.010729     -0.014596   \n",
       "away_team_goal    0.006925    0.006667   0.006667  0.008261      0.014743   \n",
       "home_player_1     0.159608    0.121060   0.121060  0.020247      0.382646   \n",
       "home_player_2     0.155630    0.106603   0.106603  0.031376      0.471113   \n",
       "home_player_3     0.182310    0.143663   0.143663  0.036249      0.381974   \n",
       "home_player_4     0.206971    0.166185   0.166185  0.024303      0.405596   \n",
       "home_player_5     0.112299    0.064456   0.064456  0.020563      0.462804   \n",
       "home_player_6     0.141746    0.094949   0.094949  0.043806      0.455957   \n",
       "home_player_7     0.168524    0.125954   0.125954  0.011340      0.420797   \n",
       "home_player_8     0.173635    0.127114   0.127114  0.037292      0.458901   \n",
       "home_player_9     0.147337    0.097551   0.097551  0.019967      0.481995   \n",
       "home_player_10    0.170147    0.122092   0.122092  0.042472      0.465705   \n",
       "home_player_11    0.116443    0.069466   0.069466  0.028992      0.448781   \n",
       "away_player_1     0.154523    0.115062   0.115062  0.025719      0.388496   \n",
       "away_player_2     0.154885    0.105115   0.105115  0.034604      0.473426   \n",
       "away_player_3     0.173672    0.134781   0.134781  0.042046      0.388931   \n",
       "away_player_4     0.209056    0.167569   0.167569  0.027421      0.411994   \n",
       "away_player_5     0.105455    0.057969   0.057969  0.026769      0.459030   \n",
       "away_player_6     0.141294    0.094499   0.094499  0.036980      0.452768   \n",
       "away_player_7     0.158553    0.115364   0.115364  0.032052      0.426025   \n",
       "away_player_8     0.165830    0.118386   0.118386  0.039392      0.466500   \n",
       "away_player_9     0.153649    0.103158   0.103158  0.030589      0.483728   \n",
       "away_player_10    0.173413    0.125191   0.125191  0.042307      0.466945   \n",
       "away_player_11    0.128519    0.080914   0.080914  0.038007      0.458454   \n",
       "\n",
       "                  home_team_api_id  away_team_api_id  home_team_goal  \\\n",
       "id                       -0.006725         -0.005993        0.028239   \n",
       "country_id               -0.010625         -0.010357        0.030745   \n",
       "league_id                -0.010625         -0.010357        0.030745   \n",
       "stage                    -0.010515          0.010148        0.010729   \n",
       "match_api_id              0.035369          0.038671       -0.014596   \n",
       "home_team_api_id          1.000000         -0.001906       -0.016002   \n",
       "away_team_api_id         -0.001906          1.000000        0.002777   \n",
       "home_team_goal           -0.016002          0.002777        1.000000   \n",
       "away_team_goal            0.001327         -0.020205       -0.056359   \n",
       "home_player_1             0.013741          0.014209       -0.015185   \n",
       "home_player_2             0.001843          0.011563       -0.038134   \n",
       "home_player_3             0.009896         -0.001824       -0.018173   \n",
       "home_player_4             0.060552          0.014156       -0.006732   \n",
       "home_player_5             0.054218          0.021243       -0.038068   \n",
       "home_player_6             0.020213          0.033966       -0.015248   \n",
       "home_player_7             0.022007          0.006990       -0.012187   \n",
       "home_player_8             0.022455          0.023172       -0.028842   \n",
       "home_player_9             0.024680          0.016085       -0.022336   \n",
       "home_player_10            0.024473          0.001910       -0.037556   \n",
       "home_player_11            0.024729          0.008270       -0.043094   \n",
       "away_player_1             0.012368          0.024323        0.022775   \n",
       "away_player_2             0.001269         -0.014504        0.021540   \n",
       "away_player_3            -0.004947          0.027127        0.026327   \n",
       "away_player_4             0.016587          0.071638        0.019400   \n",
       "away_player_5             0.028323          0.059217        0.014606   \n",
       "away_player_6             0.007132          0.022422        0.002573   \n",
       "away_player_7             0.008959          0.023362        0.017895   \n",
       "away_player_8             0.003762          0.017015        0.000729   \n",
       "away_player_9             0.010197          0.029156        0.003051   \n",
       "away_player_10            0.000196          0.029193        0.026602   \n",
       "away_player_11           -0.000668          0.026429        0.019773   \n",
       "\n",
       "                  away_team_goal  home_player_1  ...  away_player_2  \\\n",
       "id                      0.006925       0.159608  ...       0.154885   \n",
       "country_id              0.006667       0.121060  ...       0.105115   \n",
       "league_id               0.006667       0.121060  ...       0.105115   \n",
       "stage                   0.008261       0.020247  ...       0.034604   \n",
       "match_api_id            0.014743       0.382646  ...       0.473426   \n",
       "home_team_api_id        0.001327       0.013741  ...       0.001269   \n",
       "away_team_api_id       -0.020205       0.014209  ...      -0.014504   \n",
       "home_team_goal         -0.056359      -0.015185  ...       0.021540   \n",
       "away_team_goal          1.000000       0.019859  ...      -0.014973   \n",
       "home_player_1           0.019859       1.000000  ...       0.219188   \n",
       "home_player_2           0.023024       0.255701  ...       0.299175   \n",
       "home_player_3           0.032538       0.267095  ...       0.232657   \n",
       "home_player_4           0.030237       0.304440  ...       0.224765   \n",
       "home_player_5           0.034197       0.266274  ...       0.246014   \n",
       "home_player_6           0.035366       0.231992  ...       0.268208   \n",
       "home_player_7           0.010248       0.263136  ...       0.279918   \n",
       "home_player_8           0.022200       0.244835  ...       0.272368   \n",
       "home_player_9           0.016703       0.245158  ...       0.284645   \n",
       "home_player_10          0.020131       0.270654  ...       0.285135   \n",
       "home_player_11          0.031882       0.238533  ...       0.279233   \n",
       "away_player_1          -0.003315       0.174033  ...       0.258949   \n",
       "away_player_2          -0.014973       0.219188  ...       1.000000   \n",
       "away_player_3          -0.009743       0.178890  ...       0.290573   \n",
       "away_player_4          -0.013398       0.195419  ...       0.288282   \n",
       "away_player_5          -0.011998       0.217143  ...       0.295419   \n",
       "away_player_6           0.003078       0.223215  ...       0.280382   \n",
       "away_player_7           0.010065       0.223336  ...       0.308498   \n",
       "away_player_8           0.010038       0.223498  ...       0.290521   \n",
       "away_player_9           0.001814       0.250452  ...       0.296931   \n",
       "away_player_10         -0.018533       0.218850  ...       0.313280   \n",
       "away_player_11         -0.008619       0.221134  ...       0.329062   \n",
       "\n",
       "                  away_player_3  away_player_4  away_player_5  away_player_6  \\\n",
       "id                     0.173672       0.209056       0.105455       0.141294   \n",
       "country_id             0.134781       0.167569       0.057969       0.094499   \n",
       "league_id              0.134781       0.167569       0.057969       0.094499   \n",
       "stage                  0.042046       0.027421       0.026769       0.036980   \n",
       "match_api_id           0.388931       0.411994       0.459030       0.452768   \n",
       "home_team_api_id      -0.004947       0.016587       0.028323       0.007132   \n",
       "away_team_api_id       0.027127       0.071638       0.059217       0.022422   \n",
       "home_team_goal         0.026327       0.019400       0.014606       0.002573   \n",
       "away_team_goal        -0.009743      -0.013398      -0.011998       0.003078   \n",
       "home_player_1          0.178890       0.195419       0.217143       0.223215   \n",
       "home_player_2          0.255857       0.245391       0.254167       0.270097   \n",
       "home_player_3          0.207758       0.215349       0.224175       0.235787   \n",
       "home_player_4          0.196816       0.206751       0.206135       0.234829   \n",
       "home_player_5          0.232876       0.236326       0.234769       0.251151   \n",
       "home_player_6          0.224788       0.251218       0.245705       0.254586   \n",
       "home_player_7          0.241430       0.219428       0.248846       0.252998   \n",
       "home_player_8          0.243867       0.237277       0.238798       0.270784   \n",
       "home_player_9          0.255581       0.238266       0.257501       0.271604   \n",
       "home_player_10         0.245860       0.242682       0.248164       0.267445   \n",
       "home_player_11         0.237577       0.234376       0.238966       0.268924   \n",
       "away_player_1          0.265392       0.317451       0.267434       0.243761   \n",
       "away_player_2          0.290573       0.288282       0.295419       0.280382   \n",
       "away_player_3          1.000000       0.248269       0.247671       0.290917   \n",
       "away_player_4          0.248269       1.000000       0.282198       0.263866   \n",
       "away_player_5          0.247671       0.282198       1.000000       0.271330   \n",
       "away_player_6          0.290917       0.263866       0.271330       1.000000   \n",
       "away_player_7          0.264788       0.281626       0.276929       0.284380   \n",
       "away_player_8          0.261899       0.289173       0.270076       0.285829   \n",
       "away_player_9          0.287921       0.301761       0.302462       0.297040   \n",
       "away_player_10         0.275868       0.304768       0.306818       0.293344   \n",
       "away_player_11         0.272003       0.275737       0.301642       0.279951   \n",
       "\n",
       "                  away_player_7  away_player_8  away_player_9  away_player_10  \\\n",
       "id                     0.158553       0.165830       0.153649        0.173413   \n",
       "country_id             0.115364       0.118386       0.103158        0.125191   \n",
       "league_id              0.115364       0.118386       0.103158        0.125191   \n",
       "stage                  0.032052       0.039392       0.030589        0.042307   \n",
       "match_api_id           0.426025       0.466500       0.483728        0.466945   \n",
       "home_team_api_id       0.008959       0.003762       0.010197        0.000196   \n",
       "away_team_api_id       0.023362       0.017015       0.029156        0.029193   \n",
       "home_team_goal         0.017895       0.000729       0.003051        0.026602   \n",
       "away_team_goal         0.010065       0.010038       0.001814       -0.018533   \n",
       "home_player_1          0.223336       0.223498       0.250452        0.218850   \n",
       "home_player_2          0.270216       0.282327       0.278625        0.299560   \n",
       "home_player_3          0.219354       0.269110       0.267233        0.230786   \n",
       "home_player_4          0.228455       0.251433       0.244172        0.232767   \n",
       "home_player_5          0.254766       0.258589       0.263552        0.262670   \n",
       "home_player_6          0.261567       0.273819       0.277614        0.249752   \n",
       "home_player_7          0.232204       0.253711       0.257722        0.261915   \n",
       "home_player_8          0.238391       0.268038       0.276154        0.279736   \n",
       "home_player_9          0.284124       0.292239       0.298327        0.272052   \n",
       "home_player_10         0.260967       0.272993       0.286936        0.269480   \n",
       "home_player_11         0.260464       0.269055       0.272416        0.263244   \n",
       "away_player_1          0.266286       0.255934       0.256862        0.265710   \n",
       "away_player_2          0.308498       0.290521       0.296931        0.313280   \n",
       "away_player_3          0.264788       0.261899       0.287921        0.275868   \n",
       "away_player_4          0.281626       0.289173       0.301761        0.304768   \n",
       "away_player_5          0.276929       0.270076       0.302462        0.306818   \n",
       "away_player_6          0.284380       0.285829       0.297040        0.293344   \n",
       "away_player_7          1.000000       0.293576       0.266787        0.312378   \n",
       "away_player_8          0.293576       1.000000       0.303964        0.323835   \n",
       "away_player_9          0.266787       0.303964       1.000000        0.338259   \n",
       "away_player_10         0.312378       0.323835       0.338259        1.000000   \n",
       "away_player_11         0.284015       0.309192       0.319597        0.299831   \n",
       "\n",
       "                  away_player_11  \n",
       "id                      0.128519  \n",
       "country_id              0.080914  \n",
       "league_id               0.080914  \n",
       "stage                   0.038007  \n",
       "match_api_id            0.458454  \n",
       "home_team_api_id       -0.000668  \n",
       "away_team_api_id        0.026429  \n",
       "home_team_goal          0.019773  \n",
       "away_team_goal         -0.008619  \n",
       "home_player_1           0.221134  \n",
       "home_player_2           0.302935  \n",
       "home_player_3           0.226728  \n",
       "home_player_4           0.241690  \n",
       "home_player_5           0.257230  \n",
       "home_player_6           0.272208  \n",
       "home_player_7           0.267194  \n",
       "home_player_8           0.267256  \n",
       "home_player_9           0.277692  \n",
       "home_player_10          0.270150  \n",
       "home_player_11          0.268020  \n",
       "away_player_1           0.250276  \n",
       "away_player_2           0.329062  \n",
       "away_player_3           0.272003  \n",
       "away_player_4           0.275737  \n",
       "away_player_5           0.301642  \n",
       "away_player_6           0.279951  \n",
       "away_player_7           0.284015  \n",
       "away_player_8           0.309192  \n",
       "away_player_9           0.319597  \n",
       "away_player_10          0.299831  \n",
       "away_player_11          1.000000  \n",
       "\n",
       "[31 rows x 31 columns]"
      ],
      "text/html": "<div>\n<style scoped>\n    .dataframe tbody tr th:only-of-type {\n        vertical-align: middle;\n    }\n\n    .dataframe tbody tr th {\n        vertical-align: top;\n    }\n\n    .dataframe thead th {\n        text-align: right;\n    }\n</style>\n<table border=\"1\" class=\"dataframe\">\n  <thead>\n    <tr style=\"text-align: right;\">\n      <th></th>\n      <th>id</th>\n      <th>country_id</th>\n      <th>league_id</th>\n      <th>stage</th>\n      <th>match_api_id</th>\n      <th>home_team_api_id</th>\n      <th>away_team_api_id</th>\n      <th>home_team_goal</th>\n      <th>away_team_goal</th>\n      <th>home_player_1</th>\n      <th>...</th>\n      <th>away_player_2</th>\n      <th>away_player_3</th>\n      <th>away_player_4</th>\n      <th>away_player_5</th>\n      <th>away_player_6</th>\n      <th>away_player_7</th>\n      <th>away_player_8</th>\n      <th>away_player_9</th>\n      <th>away_player_10</th>\n      <th>away_player_11</th>\n    </tr>\n  </thead>\n  <tbody>\n    <tr>\n      <th>id</th>\n      <td>1.000000</td>\n      <td>0.993221</td>\n      <td>0.993221</td>\n      <td>0.006101</td>\n      <td>0.162325</td>\n      <td>-0.006725</td>\n      <td>-0.005993</td>\n      <td>0.028239</td>\n      <td>0.006925</td>\n      <td>0.159608</td>\n      <td>...</td>\n      <td>0.154885</td>\n      <td>0.173672</td>\n      <td>0.209056</td>\n      <td>0.105455</td>\n      <td>0.141294</td>\n      <td>0.158553</td>\n      <td>0.165830</td>\n      <td>0.153649</td>\n      <td>0.173413</td>\n      <td>0.128519</td>\n    </tr>\n    <tr>\n      <th>country_id</th>\n      <td>0.993221</td>\n      <td>1.000000</td>\n      <td>1.000000</td>\n      <td>0.002253</td>\n      <td>0.051229</td>\n      <td>-0.010625</td>\n      <td>-0.010357</td>\n      <td>0.030745</td>\n      <td>0.006667</td>\n      <td>0.121060</td>\n      <td>...</td>\n      <td>0.105115</td>\n      <td>0.134781</td>\n      <td>0.167569</td>\n      <td>0.057969</td>\n      <td>0.094499</td>\n      <td>0.115364</td>\n      <td>0.118386</td>\n      <td>0.103158</td>\n      <td>0.125191</td>\n      <td>0.080914</td>\n    </tr>\n    <tr>\n      <th>league_id</th>\n      <td>0.993221</td>\n      <td>1.000000</td>\n      <td>1.000000</td>\n      <td>0.002253</td>\n      <td>0.051229</td>\n      <td>-0.010625</td>\n      <td>-0.010357</td>\n      <td>0.030745</td>\n      <td>0.006667</td>\n      <td>0.121060</td>\n      <td>...</td>\n      <td>0.105115</td>\n      <td>0.134781</td>\n      <td>0.167569</td>\n      <td>0.057969</td>\n      <td>0.094499</td>\n      <td>0.115364</td>\n      <td>0.118386</td>\n      <td>0.103158</td>\n      <td>0.125191</td>\n      <td>0.080914</td>\n    </tr>\n    <tr>\n      <th>stage</th>\n      <td>0.006101</td>\n      <td>0.002253</td>\n      <td>0.002253</td>\n      <td>1.000000</td>\n      <td>0.000595</td>\n      <td>-0.010515</td>\n      <td>0.010148</td>\n      <td>0.010729</td>\n      <td>0.008261</td>\n      <td>0.020247</td>\n      <td>...</td>\n      <td>0.034604</td>\n      <td>0.042046</td>\n      <td>0.027421</td>\n      <td>0.026769</td>\n      <td>0.036980</td>\n      <td>0.032052</td>\n      <td>0.039392</td>\n      <td>0.030589</td>\n      <td>0.042307</td>\n      <td>0.038007</td>\n    </tr>\n    <tr>\n      <th>match_api_id</th>\n      <td>0.162325</td>\n      <td>0.051229</td>\n      <td>0.051229</td>\n      <td>0.000595</td>\n      <td>1.000000</td>\n      <td>0.035369</td>\n      <td>0.038671</td>\n      <td>-0.014596</td>\n      <td>0.014743</td>\n      <td>0.382646</td>\n      <td>...</td>\n      <td>0.473426</td>\n      <td>0.388931</td>\n      <td>0.411994</td>\n      <td>0.459030</td>\n      <td>0.452768</td>\n      <td>0.426025</td>\n      <td>0.466500</td>\n      <td>0.483728</td>\n      <td>0.466945</td>\n      <td>0.458454</td>\n    </tr>\n    <tr>\n      <th>home_team_api_id</th>\n      <td>-0.006725</td>\n      <td>-0.010625</td>\n      <td>-0.010625</td>\n      <td>-0.010515</td>\n      <td>0.035369</td>\n      <td>1.000000</td>\n      <td>-0.001906</td>\n      <td>-0.016002</td>\n      <td>0.001327</td>\n      <td>0.013741</td>\n      <td>...</td>\n      <td>0.001269</td>\n      <td>-0.004947</td>\n      <td>0.016587</td>\n      <td>0.028323</td>\n      <td>0.007132</td>\n      <td>0.008959</td>\n      <td>0.003762</td>\n      <td>0.010197</td>\n      <td>0.000196</td>\n      <td>-0.000668</td>\n    </tr>\n    <tr>\n      <th>away_team_api_id</th>\n      <td>-0.005993</td>\n      <td>-0.010357</td>\n      <td>-0.010357</td>\n      <td>0.010148</td>\n      <td>0.038671</td>\n      <td>-0.001906</td>\n      <td>1.000000</td>\n      <td>0.002777</td>\n      <td>-0.020205</td>\n      <td>0.014209</td>\n      <td>...</td>\n      <td>-0.014504</td>\n      <td>0.027127</td>\n      <td>0.071638</td>\n      <td>0.059217</td>\n      <td>0.022422</td>\n      <td>0.023362</td>\n      <td>0.017015</td>\n      <td>0.029156</td>\n      <td>0.029193</td>\n      <td>0.026429</td>\n    </tr>\n    <tr>\n      <th>home_team_goal</th>\n      <td>0.028239</td>\n      <td>0.030745</td>\n      <td>0.030745</td>\n      <td>0.010729</td>\n      <td>-0.014596</td>\n      <td>-0.016002</td>\n      <td>0.002777</td>\n      <td>1.000000</td>\n      <td>-0.056359</td>\n      <td>-0.015185</td>\n      <td>...</td>\n      <td>0.021540</td>\n      <td>0.026327</td>\n      <td>0.019400</td>\n      <td>0.014606</td>\n      <td>0.002573</td>\n      <td>0.017895</td>\n      <td>0.000729</td>\n      <td>0.003051</td>\n      <td>0.026602</td>\n      <td>0.019773</td>\n    </tr>\n    <tr>\n      <th>away_team_goal</th>\n      <td>0.006925</td>\n      <td>0.006667</td>\n      <td>0.006667</td>\n      <td>0.008261</td>\n      <td>0.014743</td>\n      <td>0.001327</td>\n      <td>-0.020205</td>\n      <td>-0.056359</td>\n      <td>1.000000</td>\n      <td>0.019859</td>\n      <td>...</td>\n      <td>-0.014973</td>\n      <td>-0.009743</td>\n      <td>-0.013398</td>\n      <td>-0.011998</td>\n      <td>0.003078</td>\n      <td>0.010065</td>\n      <td>0.010038</td>\n      <td>0.001814</td>\n      <td>-0.018533</td>\n      <td>-0.008619</td>\n    </tr>\n    <tr>\n      <th>home_player_1</th>\n      <td>0.159608</td>\n      <td>0.121060</td>\n      <td>0.121060</td>\n      <td>0.020247</td>\n      <td>0.382646</td>\n      <td>0.013741</td>\n      <td>0.014209</td>\n      <td>-0.015185</td>\n      <td>0.019859</td>\n      <td>1.000000</td>\n      <td>...</td>\n      <td>0.219188</td>\n      <td>0.178890</td>\n      <td>0.195419</td>\n      <td>0.217143</td>\n      <td>0.223215</td>\n      <td>0.223336</td>\n      <td>0.223498</td>\n      <td>0.250452</td>\n      <td>0.218850</td>\n      <td>0.221134</td>\n    </tr>\n    <tr>\n      <th>home_player_2</th>\n      <td>0.155630</td>\n      <td>0.106603</td>\n      <td>0.106603</td>\n      <td>0.031376</td>\n      <td>0.471113</td>\n      <td>0.001843</td>\n      <td>0.011563</td>\n      <td>-0.038134</td>\n      <td>0.023024</td>\n      <td>0.255701</td>\n      <td>...</td>\n      <td>0.299175</td>\n      <td>0.255857</td>\n      <td>0.245391</td>\n      <td>0.254167</td>\n      <td>0.270097</td>\n      <td>0.270216</td>\n      <td>0.282327</td>\n      <td>0.278625</td>\n      <td>0.299560</td>\n      <td>0.302935</td>\n    </tr>\n    <tr>\n      <th>home_player_3</th>\n      <td>0.182310</td>\n      <td>0.143663</td>\n      <td>0.143663</td>\n      <td>0.036249</td>\n      <td>0.381974</td>\n      <td>0.009896</td>\n      <td>-0.001824</td>\n      <td>-0.018173</td>\n      <td>0.032538</td>\n      <td>0.267095</td>\n      <td>...</td>\n      <td>0.232657</td>\n      <td>0.207758</td>\n      <td>0.215349</td>\n      <td>0.224175</td>\n      <td>0.235787</td>\n      <td>0.219354</td>\n      <td>0.269110</td>\n      <td>0.267233</td>\n      <td>0.230786</td>\n      <td>0.226728</td>\n    </tr>\n    <tr>\n      <th>home_player_4</th>\n      <td>0.206971</td>\n      <td>0.166185</td>\n      <td>0.166185</td>\n      <td>0.024303</td>\n      <td>0.405596</td>\n      <td>0.060552</td>\n      <td>0.014156</td>\n      <td>-0.006732</td>\n      <td>0.030237</td>\n      <td>0.304440</td>\n      <td>...</td>\n      <td>0.224765</td>\n      <td>0.196816</td>\n      <td>0.206751</td>\n      <td>0.206135</td>\n      <td>0.234829</td>\n      <td>0.228455</td>\n      <td>0.251433</td>\n      <td>0.244172</td>\n      <td>0.232767</td>\n      <td>0.241690</td>\n    </tr>\n    <tr>\n      <th>home_player_5</th>\n      <td>0.112299</td>\n      <td>0.064456</td>\n      <td>0.064456</td>\n      <td>0.020563</td>\n      <td>0.462804</td>\n      <td>0.054218</td>\n      <td>0.021243</td>\n      <td>-0.038068</td>\n      <td>0.034197</td>\n      <td>0.266274</td>\n      <td>...</td>\n      <td>0.246014</td>\n      <td>0.232876</td>\n      <td>0.236326</td>\n      <td>0.234769</td>\n      <td>0.251151</td>\n      <td>0.254766</td>\n      <td>0.258589</td>\n      <td>0.263552</td>\n      <td>0.262670</td>\n      <td>0.257230</td>\n    </tr>\n    <tr>\n      <th>home_player_6</th>\n      <td>0.141746</td>\n      <td>0.094949</td>\n      <td>0.094949</td>\n      <td>0.043806</td>\n      <td>0.455957</td>\n      <td>0.020213</td>\n      <td>0.033966</td>\n      <td>-0.015248</td>\n      <td>0.035366</td>\n      <td>0.231992</td>\n      <td>...</td>\n      <td>0.268208</td>\n      <td>0.224788</td>\n      <td>0.251218</td>\n      <td>0.245705</td>\n      <td>0.254586</td>\n      <td>0.261567</td>\n      <td>0.273819</td>\n      <td>0.277614</td>\n      <td>0.249752</td>\n      <td>0.272208</td>\n    </tr>\n    <tr>\n      <th>home_player_7</th>\n      <td>0.168524</td>\n      <td>0.125954</td>\n      <td>0.125954</td>\n      <td>0.011340</td>\n      <td>0.420797</td>\n      <td>0.022007</td>\n      <td>0.006990</td>\n      <td>-0.012187</td>\n      <td>0.010248</td>\n      <td>0.263136</td>\n      <td>...</td>\n      <td>0.279918</td>\n      <td>0.241430</td>\n      <td>0.219428</td>\n      <td>0.248846</td>\n      <td>0.252998</td>\n      <td>0.232204</td>\n      <td>0.253711</td>\n      <td>0.257722</td>\n      <td>0.261915</td>\n      <td>0.267194</td>\n    </tr>\n    <tr>\n      <th>home_player_8</th>\n      <td>0.173635</td>\n      <td>0.127114</td>\n      <td>0.127114</td>\n      <td>0.037292</td>\n      <td>0.458901</td>\n      <td>0.022455</td>\n      <td>0.023172</td>\n      <td>-0.028842</td>\n      <td>0.022200</td>\n      <td>0.244835</td>\n      <td>...</td>\n      <td>0.272368</td>\n      <td>0.243867</td>\n      <td>0.237277</td>\n      <td>0.238798</td>\n      <td>0.270784</td>\n      <td>0.238391</td>\n      <td>0.268038</td>\n      <td>0.276154</td>\n      <td>0.279736</td>\n      <td>0.267256</td>\n    </tr>\n    <tr>\n      <th>home_player_9</th>\n      <td>0.147337</td>\n      <td>0.097551</td>\n      <td>0.097551</td>\n      <td>0.019967</td>\n      <td>0.481995</td>\n      <td>0.024680</td>\n      <td>0.016085</td>\n      <td>-0.022336</td>\n      <td>0.016703</td>\n      <td>0.245158</td>\n      <td>...</td>\n      <td>0.284645</td>\n      <td>0.255581</td>\n      <td>0.238266</td>\n      <td>0.257501</td>\n      <td>0.271604</td>\n      <td>0.284124</td>\n      <td>0.292239</td>\n      <td>0.298327</td>\n      <td>0.272052</td>\n      <td>0.277692</td>\n    </tr>\n    <tr>\n      <th>home_player_10</th>\n      <td>0.170147</td>\n      <td>0.122092</td>\n      <td>0.122092</td>\n      <td>0.042472</td>\n      <td>0.465705</td>\n      <td>0.024473</td>\n      <td>0.001910</td>\n      <td>-0.037556</td>\n      <td>0.020131</td>\n      <td>0.270654</td>\n      <td>...</td>\n      <td>0.285135</td>\n      <td>0.245860</td>\n      <td>0.242682</td>\n      <td>0.248164</td>\n      <td>0.267445</td>\n      <td>0.260967</td>\n      <td>0.272993</td>\n      <td>0.286936</td>\n      <td>0.269480</td>\n      <td>0.270150</td>\n    </tr>\n    <tr>\n      <th>home_player_11</th>\n      <td>0.116443</td>\n      <td>0.069466</td>\n      <td>0.069466</td>\n      <td>0.028992</td>\n      <td>0.448781</td>\n      <td>0.024729</td>\n      <td>0.008270</td>\n      <td>-0.043094</td>\n      <td>0.031882</td>\n      <td>0.238533</td>\n      <td>...</td>\n      <td>0.279233</td>\n      <td>0.237577</td>\n      <td>0.234376</td>\n      <td>0.238966</td>\n      <td>0.268924</td>\n      <td>0.260464</td>\n      <td>0.269055</td>\n      <td>0.272416</td>\n      <td>0.263244</td>\n      <td>0.268020</td>\n    </tr>\n    <tr>\n      <th>away_player_1</th>\n      <td>0.154523</td>\n      <td>0.115062</td>\n      <td>0.115062</td>\n      <td>0.025719</td>\n      <td>0.388496</td>\n      <td>0.012368</td>\n      <td>0.024323</td>\n      <td>0.022775</td>\n      <td>-0.003315</td>\n      <td>0.174033</td>\n      <td>...</td>\n      <td>0.258949</td>\n      <td>0.265392</td>\n      <td>0.317451</td>\n      <td>0.267434</td>\n      <td>0.243761</td>\n      <td>0.266286</td>\n      <td>0.255934</td>\n      <td>0.256862</td>\n      <td>0.265710</td>\n      <td>0.250276</td>\n    </tr>\n    <tr>\n      <th>away_player_2</th>\n      <td>0.154885</td>\n      <td>0.105115</td>\n      <td>0.105115</td>\n      <td>0.034604</td>\n      <td>0.473426</td>\n      <td>0.001269</td>\n      <td>-0.014504</td>\n      <td>0.021540</td>\n      <td>-0.014973</td>\n      <td>0.219188</td>\n      <td>...</td>\n      <td>1.000000</td>\n      <td>0.290573</td>\n      <td>0.288282</td>\n      <td>0.295419</td>\n      <td>0.280382</td>\n      <td>0.308498</td>\n      <td>0.290521</td>\n      <td>0.296931</td>\n      <td>0.313280</td>\n      <td>0.329062</td>\n    </tr>\n    <tr>\n      <th>away_player_3</th>\n      <td>0.173672</td>\n      <td>0.134781</td>\n      <td>0.134781</td>\n      <td>0.042046</td>\n      <td>0.388931</td>\n      <td>-0.004947</td>\n      <td>0.027127</td>\n      <td>0.026327</td>\n      <td>-0.009743</td>\n      <td>0.178890</td>\n      <td>...</td>\n      <td>0.290573</td>\n      <td>1.000000</td>\n      <td>0.248269</td>\n      <td>0.247671</td>\n      <td>0.290917</td>\n      <td>0.264788</td>\n      <td>0.261899</td>\n      <td>0.287921</td>\n      <td>0.275868</td>\n      <td>0.272003</td>\n    </tr>\n    <tr>\n      <th>away_player_4</th>\n      <td>0.209056</td>\n      <td>0.167569</td>\n      <td>0.167569</td>\n      <td>0.027421</td>\n      <td>0.411994</td>\n      <td>0.016587</td>\n      <td>0.071638</td>\n      <td>0.019400</td>\n      <td>-0.013398</td>\n      <td>0.195419</td>\n      <td>...</td>\n      <td>0.288282</td>\n      <td>0.248269</td>\n      <td>1.000000</td>\n      <td>0.282198</td>\n      <td>0.263866</td>\n      <td>0.281626</td>\n      <td>0.289173</td>\n      <td>0.301761</td>\n      <td>0.304768</td>\n      <td>0.275737</td>\n    </tr>\n    <tr>\n      <th>away_player_5</th>\n      <td>0.105455</td>\n      <td>0.057969</td>\n      <td>0.057969</td>\n      <td>0.026769</td>\n      <td>0.459030</td>\n      <td>0.028323</td>\n      <td>0.059217</td>\n      <td>0.014606</td>\n      <td>-0.011998</td>\n      <td>0.217143</td>\n      <td>...</td>\n      <td>0.295419</td>\n      <td>0.247671</td>\n      <td>0.282198</td>\n      <td>1.000000</td>\n      <td>0.271330</td>\n      <td>0.276929</td>\n      <td>0.270076</td>\n      <td>0.302462</td>\n      <td>0.306818</td>\n      <td>0.301642</td>\n    </tr>\n    <tr>\n      <th>away_player_6</th>\n      <td>0.141294</td>\n      <td>0.094499</td>\n      <td>0.094499</td>\n      <td>0.036980</td>\n      <td>0.452768</td>\n      <td>0.007132</td>\n      <td>0.022422</td>\n      <td>0.002573</td>\n      <td>0.003078</td>\n      <td>0.223215</td>\n      <td>...</td>\n      <td>0.280382</td>\n      <td>0.290917</td>\n      <td>0.263866</td>\n      <td>0.271330</td>\n      <td>1.000000</td>\n      <td>0.284380</td>\n      <td>0.285829</td>\n      <td>0.297040</td>\n      <td>0.293344</td>\n      <td>0.279951</td>\n    </tr>\n    <tr>\n      <th>away_player_7</th>\n      <td>0.158553</td>\n      <td>0.115364</td>\n      <td>0.115364</td>\n      <td>0.032052</td>\n      <td>0.426025</td>\n      <td>0.008959</td>\n      <td>0.023362</td>\n      <td>0.017895</td>\n      <td>0.010065</td>\n      <td>0.223336</td>\n      <td>...</td>\n      <td>0.308498</td>\n      <td>0.264788</td>\n      <td>0.281626</td>\n      <td>0.276929</td>\n      <td>0.284380</td>\n      <td>1.000000</td>\n      <td>0.293576</td>\n      <td>0.266787</td>\n      <td>0.312378</td>\n      <td>0.284015</td>\n    </tr>\n    <tr>\n      <th>away_player_8</th>\n      <td>0.165830</td>\n      <td>0.118386</td>\n      <td>0.118386</td>\n      <td>0.039392</td>\n      <td>0.466500</td>\n      <td>0.003762</td>\n      <td>0.017015</td>\n      <td>0.000729</td>\n      <td>0.010038</td>\n      <td>0.223498</td>\n      <td>...</td>\n      <td>0.290521</td>\n      <td>0.261899</td>\n      <td>0.289173</td>\n      <td>0.270076</td>\n      <td>0.285829</td>\n      <td>0.293576</td>\n      <td>1.000000</td>\n      <td>0.303964</td>\n      <td>0.323835</td>\n      <td>0.309192</td>\n    </tr>\n    <tr>\n      <th>away_player_9</th>\n      <td>0.153649</td>\n      <td>0.103158</td>\n      <td>0.103158</td>\n      <td>0.030589</td>\n      <td>0.483728</td>\n      <td>0.010197</td>\n      <td>0.029156</td>\n      <td>0.003051</td>\n      <td>0.001814</td>\n      <td>0.250452</td>\n      <td>...</td>\n      <td>0.296931</td>\n      <td>0.287921</td>\n      <td>0.301761</td>\n      <td>0.302462</td>\n      <td>0.297040</td>\n      <td>0.266787</td>\n      <td>0.303964</td>\n      <td>1.000000</td>\n      <td>0.338259</td>\n      <td>0.319597</td>\n    </tr>\n    <tr>\n      <th>away_player_10</th>\n      <td>0.173413</td>\n      <td>0.125191</td>\n      <td>0.125191</td>\n      <td>0.042307</td>\n      <td>0.466945</td>\n      <td>0.000196</td>\n      <td>0.029193</td>\n      <td>0.026602</td>\n      <td>-0.018533</td>\n      <td>0.218850</td>\n      <td>...</td>\n      <td>0.313280</td>\n      <td>0.275868</td>\n      <td>0.304768</td>\n      <td>0.306818</td>\n      <td>0.293344</td>\n      <td>0.312378</td>\n      <td>0.323835</td>\n      <td>0.338259</td>\n      <td>1.000000</td>\n      <td>0.299831</td>\n    </tr>\n    <tr>\n      <th>away_player_11</th>\n      <td>0.128519</td>\n      <td>0.080914</td>\n      <td>0.080914</td>\n      <td>0.038007</td>\n      <td>0.458454</td>\n      <td>-0.000668</td>\n      <td>0.026429</td>\n      <td>0.019773</td>\n      <td>-0.008619</td>\n      <td>0.221134</td>\n      <td>...</td>\n      <td>0.329062</td>\n      <td>0.272003</td>\n      <td>0.275737</td>\n      <td>0.301642</td>\n      <td>0.279951</td>\n      <td>0.284015</td>\n      <td>0.309192</td>\n      <td>0.319597</td>\n      <td>0.299831</td>\n      <td>1.000000</td>\n    </tr>\n  </tbody>\n</table>\n<p>31 rows × 31 columns</p>\n</div>"
     },
     "metadata": {},
     "execution_count": 116
    }
   ],
   "source": [
    "relevant_match.corr()"
   ]
  },
  {
   "cell_type": "code",
   "execution_count": 118,
   "metadata": {},
   "outputs": [
    {
     "output_type": "execute_result",
     "data": {
      "text/plain": [
       "Index(['id', 'country_id', 'league_id', 'season', 'stage', 'date',\n",
       "       'match_api_id', 'home_team_api_id', 'away_team_api_id',\n",
       "       'home_team_goal', 'away_team_goal', 'home_player_1', 'home_player_2',\n",
       "       'home_player_3', 'home_player_4', 'home_player_5', 'home_player_6',\n",
       "       'home_player_7', 'home_player_8', 'home_player_9', 'home_player_10',\n",
       "       'home_player_11', 'away_player_1', 'away_player_2', 'away_player_3',\n",
       "       'away_player_4', 'away_player_5', 'away_player_6', 'away_player_7',\n",
       "       'away_player_8', 'away_player_9', 'away_player_10', 'away_player_11',\n",
       "       'goal', 'shoton', 'shotoff', 'foulcommit', 'card', 'cross', 'corner',\n",
       "       'possession', 'score'],\n",
       "      dtype='object')"
      ]
     },
     "metadata": {},
     "execution_count": 118
    }
   ],
   "source": [
    "relevant_match.columns"
   ]
  },
  {
   "cell_type": "code",
   "execution_count": 124,
   "metadata": {},
   "outputs": [
    {
     "output_type": "execute_result",
     "data": {
      "text/plain": [
       "                        id  country_id  league_id     stage  match_api_id  \\\n",
       "id                1.000000    0.993221   0.993221  0.006101      0.162325   \n",
       "country_id        0.993221    1.000000   1.000000  0.002253      0.051229   \n",
       "league_id         0.993221    1.000000   1.000000  0.002253      0.051229   \n",
       "stage             0.006101    0.002253   0.002253  1.000000      0.000595   \n",
       "match_api_id      0.162325    0.051229   0.051229  0.000595      1.000000   \n",
       "home_team_api_id -0.006725   -0.010625  -0.010625 -0.010515      0.035369   \n",
       "away_team_api_id -0.005993   -0.010357  -0.010357  0.010148      0.038671   \n",
       "home_team_goal    0.028239    0.030745   0.030745  0.010729     -0.014596   \n",
       "away_team_goal    0.006925    0.006667   0.006667  0.008261      0.014743   \n",
       "home_player_1     0.159608    0.121060   0.121060  0.020247      0.382646   \n",
       "home_player_2     0.155630    0.106603   0.106603  0.031376      0.471113   \n",
       "home_player_3     0.182310    0.143663   0.143663  0.036249      0.381974   \n",
       "home_player_4     0.206971    0.166185   0.166185  0.024303      0.405596   \n",
       "home_player_5     0.112299    0.064456   0.064456  0.020563      0.462804   \n",
       "home_player_6     0.141746    0.094949   0.094949  0.043806      0.455957   \n",
       "home_player_7     0.168524    0.125954   0.125954  0.011340      0.420797   \n",
       "home_player_8     0.173635    0.127114   0.127114  0.037292      0.458901   \n",
       "home_player_9     0.147337    0.097551   0.097551  0.019967      0.481995   \n",
       "home_player_10    0.170147    0.122092   0.122092  0.042472      0.465705   \n",
       "home_player_11    0.116443    0.069466   0.069466  0.028992      0.448781   \n",
       "away_player_1     0.154523    0.115062   0.115062  0.025719      0.388496   \n",
       "away_player_2     0.154885    0.105115   0.105115  0.034604      0.473426   \n",
       "away_player_3     0.173672    0.134781   0.134781  0.042046      0.388931   \n",
       "away_player_4     0.209056    0.167569   0.167569  0.027421      0.411994   \n",
       "away_player_5     0.105455    0.057969   0.057969  0.026769      0.459030   \n",
       "away_player_6     0.141294    0.094499   0.094499  0.036980      0.452768   \n",
       "away_player_7     0.158553    0.115364   0.115364  0.032052      0.426025   \n",
       "away_player_8     0.165830    0.118386   0.118386  0.039392      0.466500   \n",
       "away_player_9     0.153649    0.103158   0.103158  0.030589      0.483728   \n",
       "away_player_10    0.173413    0.125191   0.125191  0.042307      0.466945   \n",
       "away_player_11    0.128519    0.080914   0.080914  0.038007      0.458454   \n",
       "score            -0.009796   -0.013151  -0.013151 -0.002238      0.031614   \n",
       "\n",
       "                  home_team_api_id  away_team_api_id  home_team_goal  \\\n",
       "id                       -0.006725         -0.005993        0.028239   \n",
       "country_id               -0.010625         -0.010357        0.030745   \n",
       "league_id                -0.010625         -0.010357        0.030745   \n",
       "stage                    -0.010515          0.010148        0.010729   \n",
       "match_api_id              0.035369          0.038671       -0.014596   \n",
       "home_team_api_id          1.000000         -0.001906       -0.016002   \n",
       "away_team_api_id         -0.001906          1.000000        0.002777   \n",
       "home_team_goal           -0.016002          0.002777        1.000000   \n",
       "away_team_goal            0.001327         -0.020205       -0.056359   \n",
       "home_player_1             0.013741          0.014209       -0.015185   \n",
       "home_player_2             0.001843          0.011563       -0.038134   \n",
       "home_player_3             0.009896         -0.001824       -0.018173   \n",
       "home_player_4             0.060552          0.014156       -0.006732   \n",
       "home_player_5             0.054218          0.021243       -0.038068   \n",
       "home_player_6             0.020213          0.033966       -0.015248   \n",
       "home_player_7             0.022007          0.006990       -0.012187   \n",
       "home_player_8             0.022455          0.023172       -0.028842   \n",
       "home_player_9             0.024680          0.016085       -0.022336   \n",
       "home_player_10            0.024473          0.001910       -0.037556   \n",
       "home_player_11            0.024729          0.008270       -0.043094   \n",
       "away_player_1             0.012368          0.024323        0.022775   \n",
       "away_player_2             0.001269         -0.014504        0.021540   \n",
       "away_player_3            -0.004947          0.027127        0.026327   \n",
       "away_player_4             0.016587          0.071638        0.019400   \n",
       "away_player_5             0.028323          0.059217        0.014606   \n",
       "away_player_6             0.007132          0.022422        0.002573   \n",
       "away_player_7             0.008959          0.023362        0.017895   \n",
       "away_player_8             0.003762          0.017015        0.000729   \n",
       "away_player_9             0.010197          0.029156        0.003051   \n",
       "away_player_10            0.000196          0.029193        0.026602   \n",
       "away_player_11           -0.000668          0.026429        0.019773   \n",
       "score                     0.018388         -0.007933       -0.621503   \n",
       "\n",
       "                  away_team_goal  home_player_1  ...  away_player_3  \\\n",
       "id                      0.006925       0.159608  ...       0.173672   \n",
       "country_id              0.006667       0.121060  ...       0.134781   \n",
       "league_id               0.006667       0.121060  ...       0.134781   \n",
       "stage                   0.008261       0.020247  ...       0.042046   \n",
       "match_api_id            0.014743       0.382646  ...       0.388931   \n",
       "home_team_api_id        0.001327       0.013741  ...      -0.004947   \n",
       "away_team_api_id       -0.020205       0.014209  ...       0.027127   \n",
       "home_team_goal         -0.056359      -0.015185  ...       0.026327   \n",
       "away_team_goal          1.000000       0.019859  ...      -0.009743   \n",
       "home_player_1           0.019859       1.000000  ...       0.178890   \n",
       "home_player_2           0.023024       0.255701  ...       0.255857   \n",
       "home_player_3           0.032538       0.267095  ...       0.207758   \n",
       "home_player_4           0.030237       0.304440  ...       0.196816   \n",
       "home_player_5           0.034197       0.266274  ...       0.232876   \n",
       "home_player_6           0.035366       0.231992  ...       0.224788   \n",
       "home_player_7           0.010248       0.263136  ...       0.241430   \n",
       "home_player_8           0.022200       0.244835  ...       0.243867   \n",
       "home_player_9           0.016703       0.245158  ...       0.255581   \n",
       "home_player_10          0.020131       0.270654  ...       0.245860   \n",
       "home_player_11          0.031882       0.238533  ...       0.237577   \n",
       "away_player_1          -0.003315       0.174033  ...       0.265392   \n",
       "away_player_2          -0.014973       0.219188  ...       0.290573   \n",
       "away_player_3          -0.009743       0.178890  ...       1.000000   \n",
       "away_player_4          -0.013398       0.195419  ...       0.248269   \n",
       "away_player_5          -0.011998       0.217143  ...       0.247671   \n",
       "away_player_6           0.003078       0.223215  ...       0.290917   \n",
       "away_player_7           0.010065       0.223336  ...       0.264788   \n",
       "away_player_8           0.010038       0.223498  ...       0.261899   \n",
       "away_player_9           0.001814       0.250452  ...       0.287921   \n",
       "away_player_10         -0.018533       0.218850  ...       0.275868   \n",
       "away_player_11         -0.008619       0.221134  ...       0.272003   \n",
       "score                   0.628280       0.029372  ...      -0.014788   \n",
       "\n",
       "                  away_player_4  away_player_5  away_player_6  away_player_7  \\\n",
       "id                     0.209056       0.105455       0.141294       0.158553   \n",
       "country_id             0.167569       0.057969       0.094499       0.115364   \n",
       "league_id              0.167569       0.057969       0.094499       0.115364   \n",
       "stage                  0.027421       0.026769       0.036980       0.032052   \n",
       "match_api_id           0.411994       0.459030       0.452768       0.426025   \n",
       "home_team_api_id       0.016587       0.028323       0.007132       0.008959   \n",
       "away_team_api_id       0.071638       0.059217       0.022422       0.023362   \n",
       "home_team_goal         0.019400       0.014606       0.002573       0.017895   \n",
       "away_team_goal        -0.013398      -0.011998       0.003078       0.010065   \n",
       "home_player_1          0.195419       0.217143       0.223215       0.223336   \n",
       "home_player_2          0.245391       0.254167       0.270097       0.270216   \n",
       "home_player_3          0.215349       0.224175       0.235787       0.219354   \n",
       "home_player_4          0.206751       0.206135       0.234829       0.228455   \n",
       "home_player_5          0.236326       0.234769       0.251151       0.254766   \n",
       "home_player_6          0.251218       0.245705       0.254586       0.261567   \n",
       "home_player_7          0.219428       0.248846       0.252998       0.232204   \n",
       "home_player_8          0.237277       0.238798       0.270784       0.238391   \n",
       "home_player_9          0.238266       0.257501       0.271604       0.284124   \n",
       "home_player_10         0.242682       0.248164       0.267445       0.260967   \n",
       "home_player_11         0.234376       0.238966       0.268924       0.260464   \n",
       "away_player_1          0.317451       0.267434       0.243761       0.266286   \n",
       "away_player_2          0.288282       0.295419       0.280382       0.308498   \n",
       "away_player_3          0.248269       0.247671       0.290917       0.264788   \n",
       "away_player_4          1.000000       0.282198       0.263866       0.281626   \n",
       "away_player_5          0.282198       1.000000       0.271330       0.276929   \n",
       "away_player_6          0.263866       0.271330       1.000000       0.284380   \n",
       "away_player_7          0.281626       0.276929       0.284380       1.000000   \n",
       "away_player_8          0.289173       0.270076       0.285829       0.293576   \n",
       "away_player_9          0.301761       0.302462       0.297040       0.266787   \n",
       "away_player_10         0.304768       0.306818       0.293344       0.312378   \n",
       "away_player_11         0.275737       0.301642       0.279951       0.284015   \n",
       "score                 -0.008753      -0.009452       0.003801      -0.002920   \n",
       "\n",
       "                  away_player_8  away_player_9  away_player_10  \\\n",
       "id                     0.165830       0.153649        0.173413   \n",
       "country_id             0.118386       0.103158        0.125191   \n",
       "league_id              0.118386       0.103158        0.125191   \n",
       "stage                  0.039392       0.030589        0.042307   \n",
       "match_api_id           0.466500       0.483728        0.466945   \n",
       "home_team_api_id       0.003762       0.010197        0.000196   \n",
       "away_team_api_id       0.017015       0.029156        0.029193   \n",
       "home_team_goal         0.000729       0.003051        0.026602   \n",
       "away_team_goal         0.010038       0.001814       -0.018533   \n",
       "home_player_1          0.223498       0.250452        0.218850   \n",
       "home_player_2          0.282327       0.278625        0.299560   \n",
       "home_player_3          0.269110       0.267233        0.230786   \n",
       "home_player_4          0.251433       0.244172        0.232767   \n",
       "home_player_5          0.258589       0.263552        0.262670   \n",
       "home_player_6          0.273819       0.277614        0.249752   \n",
       "home_player_7          0.253711       0.257722        0.261915   \n",
       "home_player_8          0.268038       0.276154        0.279736   \n",
       "home_player_9          0.292239       0.298327        0.272052   \n",
       "home_player_10         0.272993       0.286936        0.269480   \n",
       "home_player_11         0.269055       0.272416        0.263244   \n",
       "away_player_1          0.255934       0.256862        0.265710   \n",
       "away_player_2          0.290521       0.296931        0.313280   \n",
       "away_player_3          0.261899       0.287921        0.275868   \n",
       "away_player_4          0.289173       0.301761        0.304768   \n",
       "away_player_5          0.270076       0.302462        0.306818   \n",
       "away_player_6          0.285829       0.297040        0.293344   \n",
       "away_player_7          0.293576       0.266787        0.312378   \n",
       "away_player_8          1.000000       0.303964        0.323835   \n",
       "away_player_9          0.303964       1.000000        0.338259   \n",
       "away_player_10         0.323835       0.338259        1.000000   \n",
       "away_player_11         0.309192       0.319597        0.299831   \n",
       "score                  0.002306       0.004147       -0.011967   \n",
       "\n",
       "                  away_player_11     score  \n",
       "id                      0.128519 -0.009796  \n",
       "country_id              0.080914 -0.013151  \n",
       "league_id               0.080914 -0.013151  \n",
       "stage                   0.038007 -0.002238  \n",
       "match_api_id            0.458454  0.031614  \n",
       "home_team_api_id       -0.000668  0.018388  \n",
       "away_team_api_id        0.026429 -0.007933  \n",
       "home_team_goal          0.019773 -0.621503  \n",
       "away_team_goal         -0.008619  0.628280  \n",
       "home_player_1           0.221134  0.029372  \n",
       "home_player_2           0.302935  0.041556  \n",
       "home_player_3           0.226728  0.033543  \n",
       "home_player_4           0.241690  0.022141  \n",
       "home_player_5           0.257230  0.051147  \n",
       "home_player_6           0.272208  0.032906  \n",
       "home_player_7           0.267194  0.022238  \n",
       "home_player_8           0.267256  0.038003  \n",
       "home_player_9           0.277692  0.021856  \n",
       "home_player_10          0.270150  0.033179  \n",
       "home_player_11          0.268020  0.050970  \n",
       "away_player_1           0.250276 -0.011976  \n",
       "away_player_2           0.329062 -0.014959  \n",
       "away_player_3           0.272003 -0.014788  \n",
       "away_player_4           0.275737 -0.008753  \n",
       "away_player_5           0.301642 -0.009452  \n",
       "away_player_6           0.279951  0.003801  \n",
       "away_player_7           0.284015 -0.002920  \n",
       "away_player_8           0.309192  0.002306  \n",
       "away_player_9           0.319597  0.004147  \n",
       "away_player_10          0.299831 -0.011967  \n",
       "away_player_11          1.000000 -0.005938  \n",
       "score                  -0.005938  1.000000  \n",
       "\n",
       "[32 rows x 32 columns]"
      ],
      "text/html": "<div>\n<style scoped>\n    .dataframe tbody tr th:only-of-type {\n        vertical-align: middle;\n    }\n\n    .dataframe tbody tr th {\n        vertical-align: top;\n    }\n\n    .dataframe thead th {\n        text-align: right;\n    }\n</style>\n<table border=\"1\" class=\"dataframe\">\n  <thead>\n    <tr style=\"text-align: right;\">\n      <th></th>\n      <th>id</th>\n      <th>country_id</th>\n      <th>league_id</th>\n      <th>stage</th>\n      <th>match_api_id</th>\n      <th>home_team_api_id</th>\n      <th>away_team_api_id</th>\n      <th>home_team_goal</th>\n      <th>away_team_goal</th>\n      <th>home_player_1</th>\n      <th>...</th>\n      <th>away_player_3</th>\n      <th>away_player_4</th>\n      <th>away_player_5</th>\n      <th>away_player_6</th>\n      <th>away_player_7</th>\n      <th>away_player_8</th>\n      <th>away_player_9</th>\n      <th>away_player_10</th>\n      <th>away_player_11</th>\n      <th>score</th>\n    </tr>\n  </thead>\n  <tbody>\n    <tr>\n      <th>id</th>\n      <td>1.000000</td>\n      <td>0.993221</td>\n      <td>0.993221</td>\n      <td>0.006101</td>\n      <td>0.162325</td>\n      <td>-0.006725</td>\n      <td>-0.005993</td>\n      <td>0.028239</td>\n      <td>0.006925</td>\n      <td>0.159608</td>\n      <td>...</td>\n      <td>0.173672</td>\n      <td>0.209056</td>\n      <td>0.105455</td>\n      <td>0.141294</td>\n      <td>0.158553</td>\n      <td>0.165830</td>\n      <td>0.153649</td>\n      <td>0.173413</td>\n      <td>0.128519</td>\n      <td>-0.009796</td>\n    </tr>\n    <tr>\n      <th>country_id</th>\n      <td>0.993221</td>\n      <td>1.000000</td>\n      <td>1.000000</td>\n      <td>0.002253</td>\n      <td>0.051229</td>\n      <td>-0.010625</td>\n      <td>-0.010357</td>\n      <td>0.030745</td>\n      <td>0.006667</td>\n      <td>0.121060</td>\n      <td>...</td>\n      <td>0.134781</td>\n      <td>0.167569</td>\n      <td>0.057969</td>\n      <td>0.094499</td>\n      <td>0.115364</td>\n      <td>0.118386</td>\n      <td>0.103158</td>\n      <td>0.125191</td>\n      <td>0.080914</td>\n      <td>-0.013151</td>\n    </tr>\n    <tr>\n      <th>league_id</th>\n      <td>0.993221</td>\n      <td>1.000000</td>\n      <td>1.000000</td>\n      <td>0.002253</td>\n      <td>0.051229</td>\n      <td>-0.010625</td>\n      <td>-0.010357</td>\n      <td>0.030745</td>\n      <td>0.006667</td>\n      <td>0.121060</td>\n      <td>...</td>\n      <td>0.134781</td>\n      <td>0.167569</td>\n      <td>0.057969</td>\n      <td>0.094499</td>\n      <td>0.115364</td>\n      <td>0.118386</td>\n      <td>0.103158</td>\n      <td>0.125191</td>\n      <td>0.080914</td>\n      <td>-0.013151</td>\n    </tr>\n    <tr>\n      <th>stage</th>\n      <td>0.006101</td>\n      <td>0.002253</td>\n      <td>0.002253</td>\n      <td>1.000000</td>\n      <td>0.000595</td>\n      <td>-0.010515</td>\n      <td>0.010148</td>\n      <td>0.010729</td>\n      <td>0.008261</td>\n      <td>0.020247</td>\n      <td>...</td>\n      <td>0.042046</td>\n      <td>0.027421</td>\n      <td>0.026769</td>\n      <td>0.036980</td>\n      <td>0.032052</td>\n      <td>0.039392</td>\n      <td>0.030589</td>\n      <td>0.042307</td>\n      <td>0.038007</td>\n      <td>-0.002238</td>\n    </tr>\n    <tr>\n      <th>match_api_id</th>\n      <td>0.162325</td>\n      <td>0.051229</td>\n      <td>0.051229</td>\n      <td>0.000595</td>\n      <td>1.000000</td>\n      <td>0.035369</td>\n      <td>0.038671</td>\n      <td>-0.014596</td>\n      <td>0.014743</td>\n      <td>0.382646</td>\n      <td>...</td>\n      <td>0.388931</td>\n      <td>0.411994</td>\n      <td>0.459030</td>\n      <td>0.452768</td>\n      <td>0.426025</td>\n      <td>0.466500</td>\n      <td>0.483728</td>\n      <td>0.466945</td>\n      <td>0.458454</td>\n      <td>0.031614</td>\n    </tr>\n    <tr>\n      <th>home_team_api_id</th>\n      <td>-0.006725</td>\n      <td>-0.010625</td>\n      <td>-0.010625</td>\n      <td>-0.010515</td>\n      <td>0.035369</td>\n      <td>1.000000</td>\n      <td>-0.001906</td>\n      <td>-0.016002</td>\n      <td>0.001327</td>\n      <td>0.013741</td>\n      <td>...</td>\n      <td>-0.004947</td>\n      <td>0.016587</td>\n      <td>0.028323</td>\n      <td>0.007132</td>\n      <td>0.008959</td>\n      <td>0.003762</td>\n      <td>0.010197</td>\n      <td>0.000196</td>\n      <td>-0.000668</td>\n      <td>0.018388</td>\n    </tr>\n    <tr>\n      <th>away_team_api_id</th>\n      <td>-0.005993</td>\n      <td>-0.010357</td>\n      <td>-0.010357</td>\n      <td>0.010148</td>\n      <td>0.038671</td>\n      <td>-0.001906</td>\n      <td>1.000000</td>\n      <td>0.002777</td>\n      <td>-0.020205</td>\n      <td>0.014209</td>\n      <td>...</td>\n      <td>0.027127</td>\n      <td>0.071638</td>\n      <td>0.059217</td>\n      <td>0.022422</td>\n      <td>0.023362</td>\n      <td>0.017015</td>\n      <td>0.029156</td>\n      <td>0.029193</td>\n      <td>0.026429</td>\n      <td>-0.007933</td>\n    </tr>\n    <tr>\n      <th>home_team_goal</th>\n      <td>0.028239</td>\n      <td>0.030745</td>\n      <td>0.030745</td>\n      <td>0.010729</td>\n      <td>-0.014596</td>\n      <td>-0.016002</td>\n      <td>0.002777</td>\n      <td>1.000000</td>\n      <td>-0.056359</td>\n      <td>-0.015185</td>\n      <td>...</td>\n      <td>0.026327</td>\n      <td>0.019400</td>\n      <td>0.014606</td>\n      <td>0.002573</td>\n      <td>0.017895</td>\n      <td>0.000729</td>\n      <td>0.003051</td>\n      <td>0.026602</td>\n      <td>0.019773</td>\n      <td>-0.621503</td>\n    </tr>\n    <tr>\n      <th>away_team_goal</th>\n      <td>0.006925</td>\n      <td>0.006667</td>\n      <td>0.006667</td>\n      <td>0.008261</td>\n      <td>0.014743</td>\n      <td>0.001327</td>\n      <td>-0.020205</td>\n      <td>-0.056359</td>\n      <td>1.000000</td>\n      <td>0.019859</td>\n      <td>...</td>\n      <td>-0.009743</td>\n      <td>-0.013398</td>\n      <td>-0.011998</td>\n      <td>0.003078</td>\n      <td>0.010065</td>\n      <td>0.010038</td>\n      <td>0.001814</td>\n      <td>-0.018533</td>\n      <td>-0.008619</td>\n      <td>0.628280</td>\n    </tr>\n    <tr>\n      <th>home_player_1</th>\n      <td>0.159608</td>\n      <td>0.121060</td>\n      <td>0.121060</td>\n      <td>0.020247</td>\n      <td>0.382646</td>\n      <td>0.013741</td>\n      <td>0.014209</td>\n      <td>-0.015185</td>\n      <td>0.019859</td>\n      <td>1.000000</td>\n      <td>...</td>\n      <td>0.178890</td>\n      <td>0.195419</td>\n      <td>0.217143</td>\n      <td>0.223215</td>\n      <td>0.223336</td>\n      <td>0.223498</td>\n      <td>0.250452</td>\n      <td>0.218850</td>\n      <td>0.221134</td>\n      <td>0.029372</td>\n    </tr>\n    <tr>\n      <th>home_player_2</th>\n      <td>0.155630</td>\n      <td>0.106603</td>\n      <td>0.106603</td>\n      <td>0.031376</td>\n      <td>0.471113</td>\n      <td>0.001843</td>\n      <td>0.011563</td>\n      <td>-0.038134</td>\n      <td>0.023024</td>\n      <td>0.255701</td>\n      <td>...</td>\n      <td>0.255857</td>\n      <td>0.245391</td>\n      <td>0.254167</td>\n      <td>0.270097</td>\n      <td>0.270216</td>\n      <td>0.282327</td>\n      <td>0.278625</td>\n      <td>0.299560</td>\n      <td>0.302935</td>\n      <td>0.041556</td>\n    </tr>\n    <tr>\n      <th>home_player_3</th>\n      <td>0.182310</td>\n      <td>0.143663</td>\n      <td>0.143663</td>\n      <td>0.036249</td>\n      <td>0.381974</td>\n      <td>0.009896</td>\n      <td>-0.001824</td>\n      <td>-0.018173</td>\n      <td>0.032538</td>\n      <td>0.267095</td>\n      <td>...</td>\n      <td>0.207758</td>\n      <td>0.215349</td>\n      <td>0.224175</td>\n      <td>0.235787</td>\n      <td>0.219354</td>\n      <td>0.269110</td>\n      <td>0.267233</td>\n      <td>0.230786</td>\n      <td>0.226728</td>\n      <td>0.033543</td>\n    </tr>\n    <tr>\n      <th>home_player_4</th>\n      <td>0.206971</td>\n      <td>0.166185</td>\n      <td>0.166185</td>\n      <td>0.024303</td>\n      <td>0.405596</td>\n      <td>0.060552</td>\n      <td>0.014156</td>\n      <td>-0.006732</td>\n      <td>0.030237</td>\n      <td>0.304440</td>\n      <td>...</td>\n      <td>0.196816</td>\n      <td>0.206751</td>\n      <td>0.206135</td>\n      <td>0.234829</td>\n      <td>0.228455</td>\n      <td>0.251433</td>\n      <td>0.244172</td>\n      <td>0.232767</td>\n      <td>0.241690</td>\n      <td>0.022141</td>\n    </tr>\n    <tr>\n      <th>home_player_5</th>\n      <td>0.112299</td>\n      <td>0.064456</td>\n      <td>0.064456</td>\n      <td>0.020563</td>\n      <td>0.462804</td>\n      <td>0.054218</td>\n      <td>0.021243</td>\n      <td>-0.038068</td>\n      <td>0.034197</td>\n      <td>0.266274</td>\n      <td>...</td>\n      <td>0.232876</td>\n      <td>0.236326</td>\n      <td>0.234769</td>\n      <td>0.251151</td>\n      <td>0.254766</td>\n      <td>0.258589</td>\n      <td>0.263552</td>\n      <td>0.262670</td>\n      <td>0.257230</td>\n      <td>0.051147</td>\n    </tr>\n    <tr>\n      <th>home_player_6</th>\n      <td>0.141746</td>\n      <td>0.094949</td>\n      <td>0.094949</td>\n      <td>0.043806</td>\n      <td>0.455957</td>\n      <td>0.020213</td>\n      <td>0.033966</td>\n      <td>-0.015248</td>\n      <td>0.035366</td>\n      <td>0.231992</td>\n      <td>...</td>\n      <td>0.224788</td>\n      <td>0.251218</td>\n      <td>0.245705</td>\n      <td>0.254586</td>\n      <td>0.261567</td>\n      <td>0.273819</td>\n      <td>0.277614</td>\n      <td>0.249752</td>\n      <td>0.272208</td>\n      <td>0.032906</td>\n    </tr>\n    <tr>\n      <th>home_player_7</th>\n      <td>0.168524</td>\n      <td>0.125954</td>\n      <td>0.125954</td>\n      <td>0.011340</td>\n      <td>0.420797</td>\n      <td>0.022007</td>\n      <td>0.006990</td>\n      <td>-0.012187</td>\n      <td>0.010248</td>\n      <td>0.263136</td>\n      <td>...</td>\n      <td>0.241430</td>\n      <td>0.219428</td>\n      <td>0.248846</td>\n      <td>0.252998</td>\n      <td>0.232204</td>\n      <td>0.253711</td>\n      <td>0.257722</td>\n      <td>0.261915</td>\n      <td>0.267194</td>\n      <td>0.022238</td>\n    </tr>\n    <tr>\n      <th>home_player_8</th>\n      <td>0.173635</td>\n      <td>0.127114</td>\n      <td>0.127114</td>\n      <td>0.037292</td>\n      <td>0.458901</td>\n      <td>0.022455</td>\n      <td>0.023172</td>\n      <td>-0.028842</td>\n      <td>0.022200</td>\n      <td>0.244835</td>\n      <td>...</td>\n      <td>0.243867</td>\n      <td>0.237277</td>\n      <td>0.238798</td>\n      <td>0.270784</td>\n      <td>0.238391</td>\n      <td>0.268038</td>\n      <td>0.276154</td>\n      <td>0.279736</td>\n      <td>0.267256</td>\n      <td>0.038003</td>\n    </tr>\n    <tr>\n      <th>home_player_9</th>\n      <td>0.147337</td>\n      <td>0.097551</td>\n      <td>0.097551</td>\n      <td>0.019967</td>\n      <td>0.481995</td>\n      <td>0.024680</td>\n      <td>0.016085</td>\n      <td>-0.022336</td>\n      <td>0.016703</td>\n      <td>0.245158</td>\n      <td>...</td>\n      <td>0.255581</td>\n      <td>0.238266</td>\n      <td>0.257501</td>\n      <td>0.271604</td>\n      <td>0.284124</td>\n      <td>0.292239</td>\n      <td>0.298327</td>\n      <td>0.272052</td>\n      <td>0.277692</td>\n      <td>0.021856</td>\n    </tr>\n    <tr>\n      <th>home_player_10</th>\n      <td>0.170147</td>\n      <td>0.122092</td>\n      <td>0.122092</td>\n      <td>0.042472</td>\n      <td>0.465705</td>\n      <td>0.024473</td>\n      <td>0.001910</td>\n      <td>-0.037556</td>\n      <td>0.020131</td>\n      <td>0.270654</td>\n      <td>...</td>\n      <td>0.245860</td>\n      <td>0.242682</td>\n      <td>0.248164</td>\n      <td>0.267445</td>\n      <td>0.260967</td>\n      <td>0.272993</td>\n      <td>0.286936</td>\n      <td>0.269480</td>\n      <td>0.270150</td>\n      <td>0.033179</td>\n    </tr>\n    <tr>\n      <th>home_player_11</th>\n      <td>0.116443</td>\n      <td>0.069466</td>\n      <td>0.069466</td>\n      <td>0.028992</td>\n      <td>0.448781</td>\n      <td>0.024729</td>\n      <td>0.008270</td>\n      <td>-0.043094</td>\n      <td>0.031882</td>\n      <td>0.238533</td>\n      <td>...</td>\n      <td>0.237577</td>\n      <td>0.234376</td>\n      <td>0.238966</td>\n      <td>0.268924</td>\n      <td>0.260464</td>\n      <td>0.269055</td>\n      <td>0.272416</td>\n      <td>0.263244</td>\n      <td>0.268020</td>\n      <td>0.050970</td>\n    </tr>\n    <tr>\n      <th>away_player_1</th>\n      <td>0.154523</td>\n      <td>0.115062</td>\n      <td>0.115062</td>\n      <td>0.025719</td>\n      <td>0.388496</td>\n      <td>0.012368</td>\n      <td>0.024323</td>\n      <td>0.022775</td>\n      <td>-0.003315</td>\n      <td>0.174033</td>\n      <td>...</td>\n      <td>0.265392</td>\n      <td>0.317451</td>\n      <td>0.267434</td>\n      <td>0.243761</td>\n      <td>0.266286</td>\n      <td>0.255934</td>\n      <td>0.256862</td>\n      <td>0.265710</td>\n      <td>0.250276</td>\n      <td>-0.011976</td>\n    </tr>\n    <tr>\n      <th>away_player_2</th>\n      <td>0.154885</td>\n      <td>0.105115</td>\n      <td>0.105115</td>\n      <td>0.034604</td>\n      <td>0.473426</td>\n      <td>0.001269</td>\n      <td>-0.014504</td>\n      <td>0.021540</td>\n      <td>-0.014973</td>\n      <td>0.219188</td>\n      <td>...</td>\n      <td>0.290573</td>\n      <td>0.288282</td>\n      <td>0.295419</td>\n      <td>0.280382</td>\n      <td>0.308498</td>\n      <td>0.290521</td>\n      <td>0.296931</td>\n      <td>0.313280</td>\n      <td>0.329062</td>\n      <td>-0.014959</td>\n    </tr>\n    <tr>\n      <th>away_player_3</th>\n      <td>0.173672</td>\n      <td>0.134781</td>\n      <td>0.134781</td>\n      <td>0.042046</td>\n      <td>0.388931</td>\n      <td>-0.004947</td>\n      <td>0.027127</td>\n      <td>0.026327</td>\n      <td>-0.009743</td>\n      <td>0.178890</td>\n      <td>...</td>\n      <td>1.000000</td>\n      <td>0.248269</td>\n      <td>0.247671</td>\n      <td>0.290917</td>\n      <td>0.264788</td>\n      <td>0.261899</td>\n      <td>0.287921</td>\n      <td>0.275868</td>\n      <td>0.272003</td>\n      <td>-0.014788</td>\n    </tr>\n    <tr>\n      <th>away_player_4</th>\n      <td>0.209056</td>\n      <td>0.167569</td>\n      <td>0.167569</td>\n      <td>0.027421</td>\n      <td>0.411994</td>\n      <td>0.016587</td>\n      <td>0.071638</td>\n      <td>0.019400</td>\n      <td>-0.013398</td>\n      <td>0.195419</td>\n      <td>...</td>\n      <td>0.248269</td>\n      <td>1.000000</td>\n      <td>0.282198</td>\n      <td>0.263866</td>\n      <td>0.281626</td>\n      <td>0.289173</td>\n      <td>0.301761</td>\n      <td>0.304768</td>\n      <td>0.275737</td>\n      <td>-0.008753</td>\n    </tr>\n    <tr>\n      <th>away_player_5</th>\n      <td>0.105455</td>\n      <td>0.057969</td>\n      <td>0.057969</td>\n      <td>0.026769</td>\n      <td>0.459030</td>\n      <td>0.028323</td>\n      <td>0.059217</td>\n      <td>0.014606</td>\n      <td>-0.011998</td>\n      <td>0.217143</td>\n      <td>...</td>\n      <td>0.247671</td>\n      <td>0.282198</td>\n      <td>1.000000</td>\n      <td>0.271330</td>\n      <td>0.276929</td>\n      <td>0.270076</td>\n      <td>0.302462</td>\n      <td>0.306818</td>\n      <td>0.301642</td>\n      <td>-0.009452</td>\n    </tr>\n    <tr>\n      <th>away_player_6</th>\n      <td>0.141294</td>\n      <td>0.094499</td>\n      <td>0.094499</td>\n      <td>0.036980</td>\n      <td>0.452768</td>\n      <td>0.007132</td>\n      <td>0.022422</td>\n      <td>0.002573</td>\n      <td>0.003078</td>\n      <td>0.223215</td>\n      <td>...</td>\n      <td>0.290917</td>\n      <td>0.263866</td>\n      <td>0.271330</td>\n      <td>1.000000</td>\n      <td>0.284380</td>\n      <td>0.285829</td>\n      <td>0.297040</td>\n      <td>0.293344</td>\n      <td>0.279951</td>\n      <td>0.003801</td>\n    </tr>\n    <tr>\n      <th>away_player_7</th>\n      <td>0.158553</td>\n      <td>0.115364</td>\n      <td>0.115364</td>\n      <td>0.032052</td>\n      <td>0.426025</td>\n      <td>0.008959</td>\n      <td>0.023362</td>\n      <td>0.017895</td>\n      <td>0.010065</td>\n      <td>0.223336</td>\n      <td>...</td>\n      <td>0.264788</td>\n      <td>0.281626</td>\n      <td>0.276929</td>\n      <td>0.284380</td>\n      <td>1.000000</td>\n      <td>0.293576</td>\n      <td>0.266787</td>\n      <td>0.312378</td>\n      <td>0.284015</td>\n      <td>-0.002920</td>\n    </tr>\n    <tr>\n      <th>away_player_8</th>\n      <td>0.165830</td>\n      <td>0.118386</td>\n      <td>0.118386</td>\n      <td>0.039392</td>\n      <td>0.466500</td>\n      <td>0.003762</td>\n      <td>0.017015</td>\n      <td>0.000729</td>\n      <td>0.010038</td>\n      <td>0.223498</td>\n      <td>...</td>\n      <td>0.261899</td>\n      <td>0.289173</td>\n      <td>0.270076</td>\n      <td>0.285829</td>\n      <td>0.293576</td>\n      <td>1.000000</td>\n      <td>0.303964</td>\n      <td>0.323835</td>\n      <td>0.309192</td>\n      <td>0.002306</td>\n    </tr>\n    <tr>\n      <th>away_player_9</th>\n      <td>0.153649</td>\n      <td>0.103158</td>\n      <td>0.103158</td>\n      <td>0.030589</td>\n      <td>0.483728</td>\n      <td>0.010197</td>\n      <td>0.029156</td>\n      <td>0.003051</td>\n      <td>0.001814</td>\n      <td>0.250452</td>\n      <td>...</td>\n      <td>0.287921</td>\n      <td>0.301761</td>\n      <td>0.302462</td>\n      <td>0.297040</td>\n      <td>0.266787</td>\n      <td>0.303964</td>\n      <td>1.000000</td>\n      <td>0.338259</td>\n      <td>0.319597</td>\n      <td>0.004147</td>\n    </tr>\n    <tr>\n      <th>away_player_10</th>\n      <td>0.173413</td>\n      <td>0.125191</td>\n      <td>0.125191</td>\n      <td>0.042307</td>\n      <td>0.466945</td>\n      <td>0.000196</td>\n      <td>0.029193</td>\n      <td>0.026602</td>\n      <td>-0.018533</td>\n      <td>0.218850</td>\n      <td>...</td>\n      <td>0.275868</td>\n      <td>0.304768</td>\n      <td>0.306818</td>\n      <td>0.293344</td>\n      <td>0.312378</td>\n      <td>0.323835</td>\n      <td>0.338259</td>\n      <td>1.000000</td>\n      <td>0.299831</td>\n      <td>-0.011967</td>\n    </tr>\n    <tr>\n      <th>away_player_11</th>\n      <td>0.128519</td>\n      <td>0.080914</td>\n      <td>0.080914</td>\n      <td>0.038007</td>\n      <td>0.458454</td>\n      <td>-0.000668</td>\n      <td>0.026429</td>\n      <td>0.019773</td>\n      <td>-0.008619</td>\n      <td>0.221134</td>\n      <td>...</td>\n      <td>0.272003</td>\n      <td>0.275737</td>\n      <td>0.301642</td>\n      <td>0.279951</td>\n      <td>0.284015</td>\n      <td>0.309192</td>\n      <td>0.319597</td>\n      <td>0.299831</td>\n      <td>1.000000</td>\n      <td>-0.005938</td>\n    </tr>\n    <tr>\n      <th>score</th>\n      <td>-0.009796</td>\n      <td>-0.013151</td>\n      <td>-0.013151</td>\n      <td>-0.002238</td>\n      <td>0.031614</td>\n      <td>0.018388</td>\n      <td>-0.007933</td>\n      <td>-0.621503</td>\n      <td>0.628280</td>\n      <td>0.029372</td>\n      <td>...</td>\n      <td>-0.014788</td>\n      <td>-0.008753</td>\n      <td>-0.009452</td>\n      <td>0.003801</td>\n      <td>-0.002920</td>\n      <td>0.002306</td>\n      <td>0.004147</td>\n      <td>-0.011967</td>\n      <td>-0.005938</td>\n      <td>1.000000</td>\n    </tr>\n  </tbody>\n</table>\n<p>32 rows × 32 columns</p>\n</div>"
     },
     "metadata": {},
     "execution_count": 124
    }
   ],
   "source": [
    "relevant_match[['id', 'country_id', 'league_id', 'season', 'stage', 'date',\n",
    "       'match_api_id', 'home_team_api_id', 'away_team_api_id',\n",
    "       'home_team_goal', 'away_team_goal', 'home_player_1', 'home_player_2',\n",
    "       'home_player_3', 'home_player_4', 'home_player_5', 'home_player_6',\n",
    "       'home_player_7', 'home_player_8', 'home_player_9', 'home_player_10',\n",
    "       'home_player_11', 'away_player_1', 'away_player_2', 'away_player_3',\n",
    "       'away_player_4', 'away_player_5', 'away_player_6', 'away_player_7',\n",
    "       'away_player_8', 'away_player_9', 'away_player_10', 'away_player_11', 'score']].corr()"
   ]
  },
  {
   "cell_type": "code",
   "execution_count": 125,
   "metadata": {},
   "outputs": [
    {
     "output_type": "execute_result",
     "data": {
      "text/plain": [
       "        id  country_id  league_id     season  stage                 date  \\\n",
       "1728  1729        1729       1729  2008/2009      1  2008-08-17 00:00:00   \n",
       "1729  1730        1729       1729  2008/2009      1  2008-08-16 00:00:00   \n",
       "1730  1731        1729       1729  2008/2009      1  2008-08-16 00:00:00   \n",
       "1731  1732        1729       1729  2008/2009      1  2008-08-16 00:00:00   \n",
       "1733  1734        1729       1729  2008/2009      1  2008-08-16 00:00:00   \n",
       "\n",
       "      match_api_id  home_team_api_id  away_team_api_id  home_team_goal  ...  \\\n",
       "1728        489042             10260             10261               1  ...   \n",
       "1729        489043              9825              8659               1  ...   \n",
       "1730        489044              8472              8650               0  ...   \n",
       "1731        489045              8654              8528               2  ...   \n",
       "1733        489047              8668              8655               2  ...   \n",
       "\n",
       "      away_player_11                                               goal  \\\n",
       "1728         37799.0  <goal><value><comment>n</comment><stats><goals...   \n",
       "1729         27267.0  <goal><value><comment>n</comment><stats><goals...   \n",
       "1730         30853.0  <goal><value><comment>n</comment><stats><goals...   \n",
       "1731         34466.0  <goal><value><comment>n</comment><stats><goals...   \n",
       "1733         30646.0  <goal><value><comment>n</comment><stats><goals...   \n",
       "\n",
       "                                                 shoton  \\\n",
       "1728  <shoton><value><stats><blocked>1</blocked></st...   \n",
       "1729  <shoton><value><stats><blocked>1</blocked></st...   \n",
       "1730  <shoton><value><stats><blocked>1</blocked></st...   \n",
       "1731  <shoton><value><stats><shoton>1</shoton></stat...   \n",
       "1733  <shoton><value><stats><shoton>1</shoton></stat...   \n",
       "\n",
       "                                                shotoff  \\\n",
       "1728  <shotoff><value><stats><shotoff>1</shotoff></s...   \n",
       "1729  <shotoff><value><stats><shotoff>1</shotoff></s...   \n",
       "1730  <shotoff><value><stats><shotoff>1</shotoff></s...   \n",
       "1731  <shotoff><value><stats><shotoff>1</shotoff></s...   \n",
       "1733  <shotoff><value><stats><shotoff>1</shotoff></s...   \n",
       "\n",
       "                                             foulcommit  \\\n",
       "1728  <foulcommit><value><stats><foulscommitted>1</f...   \n",
       "1729  <foulcommit><value><stats><foulscommitted>1</f...   \n",
       "1730  <foulcommit><value><stats><foulscommitted>1</f...   \n",
       "1731  <foulcommit><value><stats><foulscommitted>1</f...   \n",
       "1733  <foulcommit><value><stats><foulscommitted>1</f...   \n",
       "\n",
       "                                                   card  \\\n",
       "1728  <card><value><comment>y</comment><stats><ycard...   \n",
       "1729                                           <card />   \n",
       "1730  <card><value><comment>y</comment><stats><ycard...   \n",
       "1731  <card><value><comment>y</comment><stats><ycard...   \n",
       "1733  <card><value><comment>y</comment><stats><ycard...   \n",
       "\n",
       "                                                  cross  \\\n",
       "1728  <cross><value><stats><crosses>1</crosses></sta...   \n",
       "1729  <cross><value><stats><crosses>1</crosses></sta...   \n",
       "1730  <cross><value><stats><crosses>1</crosses></sta...   \n",
       "1731  <cross><value><stats><crosses>1</crosses></sta...   \n",
       "1733  <cross><value><stats><crosses>1</crosses></sta...   \n",
       "\n",
       "                                                 corner  \\\n",
       "1728  <corner><value><stats><corners>1</corners></st...   \n",
       "1729  <corner><value><stats><corners>1</corners></st...   \n",
       "1730  <corner><value><stats><corners>1</corners></st...   \n",
       "1731  <corner><value><stats><corners>1</corners></st...   \n",
       "1733  <corner><value><stats><corners>1</corners></st...   \n",
       "\n",
       "                                             possession  score  \n",
       "1728  <possession><value><comment>56</comment><event...    0.5  \n",
       "1729  <possession><value><comment>65</comment><event...    0.0  \n",
       "1730  <possession><value><comment>45</comment><event...    1.0  \n",
       "1731  <possession><value><comment>50</comment><event...    0.0  \n",
       "1733  <possession><value><comment>46</comment><event...    1.0  \n",
       "\n",
       "[5 rows x 42 columns]"
      ],
      "text/html": "<div>\n<style scoped>\n    .dataframe tbody tr th:only-of-type {\n        vertical-align: middle;\n    }\n\n    .dataframe tbody tr th {\n        vertical-align: top;\n    }\n\n    .dataframe thead th {\n        text-align: right;\n    }\n</style>\n<table border=\"1\" class=\"dataframe\">\n  <thead>\n    <tr style=\"text-align: right;\">\n      <th></th>\n      <th>id</th>\n      <th>country_id</th>\n      <th>league_id</th>\n      <th>season</th>\n      <th>stage</th>\n      <th>date</th>\n      <th>match_api_id</th>\n      <th>home_team_api_id</th>\n      <th>away_team_api_id</th>\n      <th>home_team_goal</th>\n      <th>...</th>\n      <th>away_player_11</th>\n      <th>goal</th>\n      <th>shoton</th>\n      <th>shotoff</th>\n      <th>foulcommit</th>\n      <th>card</th>\n      <th>cross</th>\n      <th>corner</th>\n      <th>possession</th>\n      <th>score</th>\n    </tr>\n  </thead>\n  <tbody>\n    <tr>\n      <th>1728</th>\n      <td>1729</td>\n      <td>1729</td>\n      <td>1729</td>\n      <td>2008/2009</td>\n      <td>1</td>\n      <td>2008-08-17 00:00:00</td>\n      <td>489042</td>\n      <td>10260</td>\n      <td>10261</td>\n      <td>1</td>\n      <td>...</td>\n      <td>37799.0</td>\n      <td>&lt;goal&gt;&lt;value&gt;&lt;comment&gt;n&lt;/comment&gt;&lt;stats&gt;&lt;goals...</td>\n      <td>&lt;shoton&gt;&lt;value&gt;&lt;stats&gt;&lt;blocked&gt;1&lt;/blocked&gt;&lt;/st...</td>\n      <td>&lt;shotoff&gt;&lt;value&gt;&lt;stats&gt;&lt;shotoff&gt;1&lt;/shotoff&gt;&lt;/s...</td>\n      <td>&lt;foulcommit&gt;&lt;value&gt;&lt;stats&gt;&lt;foulscommitted&gt;1&lt;/f...</td>\n      <td>&lt;card&gt;&lt;value&gt;&lt;comment&gt;y&lt;/comment&gt;&lt;stats&gt;&lt;ycard...</td>\n      <td>&lt;cross&gt;&lt;value&gt;&lt;stats&gt;&lt;crosses&gt;1&lt;/crosses&gt;&lt;/sta...</td>\n      <td>&lt;corner&gt;&lt;value&gt;&lt;stats&gt;&lt;corners&gt;1&lt;/corners&gt;&lt;/st...</td>\n      <td>&lt;possession&gt;&lt;value&gt;&lt;comment&gt;56&lt;/comment&gt;&lt;event...</td>\n      <td>0.5</td>\n    </tr>\n    <tr>\n      <th>1729</th>\n      <td>1730</td>\n      <td>1729</td>\n      <td>1729</td>\n      <td>2008/2009</td>\n      <td>1</td>\n      <td>2008-08-16 00:00:00</td>\n      <td>489043</td>\n      <td>9825</td>\n      <td>8659</td>\n      <td>1</td>\n      <td>...</td>\n      <td>27267.0</td>\n      <td>&lt;goal&gt;&lt;value&gt;&lt;comment&gt;n&lt;/comment&gt;&lt;stats&gt;&lt;goals...</td>\n      <td>&lt;shoton&gt;&lt;value&gt;&lt;stats&gt;&lt;blocked&gt;1&lt;/blocked&gt;&lt;/st...</td>\n      <td>&lt;shotoff&gt;&lt;value&gt;&lt;stats&gt;&lt;shotoff&gt;1&lt;/shotoff&gt;&lt;/s...</td>\n      <td>&lt;foulcommit&gt;&lt;value&gt;&lt;stats&gt;&lt;foulscommitted&gt;1&lt;/f...</td>\n      <td>&lt;card /&gt;</td>\n      <td>&lt;cross&gt;&lt;value&gt;&lt;stats&gt;&lt;crosses&gt;1&lt;/crosses&gt;&lt;/sta...</td>\n      <td>&lt;corner&gt;&lt;value&gt;&lt;stats&gt;&lt;corners&gt;1&lt;/corners&gt;&lt;/st...</td>\n      <td>&lt;possession&gt;&lt;value&gt;&lt;comment&gt;65&lt;/comment&gt;&lt;event...</td>\n      <td>0.0</td>\n    </tr>\n    <tr>\n      <th>1730</th>\n      <td>1731</td>\n      <td>1729</td>\n      <td>1729</td>\n      <td>2008/2009</td>\n      <td>1</td>\n      <td>2008-08-16 00:00:00</td>\n      <td>489044</td>\n      <td>8472</td>\n      <td>8650</td>\n      <td>0</td>\n      <td>...</td>\n      <td>30853.0</td>\n      <td>&lt;goal&gt;&lt;value&gt;&lt;comment&gt;n&lt;/comment&gt;&lt;stats&gt;&lt;goals...</td>\n      <td>&lt;shoton&gt;&lt;value&gt;&lt;stats&gt;&lt;blocked&gt;1&lt;/blocked&gt;&lt;/st...</td>\n      <td>&lt;shotoff&gt;&lt;value&gt;&lt;stats&gt;&lt;shotoff&gt;1&lt;/shotoff&gt;&lt;/s...</td>\n      <td>&lt;foulcommit&gt;&lt;value&gt;&lt;stats&gt;&lt;foulscommitted&gt;1&lt;/f...</td>\n      <td>&lt;card&gt;&lt;value&gt;&lt;comment&gt;y&lt;/comment&gt;&lt;stats&gt;&lt;ycard...</td>\n      <td>&lt;cross&gt;&lt;value&gt;&lt;stats&gt;&lt;crosses&gt;1&lt;/crosses&gt;&lt;/sta...</td>\n      <td>&lt;corner&gt;&lt;value&gt;&lt;stats&gt;&lt;corners&gt;1&lt;/corners&gt;&lt;/st...</td>\n      <td>&lt;possession&gt;&lt;value&gt;&lt;comment&gt;45&lt;/comment&gt;&lt;event...</td>\n      <td>1.0</td>\n    </tr>\n    <tr>\n      <th>1731</th>\n      <td>1732</td>\n      <td>1729</td>\n      <td>1729</td>\n      <td>2008/2009</td>\n      <td>1</td>\n      <td>2008-08-16 00:00:00</td>\n      <td>489045</td>\n      <td>8654</td>\n      <td>8528</td>\n      <td>2</td>\n      <td>...</td>\n      <td>34466.0</td>\n      <td>&lt;goal&gt;&lt;value&gt;&lt;comment&gt;n&lt;/comment&gt;&lt;stats&gt;&lt;goals...</td>\n      <td>&lt;shoton&gt;&lt;value&gt;&lt;stats&gt;&lt;shoton&gt;1&lt;/shoton&gt;&lt;/stat...</td>\n      <td>&lt;shotoff&gt;&lt;value&gt;&lt;stats&gt;&lt;shotoff&gt;1&lt;/shotoff&gt;&lt;/s...</td>\n      <td>&lt;foulcommit&gt;&lt;value&gt;&lt;stats&gt;&lt;foulscommitted&gt;1&lt;/f...</td>\n      <td>&lt;card&gt;&lt;value&gt;&lt;comment&gt;y&lt;/comment&gt;&lt;stats&gt;&lt;ycard...</td>\n      <td>&lt;cross&gt;&lt;value&gt;&lt;stats&gt;&lt;crosses&gt;1&lt;/crosses&gt;&lt;/sta...</td>\n      <td>&lt;corner&gt;&lt;value&gt;&lt;stats&gt;&lt;corners&gt;1&lt;/corners&gt;&lt;/st...</td>\n      <td>&lt;possession&gt;&lt;value&gt;&lt;comment&gt;50&lt;/comment&gt;&lt;event...</td>\n      <td>0.0</td>\n    </tr>\n    <tr>\n      <th>1733</th>\n      <td>1734</td>\n      <td>1729</td>\n      <td>1729</td>\n      <td>2008/2009</td>\n      <td>1</td>\n      <td>2008-08-16 00:00:00</td>\n      <td>489047</td>\n      <td>8668</td>\n      <td>8655</td>\n      <td>2</td>\n      <td>...</td>\n      <td>30646.0</td>\n      <td>&lt;goal&gt;&lt;value&gt;&lt;comment&gt;n&lt;/comment&gt;&lt;stats&gt;&lt;goals...</td>\n      <td>&lt;shoton&gt;&lt;value&gt;&lt;stats&gt;&lt;shoton&gt;1&lt;/shoton&gt;&lt;/stat...</td>\n      <td>&lt;shotoff&gt;&lt;value&gt;&lt;stats&gt;&lt;shotoff&gt;1&lt;/shotoff&gt;&lt;/s...</td>\n      <td>&lt;foulcommit&gt;&lt;value&gt;&lt;stats&gt;&lt;foulscommitted&gt;1&lt;/f...</td>\n      <td>&lt;card&gt;&lt;value&gt;&lt;comment&gt;y&lt;/comment&gt;&lt;stats&gt;&lt;ycard...</td>\n      <td>&lt;cross&gt;&lt;value&gt;&lt;stats&gt;&lt;crosses&gt;1&lt;/crosses&gt;&lt;/sta...</td>\n      <td>&lt;corner&gt;&lt;value&gt;&lt;stats&gt;&lt;corners&gt;1&lt;/corners&gt;&lt;/st...</td>\n      <td>&lt;possession&gt;&lt;value&gt;&lt;comment&gt;46&lt;/comment&gt;&lt;event...</td>\n      <td>1.0</td>\n    </tr>\n  </tbody>\n</table>\n<p>5 rows × 42 columns</p>\n</div>"
     },
     "metadata": {},
     "execution_count": 125
    }
   ],
   "source": [
    "relevant_match.head()"
   ]
  },
  {
   "cell_type": "code",
   "execution_count": 126,
   "metadata": {},
   "outputs": [
    {
     "output_type": "execute_result",
     "data": {
      "text/plain": [
       "'<possession><value><comment>46</comment><event_incident_typefk>352</event_incident_typefk><elapsed>25</elapsed><subtype>possession</subtype><sortorder>5</sortorder><awaypos>54</awaypos><homepos>46</homepos><n>70</n><type>special</type><id>376438</id></value><value><comment>59</comment><elapsed_plus>3</elapsed_plus><event_incident_typefk>352</event_incident_typefk><elapsed>45</elapsed><subtype>possession</subtype><sortorder>0</sortorder><awaypos>41</awaypos><homepos>59</homepos><n>120</n><type>special</type><id>376819</id></value><value><comment>51</comment><event_incident_typefk>352</event_incident_typefk><elapsed>70</elapsed><subtype>possession</subtype><sortorder>2</sortorder><awaypos>49</awaypos><homepos>51</homepos><n>177</n><type>special</type><id>377333</id></value><value><comment>51</comment><elapsed_plus>6</elapsed_plus><event_incident_typefk>352</event_incident_typefk><elapsed>90</elapsed><subtype>possession</subtype><sortorder>0</sortorder><awaypos>49</awaypos><homepos>51</homepos><n>227</n><type>special</type><id>377673</id></value></possession>'"
      ]
     },
     "metadata": {},
     "execution_count": 126
    }
   ],
   "source": [
    "relevant_match.loc[1733, \"possession\"]"
   ]
  },
  {
   "cell_type": "code",
   "execution_count": 127,
   "metadata": {},
   "outputs": [
    {
     "output_type": "execute_result",
     "data": {
      "text/plain": [
       "str"
      ]
     },
     "metadata": {},
     "execution_count": 127
    }
   ],
   "source": [
    "type(relevant_match.loc[1733, \"possession\"])"
   ]
  },
  {
   "cell_type": "code",
   "execution_count": 145,
   "metadata": {},
   "outputs": [
    {
     "output_type": "error",
     "ename": "SyntaxError",
     "evalue": "invalid syntax (<ipython-input-145-764c77124585>, line 1)",
     "traceback": [
      "\u001b[0;36m  File \u001b[0;32m\"<ipython-input-145-764c77124585>\"\u001b[0;36m, line \u001b[0;32m1\u001b[0m\n\u001b[0;31m    away_poss = relevant_match.loc[1733, \"possession\"][relevant_match.loc[1733, \"possession\"].find(\"<elapsed>90</elapsed>\"):].find(\"<awaypos>\"):relevant_match.loc[1733, \"possession\"][relevant_match.loc[1733, \"possession\"].find(\"<elapsed>90</elapsed>\"):].find(\"/<awaypos>\")]]\u001b[0m\n\u001b[0m                                                                                                                                               ^\u001b[0m\n\u001b[0;31mSyntaxError\u001b[0m\u001b[0;31m:\u001b[0m invalid syntax\n"
     ]
    }
   ],
   "source": [
    "away_poss = relevant_match.loc[1733, \"possession\"][relevant_match.loc[1733, \"possession\"].find(\"<elapsed>90</elapsed>\"):].find(\"<awaypos>\"):relevant_match.loc[1733, \"possession\"][relevant_match.loc[1733, \"possession\"].find(\"<elapsed>90</elapsed>\"):].find(\"/<awaypos>\")]]"
   ]
  },
  {
   "cell_type": "code",
   "execution_count": 194,
   "metadata": {},
   "outputs": [
    {
     "output_type": "execute_result",
     "data": {
      "text/plain": [
       "'49'"
      ]
     },
     "metadata": {},
     "execution_count": 194
    }
   ],
   "source": [
    "a = relevant_match.loc[1733, \"possession\"][relevant_match.loc[1733, \"possession\"].rfind(\"<awaypos>\")+len(\"<awaypos>\"):relevant_match.loc[1733, \"possession\"].rfind(\"</awaypos>\")]\n",
    "a"
   ]
  },
  {
   "cell_type": "code",
   "execution_count": 153,
   "metadata": {},
   "outputs": [
    {
     "output_type": "execute_result",
     "data": {
      "text/plain": [
       "0.49"
      ]
     },
     "metadata": {},
     "execution_count": 153
    }
   ],
   "source": [
    "b = int(a[a.find(\"<awaypos>\")+len(\"<awaypos>\"):a.find(\"</awaypos>\")])/100\n",
    "b"
   ]
  },
  {
   "cell_type": "code",
   "execution_count": 158,
   "metadata": {},
   "outputs": [],
   "source": [
    "possession_match_df = relevant_match.copy()"
   ]
  },
  {
   "cell_type": "code",
   "execution_count": 159,
   "metadata": {},
   "outputs": [
    {
     "output_type": "stream",
     "name": "stdout",
     "text": [
      "<class 'pandas.core.frame.DataFrame'>\nInt64Index: 13325 entries, 1728 to 25948\nData columns (total 42 columns):\n #   Column            Non-Null Count  Dtype  \n---  ------            --------------  -----  \n 0   id                13325 non-null  int64  \n 1   country_id        13325 non-null  int64  \n 2   league_id         13325 non-null  int64  \n 3   season            13325 non-null  object \n 4   stage             13325 non-null  int64  \n 5   date              13325 non-null  object \n 6   match_api_id      13325 non-null  int64  \n 7   home_team_api_id  13325 non-null  int64  \n 8   away_team_api_id  13325 non-null  int64  \n 9   home_team_goal    13325 non-null  int64  \n 10  away_team_goal    13325 non-null  int64  \n 11  home_player_1     13325 non-null  float64\n 12  home_player_2     13325 non-null  float64\n 13  home_player_3     13325 non-null  float64\n 14  home_player_4     13325 non-null  float64\n 15  home_player_5     13325 non-null  float64\n 16  home_player_6     13325 non-null  float64\n 17  home_player_7     13325 non-null  float64\n 18  home_player_8     13325 non-null  float64\n 19  home_player_9     13325 non-null  float64\n 20  home_player_10    13325 non-null  float64\n 21  home_player_11    13325 non-null  float64\n 22  away_player_1     13325 non-null  float64\n 23  away_player_2     13325 non-null  float64\n 24  away_player_3     13325 non-null  float64\n 25  away_player_4     13325 non-null  float64\n 26  away_player_5     13325 non-null  float64\n 27  away_player_6     13325 non-null  float64\n 28  away_player_7     13325 non-null  float64\n 29  away_player_8     13325 non-null  float64\n 30  away_player_9     13325 non-null  float64\n 31  away_player_10    13325 non-null  float64\n 32  away_player_11    13325 non-null  float64\n 33  goal              13325 non-null  object \n 34  shoton            13325 non-null  object \n 35  shotoff           13325 non-null  object \n 36  foulcommit        13325 non-null  object \n 37  card              13325 non-null  object \n 38  cross             13325 non-null  object \n 39  corner            13325 non-null  object \n 40  possession        13325 non-null  object \n 41  score             13325 non-null  float64\ndtypes: float64(23), int64(9), object(10)\nmemory usage: 4.4+ MB\n"
     ]
    }
   ],
   "source": [
    "possession_match_df.info()"
   ]
  },
  {
   "cell_type": "code",
   "execution_count": 195,
   "metadata": {},
   "outputs": [],
   "source": [
    "## Send to this function the \"Possession\" Series in order to extract the final possession of the Game.\n",
    "\n",
    "def home_possession(s):\n",
    "    return int(s[s.rfind(\"<homepos>\")+len(\"<homepos>\"):s.rfind(\"</homepos>\")])/100\n",
    "\n",
    "def away_possession(s):\n",
    "    return int(s[s.rfind(\"<awaypos>\")+len(\"<awaypos>\"):s.rfind(\"</awaypos>\")])/100\n",
    "    "
   ]
  },
  {
   "cell_type": "code",
   "execution_count": 196,
   "metadata": {},
   "outputs": [
    {
     "output_type": "execute_result",
     "data": {
      "text/plain": [
       "0.51"
      ]
     },
     "metadata": {},
     "execution_count": 196
    }
   ],
   "source": [
    "home_possession(\"'<possession><value><comment>46</comment><event_incident_typefk>352</event_incident_typefk><elapsed>25</elapsed><subtype>possession</subtype><sortorder>5</sortorder><awaypos>54</awaypos><homepos>46</homepos><n>70</n><type>special</type><id>376438</id></value><value><comment>59</comment><elapsed_plus>3</elapsed_plus><event_incident_typefk>352</event_incident_typefk><elapsed>45</elapsed><subtype>possession</subtype><sortorder>0</sortorder><awaypos>41</awaypos><homepos>59</homepos><n>120</n><type>special</type><id>376819</id></value><value><comment>51</comment><event_incident_typefk>352</event_incident_typefk><elapsed>70</elapsed><subtype>possession</subtype><sortorder>2</sortorder><awaypos>49</awaypos><homepos>51</homepos><n>177</n><type>special</type><id>377333</id></value><value><comment>51</comment><elapsed_plus>6</elapsed_plus><event_incident_typefk>352</event_incident_typefk><elapsed>90</elapsed><subtype>possession</subtype><sortorder>0</sortorder><awaypos>49</awaypos><homepos>51</homepos><n>227</n><type>special</type><id>377673</id></value></possession>'\")"
   ]
  },
  {
   "cell_type": "code",
   "execution_count": 197,
   "metadata": {},
   "outputs": [
    {
     "output_type": "execute_result",
     "data": {
      "text/plain": [
       "24552    <possession><value><comment>49</comment><stats...\n",
       "24553    <possession><value><comment>53</comment><stats...\n",
       "24554    <possession><value><comment>49</comment><stats...\n",
       "24555    <possession><value><comment>50</comment><stats...\n",
       "24556    <possession><value><comment>59</comment><stats...\n",
       "Name: possession, dtype: object"
      ]
     },
     "metadata": {},
     "execution_count": 197
    }
   ],
   "source": [
    "relevant_match[\"possession\"].tail()"
   ]
  },
  {
   "cell_type": "code",
   "execution_count": 167,
   "metadata": {},
   "outputs": [
    {
     "output_type": "execute_result",
     "data": {
      "text/plain": [
       "7931"
      ]
     },
     "metadata": {},
     "execution_count": 167
    }
   ],
   "source": [
    "relevant_match[\"possession\"].nunique()"
   ]
  },
  {
   "cell_type": "code",
   "execution_count": 178,
   "metadata": {},
   "outputs": [],
   "source": [
    "relevant_match = relevant_match[(relevant_match[\"possession\"] != \"<possession />\")]"
   ]
  },
  {
   "cell_type": "code",
   "execution_count": 179,
   "metadata": {},
   "outputs": [
    {
     "output_type": "stream",
     "name": "stdout",
     "text": [
      "<class 'pandas.core.frame.DataFrame'>\nInt64Index: 7930 entries, 1728 to 24556\nData columns (total 42 columns):\n #   Column            Non-Null Count  Dtype  \n---  ------            --------------  -----  \n 0   id                7930 non-null   int64  \n 1   country_id        7930 non-null   int64  \n 2   league_id         7930 non-null   int64  \n 3   season            7930 non-null   object \n 4   stage             7930 non-null   int64  \n 5   date              7930 non-null   object \n 6   match_api_id      7930 non-null   int64  \n 7   home_team_api_id  7930 non-null   int64  \n 8   away_team_api_id  7930 non-null   int64  \n 9   home_team_goal    7930 non-null   int64  \n 10  away_team_goal    7930 non-null   int64  \n 11  home_player_1     7930 non-null   float64\n 12  home_player_2     7930 non-null   float64\n 13  home_player_3     7930 non-null   float64\n 14  home_player_4     7930 non-null   float64\n 15  home_player_5     7930 non-null   float64\n 16  home_player_6     7930 non-null   float64\n 17  home_player_7     7930 non-null   float64\n 18  home_player_8     7930 non-null   float64\n 19  home_player_9     7930 non-null   float64\n 20  home_player_10    7930 non-null   float64\n 21  home_player_11    7930 non-null   float64\n 22  away_player_1     7930 non-null   float64\n 23  away_player_2     7930 non-null   float64\n 24  away_player_3     7930 non-null   float64\n 25  away_player_4     7930 non-null   float64\n 26  away_player_5     7930 non-null   float64\n 27  away_player_6     7930 non-null   float64\n 28  away_player_7     7930 non-null   float64\n 29  away_player_8     7930 non-null   float64\n 30  away_player_9     7930 non-null   float64\n 31  away_player_10    7930 non-null   float64\n 32  away_player_11    7930 non-null   float64\n 33  goal              7930 non-null   object \n 34  shoton            7930 non-null   object \n 35  shotoff           7930 non-null   object \n 36  foulcommit        7930 non-null   object \n 37  card              7930 non-null   object \n 38  cross             7930 non-null   object \n 39  corner            7930 non-null   object \n 40  possession        7930 non-null   object \n 41  score             7930 non-null   float64\ndtypes: float64(23), int64(9), object(10)\nmemory usage: 2.6+ MB\n"
     ]
    }
   ],
   "source": [
    "relevant_match.info()"
   ]
  },
  {
   "cell_type": "code",
   "execution_count": 200,
   "metadata": {},
   "outputs": [],
   "source": [
    "relevant_match[\"home_poss\"] = relevant_match[\"possession\"].apply(home_possession)\n",
    "relevant_match[\"away_poss\"] = relevant_match[\"possession\"].apply(away_possession)"
   ]
  },
  {
   "cell_type": "code",
   "execution_count": 202,
   "metadata": {},
   "outputs": [
    {
     "output_type": "execute_result",
     "data": {
      "text/plain": [
       "1728     0.55\n",
       "1729     0.66\n",
       "1730     0.46\n",
       "1731     0.52\n",
       "1733     0.51\n",
       "         ... \n",
       "24552    0.49\n",
       "24553    0.50\n",
       "24554    0.52\n",
       "24555    0.45\n",
       "24556    0.62\n",
       "Name: home_poss, Length: 7930, dtype: float64"
      ]
     },
     "metadata": {},
     "execution_count": 202
    }
   ],
   "source": [
    "relevant_match[\"home_poss\"]"
   ]
  },
  {
   "cell_type": "code",
   "execution_count": 201,
   "metadata": {},
   "outputs": [
    {
     "output_type": "execute_result",
     "data": {
      "text/plain": [
       "1728     0.45\n",
       "1729     0.34\n",
       "1730     0.54\n",
       "1731     0.48\n",
       "1733     0.49\n",
       "         ... \n",
       "24552    0.51\n",
       "24553    0.50\n",
       "24554    0.48\n",
       "24555    0.55\n",
       "24556    0.38\n",
       "Name: away_poss, Length: 7930, dtype: float64"
      ]
     },
     "metadata": {},
     "execution_count": 201
    }
   ],
   "source": [
    "relevant_match[\"away_poss\"]"
   ]
  },
  {
   "cell_type": "code",
   "execution_count": 203,
   "metadata": {},
   "outputs": [
    {
     "output_type": "execute_result",
     "data": {
      "text/plain": [
       "                        id  country_id  league_id     stage  match_api_id  \\\n",
       "id                1.000000    0.992199   0.992199 -0.004737      0.213325   \n",
       "country_id        0.992199    1.000000   1.000000 -0.007853      0.093156   \n",
       "league_id         0.992199    1.000000   1.000000 -0.007853      0.093156   \n",
       "stage            -0.004737   -0.007853  -0.007853  1.000000     -0.010480   \n",
       "match_api_id      0.213325    0.093156   0.093156 -0.010480      1.000000   \n",
       "home_team_api_id  0.009980    0.004055   0.004055 -0.022027      0.050466   \n",
       "away_team_api_id  0.012053    0.005718   0.005718  0.001911      0.053786   \n",
       "home_team_goal    0.024755    0.029422   0.029422  0.023876     -0.034838   \n",
       "away_team_goal    0.017295    0.017522   0.017522  0.012766      0.003331   \n",
       "home_player_1     0.203838    0.160769   0.160769  0.019028      0.394245   \n",
       "home_player_2     0.198913    0.143005   0.143005  0.017078      0.492299   \n",
       "home_player_3     0.233004    0.188665   0.188665  0.024166      0.411002   \n",
       "home_player_4     0.250873    0.203925   0.203925  0.004807      0.437601   \n",
       "home_player_5     0.149029    0.095169   0.095169  0.001251      0.484117   \n",
       "home_player_6     0.189704    0.136843   0.136843  0.025506      0.474738   \n",
       "home_player_7     0.194257    0.147018   0.147018 -0.004725      0.433786   \n",
       "home_player_8     0.209045    0.156688   0.156688  0.019964      0.471050   \n",
       "home_player_9     0.217464    0.162154   0.162154  0.005800      0.502380   \n",
       "home_player_10    0.221989    0.168362   0.168362  0.031995      0.487443   \n",
       "home_player_11    0.157432    0.103598   0.103598  0.011754      0.471128   \n",
       "away_player_1     0.202202    0.158330   0.158330  0.023387      0.401363   \n",
       "away_player_2     0.199859    0.143274   0.143274  0.018441      0.494839   \n",
       "away_player_3     0.227361    0.183208   0.183208  0.026862      0.413448   \n",
       "away_player_4     0.250124    0.202328   0.202328  0.010126      0.438839   \n",
       "away_player_5     0.138926    0.084819   0.084819  0.000347      0.482655   \n",
       "away_player_6     0.195531    0.143163   0.143163  0.011867      0.474503   \n",
       "away_player_7     0.188262    0.139952   0.139952  0.017511      0.437537   \n",
       "away_player_8     0.209922    0.156744   0.156744  0.022586      0.478568   \n",
       "away_player_9     0.223639    0.168456   0.168456  0.018110      0.501946   \n",
       "away_player_10    0.222528    0.168011   0.168011  0.028083      0.489002   \n",
       "away_player_11    0.172126    0.118185   0.118185  0.020371      0.479325   \n",
       "score            -0.001367   -0.005517  -0.005517 -0.012895      0.033570   \n",
       "home_poss        -0.004716   -0.004455  -0.004455 -0.005484     -0.002658   \n",
       "away_poss         0.004716    0.004455   0.004455  0.005484      0.002658   \n",
       "\n",
       "                  home_team_api_id  away_team_api_id  home_team_goal  \\\n",
       "id                        0.009980          0.012053        0.024755   \n",
       "country_id                0.004055          0.005718        0.029422   \n",
       "league_id                 0.004055          0.005718        0.029422   \n",
       "stage                    -0.022027          0.001911        0.023876   \n",
       "match_api_id              0.050466          0.053786       -0.034838   \n",
       "home_team_api_id          1.000000         -0.002575       -0.015044   \n",
       "away_team_api_id         -0.002575          1.000000       -0.001220   \n",
       "home_team_goal           -0.015044         -0.001220        1.000000   \n",
       "away_team_goal            0.003580         -0.019361       -0.069619   \n",
       "home_player_1             0.026398          0.022265       -0.025455   \n",
       "home_player_2             0.009886          0.010760       -0.042603   \n",
       "home_player_3             0.014701          0.001363       -0.018950   \n",
       "home_player_4             0.086483          0.019359       -0.019992   \n",
       "home_player_5             0.071726          0.027111       -0.051112   \n",
       "home_player_6             0.025284          0.046183       -0.025988   \n",
       "home_player_7             0.027968          0.011374       -0.023922   \n",
       "home_player_8             0.034041          0.032045       -0.035266   \n",
       "home_player_9             0.035355          0.021160       -0.029292   \n",
       "home_player_10            0.039105          0.003299       -0.044922   \n",
       "home_player_11            0.038676          0.010609       -0.039559   \n",
       "away_player_1             0.021226          0.038139        0.016880   \n",
       "away_player_2             0.006669         -0.018572        0.018471   \n",
       "away_player_3            -0.002399          0.035581        0.024065   \n",
       "away_player_4             0.020944          0.096770        0.002775   \n",
       "away_player_5             0.040858          0.078954        0.004255   \n",
       "away_player_6             0.014029          0.033315       -0.015040   \n",
       "away_player_7             0.013682          0.027804        0.004080   \n",
       "away_player_8             0.008388          0.026774       -0.005250   \n",
       "away_player_9             0.019631          0.042738       -0.003952   \n",
       "away_player_10            0.002123          0.040750        0.012056   \n",
       "away_player_11            0.001451          0.039719        0.015904   \n",
       "score                     0.016770         -0.007274       -0.621968   \n",
       "home_poss                -0.057799          0.047549        0.189213   \n",
       "away_poss                 0.057799         -0.047549       -0.189213   \n",
       "\n",
       "                  away_team_goal  home_player_1  ...  away_player_5  \\\n",
       "id                      0.017295       0.203838  ...       0.138926   \n",
       "country_id              0.017522       0.160769  ...       0.084819   \n",
       "league_id               0.017522       0.160769  ...       0.084819   \n",
       "stage                   0.012766       0.019028  ...       0.000347   \n",
       "match_api_id            0.003331       0.394245  ...       0.482655   \n",
       "home_team_api_id        0.003580       0.026398  ...       0.040858   \n",
       "away_team_api_id       -0.019361       0.022265  ...       0.078954   \n",
       "home_team_goal         -0.069619      -0.025455  ...       0.004255   \n",
       "away_team_goal          1.000000       0.013915  ...      -0.013987   \n",
       "home_player_1           0.013915       1.000000  ...       0.236157   \n",
       "home_player_2           0.007889       0.252408  ...       0.280126   \n",
       "home_player_3           0.021196       0.311086  ...       0.243279   \n",
       "home_player_4           0.008877       0.363295  ...       0.216529   \n",
       "home_player_5           0.019930       0.303185  ...       0.243442   \n",
       "home_player_6           0.031144       0.250698  ...       0.264060   \n",
       "home_player_7          -0.002061       0.287440  ...       0.260085   \n",
       "home_player_8           0.018238       0.258580  ...       0.256846   \n",
       "home_player_9           0.009248       0.246458  ...       0.272264   \n",
       "home_player_10          0.006837       0.277465  ...       0.270408   \n",
       "home_player_11          0.020941       0.264177  ...       0.251066   \n",
       "away_player_1          -0.001971       0.184223  ...       0.303511   \n",
       "away_player_2          -0.015936       0.233701  ...       0.323722   \n",
       "away_player_3          -0.005007       0.197192  ...       0.253488   \n",
       "away_player_4          -0.010562       0.209399  ...       0.301193   \n",
       "away_player_5          -0.013987       0.236157  ...       1.000000   \n",
       "away_player_6          -0.004194       0.250740  ...       0.285194   \n",
       "away_player_7           0.012041       0.241318  ...       0.295706   \n",
       "away_player_8          -0.004366       0.246956  ...       0.278858   \n",
       "away_player_9          -0.012360       0.272055  ...       0.326041   \n",
       "away_player_10         -0.028221       0.241128  ...       0.317027   \n",
       "away_player_11         -0.017576       0.241306  ...       0.324150   \n",
       "score                   0.629720       0.031047  ...      -0.007883   \n",
       "home_poss              -0.150233      -0.023314  ...       0.012094   \n",
       "away_poss               0.150233       0.023314  ...      -0.012094   \n",
       "\n",
       "                  away_player_6  away_player_7  away_player_8  away_player_9  \\\n",
       "id                     0.195531       0.188262       0.209922       0.223639   \n",
       "country_id             0.143163       0.139952       0.156744       0.168456   \n",
       "league_id              0.143163       0.139952       0.156744       0.168456   \n",
       "stage                  0.011867       0.017511       0.022586       0.018110   \n",
       "match_api_id           0.474503       0.437537       0.478568       0.501946   \n",
       "home_team_api_id       0.014029       0.013682       0.008388       0.019631   \n",
       "away_team_api_id       0.033315       0.027804       0.026774       0.042738   \n",
       "home_team_goal        -0.015040       0.004080      -0.005250      -0.003952   \n",
       "away_team_goal        -0.004194       0.012041      -0.004366      -0.012360   \n",
       "home_player_1          0.250740       0.241318       0.246956       0.272055   \n",
       "home_player_2          0.299211       0.283233       0.304628       0.302056   \n",
       "home_player_3          0.259192       0.238199       0.281867       0.297931   \n",
       "home_player_4          0.268671       0.259130       0.277139       0.280313   \n",
       "home_player_5          0.270205       0.268370       0.277977       0.284046   \n",
       "home_player_6          0.274940       0.288489       0.300698       0.296467   \n",
       "home_player_7          0.274072       0.235769       0.266592       0.276023   \n",
       "home_player_8          0.292679       0.245244       0.279842       0.296631   \n",
       "home_player_9          0.298971       0.310316       0.312983       0.330424   \n",
       "home_player_10         0.293197       0.277680       0.297653       0.314964   \n",
       "home_player_11         0.294097       0.278585       0.286974       0.296781   \n",
       "away_player_1          0.269352       0.300437       0.274290       0.262684   \n",
       "away_player_2          0.300132       0.341641       0.299870       0.318224   \n",
       "away_player_3          0.323315       0.273155       0.281852       0.311583   \n",
       "away_player_4          0.291181       0.300089       0.309181       0.317817   \n",
       "away_player_5          0.285194       0.295706       0.278858       0.326041   \n",
       "away_player_6          1.000000       0.308295       0.313320       0.311236   \n",
       "away_player_7          0.308295       1.000000       0.311249       0.281213   \n",
       "away_player_8          0.313320       0.311249       1.000000       0.327536   \n",
       "away_player_9          0.311236       0.281213       0.327536       1.000000   \n",
       "away_player_10         0.311498       0.329003       0.355037       0.381519   \n",
       "away_player_11         0.301607       0.304506       0.333034       0.362476   \n",
       "score                  0.008594       0.004886      -0.006812      -0.004160   \n",
       "home_poss              0.012119       0.007727      -0.002988       0.015897   \n",
       "away_poss             -0.012119      -0.007727       0.002988      -0.015897   \n",
       "\n",
       "                  away_player_10  away_player_11     score  home_poss  \\\n",
       "id                      0.222528        0.172126 -0.001367  -0.004716   \n",
       "country_id              0.168011        0.118185 -0.005517  -0.004455   \n",
       "league_id               0.168011        0.118185 -0.005517  -0.004455   \n",
       "stage                   0.028083        0.020371 -0.012895  -0.005484   \n",
       "match_api_id            0.489002        0.479325  0.033570  -0.002658   \n",
       "home_team_api_id        0.002123        0.001451  0.016770  -0.057799   \n",
       "away_team_api_id        0.040750        0.039719 -0.007274   0.047549   \n",
       "home_team_goal          0.012056        0.015904 -0.621968   0.189213   \n",
       "away_team_goal         -0.028221       -0.017576  0.629720  -0.150233   \n",
       "home_player_1           0.241128        0.241306  0.031047  -0.023314   \n",
       "home_player_2           0.331976        0.332228  0.034196  -0.001842   \n",
       "home_player_3           0.259167        0.250966  0.023906  -0.019492   \n",
       "home_player_4           0.257296        0.269233  0.016935   0.000081   \n",
       "home_player_5           0.280577        0.272905  0.048397  -0.022462   \n",
       "home_player_6           0.282710        0.292728  0.031140  -0.035188   \n",
       "home_player_7           0.284821        0.284484  0.019010  -0.005356   \n",
       "home_player_8           0.293605        0.293119  0.039182   0.001322   \n",
       "home_player_9           0.293634        0.297828  0.018389   0.005856   \n",
       "home_player_10          0.297477        0.289423  0.022944  -0.020644   \n",
       "home_player_11          0.284632        0.279002  0.041204  -0.017494   \n",
       "away_player_1           0.279812        0.264151 -0.006963   0.044592   \n",
       "away_player_2           0.345418        0.338900 -0.014363  -0.010790   \n",
       "away_player_3           0.304588        0.282167 -0.012230   0.031173   \n",
       "away_player_4           0.323901        0.288054 -0.003455  -0.004243   \n",
       "away_player_5           0.317027        0.324150 -0.007883   0.012094   \n",
       "away_player_6           0.311498        0.301607  0.008594   0.012119   \n",
       "away_player_7           0.329003        0.304506  0.004886   0.007727   \n",
       "away_player_8           0.355037        0.333034 -0.006812  -0.002988   \n",
       "away_player_9           0.381519        0.362476 -0.004160   0.015897   \n",
       "away_player_10          1.000000        0.323397 -0.011534   0.049708   \n",
       "away_player_11          0.323397        1.000000 -0.001957   0.021172   \n",
       "score                  -0.011534       -0.001957  1.000000  -0.152997   \n",
       "home_poss               0.049708        0.021172 -0.152997   1.000000   \n",
       "away_poss              -0.049708       -0.021172  0.152997  -1.000000   \n",
       "\n",
       "                  away_poss  \n",
       "id                 0.004716  \n",
       "country_id         0.004455  \n",
       "league_id          0.004455  \n",
       "stage              0.005484  \n",
       "match_api_id       0.002658  \n",
       "home_team_api_id   0.057799  \n",
       "away_team_api_id  -0.047549  \n",
       "home_team_goal    -0.189213  \n",
       "away_team_goal     0.150233  \n",
       "home_player_1      0.023314  \n",
       "home_player_2      0.001842  \n",
       "home_player_3      0.019492  \n",
       "home_player_4     -0.000081  \n",
       "home_player_5      0.022462  \n",
       "home_player_6      0.035188  \n",
       "home_player_7      0.005356  \n",
       "home_player_8     -0.001322  \n",
       "home_player_9     -0.005856  \n",
       "home_player_10     0.020644  \n",
       "home_player_11     0.017494  \n",
       "away_player_1     -0.044592  \n",
       "away_player_2      0.010790  \n",
       "away_player_3     -0.031173  \n",
       "away_player_4      0.004243  \n",
       "away_player_5     -0.012094  \n",
       "away_player_6     -0.012119  \n",
       "away_player_7     -0.007727  \n",
       "away_player_8      0.002988  \n",
       "away_player_9     -0.015897  \n",
       "away_player_10    -0.049708  \n",
       "away_player_11    -0.021172  \n",
       "score              0.152997  \n",
       "home_poss         -1.000000  \n",
       "away_poss          1.000000  \n",
       "\n",
       "[34 rows x 34 columns]"
      ],
      "text/html": "<div>\n<style scoped>\n    .dataframe tbody tr th:only-of-type {\n        vertical-align: middle;\n    }\n\n    .dataframe tbody tr th {\n        vertical-align: top;\n    }\n\n    .dataframe thead th {\n        text-align: right;\n    }\n</style>\n<table border=\"1\" class=\"dataframe\">\n  <thead>\n    <tr style=\"text-align: right;\">\n      <th></th>\n      <th>id</th>\n      <th>country_id</th>\n      <th>league_id</th>\n      <th>stage</th>\n      <th>match_api_id</th>\n      <th>home_team_api_id</th>\n      <th>away_team_api_id</th>\n      <th>home_team_goal</th>\n      <th>away_team_goal</th>\n      <th>home_player_1</th>\n      <th>...</th>\n      <th>away_player_5</th>\n      <th>away_player_6</th>\n      <th>away_player_7</th>\n      <th>away_player_8</th>\n      <th>away_player_9</th>\n      <th>away_player_10</th>\n      <th>away_player_11</th>\n      <th>score</th>\n      <th>home_poss</th>\n      <th>away_poss</th>\n    </tr>\n  </thead>\n  <tbody>\n    <tr>\n      <th>id</th>\n      <td>1.000000</td>\n      <td>0.992199</td>\n      <td>0.992199</td>\n      <td>-0.004737</td>\n      <td>0.213325</td>\n      <td>0.009980</td>\n      <td>0.012053</td>\n      <td>0.024755</td>\n      <td>0.017295</td>\n      <td>0.203838</td>\n      <td>...</td>\n      <td>0.138926</td>\n      <td>0.195531</td>\n      <td>0.188262</td>\n      <td>0.209922</td>\n      <td>0.223639</td>\n      <td>0.222528</td>\n      <td>0.172126</td>\n      <td>-0.001367</td>\n      <td>-0.004716</td>\n      <td>0.004716</td>\n    </tr>\n    <tr>\n      <th>country_id</th>\n      <td>0.992199</td>\n      <td>1.000000</td>\n      <td>1.000000</td>\n      <td>-0.007853</td>\n      <td>0.093156</td>\n      <td>0.004055</td>\n      <td>0.005718</td>\n      <td>0.029422</td>\n      <td>0.017522</td>\n      <td>0.160769</td>\n      <td>...</td>\n      <td>0.084819</td>\n      <td>0.143163</td>\n      <td>0.139952</td>\n      <td>0.156744</td>\n      <td>0.168456</td>\n      <td>0.168011</td>\n      <td>0.118185</td>\n      <td>-0.005517</td>\n      <td>-0.004455</td>\n      <td>0.004455</td>\n    </tr>\n    <tr>\n      <th>league_id</th>\n      <td>0.992199</td>\n      <td>1.000000</td>\n      <td>1.000000</td>\n      <td>-0.007853</td>\n      <td>0.093156</td>\n      <td>0.004055</td>\n      <td>0.005718</td>\n      <td>0.029422</td>\n      <td>0.017522</td>\n      <td>0.160769</td>\n      <td>...</td>\n      <td>0.084819</td>\n      <td>0.143163</td>\n      <td>0.139952</td>\n      <td>0.156744</td>\n      <td>0.168456</td>\n      <td>0.168011</td>\n      <td>0.118185</td>\n      <td>-0.005517</td>\n      <td>-0.004455</td>\n      <td>0.004455</td>\n    </tr>\n    <tr>\n      <th>stage</th>\n      <td>-0.004737</td>\n      <td>-0.007853</td>\n      <td>-0.007853</td>\n      <td>1.000000</td>\n      <td>-0.010480</td>\n      <td>-0.022027</td>\n      <td>0.001911</td>\n      <td>0.023876</td>\n      <td>0.012766</td>\n      <td>0.019028</td>\n      <td>...</td>\n      <td>0.000347</td>\n      <td>0.011867</td>\n      <td>0.017511</td>\n      <td>0.022586</td>\n      <td>0.018110</td>\n      <td>0.028083</td>\n      <td>0.020371</td>\n      <td>-0.012895</td>\n      <td>-0.005484</td>\n      <td>0.005484</td>\n    </tr>\n    <tr>\n      <th>match_api_id</th>\n      <td>0.213325</td>\n      <td>0.093156</td>\n      <td>0.093156</td>\n      <td>-0.010480</td>\n      <td>1.000000</td>\n      <td>0.050466</td>\n      <td>0.053786</td>\n      <td>-0.034838</td>\n      <td>0.003331</td>\n      <td>0.394245</td>\n      <td>...</td>\n      <td>0.482655</td>\n      <td>0.474503</td>\n      <td>0.437537</td>\n      <td>0.478568</td>\n      <td>0.501946</td>\n      <td>0.489002</td>\n      <td>0.479325</td>\n      <td>0.033570</td>\n      <td>-0.002658</td>\n      <td>0.002658</td>\n    </tr>\n    <tr>\n      <th>home_team_api_id</th>\n      <td>0.009980</td>\n      <td>0.004055</td>\n      <td>0.004055</td>\n      <td>-0.022027</td>\n      <td>0.050466</td>\n      <td>1.000000</td>\n      <td>-0.002575</td>\n      <td>-0.015044</td>\n      <td>0.003580</td>\n      <td>0.026398</td>\n      <td>...</td>\n      <td>0.040858</td>\n      <td>0.014029</td>\n      <td>0.013682</td>\n      <td>0.008388</td>\n      <td>0.019631</td>\n      <td>0.002123</td>\n      <td>0.001451</td>\n      <td>0.016770</td>\n      <td>-0.057799</td>\n      <td>0.057799</td>\n    </tr>\n    <tr>\n      <th>away_team_api_id</th>\n      <td>0.012053</td>\n      <td>0.005718</td>\n      <td>0.005718</td>\n      <td>0.001911</td>\n      <td>0.053786</td>\n      <td>-0.002575</td>\n      <td>1.000000</td>\n      <td>-0.001220</td>\n      <td>-0.019361</td>\n      <td>0.022265</td>\n      <td>...</td>\n      <td>0.078954</td>\n      <td>0.033315</td>\n      <td>0.027804</td>\n      <td>0.026774</td>\n      <td>0.042738</td>\n      <td>0.040750</td>\n      <td>0.039719</td>\n      <td>-0.007274</td>\n      <td>0.047549</td>\n      <td>-0.047549</td>\n    </tr>\n    <tr>\n      <th>home_team_goal</th>\n      <td>0.024755</td>\n      <td>0.029422</td>\n      <td>0.029422</td>\n      <td>0.023876</td>\n      <td>-0.034838</td>\n      <td>-0.015044</td>\n      <td>-0.001220</td>\n      <td>1.000000</td>\n      <td>-0.069619</td>\n      <td>-0.025455</td>\n      <td>...</td>\n      <td>0.004255</td>\n      <td>-0.015040</td>\n      <td>0.004080</td>\n      <td>-0.005250</td>\n      <td>-0.003952</td>\n      <td>0.012056</td>\n      <td>0.015904</td>\n      <td>-0.621968</td>\n      <td>0.189213</td>\n      <td>-0.189213</td>\n    </tr>\n    <tr>\n      <th>away_team_goal</th>\n      <td>0.017295</td>\n      <td>0.017522</td>\n      <td>0.017522</td>\n      <td>0.012766</td>\n      <td>0.003331</td>\n      <td>0.003580</td>\n      <td>-0.019361</td>\n      <td>-0.069619</td>\n      <td>1.000000</td>\n      <td>0.013915</td>\n      <td>...</td>\n      <td>-0.013987</td>\n      <td>-0.004194</td>\n      <td>0.012041</td>\n      <td>-0.004366</td>\n      <td>-0.012360</td>\n      <td>-0.028221</td>\n      <td>-0.017576</td>\n      <td>0.629720</td>\n      <td>-0.150233</td>\n      <td>0.150233</td>\n    </tr>\n    <tr>\n      <th>home_player_1</th>\n      <td>0.203838</td>\n      <td>0.160769</td>\n      <td>0.160769</td>\n      <td>0.019028</td>\n      <td>0.394245</td>\n      <td>0.026398</td>\n      <td>0.022265</td>\n      <td>-0.025455</td>\n      <td>0.013915</td>\n      <td>1.000000</td>\n      <td>...</td>\n      <td>0.236157</td>\n      <td>0.250740</td>\n      <td>0.241318</td>\n      <td>0.246956</td>\n      <td>0.272055</td>\n      <td>0.241128</td>\n      <td>0.241306</td>\n      <td>0.031047</td>\n      <td>-0.023314</td>\n      <td>0.023314</td>\n    </tr>\n    <tr>\n      <th>home_player_2</th>\n      <td>0.198913</td>\n      <td>0.143005</td>\n      <td>0.143005</td>\n      <td>0.017078</td>\n      <td>0.492299</td>\n      <td>0.009886</td>\n      <td>0.010760</td>\n      <td>-0.042603</td>\n      <td>0.007889</td>\n      <td>0.252408</td>\n      <td>...</td>\n      <td>0.280126</td>\n      <td>0.299211</td>\n      <td>0.283233</td>\n      <td>0.304628</td>\n      <td>0.302056</td>\n      <td>0.331976</td>\n      <td>0.332228</td>\n      <td>0.034196</td>\n      <td>-0.001842</td>\n      <td>0.001842</td>\n    </tr>\n    <tr>\n      <th>home_player_3</th>\n      <td>0.233004</td>\n      <td>0.188665</td>\n      <td>0.188665</td>\n      <td>0.024166</td>\n      <td>0.411002</td>\n      <td>0.014701</td>\n      <td>0.001363</td>\n      <td>-0.018950</td>\n      <td>0.021196</td>\n      <td>0.311086</td>\n      <td>...</td>\n      <td>0.243279</td>\n      <td>0.259192</td>\n      <td>0.238199</td>\n      <td>0.281867</td>\n      <td>0.297931</td>\n      <td>0.259167</td>\n      <td>0.250966</td>\n      <td>0.023906</td>\n      <td>-0.019492</td>\n      <td>0.019492</td>\n    </tr>\n    <tr>\n      <th>home_player_4</th>\n      <td>0.250873</td>\n      <td>0.203925</td>\n      <td>0.203925</td>\n      <td>0.004807</td>\n      <td>0.437601</td>\n      <td>0.086483</td>\n      <td>0.019359</td>\n      <td>-0.019992</td>\n      <td>0.008877</td>\n      <td>0.363295</td>\n      <td>...</td>\n      <td>0.216529</td>\n      <td>0.268671</td>\n      <td>0.259130</td>\n      <td>0.277139</td>\n      <td>0.280313</td>\n      <td>0.257296</td>\n      <td>0.269233</td>\n      <td>0.016935</td>\n      <td>0.000081</td>\n      <td>-0.000081</td>\n    </tr>\n    <tr>\n      <th>home_player_5</th>\n      <td>0.149029</td>\n      <td>0.095169</td>\n      <td>0.095169</td>\n      <td>0.001251</td>\n      <td>0.484117</td>\n      <td>0.071726</td>\n      <td>0.027111</td>\n      <td>-0.051112</td>\n      <td>0.019930</td>\n      <td>0.303185</td>\n      <td>...</td>\n      <td>0.243442</td>\n      <td>0.270205</td>\n      <td>0.268370</td>\n      <td>0.277977</td>\n      <td>0.284046</td>\n      <td>0.280577</td>\n      <td>0.272905</td>\n      <td>0.048397</td>\n      <td>-0.022462</td>\n      <td>0.022462</td>\n    </tr>\n    <tr>\n      <th>home_player_6</th>\n      <td>0.189704</td>\n      <td>0.136843</td>\n      <td>0.136843</td>\n      <td>0.025506</td>\n      <td>0.474738</td>\n      <td>0.025284</td>\n      <td>0.046183</td>\n      <td>-0.025988</td>\n      <td>0.031144</td>\n      <td>0.250698</td>\n      <td>...</td>\n      <td>0.264060</td>\n      <td>0.274940</td>\n      <td>0.288489</td>\n      <td>0.300698</td>\n      <td>0.296467</td>\n      <td>0.282710</td>\n      <td>0.292728</td>\n      <td>0.031140</td>\n      <td>-0.035188</td>\n      <td>0.035188</td>\n    </tr>\n    <tr>\n      <th>home_player_7</th>\n      <td>0.194257</td>\n      <td>0.147018</td>\n      <td>0.147018</td>\n      <td>-0.004725</td>\n      <td>0.433786</td>\n      <td>0.027968</td>\n      <td>0.011374</td>\n      <td>-0.023922</td>\n      <td>-0.002061</td>\n      <td>0.287440</td>\n      <td>...</td>\n      <td>0.260085</td>\n      <td>0.274072</td>\n      <td>0.235769</td>\n      <td>0.266592</td>\n      <td>0.276023</td>\n      <td>0.284821</td>\n      <td>0.284484</td>\n      <td>0.019010</td>\n      <td>-0.005356</td>\n      <td>0.005356</td>\n    </tr>\n    <tr>\n      <th>home_player_8</th>\n      <td>0.209045</td>\n      <td>0.156688</td>\n      <td>0.156688</td>\n      <td>0.019964</td>\n      <td>0.471050</td>\n      <td>0.034041</td>\n      <td>0.032045</td>\n      <td>-0.035266</td>\n      <td>0.018238</td>\n      <td>0.258580</td>\n      <td>...</td>\n      <td>0.256846</td>\n      <td>0.292679</td>\n      <td>0.245244</td>\n      <td>0.279842</td>\n      <td>0.296631</td>\n      <td>0.293605</td>\n      <td>0.293119</td>\n      <td>0.039182</td>\n      <td>0.001322</td>\n      <td>-0.001322</td>\n    </tr>\n    <tr>\n      <th>home_player_9</th>\n      <td>0.217464</td>\n      <td>0.162154</td>\n      <td>0.162154</td>\n      <td>0.005800</td>\n      <td>0.502380</td>\n      <td>0.035355</td>\n      <td>0.021160</td>\n      <td>-0.029292</td>\n      <td>0.009248</td>\n      <td>0.246458</td>\n      <td>...</td>\n      <td>0.272264</td>\n      <td>0.298971</td>\n      <td>0.310316</td>\n      <td>0.312983</td>\n      <td>0.330424</td>\n      <td>0.293634</td>\n      <td>0.297828</td>\n      <td>0.018389</td>\n      <td>0.005856</td>\n      <td>-0.005856</td>\n    </tr>\n    <tr>\n      <th>home_player_10</th>\n      <td>0.221989</td>\n      <td>0.168362</td>\n      <td>0.168362</td>\n      <td>0.031995</td>\n      <td>0.487443</td>\n      <td>0.039105</td>\n      <td>0.003299</td>\n      <td>-0.044922</td>\n      <td>0.006837</td>\n      <td>0.277465</td>\n      <td>...</td>\n      <td>0.270408</td>\n      <td>0.293197</td>\n      <td>0.277680</td>\n      <td>0.297653</td>\n      <td>0.314964</td>\n      <td>0.297477</td>\n      <td>0.289423</td>\n      <td>0.022944</td>\n      <td>-0.020644</td>\n      <td>0.020644</td>\n    </tr>\n    <tr>\n      <th>home_player_11</th>\n      <td>0.157432</td>\n      <td>0.103598</td>\n      <td>0.103598</td>\n      <td>0.011754</td>\n      <td>0.471128</td>\n      <td>0.038676</td>\n      <td>0.010609</td>\n      <td>-0.039559</td>\n      <td>0.020941</td>\n      <td>0.264177</td>\n      <td>...</td>\n      <td>0.251066</td>\n      <td>0.294097</td>\n      <td>0.278585</td>\n      <td>0.286974</td>\n      <td>0.296781</td>\n      <td>0.284632</td>\n      <td>0.279002</td>\n      <td>0.041204</td>\n      <td>-0.017494</td>\n      <td>0.017494</td>\n    </tr>\n    <tr>\n      <th>away_player_1</th>\n      <td>0.202202</td>\n      <td>0.158330</td>\n      <td>0.158330</td>\n      <td>0.023387</td>\n      <td>0.401363</td>\n      <td>0.021226</td>\n      <td>0.038139</td>\n      <td>0.016880</td>\n      <td>-0.001971</td>\n      <td>0.184223</td>\n      <td>...</td>\n      <td>0.303511</td>\n      <td>0.269352</td>\n      <td>0.300437</td>\n      <td>0.274290</td>\n      <td>0.262684</td>\n      <td>0.279812</td>\n      <td>0.264151</td>\n      <td>-0.006963</td>\n      <td>0.044592</td>\n      <td>-0.044592</td>\n    </tr>\n    <tr>\n      <th>away_player_2</th>\n      <td>0.199859</td>\n      <td>0.143274</td>\n      <td>0.143274</td>\n      <td>0.018441</td>\n      <td>0.494839</td>\n      <td>0.006669</td>\n      <td>-0.018572</td>\n      <td>0.018471</td>\n      <td>-0.015936</td>\n      <td>0.233701</td>\n      <td>...</td>\n      <td>0.323722</td>\n      <td>0.300132</td>\n      <td>0.341641</td>\n      <td>0.299870</td>\n      <td>0.318224</td>\n      <td>0.345418</td>\n      <td>0.338900</td>\n      <td>-0.014363</td>\n      <td>-0.010790</td>\n      <td>0.010790</td>\n    </tr>\n    <tr>\n      <th>away_player_3</th>\n      <td>0.227361</td>\n      <td>0.183208</td>\n      <td>0.183208</td>\n      <td>0.026862</td>\n      <td>0.413448</td>\n      <td>-0.002399</td>\n      <td>0.035581</td>\n      <td>0.024065</td>\n      <td>-0.005007</td>\n      <td>0.197192</td>\n      <td>...</td>\n      <td>0.253488</td>\n      <td>0.323315</td>\n      <td>0.273155</td>\n      <td>0.281852</td>\n      <td>0.311583</td>\n      <td>0.304588</td>\n      <td>0.282167</td>\n      <td>-0.012230</td>\n      <td>0.031173</td>\n      <td>-0.031173</td>\n    </tr>\n    <tr>\n      <th>away_player_4</th>\n      <td>0.250124</td>\n      <td>0.202328</td>\n      <td>0.202328</td>\n      <td>0.010126</td>\n      <td>0.438839</td>\n      <td>0.020944</td>\n      <td>0.096770</td>\n      <td>0.002775</td>\n      <td>-0.010562</td>\n      <td>0.209399</td>\n      <td>...</td>\n      <td>0.301193</td>\n      <td>0.291181</td>\n      <td>0.300089</td>\n      <td>0.309181</td>\n      <td>0.317817</td>\n      <td>0.323901</td>\n      <td>0.288054</td>\n      <td>-0.003455</td>\n      <td>-0.004243</td>\n      <td>0.004243</td>\n    </tr>\n    <tr>\n      <th>away_player_5</th>\n      <td>0.138926</td>\n      <td>0.084819</td>\n      <td>0.084819</td>\n      <td>0.000347</td>\n      <td>0.482655</td>\n      <td>0.040858</td>\n      <td>0.078954</td>\n      <td>0.004255</td>\n      <td>-0.013987</td>\n      <td>0.236157</td>\n      <td>...</td>\n      <td>1.000000</td>\n      <td>0.285194</td>\n      <td>0.295706</td>\n      <td>0.278858</td>\n      <td>0.326041</td>\n      <td>0.317027</td>\n      <td>0.324150</td>\n      <td>-0.007883</td>\n      <td>0.012094</td>\n      <td>-0.012094</td>\n    </tr>\n    <tr>\n      <th>away_player_6</th>\n      <td>0.195531</td>\n      <td>0.143163</td>\n      <td>0.143163</td>\n      <td>0.011867</td>\n      <td>0.474503</td>\n      <td>0.014029</td>\n      <td>0.033315</td>\n      <td>-0.015040</td>\n      <td>-0.004194</td>\n      <td>0.250740</td>\n      <td>...</td>\n      <td>0.285194</td>\n      <td>1.000000</td>\n      <td>0.308295</td>\n      <td>0.313320</td>\n      <td>0.311236</td>\n      <td>0.311498</td>\n      <td>0.301607</td>\n      <td>0.008594</td>\n      <td>0.012119</td>\n      <td>-0.012119</td>\n    </tr>\n    <tr>\n      <th>away_player_7</th>\n      <td>0.188262</td>\n      <td>0.139952</td>\n      <td>0.139952</td>\n      <td>0.017511</td>\n      <td>0.437537</td>\n      <td>0.013682</td>\n      <td>0.027804</td>\n      <td>0.004080</td>\n      <td>0.012041</td>\n      <td>0.241318</td>\n      <td>...</td>\n      <td>0.295706</td>\n      <td>0.308295</td>\n      <td>1.000000</td>\n      <td>0.311249</td>\n      <td>0.281213</td>\n      <td>0.329003</td>\n      <td>0.304506</td>\n      <td>0.004886</td>\n      <td>0.007727</td>\n      <td>-0.007727</td>\n    </tr>\n    <tr>\n      <th>away_player_8</th>\n      <td>0.209922</td>\n      <td>0.156744</td>\n      <td>0.156744</td>\n      <td>0.022586</td>\n      <td>0.478568</td>\n      <td>0.008388</td>\n      <td>0.026774</td>\n      <td>-0.005250</td>\n      <td>-0.004366</td>\n      <td>0.246956</td>\n      <td>...</td>\n      <td>0.278858</td>\n      <td>0.313320</td>\n      <td>0.311249</td>\n      <td>1.000000</td>\n      <td>0.327536</td>\n      <td>0.355037</td>\n      <td>0.333034</td>\n      <td>-0.006812</td>\n      <td>-0.002988</td>\n      <td>0.002988</td>\n    </tr>\n    <tr>\n      <th>away_player_9</th>\n      <td>0.223639</td>\n      <td>0.168456</td>\n      <td>0.168456</td>\n      <td>0.018110</td>\n      <td>0.501946</td>\n      <td>0.019631</td>\n      <td>0.042738</td>\n      <td>-0.003952</td>\n      <td>-0.012360</td>\n      <td>0.272055</td>\n      <td>...</td>\n      <td>0.326041</td>\n      <td>0.311236</td>\n      <td>0.281213</td>\n      <td>0.327536</td>\n      <td>1.000000</td>\n      <td>0.381519</td>\n      <td>0.362476</td>\n      <td>-0.004160</td>\n      <td>0.015897</td>\n      <td>-0.015897</td>\n    </tr>\n    <tr>\n      <th>away_player_10</th>\n      <td>0.222528</td>\n      <td>0.168011</td>\n      <td>0.168011</td>\n      <td>0.028083</td>\n      <td>0.489002</td>\n      <td>0.002123</td>\n      <td>0.040750</td>\n      <td>0.012056</td>\n      <td>-0.028221</td>\n      <td>0.241128</td>\n      <td>...</td>\n      <td>0.317027</td>\n      <td>0.311498</td>\n      <td>0.329003</td>\n      <td>0.355037</td>\n      <td>0.381519</td>\n      <td>1.000000</td>\n      <td>0.323397</td>\n      <td>-0.011534</td>\n      <td>0.049708</td>\n      <td>-0.049708</td>\n    </tr>\n    <tr>\n      <th>away_player_11</th>\n      <td>0.172126</td>\n      <td>0.118185</td>\n      <td>0.118185</td>\n      <td>0.020371</td>\n      <td>0.479325</td>\n      <td>0.001451</td>\n      <td>0.039719</td>\n      <td>0.015904</td>\n      <td>-0.017576</td>\n      <td>0.241306</td>\n      <td>...</td>\n      <td>0.324150</td>\n      <td>0.301607</td>\n      <td>0.304506</td>\n      <td>0.333034</td>\n      <td>0.362476</td>\n      <td>0.323397</td>\n      <td>1.000000</td>\n      <td>-0.001957</td>\n      <td>0.021172</td>\n      <td>-0.021172</td>\n    </tr>\n    <tr>\n      <th>score</th>\n      <td>-0.001367</td>\n      <td>-0.005517</td>\n      <td>-0.005517</td>\n      <td>-0.012895</td>\n      <td>0.033570</td>\n      <td>0.016770</td>\n      <td>-0.007274</td>\n      <td>-0.621968</td>\n      <td>0.629720</td>\n      <td>0.031047</td>\n      <td>...</td>\n      <td>-0.007883</td>\n      <td>0.008594</td>\n      <td>0.004886</td>\n      <td>-0.006812</td>\n      <td>-0.004160</td>\n      <td>-0.011534</td>\n      <td>-0.001957</td>\n      <td>1.000000</td>\n      <td>-0.152997</td>\n      <td>0.152997</td>\n    </tr>\n    <tr>\n      <th>home_poss</th>\n      <td>-0.004716</td>\n      <td>-0.004455</td>\n      <td>-0.004455</td>\n      <td>-0.005484</td>\n      <td>-0.002658</td>\n      <td>-0.057799</td>\n      <td>0.047549</td>\n      <td>0.189213</td>\n      <td>-0.150233</td>\n      <td>-0.023314</td>\n      <td>...</td>\n      <td>0.012094</td>\n      <td>0.012119</td>\n      <td>0.007727</td>\n      <td>-0.002988</td>\n      <td>0.015897</td>\n      <td>0.049708</td>\n      <td>0.021172</td>\n      <td>-0.152997</td>\n      <td>1.000000</td>\n      <td>-1.000000</td>\n    </tr>\n    <tr>\n      <th>away_poss</th>\n      <td>0.004716</td>\n      <td>0.004455</td>\n      <td>0.004455</td>\n      <td>0.005484</td>\n      <td>0.002658</td>\n      <td>0.057799</td>\n      <td>-0.047549</td>\n      <td>-0.189213</td>\n      <td>0.150233</td>\n      <td>0.023314</td>\n      <td>...</td>\n      <td>-0.012094</td>\n      <td>-0.012119</td>\n      <td>-0.007727</td>\n      <td>0.002988</td>\n      <td>-0.015897</td>\n      <td>-0.049708</td>\n      <td>-0.021172</td>\n      <td>0.152997</td>\n      <td>-1.000000</td>\n      <td>1.000000</td>\n    </tr>\n  </tbody>\n</table>\n<p>34 rows × 34 columns</p>\n</div>"
     },
     "metadata": {},
     "execution_count": 203
    }
   ],
   "source": [
    "relevant_match.corr()"
   ]
  },
  {
   "cell_type": "code",
   "execution_count": 215,
   "metadata": {},
   "outputs": [
    {
     "output_type": "execute_result",
     "data": {
      "text/plain": [
       "array([False])"
      ]
     },
     "metadata": {},
     "execution_count": 215
    }
   ],
   "source": [
    "np.unique(relevant_match[\"foulcommit\"] == \"<foulcommit>\")"
   ]
  },
  {
   "cell_type": "code",
   "execution_count": 219,
   "metadata": {},
   "outputs": [
    {
     "output_type": "execute_result",
     "data": {
      "text/plain": [
       "'<foulcommit><value><stats><foulscommitted>1</foulscommitted></stats><event_incident_typefk>37</event_incident_typefk><elapsed>1</elapsed><player2>32569</player2><player1>25518</player1><sortorder>1</sortorder><team>10261</team><n>267</n><type>foulcommit</type><id>378824</id></value><value><stats><foulscommitted>1</foulscommitted></stats><event_incident_typefk>37</event_incident_typefk><elapsed>2</elapsed><player2>24157</player2><player1>30929</player1><sortorder>0</sortorder><team>10261</team><n>277</n><type>foulcommit</type><id>378826</id></value><value><stats><foulscommitted>1</foulscommitted></stats><event_incident_typefk>37</event_incident_typefk><elapsed>3</elapsed><player2>24148</player2><player1>29581</player1><sortorder>1</sortorder><team>10261</team><n>254</n><type>foulcommit</type><id>378830</id></value><value><stats><foulscommitted>1</foulscommitted></stats><event_incident_typefk>37</event_incident_typefk><elapsed>5</elapsed><player2>40565</player2><player1>30373</player1><sortorder>0</sortorder><team>10260</team><n>256</n><type>foulcommit</type><id>378841</id></value><value><stats><foulscommitted>1</foulscommitted></stats><event_incident_typefk>320</event_incident_typefk><elapsed>10</elapsed><player2>30829</player2><subtype>pushing</subtype><player1>29581</player1><sortorder>0</sortorder><team>10261</team><n>275</n><type>foulcommit</type><id>378894</id></value><value><stats><foulscommitted>1</foulscommitted></stats><event_incident_typefk>37</event_incident_typefk><elapsed>13</elapsed><player2>25518</player2><player1>24157</player1><sortorder>0</sortorder><team>10260</team><n>261</n><type>foulcommit</type><id>378913</id></value><value><stats><foulscommitted>1</foulscommitted></stats><event_incident_typefk>37</event_incident_typefk><elapsed>19</elapsed><player2>30362</player2><player1>24228</player1><sortorder>6</sortorder><team>10261</team><n>260</n><type>foulcommit</type><id>378974</id></value><value><stats><foulscommitted>1</foulscommitted></stats><event_incident_typefk>37</event_incident_typefk><elapsed>27</elapsed><player2>30360</player2><player1>24157</player1><sortorder>0</sortorder><team>10260</team><n>268</n><type>foulcommit</type><id>379035</id></value><value><stats><foulscommitted>1</foulscommitted></stats><event_incident_typefk>37</event_incident_typefk><elapsed>27</elapsed><player2>38807</player2><player1>24154</player1><sortorder>2</sortorder><team>10260</team><n>282</n><type>foulcommit</type><id>379044</id></value><value><stats><foulscommitted>1</foulscommitted></stats><event_incident_typefk>18</event_incident_typefk><elapsed>33</elapsed><player2>32569</player2><subtype>shirt_pull</subtype><player1>34574</player1><sortorder>1</sortorder><team>10261</team><n>283</n><type>foulcommit</type><id>379100</id></value><value><stats><foulscommitted>1</foulscommitted></stats><event_incident_typefk>320</event_incident_typefk><elapsed>36</elapsed><player2>32569</player2><subtype>pushing</subtype><player1>37799</player1><sortorder>0</sortorder><team>10261</team><n>286</n><type>foulcommit</type><id>379126</id></value><value><stats><foulscommitted>1</foulscommitted></stats><event_incident_typefk>19</event_incident_typefk><elapsed>38</elapsed><player2>33852</player2><subtype>from_behind</subtype><player1>30620</player1><sortorder>0</sortorder><team>10260</team><n>287</n><type>foulcommit</type><id>379154</id></value><value><stats><foulscommitted>1</foulscommitted></stats><event_incident_typefk>19</event_incident_typefk><elapsed>39</elapsed><player2>34574</player2><subtype>from_behind</subtype><player1>32569</player1><sortorder>2</sortorder><team>10260</team><n>290</n><type>foulcommit</type><id>379171</id></value><value><stats><foulscommitted>1</foulscommitted></stats><event_incident_typefk>37</event_incident_typefk><elapsed>42</elapsed><player2>24157</player2><player1>30929</player1><sortorder>0</sortorder><team>10261</team><n>308</n><type>foulcommit</type><id>379195</id></value><value><stats><foulscommitted>1</foulscommitted></stats><event_incident_typefk>320</event_incident_typefk><elapsed>53</elapsed><player2>33852</player2><subtype>pushing</subtype><player1>24157</player1><sortorder>0</sortorder><team>10260</team><n>304</n><type>foulcommit</type><id>379377</id></value><value><stats><foulscommitted>1</foulscommitted></stats><event_incident_typefk>19</event_incident_typefk><elapsed>56</elapsed><player2>34574</player2><subtype>from_behind</subtype><player1>30865</player1><sortorder>0</sortorder><team>10260</team><n>321</n><type>foulcommit</type><id>379390</id></value><value><stats><foulscommitted>1</foulscommitted></stats><event_incident_typefk>19</event_incident_typefk><elapsed>59</elapsed><player2>37799</player2><subtype>from_behind</subtype><player1>30865</player1><sortorder>3</sortorder><team>10260</team><n>313</n><type>foulcommit</type><id>379413</id></value><value><stats><foulscommitted>1</foulscommitted></stats><event_incident_typefk>3</event_incident_typefk><elapsed>68</elapsed><subtype>hands</subtype><player1>24157</player1><sortorder>1</sortorder><team>10260</team><n>328</n><type>foulcommit</type><id>379440</id></value><value><stats><foulscommitted>1</foulscommitted></stats><event_incident_typefk>37</event_incident_typefk><elapsed>70</elapsed><player2>29581</player2><player1>30362</player1><sortorder>1</sortorder><team>10260</team><n>329</n><type>foulcommit</type><id>379444</id></value><value><stats><foulscommitted>1</foulscommitted></stats><event_incident_typefk>37</event_incident_typefk><elapsed>72</elapsed><player2>24148</player2><player1>29581</player1><sortorder>0</sortorder><team>10261</team><n>331</n><type>foulcommit</type><id>379449</id></value><value><stats><foulscommitted>1</foulscommitted></stats><event_incident_typefk>320</event_incident_typefk><elapsed>76</elapsed><player2>32569</player2><subtype>pushing</subtype><player1>29581</player1><sortorder>0</sortorder><team>10261</team><n>339</n><type>foulcommit</type><id>379468</id></value><value><stats><foulscommitted>1</foulscommitted></stats><event_incident_typefk>5</event_incident_typefk><elapsed>78</elapsed><player2>30929</player2><subtype>serious_foul</subtype><player1>24157</player1><sortorder>0</sortorder><team>10260</team><n>341</n><type>foulcommit</type><id>379479</id></value><value><stats><foulscommitted>1</foulscommitted></stats><event_incident_typefk>37</event_incident_typefk><elapsed>80</elapsed><player2>38807</player2><player1>24150</player1><sortorder>0</sortorder><team>10260</team><n>343</n><type>foulcommit</type><id>379488</id></value><value><stats><foulscommitted>1</foulscommitted></stats><event_incident_typefk>5</event_incident_typefk><elapsed>82</elapsed><player2>29581</player2><subtype>serious_foul</subtype><player1>30362</player1><sortorder>0</sortorder><team>10260</team><n>345</n><type>foulcommit</type><id>379502</id></value><value><stats><foulscommitted>1</foulscommitted></stats><event_incident_typefk>37</event_incident_typefk><elapsed>83</elapsed><player2>30929</player2><player1>30829</player1><sortorder>0</sortorder><team>10260</team><n>348</n><type>foulcommit</type><id>379509</id></value><value><stats><foulscommitted>1</foulscommitted></stats><event_incident_typefk>37</event_incident_typefk><elapsed>89</elapsed><player2>24228</player2><player1>30829</player1><sortorder>2</sortorder><team>10260</team><n>352</n><type>foulcommit</type><id>379542</id></value><value><stats><foulscommitted>1</foulscommitted></stats><elapsed_plus>4</elapsed_plus><event_incident_typefk>37</event_incident_typefk><elapsed>90</elapsed><player2>38994</player2><player1>30360</player1><sortorder>0</sortorder><team>10261</team><n>355</n><type>foulcommit</type><id>379571</id></value></foulcommit>'"
      ]
     },
     "metadata": {},
     "execution_count": 219
    }
   ],
   "source": [
    "relevant_match.loc[1728, \"foulcommit\"]"
   ]
  },
  {
   "cell_type": "code",
   "execution_count": 222,
   "metadata": {},
   "outputs": [
    {
     "output_type": "execute_result",
     "data": {
      "text/plain": [
       "id                                                               1729\n",
       "country_id                                                       1729\n",
       "league_id                                                        1729\n",
       "season                                                      2008/2009\n",
       "stage                                                               1\n",
       "date                                              2008-08-17 00:00:00\n",
       "match_api_id                                                   489042\n",
       "home_team_api_id                                                10260\n",
       "away_team_api_id                                                10261\n",
       "home_team_goal                                                      1\n",
       "away_team_goal                                                      1\n",
       "home_player_1                                                   30726\n",
       "home_player_2                                                   30362\n",
       "home_player_3                                                   30620\n",
       "home_player_4                                                   30865\n",
       "home_player_5                                                   32569\n",
       "home_player_6                                                   24148\n",
       "home_player_7                                                   34944\n",
       "home_player_8                                                   30373\n",
       "home_player_9                                                   24154\n",
       "home_player_10                                                  24157\n",
       "home_player_11                                                  30829\n",
       "away_player_1                                                   24224\n",
       "away_player_2                                                   25518\n",
       "away_player_3                                                   24228\n",
       "away_player_4                                                   30929\n",
       "away_player_5                                                   29581\n",
       "away_player_6                                                   38807\n",
       "away_player_7                                                   40565\n",
       "away_player_8                                                   30360\n",
       "away_player_9                                                   33852\n",
       "away_player_10                                                  34574\n",
       "away_player_11                                                  37799\n",
       "goal                <goal><value><comment>n</comment><stats><goals...\n",
       "shoton              <shoton><value><stats><blocked>1</blocked></st...\n",
       "shotoff             <shotoff><value><stats><shotoff>1</shotoff></s...\n",
       "foulcommit          <foulcommit><value><stats><foulscommitted>1</f...\n",
       "card                <card><value><comment>y</comment><stats><ycard...\n",
       "cross               <cross><value><stats><crosses>1</crosses></sta...\n",
       "corner              <corner><value><stats><corners>1</corners></st...\n",
       "possession          <possession><value><comment>56</comment><event...\n",
       "score                                                             0.5\n",
       "home_poss                                                        0.55\n",
       "away_poss                                                        0.45\n",
       "Name: 1728, dtype: object"
      ]
     },
     "metadata": {},
     "execution_count": 222
    }
   ],
   "source": [
    "relevant_match.loc[1728,:]"
   ]
  },
  {
   "cell_type": "code",
   "execution_count": 223,
   "metadata": {},
   "outputs": [],
   "source": [
    "team_df = pd.read_sql_query(\"SELECT * FROM Team\", cnx)"
   ]
  },
  {
   "cell_type": "code",
   "execution_count": 224,
   "metadata": {},
   "outputs": [
    {
     "output_type": "execute_result",
     "data": {
      "text/plain": [
       "   id  team_api_id  team_fifa_api_id     team_long_name team_short_name\n",
       "0   1         9987             673.0           KRC Genk             GEN\n",
       "1   2         9993             675.0       Beerschot AC             BAC\n",
       "2   3        10000           15005.0   SV Zulte-Waregem             ZUL\n",
       "3   4         9994            2007.0   Sporting Lokeren             LOK\n",
       "4   5         9984            1750.0  KSV Cercle Brugge             CEB"
      ],
      "text/html": "<div>\n<style scoped>\n    .dataframe tbody tr th:only-of-type {\n        vertical-align: middle;\n    }\n\n    .dataframe tbody tr th {\n        vertical-align: top;\n    }\n\n    .dataframe thead th {\n        text-align: right;\n    }\n</style>\n<table border=\"1\" class=\"dataframe\">\n  <thead>\n    <tr style=\"text-align: right;\">\n      <th></th>\n      <th>id</th>\n      <th>team_api_id</th>\n      <th>team_fifa_api_id</th>\n      <th>team_long_name</th>\n      <th>team_short_name</th>\n    </tr>\n  </thead>\n  <tbody>\n    <tr>\n      <th>0</th>\n      <td>1</td>\n      <td>9987</td>\n      <td>673.0</td>\n      <td>KRC Genk</td>\n      <td>GEN</td>\n    </tr>\n    <tr>\n      <th>1</th>\n      <td>2</td>\n      <td>9993</td>\n      <td>675.0</td>\n      <td>Beerschot AC</td>\n      <td>BAC</td>\n    </tr>\n    <tr>\n      <th>2</th>\n      <td>3</td>\n      <td>10000</td>\n      <td>15005.0</td>\n      <td>SV Zulte-Waregem</td>\n      <td>ZUL</td>\n    </tr>\n    <tr>\n      <th>3</th>\n      <td>4</td>\n      <td>9994</td>\n      <td>2007.0</td>\n      <td>Sporting Lokeren</td>\n      <td>LOK</td>\n    </tr>\n    <tr>\n      <th>4</th>\n      <td>5</td>\n      <td>9984</td>\n      <td>1750.0</td>\n      <td>KSV Cercle Brugge</td>\n      <td>CEB</td>\n    </tr>\n  </tbody>\n</table>\n</div>"
     },
     "metadata": {},
     "execution_count": 224
    }
   ],
   "source": [
    "team_df.head()"
   ]
  },
  {
   "cell_type": "code",
   "execution_count": 228,
   "metadata": {},
   "outputs": [
    {
     "output_type": "execute_result",
     "data": {
      "text/plain": [
       "      id  team_api_id  team_fifa_api_id     team_long_name team_short_name\n",
       "25  3457        10260              11.0  Manchester United             MUN\n",
       "26  3458        10261              13.0   Newcastle United             NEW"
      ],
      "text/html": "<div>\n<style scoped>\n    .dataframe tbody tr th:only-of-type {\n        vertical-align: middle;\n    }\n\n    .dataframe tbody tr th {\n        vertical-align: top;\n    }\n\n    .dataframe thead th {\n        text-align: right;\n    }\n</style>\n<table border=\"1\" class=\"dataframe\">\n  <thead>\n    <tr style=\"text-align: right;\">\n      <th></th>\n      <th>id</th>\n      <th>team_api_id</th>\n      <th>team_fifa_api_id</th>\n      <th>team_long_name</th>\n      <th>team_short_name</th>\n    </tr>\n  </thead>\n  <tbody>\n    <tr>\n      <th>25</th>\n      <td>3457</td>\n      <td>10260</td>\n      <td>11.0</td>\n      <td>Manchester United</td>\n      <td>MUN</td>\n    </tr>\n    <tr>\n      <th>26</th>\n      <td>3458</td>\n      <td>10261</td>\n      <td>13.0</td>\n      <td>Newcastle United</td>\n      <td>NEW</td>\n    </tr>\n  </tbody>\n</table>\n</div>"
     },
     "metadata": {},
     "execution_count": 228
    }
   ],
   "source": [
    "team_df[(team_df[\"team_api_id\"] == 10260) | (team_df[\"team_api_id\"] == 10261)]"
   ]
  },
  {
   "cell_type": "code",
   "execution_count": 231,
   "metadata": {},
   "outputs": [
    {
     "output_type": "execute_result",
     "data": {
      "text/plain": [
       "'<possession><value><comment>56</comment><event_incident_typefk>352</event_incident_typefk><elapsed>25</elapsed><subtype>possession</subtype><sortorder>1</sortorder><awaypos>44</awaypos><homepos>56</homepos><n>68</n><type>special</type><id>379029</id></value><value><comment>54</comment><elapsed_plus>1</elapsed_plus><event_incident_typefk>352</event_incident_typefk><elapsed>45</elapsed><subtype>possession</subtype><sortorder>4</sortorder><awaypos>46</awaypos><homepos>54</homepos><n>117</n><type>special</type><id>379251</id></value><value><comment>54</comment><event_incident_typefk>352</event_incident_typefk><elapsed>70</elapsed><subtype>possession</subtype><sortorder>0</sortorder><awaypos>46</awaypos><homepos>54</homepos><n>190</n><type>special</type><id>379443</id></value><value><comment>55</comment><elapsed_plus>5</elapsed_plus><event_incident_typefk>352</event_incident_typefk><elapsed>90</elapsed><subtype>possession</subtype><sortorder>1</sortorder><awaypos>45</awaypos><homepos>55</homepos><n>252</n><type>special</type><id>379575</id></value></possession>'"
      ]
     },
     "metadata": {},
     "execution_count": 231
    }
   ],
   "source": [
    "relevant_match.loc[1728, \"possession\"]"
   ]
  },
  {
   "cell_type": "code",
   "execution_count": 232,
   "metadata": {},
   "outputs": [
    {
     "output_type": "execute_result",
     "data": {
      "text/plain": [
       "54.75"
      ]
     },
     "metadata": {},
     "execution_count": 232
    }
   ],
   "source": [
    "(56+54+54+55)/4"
   ]
  },
  {
   "cell_type": "code",
   "execution_count": 233,
   "metadata": {},
   "outputs": [
    {
     "output_type": "execute_result",
     "data": {
      "text/plain": [
       "'<corner><value><stats><corners>1</corners></stats><event_incident_typefk>329</event_incident_typefk><elapsed>19</elapsed><subtype>cross</subtype><player1>38807</player1><sortorder>0</sortorder><team>10261</team><n>280</n><type>corner</type><id>378960</id></value><value><stats><corners>1</corners></stats><event_incident_typefk>330</event_incident_typefk><elapsed>22</elapsed><subtype>short</subtype><player1>40565</player1><sortorder>0</sortorder><team>10261</team><n>263</n><type>corner</type><id>378992</id></value><value><stats><corners>1</corners></stats><event_incident_typefk>329</event_incident_typefk><elapsed>22</elapsed><subtype>cross</subtype><player1>38807</player1><sortorder>4</sortorder><team>10261</team><n>293</n><type>corner</type><id>378996</id></value><value><stats><corners>1</corners></stats><event_incident_typefk>329</event_incident_typefk><elapsed>48</elapsed><subtype>cross</subtype><player1>24154</player1><sortorder>2</sortorder><team>10260</team><n>300</n><type>corner</type><id>379352</id></value><value><stats><corners>1</corners></stats><event_incident_typefk>329</event_incident_typefk><elapsed>51</elapsed><subtype>cross</subtype><player1>38807</player1><sortorder>0</sortorder><team>10261</team><n>301</n><type>corner</type><id>379366</id></value><value><stats><corners>1</corners></stats><event_incident_typefk>329</event_incident_typefk><elapsed>58</elapsed><subtype>cross</subtype><player1>24148</player1><sortorder>1</sortorder><team>10260</team><n>307</n><type>corner</type><id>379403</id></value><value><stats><corners>1</corners></stats><event_incident_typefk>330</event_incident_typefk><elapsed>59</elapsed><subtype>short</subtype><player1>24148</player1><sortorder>2</sortorder><team>10260</team><n>309</n><type>corner</type><id>379411</id></value><value><stats><corners>1</corners></stats><event_incident_typefk>329</event_incident_typefk><elapsed>62</elapsed><subtype>cross</subtype><player1>40565</player1><sortorder>2</sortorder><team>10261</team><n>317</n><type>corner</type><id>379420</id></value><value><stats><corners>1</corners></stats><event_incident_typefk>329</event_incident_typefk><elapsed>66</elapsed><subtype>cross</subtype><player1>38807</player1><sortorder>1</sortorder><team>10261</team><n>322</n><type>corner</type><id>379429</id></value><value><stats><corners>1</corners></stats><event_incident_typefk>329</event_incident_typefk><elapsed>67</elapsed><subtype>cross</subtype><player1>24148</player1><sortorder>1</sortorder><team>10260</team><n>326</n><type>corner</type><id>379435</id></value><value><stats><corners>1</corners></stats><event_incident_typefk>329</event_incident_typefk><elapsed>73</elapsed><subtype>cross</subtype><player1>24148</player1><sortorder>2</sortorder><team>10260</team><n>333</n><type>corner</type><id>379452</id></value><value><stats><corners>1</corners></stats><event_incident_typefk>329</event_incident_typefk><elapsed>75</elapsed><subtype>cross</subtype><player1>30829</player1><sortorder>1</sortorder><team>10260</team><n>336</n><type>corner</type><id>379460</id></value></corner>'"
      ]
     },
     "metadata": {},
     "execution_count": 233
    }
   ],
   "source": [
    "relevant_match.loc[1728, \"corner\"]"
   ]
  },
  {
   "cell_type": "code",
   "execution_count": 234,
   "metadata": {},
   "outputs": [
    {
     "output_type": "execute_result",
     "data": {
      "text/plain": [
       "'<shoton><value><stats><blocked>1</blocked></stats><event_incident_typefk>61</event_incident_typefk><elapsed>3</elapsed><subtype>blocked_shot</subtype><player1>24154</player1><sortorder>0</sortorder><team>10260</team><n>253</n><type>shoton</type><id>378828</id></value><value><stats><shoton>1</shoton></stats><event_incident_typefk>154</event_incident_typefk><elapsed>7</elapsed><subtype>header</subtype><player1>24157</player1><sortorder>2</sortorder><team>10260</team><n>258</n><type>shoton</type><id>378866</id></value><value><stats><shoton>1</shoton></stats><event_incident_typefk>153</event_incident_typefk><elapsed>14</elapsed><subtype>shot</subtype><player1>30829</player1><sortorder>1</sortorder><team>10260</team><n>274</n><type>shoton</type><id>378922</id></value><value><stats><shoton>1</shoton></stats><event_incident_typefk>153</event_incident_typefk><elapsed>14</elapsed><subtype>shot</subtype><player1>30373</player1><sortorder>2</sortorder><team>10260</team><n>279</n><type>shoton</type><id>378923</id></value><value><stats><shoton>1</shoton></stats><event_incident_typefk>137</event_incident_typefk><elapsed>17</elapsed><subtype>distance</subtype><player1>30373</player1><sortorder>3</sortorder><team>10260</team><n>272</n><type>shoton</type><id>378951</id></value><value><stats><blocked>1</blocked></stats><event_incident_typefk>61</event_incident_typefk><elapsed>43</elapsed><subtype>blocked_shot</subtype><player1>24154</player1><sortorder>0</sortorder><team>10260</team><n>296</n><type>shoton</type><id>379204</id></value><value><stats><shoton>1</shoton></stats><event_incident_typefk>137</event_incident_typefk><elapsed>50</elapsed><subtype>distance</subtype><player1>37799</player1><sortorder>0</sortorder><team>10261</team><n>302</n><type>shoton</type><id>379363</id></value><value><stats><shoton>1</shoton></stats><event_incident_typefk>149</event_incident_typefk><elapsed>58</elapsed><subtype>distance</subtype><player1>24157</player1><sortorder>0</sortorder><team>10260</team><n>310</n><type>shoton</type><id>379401</id></value><value><stats><blocked>1</blocked></stats><event_incident_typefk>61</event_incident_typefk><elapsed>58</elapsed><subtype>blocked_shot</subtype><player1>24157</player1><sortorder>4</sortorder><team>10260</team><n>311</n><type>shoton</type><id>379406</id></value><value><stats><blocked>1</blocked></stats><event_incident_typefk>61</event_incident_typefk><elapsed>60</elapsed><subtype>blocked_shot</subtype><player1>30829</player1><sortorder>0</sortorder><team>10260</team><n>314</n><type>shoton</type><id>379414</id></value><value><stats><shoton>1</shoton></stats><event_incident_typefk>136</event_incident_typefk><elapsed>64</elapsed><subtype>header</subtype><player1>24157</player1><sortorder>0</sortorder><team>10260</team><n>319</n><type>shoton</type><id>379426</id></value><value><stats><blocked>1</blocked></stats><event_incident_typefk>61</event_incident_typefk><elapsed>75</elapsed><subtype>blocked_shot</subtype><player1>30829</player1><sortorder>5</sortorder><team>10260</team><n>338</n><type>shoton</type><id>379466</id></value></shoton>'"
      ]
     },
     "metadata": {},
     "execution_count": 234
    }
   ],
   "source": [
    "relevant_match.loc[1728, \"shoton\"]"
   ]
  },
  {
   "cell_type": "code",
   "execution_count": 249,
   "metadata": {},
   "outputs": [
    {
     "output_type": "execute_result",
     "data": {
      "text/plain": [
       "10261"
      ]
     },
     "metadata": {},
     "execution_count": 249
    }
   ],
   "source": [
    "relevant_match.loc[1728, \"corner\"].count(\"<corners>\")\n",
    "relevant_match.loc[1728, \"home_team_api_id\"]\n",
    "relevant_match.loc[1728, \"away_team_api_id\"]"
   ]
  },
  {
   "cell_type": "code",
   "execution_count": 250,
   "metadata": {},
   "outputs": [
    {
     "output_type": "execute_result",
     "data": {
      "text/plain": [
       "6"
      ]
     },
     "metadata": {},
     "execution_count": 250
    }
   ],
   "source": [
    "relevant_match.loc[1728, \"corner\"].count(str(relevant_match.loc[1728, \"home_team_api_id\"]))"
   ]
  },
  {
   "cell_type": "code",
   "execution_count": 251,
   "metadata": {},
   "outputs": [
    {
     "output_type": "execute_result",
     "data": {
      "text/plain": [
       "6"
      ]
     },
     "metadata": {},
     "execution_count": 251
    }
   ],
   "source": [
    "relevant_match.loc[1728, \"corner\"].count(str(relevant_match.loc[1728, \"away_team_api_id\"]))"
   ]
  },
  {
   "cell_type": "code",
   "execution_count": 255,
   "metadata": {},
   "outputs": [
    {
     "output_type": "stream",
     "name": "stdout",
     "text": [
      "1\n9\n"
     ]
    }
   ],
   "source": [
    "print(relevant_match.loc[1728, \"shoton\"].count(str(relevant_match.loc[1728, \"away_team_api_id\"])))\n",
    "print(relevant_match.loc[1728, \"shotoff\"].count(str(relevant_match.loc[1728, \"away_team_api_id\"])))"
   ]
  },
  {
   "cell_type": "code",
   "execution_count": 256,
   "metadata": {},
   "outputs": [
    {
     "output_type": "stream",
     "name": "stdout",
     "text": [
      "11\n10\n"
     ]
    }
   ],
   "source": [
    "print(relevant_match.loc[1728, \"shoton\"].count(str(relevant_match.loc[1728, \"home_team_api_id\"])))\n",
    "print(relevant_match.loc[1728, \"shotoff\"].count(str(relevant_match.loc[1728, \"home_team_api_id\"])))"
   ]
  },
  {
   "cell_type": "code",
   "execution_count": 258,
   "metadata": {},
   "outputs": [
    {
     "output_type": "stream",
     "name": "stdout",
     "text": [
      "16\n11\n"
     ]
    }
   ],
   "source": [
    "print(relevant_match.loc[1728, \"foulcommit\"].count(str(relevant_match.loc[1728, \"home_team_api_id\"])))\n",
    "print(relevant_match.loc[1728, \"foulcommit\"].count(str(relevant_match.loc[1728, \"away_team_api_id\"])))"
   ]
  },
  {
   "cell_type": "code",
   "execution_count": 260,
   "metadata": {},
   "outputs": [
    {
     "output_type": "stream",
     "name": "stdout",
     "text": [
      "3\n0\n"
     ]
    }
   ],
   "source": [
    "print(relevant_match.loc[1728, \"card\"].count(str(relevant_match.loc[1728, \"home_team_api_id\"])))\n",
    "print(relevant_match.loc[1728, \"card\"].count(str(relevant_match.loc[1728, \"away_team_api_id\"])))"
   ]
  },
  {
   "cell_type": "code",
   "execution_count": 259,
   "metadata": {},
   "outputs": [
    {
     "output_type": "stream",
     "name": "stdout",
     "text": [
      "24\n9\n"
     ]
    }
   ],
   "source": [
    "print(relevant_match.loc[1728, \"cross\"].count(str(relevant_match.loc[1728, \"home_team_api_id\"])))\n",
    "print(relevant_match.loc[1728, \"cross\"].count(str(relevant_match.loc[1728, \"away_team_api_id\"])))"
   ]
  },
  {
   "cell_type": "code",
   "execution_count": 285,
   "metadata": {},
   "outputs": [
    {
     "output_type": "stream",
     "name": "stdout",
     "text": [
      "Shoton empty : 0\nShotoff emtpy : 0\nFoulcommit empty : 0\nCard empty: 280\nCross emtpy : 0\nCorners emtpy : 1\n"
     ]
    }
   ],
   "source": [
    "print(f\"Shoton empty : {(relevant_match['shoton'] == '<shoton />').sum()}\")\n",
    "print(f\"Shotoff emtpy : {(relevant_match['shotoff'] == '<shotoff />').sum()}\")\n",
    "print(f\"Foulcommit empty : {(relevant_match['foulcommit'] == '<foulcommit />').sum()}\")\n",
    "print(f\"Card empty: {(relevant_match['card']  == '<card />').sum()}\")\n",
    "print(f\"Cross emtpy : {(relevant_match['cross']  == '<cross />').sum()}\")\n",
    "print(f\"Corners emtpy : {(relevant_match['corner']  == '<corner />').sum()}\")"
   ]
  },
  {
   "cell_type": "code",
   "execution_count": 286,
   "metadata": {},
   "outputs": [
    {
     "output_type": "execute_result",
     "data": {
      "text/plain": [
       "array([False])"
      ]
     },
     "metadata": {},
     "execution_count": 286
    }
   ],
   "source": [
    "(relevant_match['shoton'] == '<shoton />').unique()"
   ]
  },
  {
   "cell_type": "code",
   "execution_count": 282,
   "metadata": {},
   "outputs": [
    {
     "output_type": "execute_result",
     "data": {
      "text/plain": [
       "7930"
      ]
     },
     "metadata": {},
     "execution_count": 282
    }
   ],
   "source": [
    "(possession_match_df[\"possession\"] != \"<possession />\").sum()"
   ]
  },
  {
   "cell_type": "code",
   "execution_count": 296,
   "metadata": {},
   "outputs": [
    {
     "output_type": "execute_result",
     "data": {
      "text/plain": [
       "24552    <shoton><value><stats><shoton>1</shoton></stat...\n",
       "24553    <shoton><value><event_incident_typefk>876</eve...\n",
       "24554    <shoton><value><stats><blocked>1</blocked></st...\n",
       "24555    <shoton><value><stats><shoton>1</shoton></stat...\n",
       "24556    <shoton><value><stats><blocked>1</blocked></st...\n",
       "Name: shoton, dtype: object"
      ]
     },
     "metadata": {},
     "execution_count": 296
    }
   ],
   "source": [
    "relevant_match['shoton'].tail()"
   ]
  },
  {
   "cell_type": "code",
   "execution_count": 299,
   "metadata": {},
   "outputs": [
    {
     "output_type": "execute_result",
     "data": {
      "text/plain": [
       "          id  country_id  league_id     season  stage                 date  \\\n",
       "25944  25945       24558      24558  2015/2016     36  2016-05-25 00:00:00   \n",
       "25945  25946       24558      24558  2015/2016     36  2016-05-25 00:00:00   \n",
       "25946  25947       24558      24558  2015/2016     36  2016-05-25 00:00:00   \n",
       "25947  25948       24558      24558  2015/2016     36  2016-05-25 00:00:00   \n",
       "25948  25949       24558      24558  2015/2016     36  2016-05-25 00:00:00   \n",
       "\n",
       "       match_api_id  home_team_api_id  away_team_api_id  home_team_goal  ...  \\\n",
       "25944       1992225              9931              9956               0  ...   \n",
       "25945       1992226              7896             10190               3  ...   \n",
       "25946       1992227             10199             10179               2  ...   \n",
       "25947       1992228             10191             10192               0  ...   \n",
       "25948       1992229             10243              9824               3  ...   \n",
       "\n",
       "       away_player_11                                               goal  \\\n",
       "25944        289472.0  <goal><value><comment>o</comment><stats><owngo...   \n",
       "25945         35831.0  <goal><value><comment>n</comment><stats><goals...   \n",
       "25946         38601.0  <goal><value><comment>n</comment><stats><goals...   \n",
       "25947         37554.0  <goal><value><comment>n</comment><stats><goals...   \n",
       "25948        493418.0  <goal><value><comment>n</comment><stats><goals...   \n",
       "\n",
       "           shoton      shotoff      foulcommit  \\\n",
       "25944  <shoton />  <shotoff />  <foulcommit />   \n",
       "25945  <shoton />  <shotoff />  <foulcommit />   \n",
       "25946  <shoton />  <shotoff />  <foulcommit />   \n",
       "25947  <shoton />  <shotoff />  <foulcommit />   \n",
       "25948  <shoton />  <shotoff />  <foulcommit />   \n",
       "\n",
       "                                                    card      cross  \\\n",
       "25944  <card><value><comment>y</comment><stats><ycard...  <cross />   \n",
       "25945  <card><value><comment>y</comment><stats><ycard...  <cross />   \n",
       "25946  <card><value><comment>y</comment><stats><ycard...  <cross />   \n",
       "25947  <card><value><comment>y</comment><stats><ycard...  <cross />   \n",
       "25948  <card><value><comment>y</comment><stats><ycard...  <cross />   \n",
       "\n",
       "           corner      possession  score  \n",
       "25944  <corner />  <possession />    1.0  \n",
       "25945  <corner />  <possession />    0.0  \n",
       "25946  <corner />  <possession />    0.5  \n",
       "25947  <corner />  <possession />    1.0  \n",
       "25948  <corner />  <possession />    0.0  \n",
       "\n",
       "[5 rows x 42 columns]"
      ],
      "text/html": "<div>\n<style scoped>\n    .dataframe tbody tr th:only-of-type {\n        vertical-align: middle;\n    }\n\n    .dataframe tbody tr th {\n        vertical-align: top;\n    }\n\n    .dataframe thead th {\n        text-align: right;\n    }\n</style>\n<table border=\"1\" class=\"dataframe\">\n  <thead>\n    <tr style=\"text-align: right;\">\n      <th></th>\n      <th>id</th>\n      <th>country_id</th>\n      <th>league_id</th>\n      <th>season</th>\n      <th>stage</th>\n      <th>date</th>\n      <th>match_api_id</th>\n      <th>home_team_api_id</th>\n      <th>away_team_api_id</th>\n      <th>home_team_goal</th>\n      <th>...</th>\n      <th>away_player_11</th>\n      <th>goal</th>\n      <th>shoton</th>\n      <th>shotoff</th>\n      <th>foulcommit</th>\n      <th>card</th>\n      <th>cross</th>\n      <th>corner</th>\n      <th>possession</th>\n      <th>score</th>\n    </tr>\n  </thead>\n  <tbody>\n    <tr>\n      <th>25944</th>\n      <td>25945</td>\n      <td>24558</td>\n      <td>24558</td>\n      <td>2015/2016</td>\n      <td>36</td>\n      <td>2016-05-25 00:00:00</td>\n      <td>1992225</td>\n      <td>9931</td>\n      <td>9956</td>\n      <td>0</td>\n      <td>...</td>\n      <td>289472.0</td>\n      <td>&lt;goal&gt;&lt;value&gt;&lt;comment&gt;o&lt;/comment&gt;&lt;stats&gt;&lt;owngo...</td>\n      <td>&lt;shoton /&gt;</td>\n      <td>&lt;shotoff /&gt;</td>\n      <td>&lt;foulcommit /&gt;</td>\n      <td>&lt;card&gt;&lt;value&gt;&lt;comment&gt;y&lt;/comment&gt;&lt;stats&gt;&lt;ycard...</td>\n      <td>&lt;cross /&gt;</td>\n      <td>&lt;corner /&gt;</td>\n      <td>&lt;possession /&gt;</td>\n      <td>1.0</td>\n    </tr>\n    <tr>\n      <th>25945</th>\n      <td>25946</td>\n      <td>24558</td>\n      <td>24558</td>\n      <td>2015/2016</td>\n      <td>36</td>\n      <td>2016-05-25 00:00:00</td>\n      <td>1992226</td>\n      <td>7896</td>\n      <td>10190</td>\n      <td>3</td>\n      <td>...</td>\n      <td>35831.0</td>\n      <td>&lt;goal&gt;&lt;value&gt;&lt;comment&gt;n&lt;/comment&gt;&lt;stats&gt;&lt;goals...</td>\n      <td>&lt;shoton /&gt;</td>\n      <td>&lt;shotoff /&gt;</td>\n      <td>&lt;foulcommit /&gt;</td>\n      <td>&lt;card&gt;&lt;value&gt;&lt;comment&gt;y&lt;/comment&gt;&lt;stats&gt;&lt;ycard...</td>\n      <td>&lt;cross /&gt;</td>\n      <td>&lt;corner /&gt;</td>\n      <td>&lt;possession /&gt;</td>\n      <td>0.0</td>\n    </tr>\n    <tr>\n      <th>25946</th>\n      <td>25947</td>\n      <td>24558</td>\n      <td>24558</td>\n      <td>2015/2016</td>\n      <td>36</td>\n      <td>2016-05-25 00:00:00</td>\n      <td>1992227</td>\n      <td>10199</td>\n      <td>10179</td>\n      <td>2</td>\n      <td>...</td>\n      <td>38601.0</td>\n      <td>&lt;goal&gt;&lt;value&gt;&lt;comment&gt;n&lt;/comment&gt;&lt;stats&gt;&lt;goals...</td>\n      <td>&lt;shoton /&gt;</td>\n      <td>&lt;shotoff /&gt;</td>\n      <td>&lt;foulcommit /&gt;</td>\n      <td>&lt;card&gt;&lt;value&gt;&lt;comment&gt;y&lt;/comment&gt;&lt;stats&gt;&lt;ycard...</td>\n      <td>&lt;cross /&gt;</td>\n      <td>&lt;corner /&gt;</td>\n      <td>&lt;possession /&gt;</td>\n      <td>0.5</td>\n    </tr>\n    <tr>\n      <th>25947</th>\n      <td>25948</td>\n      <td>24558</td>\n      <td>24558</td>\n      <td>2015/2016</td>\n      <td>36</td>\n      <td>2016-05-25 00:00:00</td>\n      <td>1992228</td>\n      <td>10191</td>\n      <td>10192</td>\n      <td>0</td>\n      <td>...</td>\n      <td>37554.0</td>\n      <td>&lt;goal&gt;&lt;value&gt;&lt;comment&gt;n&lt;/comment&gt;&lt;stats&gt;&lt;goals...</td>\n      <td>&lt;shoton /&gt;</td>\n      <td>&lt;shotoff /&gt;</td>\n      <td>&lt;foulcommit /&gt;</td>\n      <td>&lt;card&gt;&lt;value&gt;&lt;comment&gt;y&lt;/comment&gt;&lt;stats&gt;&lt;ycard...</td>\n      <td>&lt;cross /&gt;</td>\n      <td>&lt;corner /&gt;</td>\n      <td>&lt;possession /&gt;</td>\n      <td>1.0</td>\n    </tr>\n    <tr>\n      <th>25948</th>\n      <td>25949</td>\n      <td>24558</td>\n      <td>24558</td>\n      <td>2015/2016</td>\n      <td>36</td>\n      <td>2016-05-25 00:00:00</td>\n      <td>1992229</td>\n      <td>10243</td>\n      <td>9824</td>\n      <td>3</td>\n      <td>...</td>\n      <td>493418.0</td>\n      <td>&lt;goal&gt;&lt;value&gt;&lt;comment&gt;n&lt;/comment&gt;&lt;stats&gt;&lt;goals...</td>\n      <td>&lt;shoton /&gt;</td>\n      <td>&lt;shotoff /&gt;</td>\n      <td>&lt;foulcommit /&gt;</td>\n      <td>&lt;card&gt;&lt;value&gt;&lt;comment&gt;y&lt;/comment&gt;&lt;stats&gt;&lt;ycard...</td>\n      <td>&lt;cross /&gt;</td>\n      <td>&lt;corner /&gt;</td>\n      <td>&lt;possession /&gt;</td>\n      <td>0.0</td>\n    </tr>\n  </tbody>\n</table>\n<p>5 rows × 42 columns</p>\n</div>"
     },
     "metadata": {},
     "execution_count": 299
    }
   ],
   "source": [
    "possession_match_df.tail()"
   ]
  },
  {
   "cell_type": "code",
   "execution_count": 302,
   "metadata": {},
   "outputs": [
    {
     "output_type": "stream",
     "name": "stdout",
     "text": [
      "Shoton empty : 5354\nShotoff emtpy : 5354\nFoulcommit empty : 5352\nCard empty: 419\nCross emtpy : 5352\nCorners emtpy : 5353\nPossession emtpy : 5395\n"
     ]
    }
   ],
   "source": [
    "print(f\"Shoton empty : {(possession_match_df['shoton'] == '<shoton />').sum()}\")\n",
    "print(f\"Shotoff emtpy : {(possession_match_df['shotoff'] == '<shotoff />').sum()}\")\n",
    "print(f\"Foulcommit empty : {(possession_match_df['foulcommit'] == '<foulcommit />').sum()}\")\n",
    "print(f\"Card empty: {(possession_match_df['card']  == '<card />').sum()}\")\n",
    "print(f\"Cross emtpy : {(possession_match_df['cross']  == '<cross />').sum()}\")\n",
    "print(f\"Corners emtpy : {(possession_match_df['corner']  == '<corner />').sum()}\")\n",
    "print(f\"Possession emtpy : {(possession_match_df['possession']  == '<possession />').sum()}\")"
   ]
  },
  {
   "cell_type": "code",
   "execution_count": null,
   "metadata": {},
   "outputs": [],
   "source": []
  }
 ],
 "metadata": {
  "kernelspec": {
   "display_name": "Python 3",
   "language": "python",
   "name": "python3"
  },
  "language_info": {
   "codemirror_mode": {
    "name": "ipython",
    "version": 3
   },
   "file_extension": ".py",
   "mimetype": "text/x-python",
   "name": "python",
   "nbconvert_exporter": "python",
   "pygments_lexer": "ipython3",
   "version": "3.7.6-final"
  }
 },
 "nbformat": 4,
 "nbformat_minor": 4
}